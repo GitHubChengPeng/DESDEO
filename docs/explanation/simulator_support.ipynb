{
 "cells": [
  {
   "cell_type": "markdown",
   "id": "e58da478",
   "metadata": {},
   "source": [
    "# Simulator and surrogate support in DESDEO\n",
    "\n",
    "## Simulator file\n",
    "\n",
    "A `simulator file` connects an external simulator to DESDEO.\n",
    "It is a python script that is called from the [Evaluator][desdeo.problem.simulator_evaluator]\n",
    "with python's `subprocess.run` method. The evaluator passes to the simulator file decision\n",
    "variable values and whatever parameters the simulator may take. These parameters could\n",
    "be, for example, some variables the simulator needs that are not decision variables of the problem.\n",
    "\n",
    "The simulator file takes two arguments:\n",
    "\n",
    "- `-d`: a python dict of the decision variables as a list with each element representing a single sample, e.g.,"
   ]
  },
  {
   "cell_type": "code",
   "execution_count": null,
   "id": "a5519028",
   "metadata": {},
   "outputs": [],
   "source": [
    "{\n",
    "    \"x_1\": [1.5, 1.3, 1.4],\n",
    "    \"x_2\": [-2.2, -2.0, -3.7],\n",
    "    \"x_3\": [5.1, 10.7, 20.2]\n",
    "}"
   ]
  },
  {
   "cell_type": "markdown",
   "id": "28ac298e",
   "metadata": {},
   "source": [
    "- `-p`: a python dict of the parameters, e.g.,"
   ]
  },
  {
   "cell_type": "code",
   "execution_count": null,
   "id": "12399764",
   "metadata": {},
   "outputs": [],
   "source": [
    "{\n",
    "    \"alpha\": 10,\n",
    "    \"beta\": -2\n",
    "}"
   ]
  },
  {
   "cell_type": "markdown",
   "id": "25c19d73",
   "metadata": {},
   "source": [
    "The simulator file returns the objective, constraint and extra function values as a python dict\n",
    "with the corresponding symbols as the keys of the dict and the corresponding values from the simulator\n",
    "as a list, with each element representing a single sample, as the dict's values. For example,"
   ]
  },
  {
   "cell_type": "code",
   "execution_count": null,
   "id": "70f4663d",
   "metadata": {},
   "outputs": [],
   "source": [
    "{\n",
    "    \"f_1\": [1.5, 5.4, 10.2], # an objective\n",
    "    \"f_2\": [-2.2, 0.1, -5.3], # an objective\n",
    "    \"g_2\": [-0.1, -0.2, 0.0], # a constraint\n",
    "    \"e_4\": [10, 5.1, 2.1] # an extra function\n",
    "}"
   ]
  },
  {
   "cell_type": "markdown",
   "id": "e94565e8",
   "metadata": {},
   "source": [
    "The evaluator is then responsible for gathering those values and at the end, making sure that every\n",
    "objective, constraint and extra function is evaluated, whether they are analytical, simulator or\n",
    "surrogate based.\n",
    "\n",
    "### An example of a simulator file\n",
    "\n",
    "In what follows, an example of a simulator file is shown. The \"simulator\" used in the example\n",
    "is just a python function that takes the decision variables and parameters as arguments and\n",
    "returns something based on them. If needed the input arguments can be manipulated into\n",
    "a form the actual simulator can handle.\n",
    "\n",
    "First we need to import the necessary modules:"
   ]
  },
  {
   "cell_type": "code",
   "execution_count": 33,
   "id": "63b58891",
   "metadata": {},
   "outputs": [],
   "source": [
    "import argparse\n",
    "import ast\n",
    "import json\n",
    "import os\n",
    "import sys"
   ]
  },
  {
   "cell_type": "markdown",
   "id": "ba1a512f",
   "metadata": {},
   "source": [
    "The modules `argparse` and sys are used to identify and read the argumenets passed to the simulator file.\n",
    "The modules `ast` and `json` are used for parsing the arguments.\n",
    "\n",
    "For this example, a python function that runs the actual simulator:"
   ]
  },
  {
   "cell_type": "code",
   "execution_count": null,
   "id": "10a6f516",
   "metadata": {},
   "outputs": [],
   "source": [
    "import characters.fighter\n",
    "\n",
    "from combat import duel\n",
    "\n",
    "def simulator(variables: dict, parameters: dict) -> dict:\n",
    "    \"\"\"A function used to call the actual simulator.\"\"\"\n",
    "    fighter = characters.fighter.L7_fighter()\n",
    "    if parameters[\"rotation\"] == \"powerAttack\":\n",
    "        fighter.rotation = fighter.powerAttack_and_Strike\n",
    "\n",
    "    fighter.AC = variables[\"AC\"]\n",
    "    fighter.AttackProficiency = variables[\"attack\"]\n",
    "    fighter.maxDamage = variables[\"damage\"]\n",
    "    fighter.maxCritDamage = fighter.maxDamage * 2\n",
    "    fighter.initiative = variables[\"initiative\"]\n",
    "    fighter._init_distributions()\n",
    "\n",
    "    enemy = characters.fighter.L7_fighter()\n",
    "\n",
    "    pWin, pLose = duel(fighter, enemy)\n",
    "    return {\"pWin\": float(pWin[-1])}"
   ]
  },
  {
   "cell_type": "markdown",
   "id": "90df5f32",
   "metadata": {},
   "source": [
    "The \"simulator\" takes the decision variables (`variables`) and parameters (`parameters`) as\n",
    "python dicts as arguments. It then does some computations with them and runs the simulator\n",
    "through the function `duel`. The simulator gives a value for the objective `pWin` that is then\n",
    "returned in a python dict.\n",
    "\n",
    "Now we need a script that parses the arguments passed from the evaluator into the correct form\n",
    "and calls the evaluator. Finally, the script passes the output dict from the simulator back\n",
    "to the evaluator via the `stdout` module. The evaluator then reads the stdout and the possible\n",
    "errors from the simulator file. The script looks something like"
   ]
  },
  {
   "cell_type": "code",
   "execution_count": null,
   "id": "616a5eed",
   "metadata": {},
   "outputs": [],
   "source": [
    "if __name__ == \"__main__\":\n",
    "    # initialize the argument parser\n",
    "    parser = argparse.ArgumentParser()\n",
    "\n",
    "    # define help messages for when the arguments are missing\n",
    "    vars_msg = \"Variables for the simulator as a python dict. For example: {'x_1': [0, 1, 2, 3, 4], 'x_2': [4, 3, 2, 1, 0]}.\"\n",
    "    params_msg = \"Parameters for the simulator as a python dict. For example: {'alpha': 0.1, 'beta': 0.2}.\"\n",
    "\n",
    "    # add the expected arguments\n",
    "    parser.add_argument(\"-d\", dest=\"vars\", help=vars_msg)\n",
    "    parser.add_argument(\"-p\", dest=\"params\", help=params_msg)\n",
    "\n",
    "    # check that arguments are given, and if not, print out a message with information on the simulator file\n",
    "    args = parser.parse_args(args=None if sys.argv[1:] else [\"--help\"])\n",
    "\n",
    "    # check that the expected arguments are given values, if not, print out a message with information on the missing argument\n",
    "    if args.vars:\n",
    "        # parse the argument from string form into a python dict using ast module's literal_eval method\n",
    "        variables = ast.literal_eval(args.vars)\n",
    "    else:\n",
    "        parser.parse_args([\"-h\"])\n",
    "    if args.params:\n",
    "        # parse the argument from string form into a python dict using ast module's literal_eval method\n",
    "        parameters = ast.literal_eval(args.params)\n",
    "    else:\n",
    "        parser.parse_args([\"-h\"])\n",
    "\n",
    "    stdout = sys.stdout\n",
    "    sys.stdout = open(os.devnull, \"w\")\n",
    "\n",
    "    # call the simulator with the given variables and parameters\n",
    "    simulator_output = simulator(variables, parameters)\n",
    "\n",
    "    # send out the simulator outputs utilizing json.dumps method to keep the output as a dict to be parsed\n",
    "    sys.stdout = stdout\n",
    "    sys.stdout.write(json.dumps(simulator_output))"
   ]
  },
  {
   "cell_type": "markdown",
   "id": "a93d7d91",
   "metadata": {},
   "source": [
    "In the script, we first initialize the argument parser and the expected arguments.\n",
    "Then we check that the arguments are given values and parse the values.\n",
    "Then the simulator itself is called with the arguments and the output of the\n",
    "simulator is gathered. Here the output of the simulator is in the correct form,\n",
    "a python dict, but if it was not, we would need to make the dict before sending\n",
    "it out. The output dict is then sent out via `sys.stdout.write` method and kept\n",
    "in the correct form by using `json.dumps` here and then `json.loads` in the\n",
    "evaluator end.\n"
   ]
  }
 ],
 "metadata": {
  "kernelspec": {
   "display_name": "desdeo",
   "language": "python",
   "name": "python3"
  },
  "language_info": {
   "codemirror_mode": {
    "name": "ipython",
    "version": 3
   },
   "file_extension": ".py",
   "mimetype": "text/x-python",
   "name": "python",
   "nbconvert_exporter": "python",
   "pygments_lexer": "ipython3",
   "version": "3.12.9"
  }
 },
 "nbformat": 4,
 "nbformat_minor": 5
}
