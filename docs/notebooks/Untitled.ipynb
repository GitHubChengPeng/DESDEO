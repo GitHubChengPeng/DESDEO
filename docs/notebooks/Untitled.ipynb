{
 "cells": [
  {
   "cell_type": "markdown",
   "id": "1e6e12e3",
   "metadata": {},
   "source": [
    "# A quick overview of some of DESDEO's main capabilities\n",
    "\n",
    "**Note:** This notebook contains the code shown in the three use cases considered in the article titled _DESDEO: an open framework for interactive multiobjective optimization_. Cells containing code found in the article will be marked accordingly (by a comment on the first line). The code shown may vary from the one in the article due to new additions and/or changes in the DESDEO framework. This is to ensure that the code shown can be run and experimented with in the future as well.\n",
    "\n",
    "This overview should give the novice user interested in DESDEO a brief overview of how the framework may be utilized. We will consider a multiobjective optimization problem with five objectives and two variables. The problem will be treated both as an analytical problem and a data-based problem. We will show how the problem can be solved utilizing MCDM and EMO methods both separately and in tandem (hybridizing them). **Note:** Link to article with additional information to be added later."
   ]
  },
  {
   "cell_type": "markdown",
   "id": "efd83c59",
   "metadata": {},
   "source": [
    "## The probelm\n",
    "\n",
    "The considered problem - the river pollution problem - in the use cases is presented [here](https://ieeexplore.ieee.org/document/35354). Its analytical definiton can be stated as:\n",
    "\n",
    "\\begin{equation}\n",
    "\\begin{array}{rll}\n",
    "\\text{min}  & f_1({\\mathbf{x}}) =& - 4.07 - 2.27 x_1 \\\\ \n",
    "\\text{min}  & f_2({\\mathbf{x}}) =& - 2.60 - 0.03 x_1  - 0.02 x_2 \\\\\n",
    "&&\\quad - \\frac{0.01}{1.39 - x_1^2} - \\frac{0.30}{1.39 - x_2^2} \\\\ \n",
    "\\text{min}  & f_3({\\mathbf{x}}) =& - 8.21 + \\frac{0.71}{1.09 - x_1^2} \\\\ \n",
    "\\text{min}  & f_4({\\mathbf{x}}) =& - 0.96 + \\frac{0.96}{1.09 - x_2^2} \\\\ \n",
    "\\text{min}  & f_5({\\mathbf{x}}) =& \\max\\{|x_1 - 0.65|, |x_2 - 0.65|\\} \\\\ \n",
    "&&\\\\\n",
    "\\text{s.t.}  && 0.3 \\leq x_1, x_2 \\leq 1.0, \\\\\n",
    "\\end{array}\n",
    "\\end{equation}\n",
    "\n",
    "where each objective is to be minimized subject to box-constraints imposed on the variables."
   ]
  },
  {
   "cell_type": "markdown",
   "id": "248550f4",
   "metadata": {},
   "source": [
    "## Use case 1: solving problems with analytical formulations\n",
    "\n",
    "If we wish to solve a problem with an analytical formulation, such as the river pollution problem defined below, we can proceed as follows. First, we import some required modules from _desdeo-problem_. As the name suggests, the pacakge _desdeo-problem_ contains modules to that are used to define multiobjective optimization problems. We import the following modules:"
   ]
  },
  {
   "cell_type": "code",
   "execution_count": 1,
   "id": "2c407199",
   "metadata": {},
   "outputs": [],
   "source": [
    "# Source code 1\n",
    "import numpy as np\n",
    "\n",
    "from desdeo_problem.problem import MOProblem\n",
    "from desdeo_problem.problem import Variable\n",
    "from desdeo_problem.problem import ScalarObjective"
   ]
  },
  {
   "cell_type": "markdown",
   "id": "44058729",
   "metadata": {},
   "source": [
    "Next ,we define the objective functions of the river pollution problem first as Python functions and then wrap them inside instances of the `_ScalarObjective` class. The _scalar_ in the name implies that the objective is itself a scalar-valued function (i.e., $\\mathbb{R}^n \\to \\mathbb{R}$ for some positive $n$). The resulting objects are then stored in a list. In code: "
   ]
  },
  {
   "cell_type": "code",
   "execution_count": 2,
   "id": "b93c1066",
   "metadata": {},
   "outputs": [],
   "source": [
    "# Source code 2\n",
    "def f_1(x: np.ndarray) -> np.ndarray:\n",
    "    x = np.atleast_2d(x)  # This step is to guarantee that the function works when called with a single decision variable vector as well.\n",
    "    return -4.07 - 2.27*x[:, 0]\n",
    "\n",
    "def f_2(x: np.ndarray) -> np.ndarray:\n",
    "    x = np.atleast_2d(x)\n",
    "    return -2.60 - 0.03*x[:, 0] - 0.02*x[:, 1] - 0.01 / (1.39 - x[:, 0]**2) - 0.30 / (1.39 + x[:, 1]**2)\n",
    "\n",
    "def f_3(x: np.ndarray) -> np.ndarray:\n",
    "    x = np.atleast_2d(x)\n",
    "    return -8.21 + 0.71 / (1.09 - x[:, 0]**2)\n",
    "\n",
    "def f_4(x: np.ndarray) -> np.ndarray:\n",
    "    x = np.atleast_2d(x)\n",
    "    return -0.96 - 0.96 / (1.09 - x[:, 1]**2)\n",
    "\n",
    "def f_5(x: np.ndarray) -> np.ndarray:\n",
    "    return np.max([np.abs(x[:, 0] - 0.65), np.abs(x[:, 1] - 0.65)], axis=0)\n",
    "\n",
    "objective_1 = ScalarObjective(name=\"f_1\", evaluator=f_1)\n",
    "objective_2 = ScalarObjective(name=\"f_2\", evaluator=f_2)\n",
    "objective_3 = ScalarObjective(name=\"f_3\", evaluator=f_3)\n",
    "objective_4 = ScalarObjective(name=\"f_4\", evaluator=f_4)\n",
    "objective_5 = ScalarObjective(name=\"f_5\", evaluator=f_5)\n",
    "\n",
    "objectives = [objective_1, objective_2, objective_3, objective_4, objective_5]"
   ]
  },
  {
   "cell_type": "markdown",
   "id": "b8639ebf",
   "metadata": {},
   "source": [
    "When defining objectives, it is expected that they may be called with either a single set of decision variables or a set of such sets. I.e.,:"
   ]
  },
  {
   "cell_type": "code",
   "execution_count": 3,
   "id": "5ec3026a",
   "metadata": {},
   "outputs": [
    {
     "name": "stdout",
     "output_type": "stream",
     "text": [
      "f_1([0.8 0.5]) =  [-5.886]\n",
      "f_1([[0.8  0.5 ]\n",
      " [0.31 0.88]\n",
      " [0.34 0.33]]) =  [-5.886  -4.7737 -4.8418]\n"
     ]
    }
   ],
   "source": [
    "# single set of decision variables\n",
    "x_single = np.array([0.8, 0.5])\n",
    "\n",
    "# set of sets\n",
    "x_multi = np.array([[0.8, 0.5], [0.31, 0.88], [0.34, 0.33]])\n",
    "\n",
    "# Both sets work when evaluated with the defined objective functions.\n",
    "# Notice how we get one value for each provided set of decision variables.\n",
    "print(f\"f_1({x_single}) = \", f_1(x_single))\n",
    "print(f\"f_1({x_multi}) = \", f_1(x_multi))"
   ]
  },
  {
   "cell_type": "markdown",
   "id": "8340b8b5",
   "metadata": {},
   "source": [
    "The variables of the problem are defined in a very similar fashion:"
   ]
  },
  {
   "cell_type": "code",
   "execution_count": 4,
   "id": "b761238a",
   "metadata": {},
   "outputs": [],
   "source": [
    "# Source code 3\n",
    "x_1 = Variable(\"x_1\", 0.5, 0.3, 1.0)\n",
    "x_2 = Variable(\"x_2\", 0.5, 0.3, 1.0)\n",
    "\n",
    "variables = [x_1, x_2]"
   ]
  },
  {
   "cell_type": "markdown",
   "id": "6b0c7d8b",
   "metadata": {},
   "source": [
    "Notice the arguments given to the initializer of 'Variable': the last and second-to-last define the variabels upper and lower bounds, respectively, while the second argument defines a variable's initial value and current value, which is sometimes useful information. The upper and lower bounds are optional; if not provided, appropiate infinims will be assumed for the bounds. The documentation should confirm these claims regarding the arguments:"
   ]
  },
  {
   "cell_type": "code",
   "execution_count": 5,
   "id": "01587409",
   "metadata": {},
   "outputs": [
    {
     "name": "stdout",
     "output_type": "stream",
     "text": [
      "Help on class Variable in module desdeo_problem.problem.Variable:\n",
      "\n",
      "class Variable(builtins.object)\n",
      " |  Variable(name: str, initial_value: float, lower_bound: float = -inf, upper_bound: float = inf) -> None\n",
      " |  \n",
      " |  Simple variable with a name, initial value and bounds.\n",
      " |  \n",
      " |  Args:\n",
      " |      name (str): Name of the variable\n",
      " |      initial_value (float): The initial value of the variable.\n",
      " |      lower_bound (float, optional): Lower bound of the variable. Defaults\n",
      " |          to negative infinity.\n",
      " |      upper_bound (float, optional): Upper bound of the variable. Defaults\n",
      " |          to positive infinity.\n",
      " |  \n",
      " |  Attributes:\n",
      " |      name (str): Name of the variable.\n",
      " |      initial_value (float): Initial value of the variable.\n",
      " |      lower_bound (float): Lower bound of the variable.\n",
      " |      upper_bound (float): Upper bound of the variable.\n",
      " |      current_value (float): The current value the variable holds.\n",
      " |  \n",
      " |  Raises:\n",
      " |      VariableError: Bounds are incorrect.\n",
      " |  \n",
      " |  Methods defined here:\n",
      " |  \n",
      " |  __init__(self, name: str, initial_value: float, lower_bound: float = -inf, upper_bound: float = inf) -> None\n",
      " |      Initialize self.  See help(type(self)) for accurate signature.\n",
      " |  \n",
      " |  get_bounds(self) -> Tuple[float, float]\n",
      " |      Return the bounds of the variables as a tuple.\n",
      " |      \n",
      " |      Returns:\n",
      " |          tuple(float, float): A tuple consisting of (lower_bound,\n",
      " |              upper_bound)\n",
      " |  \n",
      " |  ----------------------------------------------------------------------\n",
      " |  Data descriptors defined here:\n",
      " |  \n",
      " |  __dict__\n",
      " |      dictionary for instance variables (if defined)\n",
      " |  \n",
      " |  __weakref__\n",
      " |      list of weak references to the object (if defined)\n",
      " |  \n",
      " |  current_value\n",
      " |  \n",
      " |  initial_value\n",
      " |  \n",
      " |  name\n",
      "\n"
     ]
    }
   ],
   "source": [
    "help(Variable)"
   ]
  },
  {
   "cell_type": "markdown",
   "id": "f0e02b4c",
   "metadata": {},
   "source": [
    "We are now ready to define the multiobjective optimization problem itself. Most of the work has already been done in defining the objectives and variables:"
   ]
  },
  {
   "cell_type": "code",
   "execution_count": 6,
   "id": "4ce4f812",
   "metadata": {},
   "outputs": [],
   "source": [
    "# Source code 4\n",
    "mo_problem = MOProblem(variables=variables, objectives=objectives)"
   ]
  },
  {
   "cell_type": "markdown",
   "id": "4e858eda",
   "metadata": {},
   "source": [
    "At this point, we could start solving the problem with various methods found in DESDEO or we can use the problem in various other ways as well to gain additional insight. Since we will be using Synchronous NIMBUS to solve the problem in this use case, we need knowledge of the upper and lower bounds of the possible objective values contained in the set of feasible solutions. For this, we can compute the ideal and nadir points of the problem. The simplest way to compute the ideal and approximate the nadir is to use a pay-off table. A method based on the pay-off table to compute the ideal and (approximation of) the nadir point is found in the _utilities_ module of the _desdeo-mcdm_ package. The ideal and nadir points are then stored as attributes of the `mo_problem` object to have ready access them later on. We proceed as follows:"
   ]
  },
  {
   "cell_type": "code",
   "execution_count": 7,
   "id": "aa737d2b",
   "metadata": {},
   "outputs": [],
   "source": [
    "# Source code 5\n",
    "from desdeo_mcdm.utilities import payoff_table_method\n",
    "\n",
    "ideal, nadir = payoff_table_method(mo_problem)\n",
    "\n",
    "mo_problem.ideal = ideal\n",
    "mo_problem.nadir = nadir"
   ]
  },
  {
   "cell_type": "markdown",
   "id": "04ea8d24",
   "metadata": {},
   "source": [
    "The ideal and nadir points should give us an idea of the ranges of the objectives. Indeed, this is the case:"
   ]
  },
  {
   "cell_type": "code",
   "execution_count": 8,
   "id": "54e5e3bb",
   "metadata": {},
   "outputs": [
    {
     "name": "stdout",
     "output_type": "stream",
     "text": [
      "Ideal point: [ -6.33999773  -2.8643435   -7.49999957 -11.62612808   0.        ]\n",
      "Nadir point: [-4.75100227 -2.78676892 -0.32128642 -1.92000058  0.349999  ]\n",
      "Ideal strictly better than nadir?: True\n"
     ]
    }
   ],
   "source": [
    "print(f\"Ideal point: {mo_problem.ideal}\")\n",
    "print(f\"Nadir point: {mo_problem.nadir}\")\n",
    "print(f\"Ideal strictly better than nadir?: {np.all(mo_problem.ideal <= mo_problem.nadir)}\")"
   ]
  },
  {
   "cell_type": "markdown",
   "id": "48d67a36",
   "metadata": {},
   "source": [
    "We can now actually begin solving the river pollution problem using the Synchronous NIMBUS method. As we have already defined an instance of `MOProblem`, initializing and starting the method is straight forward:"
   ]
  },
  {
   "cell_type": "code",
   "execution_count": 9,
   "id": "efc9dc68",
   "metadata": {},
   "outputs": [],
   "source": [
    "import warnings\n",
    "warnings.filterwarnings(\"ignore\", category=DeprecationWarning)\n",
    "\n",
    "# Source code 6\n",
    "from desdeo_mcdm.interactive.NIMBUS import NIMBUS\n",
    "\n",
    "nimbus = NIMBUS(mo_problem)\n",
    "\n",
    "classification_request, _ = nimbus.start()"
   ]
  },
  {
   "cell_type": "markdown",
   "id": "fec5caac",
   "metadata": {},
   "source": [
    "The `start` method returns two _requests_ of which the first one is of interest here. Its `contents` attribute is a `dict` the keys of which we can inspect:"
   ]
  },
  {
   "cell_type": "code",
   "execution_count": 10,
   "id": "f819a053",
   "metadata": {},
   "outputs": [
    {
     "data": {
      "text/plain": [
       "dict_keys(['message', 'objective_values', 'classifications', 'levels', 'number_of_solutions'])"
      ]
     },
     "execution_count": 10,
     "metadata": {},
     "output_type": "execute_result"
    }
   ],
   "source": [
    "classification_request.content.keys()"
   ]
  },
  {
   "cell_type": "markdown",
   "id": "fd64f66e",
   "metadata": {},
   "source": [
    "In the `content` of each _request_, at least the `message` entry exists. This entry contains information on how to proceed:"
   ]
  },
  {
   "cell_type": "code",
   "execution_count": 11,
   "id": "9c13c9b5",
   "metadata": {},
   "outputs": [
    {
     "name": "stdout",
     "output_type": "stream",
     "text": [
      "Please classify each of the objective values in one of the following categories:\n",
      "\t1. values should improve '<'\n",
      "\t2. values should improve until some desired aspiration level is reached '<='\n",
      "\t3. values with an acceptable level '='\n",
      "\t4. values which may be impaired until some upper bound is reached '>='\n",
      "\t5. values which are free to change '0'\n",
      "Provide the aspiration levels and upper bounds as a vector. For categories 1, 3, and 5,the value in the vector at the objective's position is ignored. Supply also the number of maximumsolutions to be generated.\n"
     ]
    }
   ],
   "source": [
    "print(classification_request.content[\"message\"])"
   ]
  },
  {
   "cell_type": "markdown",
   "id": "f14ebdc9",
   "metadata": {},
   "source": [
    "We can interact with the method by defining the _response_, an attribute of the _request_, following the instructions contained in the `message` printed above. To help us in this task, we can first inspect the current objective values as:"
   ]
  },
  {
   "cell_type": "code",
   "execution_count": 12,
   "id": "ca217544",
   "metadata": {},
   "outputs": [
    {
     "data": {
      "text/plain": [
       "array([ -5.74637016,  -2.77951722,  -6.90637204, -11.62642964,\n",
       "         0.349999  ])"
      ]
     },
     "execution_count": 12,
     "metadata": {},
     "output_type": "execute_result"
    }
   ],
   "source": [
    "classification_request.content[\"objective_values\"]"
   ]
  },
  {
   "cell_type": "markdown",
   "id": "0fb2a59c",
   "metadata": {},
   "source": [
    "We may then define our _response_ with the required classifications to continute iterating the method:"
   ]
  },
  {
   "cell_type": "code",
   "execution_count": 13,
   "id": "b1c4133d",
   "metadata": {},
   "outputs": [],
   "source": [
    "# Source code 7\n",
    "response = {\n",
    "    \"classifications\": [\"<=\", \"0\", \"=\", \">=\", \"<\"],\n",
    "    \"levels\": [-6.2, 0, 0, -3.0, 0],\n",
    "    \"number_of_solutions\": 2,\n",
    "}\n",
    "\n",
    "classification_request.response = response\n",
    "\n",
    "save_request, _ = nimbus.iterate(classification_request)"
   ]
  },
  {
   "cell_type": "markdown",
   "id": "7141b2d1",
   "metadata": {},
   "source": [
    "We got a new request which contains newly computed solutions based on the classifications given. These new solutions are:"
   ]
  },
  {
   "cell_type": "code",
   "execution_count": 14,
   "id": "9899ae7c",
   "metadata": {},
   "outputs": [
    {
     "data": {
      "text/plain": [
       "[array([-5.74637016, -2.79903209, -6.90637204, -3.        ,  0.13702717]),\n",
       " array([-5.54550116e+00, -2.80835322e+00, -7.14632853e+00, -2.39820101e+00,\n",
       "         5.08847163e-07])]"
      ]
     },
     "execution_count": 14,
     "metadata": {},
     "output_type": "execute_result"
    }
   ],
   "source": [
    "save_request.content[\"objectives\"]"
   ]
  },
  {
   "cell_type": "markdown",
   "id": "716debb8",
   "metadata": {},
   "source": [
    "This request is similar to the earlier one: its `content` attribute will contain at least a `message` entry with instructions on what needs to be defined in the `response` attribute of `save_request`. In Synchronous NIMBUS, the next step would be to indicate whether we would like some of the computed solutions to be saved into an archive for later viewing. Further steps would consist of computing intermediate solutions, providing new classifications, and choosing a new preferred solution. However, we will conclude this use case here. Further information on the implementation of Synchronous NIMBUS in DESDEO can be found [in the documentation of _desde-mcdm_](https://desdeo-mcdm.readthedocs.io/en/latest/notebooks/synchronous_nimbus.html)."
   ]
  },
  {
   "cell_type": "markdown",
   "id": "6a09aeec",
   "metadata": {},
   "source": [
    "## Use case 2: data-based problem\n",
    "\n",
    "Here we demonstrate how a data-based multiobjective optimization problem may be solved using DESDEO and an evolutionary method found in _desdeo-emo_.\n",
    "\n",
    "We will assume that the same river pollution problem defined earlier is now computationally _very_ expensive. Thus, we will not try to evaluate the problem itself during optimization. Instead, we have pre-computed a small number (100) of solutions consisting of decision variable and objective values. We can then use these points to train a surrogate model which is computationally less expensive to evaluate and can therefore be readily used in an interactive method. We assume to have already computed the points mentioned earlier and that they are stored in a file `River_Pollution.csv` in a CSV format. The first two columns will consist of the decision variable values and the last five columns will consists of the objective values. We can use this data and together with _desdeo-problem_ and pandas to formulate a data-based problem in DESDEO:"
   ]
  },
  {
   "cell_type": "code",
   "execution_count": 15,
   "id": "04dffbb3",
   "metadata": {},
   "outputs": [
    {
     "ename": "ModuleNotFoundError",
     "evalue": "No module named 'desdeo_problem.Problem'",
     "output_type": "error",
     "traceback": [
      "\u001b[0;31m---------------------------------------------------------------------------\u001b[0m",
      "\u001b[0;31mModuleNotFoundError\u001b[0m                       Traceback (most recent call last)",
      "\u001b[0;32m/tmp/ipykernel_60042/2326383322.py\u001b[0m in \u001b[0;36m<module>\u001b[0;34m\u001b[0m\n\u001b[1;32m      1\u001b[0m \u001b[0;31m# Source code 8\u001b[0m\u001b[0;34m\u001b[0m\u001b[0;34m\u001b[0m\u001b[0;34m\u001b[0m\u001b[0m\n\u001b[1;32m      2\u001b[0m \u001b[0;32mimport\u001b[0m \u001b[0mpandas\u001b[0m \u001b[0;32mas\u001b[0m \u001b[0mpd\u001b[0m\u001b[0;34m\u001b[0m\u001b[0;34m\u001b[0m\u001b[0m\n\u001b[0;32m----> 3\u001b[0;31m \u001b[0;32mfrom\u001b[0m \u001b[0mdesdeo_problem\u001b[0m\u001b[0;34m.\u001b[0m\u001b[0mProblem\u001b[0m \u001b[0;32mimport\u001b[0m \u001b[0mDataProblem\u001b[0m\u001b[0;34m\u001b[0m\u001b[0;34m\u001b[0m\u001b[0m\n\u001b[0m\u001b[1;32m      4\u001b[0m \u001b[0;34m\u001b[0m\u001b[0m\n\u001b[1;32m      5\u001b[0m \u001b[0;34m\u001b[0m\u001b[0m\n",
      "\u001b[0;31mModuleNotFoundError\u001b[0m: No module named 'desdeo_problem.Problem'"
     ]
    }
   ],
   "source": [
    "# Source code 8\n",
    "import pandas as pd\n",
    "from desdeo_problem.problem import DataProblem\n",
    "\n",
    "\n",
    "training_data = pd.read_csv(\"River_pollution.csv\")\n",
    "\n",
    "problem = DataProblem(\n",
    "    data=training_data, \n",
    "    variable_names=[\"x_0\", \"x_1\"],\n",
    "    objective_names=[\"f_1\", \"f_2\", \"f_3\", \"f_4\", \"f_5\"],\n",
    "    bounds=pd.DataFrame(\n",
    "        [[0.3, 0.3], [1.0, 1.0]],\n",
    "        columns=[\"x_0\", \"x_1\"]),\n",
    "        index=[\"lower_bound\", \"upper_bound\"],\n",
    ")"
   ]
  },
  {
   "cell_type": "code",
   "execution_count": null,
   "id": "c711fcec",
   "metadata": {},
   "outputs": [],
   "source": []
  }
 ],
 "metadata": {
  "kernelspec": {
   "display_name": "desdeo",
   "language": "python",
   "name": "desdeo"
  },
  "language_info": {
   "codemirror_mode": {
    "name": "ipython",
    "version": 3
   },
   "file_extension": ".py",
   "mimetype": "text/x-python",
   "name": "python",
   "nbconvert_exporter": "python",
   "pygments_lexer": "ipython3",
   "version": "3.7.10"
  }
 },
 "nbformat": 4,
 "nbformat_minor": 5
}
