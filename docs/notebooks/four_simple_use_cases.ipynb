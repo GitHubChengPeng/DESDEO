{
 "cells": [
  {
   "cell_type": "markdown",
   "id": "1e6e12e3",
   "metadata": {},
   "source": [
    "# A quick overview of some of DESDEO's main capabilities\n",
    "\n",
    "**Note:** This notebook contains the code shown in the four use cases considered in the article titled _DESDEO: an open framework for interactive multiobjective optimization_. Cells containing code found in the article will be marked accordingly (by a comment on the first line). The code shown may vary from the one in the article due to new additions and/or changes in the DESDEO framework. This is to ensure that the code shown can be run and experimented with in the future as well.\n",
    "\n",
    "This overview should give the novice user interested in DESDEO a brief overview of how the framework may be utilized. We will consider a multiobjective optimization problem with five objectives and two variables. The problem will be treated as an analytical problem, a data-driven problem, and a computationally expensive problem. We will show how the problem can be solved utilizing MCDM and EMO methods both separately and in tandem (hybridizing them). **Note:** Link to article with additional information to be added later."
   ]
  },
  {
   "cell_type": "markdown",
   "id": "efd83c59",
   "metadata": {},
   "source": [
    "## The probelm\n",
    "\n",
    "The considered problem - the river pollution problem - in the use cases is presented [here](https://ieeexplore.ieee.org/document/35354). Its analytical definiton can be stated as:\n",
    "\n",
    "\\begin{equation}\n",
    "\\begin{array}{rll}\n",
    "\\text{min}  & f_1({\\mathbf{x}}) =& - 4.07 - 2.27 x_1 \\\\ \n",
    "\\text{min}  & f_2({\\mathbf{x}}) =& - 2.60 - 0.03 x_1  - 0.02 x_2 \\\\\n",
    "&&\\quad - \\frac{0.01}{1.39 - x_1^2} - \\frac{0.30}{1.39 - x_2^2} \\\\ \n",
    "\\text{min}  & f_3({\\mathbf{x}}) =& - 8.21 + \\frac{0.71}{1.09 - x_1^2} \\\\ \n",
    "\\text{min}  & f_4({\\mathbf{x}}) =& - 0.96 + \\frac{0.96}{1.09 - x_2^2} \\\\ \n",
    "\\text{min}  & f_5({\\mathbf{x}}) =& \\max\\{|x_1 - 0.65|, |x_2 - 0.65|\\} \\\\ \n",
    "&&\\\\\n",
    "\\text{s.t.}  && 0.3 \\leq x_1, x_2 \\leq 1.0, \\\\\n",
    "\\end{array}\n",
    "\\end{equation}\n",
    "\n",
    "where each objective is to be minimized subject to box-constraints imposed on the variables."
   ]
  },
  {
   "cell_type": "markdown",
   "id": "248550f4",
   "metadata": {},
   "source": [
    "## Use case 1: solving problems with analytical formulations\n",
    "\n",
    "If we wish to solve a problem with an analytical formulation, such as the river pollution problem, we can proceed as follows. First, we will define the problem in DESDEO. We import some required modules from _desdeo-problem_ for this purpose. _desdeo-problem_ contains modules that are used to define multiobjective optimization problems. We import the following modules:"
   ]
  },
  {
   "cell_type": "code",
   "execution_count": 1,
   "id": "2c407199",
   "metadata": {},
   "outputs": [],
   "source": [
    "# Source code 1\n",
    "import numpy as np\n",
    "\n",
    "from desdeo_problem.problem import MOProblem\n",
    "from desdeo_problem.problem import Variable\n",
    "from desdeo_problem.problem import ScalarObjective"
   ]
  },
  {
   "cell_type": "markdown",
   "id": "44058729",
   "metadata": {},
   "source": [
    "Next ,we define the objective functions of the river pollution problem first as Python functions and then wrap them inside instances of the `ScalarObjective` class. The _scalar_ in the name implies that the objective is itself a scalar-valued function (i.e., $\\mathbb{R}^n \\to \\mathbb{R}$ for some positive $n$). The resulting objects are then stored in a list. In code: "
   ]
  },
  {
   "cell_type": "code",
   "execution_count": 2,
   "id": "b93c1066",
   "metadata": {},
   "outputs": [],
   "source": [
    "# Source code 2\n",
    "def f_1(x: np.ndarray) -> np.ndarray:\n",
    "    x = np.atleast_2d(x)  # This step is to guarantee that the function works when called with a single decision variable vector as well.\n",
    "    return -4.07 - 2.27*x[:, 0]\n",
    "\n",
    "def f_2(x: np.ndarray) -> np.ndarray:\n",
    "    x = np.atleast_2d(x)\n",
    "    return -2.60 - 0.03*x[:, 0] - 0.02*x[:, 1] - 0.01 / (1.39 - x[:, 0]**2) - 0.30 / (1.39 + x[:, 1]**2)\n",
    "\n",
    "def f_3(x: np.ndarray) -> np.ndarray:\n",
    "    x = np.atleast_2d(x)\n",
    "    return -8.21 + 0.71 / (1.09 - x[:, 0]**2)\n",
    "\n",
    "def f_4(x: np.ndarray) -> np.ndarray:\n",
    "    x = np.atleast_2d(x)\n",
    "    return -0.96 - 0.96 / (1.09 - x[:, 1]**2)\n",
    "\n",
    "def f_5(x: np.ndarray) -> np.ndarray:\n",
    "    return np.max([np.abs(x[:, 0] - 0.65), np.abs(x[:, 1] - 0.65)], axis=0)\n",
    "\n",
    "objective_1 = ScalarObjective(name=\"f_1\", evaluator=f_1)\n",
    "objective_2 = ScalarObjective(name=\"f_2\", evaluator=f_2)\n",
    "objective_3 = ScalarObjective(name=\"f_3\", evaluator=f_3)\n",
    "objective_4 = ScalarObjective(name=\"f_4\", evaluator=f_4)\n",
    "objective_5 = ScalarObjective(name=\"f_5\", evaluator=f_5)\n",
    "\n",
    "objectives = [objective_1, objective_2, objective_3, objective_4, objective_5]"
   ]
  },
  {
   "cell_type": "markdown",
   "id": "b8639ebf",
   "metadata": {},
   "source": [
    "When defining objectives, it is expected that they may be called with either a single set of decision variables or a set of such sets. I.e.,:"
   ]
  },
  {
   "cell_type": "code",
   "execution_count": 3,
   "id": "5ec3026a",
   "metadata": {},
   "outputs": [
    {
     "name": "stdout",
     "output_type": "stream",
     "text": [
      "f_1([0.8 0.5]) =  [-5.886]\n",
      "f_1([[0.8  0.5 ]\n",
      " [0.31 0.88]\n",
      " [0.34 0.33]]) =  [-5.886  -4.7737 -4.8418]\n"
     ]
    }
   ],
   "source": [
    "# single set of decision variables\n",
    "x_single = np.array([0.8, 0.5])\n",
    "\n",
    "# set of sets\n",
    "x_multi = np.array([[0.8, 0.5], [0.31, 0.88], [0.34, 0.33]])\n",
    "\n",
    "# Both sets work when evaluated with the defined objective functions.\n",
    "# Notice how we get one value for each provided set of decision variables.\n",
    "print(f\"f_1({x_single}) = \", f_1(x_single))\n",
    "print(f\"f_1({x_multi}) = \", f_1(x_multi))"
   ]
  },
  {
   "cell_type": "markdown",
   "id": "8340b8b5",
   "metadata": {},
   "source": [
    "The variables of the problem are defined in a very similar fashion compared to the objectives:"
   ]
  },
  {
   "cell_type": "code",
   "execution_count": 4,
   "id": "b761238a",
   "metadata": {},
   "outputs": [],
   "source": [
    "# Source code 3\n",
    "x_1 = Variable(\"x_1\", 0.5, 0.3, 1.0)\n",
    "x_2 = Variable(\"x_2\", 0.5, 0.3, 1.0)\n",
    "\n",
    "variables = [x_1, x_2]"
   ]
  },
  {
   "cell_type": "markdown",
   "id": "6b0c7d8b",
   "metadata": {},
   "source": [
    "Notice the arguments given to the initializer of 'Variable': the last and second-to-last define the variabels upper and lower bounds, respectively, while the second argument defines a variable's initial value and current value, which is sometimes useful information. The upper and lower bounds are optional; if not provided, appropiate infinims will be assumed for the bounds. The documentation should confirm these claims regarding the arguments:"
   ]
  },
  {
   "cell_type": "code",
   "execution_count": 5,
   "id": "01587409",
   "metadata": {},
   "outputs": [
    {
     "name": "stdout",
     "output_type": "stream",
     "text": [
      "Help on class Variable in module desdeo_problem.problem.Variable:\n",
      "\n",
      "class Variable(builtins.object)\n",
      " |  Variable(name: str, initial_value: float, lower_bound: float = -inf, upper_bound: float = inf) -> None\n",
      " |  \n",
      " |  Simple variable with a name, initial value and bounds.\n",
      " |  \n",
      " |  Args:\n",
      " |      name (str): Name of the variable\n",
      " |      initial_value (float): The initial value of the variable.\n",
      " |      lower_bound (float, optional): Lower bound of the variable. Defaults\n",
      " |          to negative infinity.\n",
      " |      upper_bound (float, optional): Upper bound of the variable. Defaults\n",
      " |          to positive infinity.\n",
      " |  \n",
      " |  Attributes:\n",
      " |      name (str): Name of the variable.\n",
      " |      initial_value (float): Initial value of the variable.\n",
      " |      lower_bound (float): Lower bound of the variable.\n",
      " |      upper_bound (float): Upper bound of the variable.\n",
      " |      current_value (float): The current value the variable holds.\n",
      " |  \n",
      " |  Raises:\n",
      " |      VariableError: Bounds are incorrect.\n",
      " |  \n",
      " |  Methods defined here:\n",
      " |  \n",
      " |  __init__(self, name: str, initial_value: float, lower_bound: float = -inf, upper_bound: float = inf) -> None\n",
      " |      Initialize self.  See help(type(self)) for accurate signature.\n",
      " |  \n",
      " |  get_bounds(self) -> Tuple[float, float]\n",
      " |      Return the bounds of the variables as a tuple.\n",
      " |      \n",
      " |      Returns:\n",
      " |          tuple(float, float): A tuple consisting of (lower_bound,\n",
      " |              upper_bound)\n",
      " |  \n",
      " |  ----------------------------------------------------------------------\n",
      " |  Readonly properties defined here:\n",
      " |  \n",
      " |  initial_value\n",
      " |  \n",
      " |  name\n",
      " |  \n",
      " |  ----------------------------------------------------------------------\n",
      " |  Data descriptors defined here:\n",
      " |  \n",
      " |  __dict__\n",
      " |      dictionary for instance variables (if defined)\n",
      " |  \n",
      " |  __weakref__\n",
      " |      list of weak references to the object (if defined)\n",
      " |  \n",
      " |  current_value\n",
      "\n"
     ]
    }
   ],
   "source": [
    "help(Variable)"
   ]
  },
  {
   "cell_type": "markdown",
   "id": "f0e02b4c",
   "metadata": {},
   "source": [
    "Most of the classes, their methods, and functions should be equipped with docstrings so that the `help` utility should give some insight on how to use them.\n",
    "\n",
    "We are now ready to define the multiobjective optimization problem itself. Most of the work has already been done in defining the objectives and variables:"
   ]
  },
  {
   "cell_type": "code",
   "execution_count": 6,
   "id": "4ce4f812",
   "metadata": {},
   "outputs": [],
   "source": [
    "# Source code 4\n",
    "mo_problem = MOProblem(variables=variables, objectives=objectives)"
   ]
  },
  {
   "cell_type": "markdown",
   "id": "4e858eda",
   "metadata": {},
   "source": [
    "At this point, we could start solving the problem with various methods found in DESDEO or we can use the problem in various other ways as well to gain additional insight. Since we will be using Synchronous NIMBUS to solve the problem in this use case, we need knowledge of the upper and lower bounds of the possible objective values contained in the set of feasible solutions. For this, we can compute the ideal and nadir points of the problem. The simplest way to compute the ideal and approximate the nadir is to use a pay-off table. A method based on the pay-off table to compute the ideal and (approximation of) the nadir point is found in the _utilities_ module of the _desdeo-mcdm_ package. The ideal and nadir points are then stored as attributes of the `mo_problem` object to readily access them later on. We proceed as follows:"
   ]
  },
  {
   "cell_type": "code",
   "execution_count": 7,
   "id": "aa737d2b",
   "metadata": {},
   "outputs": [],
   "source": [
    "# Source code 5\n",
    "from desdeo_mcdm.utilities import payoff_table_method\n",
    "\n",
    "ideal, nadir = payoff_table_method(mo_problem)\n",
    "\n",
    "mo_problem.ideal = ideal\n",
    "mo_problem.nadir = nadir"
   ]
  },
  {
   "cell_type": "markdown",
   "id": "04ea8d24",
   "metadata": {},
   "source": [
    "The ideal and nadir points should give us an idea of the ranges of the objectives. Indeed, this is the case:"
   ]
  },
  {
   "cell_type": "code",
   "execution_count": 8,
   "id": "54e5e3bb",
   "metadata": {},
   "outputs": [
    {
     "name": "stdout",
     "output_type": "stream",
     "text": [
      "Ideal point: [ -6.33999773  -2.8643435   -7.49999957 -11.6263998    0.        ]\n",
      "Nadir point: [-4.75100227 -2.7632841  -0.32128642 -1.92000058  0.349999  ]\n",
      "Ideal strictly better than nadir?: True\n"
     ]
    }
   ],
   "source": [
    "print(f\"Ideal point: {mo_problem.ideal}\")\n",
    "print(f\"Nadir point: {mo_problem.nadir}\")\n",
    "print(f\"Ideal strictly better than nadir?: {np.all(mo_problem.ideal <= mo_problem.nadir)}\")"
   ]
  },
  {
   "cell_type": "markdown",
   "id": "48d67a36",
   "metadata": {},
   "source": [
    "We can now actually begin solving the river pollution problem using the Synchronous NIMBUS method. As we have already defined an instance of `MOProblem`, initializing and starting the method is straight forward:"
   ]
  },
  {
   "cell_type": "code",
   "execution_count": 9,
   "id": "efc9dc68",
   "metadata": {},
   "outputs": [],
   "source": [
    "import warnings\n",
    "warnings.filterwarnings(\"ignore\", category=DeprecationWarning)\n",
    "\n",
    "# Source code 6\n",
    "from desdeo_mcdm.interactive.NIMBUS import NIMBUS\n",
    "\n",
    "nimbus = NIMBUS(mo_problem)\n",
    "\n",
    "classification_request, _ = nimbus.start()"
   ]
  },
  {
   "cell_type": "markdown",
   "id": "fec5caac",
   "metadata": {},
   "source": [
    "The `start` method returns two _requests_ of which the first one is of interest here. Its `contents` attribute is a `dict` the keys of which we can inspect:"
   ]
  },
  {
   "cell_type": "code",
   "execution_count": 10,
   "id": "f819a053",
   "metadata": {},
   "outputs": [
    {
     "data": {
      "text/plain": [
       "dict_keys(['message', 'objective_values', 'classifications', 'levels', 'number_of_solutions'])"
      ]
     },
     "execution_count": 10,
     "metadata": {},
     "output_type": "execute_result"
    }
   ],
   "source": [
    "classification_request.content.keys()"
   ]
  },
  {
   "cell_type": "markdown",
   "id": "fd64f66e",
   "metadata": {},
   "source": [
    "In the `content` of each _request_, at least the `message` entry exists. This entry contains information on how to proceed:"
   ]
  },
  {
   "cell_type": "code",
   "execution_count": 11,
   "id": "9c13c9b5",
   "metadata": {},
   "outputs": [
    {
     "name": "stdout",
     "output_type": "stream",
     "text": [
      "Please classify each of the objective values in one of the following categories:\n",
      "\t1. values should improve '<'\n",
      "\t2. values should improve until some desired aspiration level is reached '<='\n",
      "\t3. values with an acceptable level '='\n",
      "\t4. values which may be impaired until some upper bound is reached '>='\n",
      "\t5. values which are free to change '0'\n",
      "Provide the aspiration levels and upper bounds as a vector. For categories 1, 3, and 5,the value in the vector at the objective's position is ignored. Supply also the number of maximumsolutions to be generated.\n"
     ]
    }
   ],
   "source": [
    "print(classification_request.content[\"message\"])"
   ]
  },
  {
   "cell_type": "markdown",
   "id": "f14ebdc9",
   "metadata": {},
   "source": [
    "We can interact with the method by defining the _response_, an attribute of the _request_, following the instructions contained in the `message` printed above. To help us in this task, we can first inspect the current objective values as:"
   ]
  },
  {
   "cell_type": "code",
   "execution_count": 12,
   "id": "ca217544",
   "metadata": {},
   "outputs": [
    {
     "data": {
      "text/plain": [
       "array([-6.06531998, -2.79638253, -5.97284071, -4.5267143 ,  0.25600481])"
      ]
     },
     "execution_count": 12,
     "metadata": {},
     "output_type": "execute_result"
    }
   ],
   "source": [
    "classification_request.content[\"objective_values\"]"
   ]
  },
  {
   "cell_type": "markdown",
   "id": "0fb2a59c",
   "metadata": {},
   "source": [
    "We may then define our _response_ with the required classifications to continute iterating the method:"
   ]
  },
  {
   "cell_type": "code",
   "execution_count": 13,
   "id": "b1c4133d",
   "metadata": {},
   "outputs": [
    {
     "name": "stderr",
     "output_type": "stream",
     "text": [
      "/home/kilo/.cache/pypoetry/virtualenvs/desdeo-5gtrLBsD-py3.9/lib/python3.9/site-packages/scipy/optimize/_hessian_update_strategy.py:182: UserWarning: delta_grad == 0.0. Check if the approximated function is linear. If the function is linear better results can be obtained by defining the Hessian as zero instead of using quasi-Newton approximations.\n",
      "  warn('delta_grad == 0.0. Check if the approximated '\n"
     ]
    }
   ],
   "source": [
    "# Source code 7\n",
    "response = {\n",
    "    \"classifications\": [\"<=\", \"0\", \"=\", \">=\", \"<\"],\n",
    "    \"levels\": [-6.2, 0, 0, -3.0, 0],\n",
    "    \"number_of_solutions\": 2,\n",
    "}\n",
    "\n",
    "classification_request.response = response\n",
    "\n",
    "save_request, _ = nimbus.iterate(classification_request)"
   ]
  },
  {
   "cell_type": "markdown",
   "id": "7141b2d1",
   "metadata": {},
   "source": [
    "We got a new request (`save_request`) which contains newly computed solutions based on the classifications given. These new solutions are:"
   ]
  },
  {
   "cell_type": "code",
   "execution_count": 14,
   "id": "9899ae7c",
   "metadata": {},
   "outputs": [
    {
     "data": {
      "text/plain": [
       "[array([-6.06531997, -2.79891851, -5.97284076, -3.97568914,  0.22899558]),\n",
       " array([-5.54551059e+00, -2.80835300e+00, -7.14631992e+00, -2.39821262e+00,\n",
       "         4.66671912e-06])]"
      ]
     },
     "execution_count": 14,
     "metadata": {},
     "output_type": "execute_result"
    }
   ],
   "source": [
    "save_request.content[\"objectives\"]"
   ]
  },
  {
   "cell_type": "markdown",
   "id": "716debb8",
   "metadata": {},
   "source": [
    "This request is similar to the earlier one: its `content` attribute will contain at least a `message` entry with instructions on what needs to be defined in the `response` attribute of `save_request`. In Synchronous NIMBUS, the next step would be to indicate whether we would like some of the computed solutions to be saved into an archive for later viewing. Further steps would consist of computing intermediate solutions, providing new classifications, and choosing a new preferred solution. However, we will conclude this use case here. Further information on the implementation of Synchronous NIMBUS in DESDEO can be found [in the documentation of _desde-mcdm_](https://desdeo-mcdm.readthedocs.io/en/latest/notebooks/synchronous_nimbus.html)."
   ]
  },
  {
   "cell_type": "markdown",
   "id": "6a09aeec",
   "metadata": {},
   "source": [
    "## Use case 2: data-driven problem\n",
    "\n",
    "Here we demonstrate how a data-driven multiobjective optimization problem may be solved using DESDEO and an evolutionary method found in _desdeo-emo_.\n",
    "\n",
    "We will assume that the river pollution problem has no known explicit form. Instead, the have only data on the probem in the form of variable and objective vector pairs. To emulate a data-driven problem, we have pre-computed a small number (100) of solutions consisting of decision variable and objective values. We can then use these points to train a surrogate model which is computationally less expensive to evaluate and can therefore be readily used in an interactive method. We assume to have already computed the points mentioned earlier and that they are stored in a file `River_Pollution.csv` in a CSV format. The first two columns will consist of the decision variable values and the last five columns will consists of the objective values. We can use this data and together with _desdeo-problem_ and pandas to formulate a data-driven problem in DESDEO:"
   ]
  },
  {
   "cell_type": "code",
   "execution_count": 15,
   "id": "04dffbb3",
   "metadata": {},
   "outputs": [],
   "source": [
    "# Source code 8\n",
    "import pandas as pd\n",
    "from desdeo_problem.problem import DataProblem\n",
    "\n",
    "\n",
    "training_data = pd.read_csv(\"./data/River_pollution.csv\", comment=\"#\")\n",
    "\n",
    "problem = DataProblem(\n",
    "    data=training_data, \n",
    "    variable_names=[\"x_0\", \"x_1\"],\n",
    "    objective_names=[\"f_1\", \"f_2\", \"f_3\", \"f_4\", \"f_5\"],\n",
    "    bounds=pd.DataFrame(\n",
    "        [[0.3, 0.3], [1.0, 1.0]],\n",
    "        columns=[\"x_0\", \"x_1\"],\n",
    "        index=[\"lower_bound\", \"upper_bound\"]),\n",
    ")"
   ]
  },
  {
   "cell_type": "markdown",
   "id": "ba73ab82",
   "metadata": {},
   "source": [
    "Next, we can train a surrogate to model each of the objectives. It is possible, and sometimes very desiderable, to use different surrogates for different objectives, but in this example we opt to use the same type of surrogate for each objective. We choose to use Gaussian regression:"
   ]
  },
  {
   "cell_type": "code",
   "execution_count": 16,
   "id": "c711fcec",
   "metadata": {},
   "outputs": [],
   "source": [
    "# Source code 9\n",
    "from desdeo_problem.surrogatemodels.SurrogateModels import GaussianProcessRegressor\n",
    "\n",
    "problem.train(\n",
    "    models=GaussianProcessRegressor,\n",
    "    model_parameters={\"optimizer\":\"fmin_l_bfgs_b\"}\n",
    ")"
   ]
  },
  {
   "cell_type": "markdown",
   "id": "66a411a9",
   "metadata": {},
   "source": [
    "The `GaussianProcessRegressor` we chose to use is a wrapper for the Gaussian process found in scikit-learn. Information about the hyperparameters given to the `optimizer` in Source code 9 can be found in scikit-learn's documentation. However, different surrogate models are also available and readily implemented, if absent.\n",
    "\n",
    "To solve the problem being modeled by the surrogates, we choose and evolutionary method this time, namely the interactive variant of RVEA implemented in the _desdeo-emo_ package. We will be supplying reference points (three other types of preference may also be supplied; more information can be found in the documentation of _desdeo-emo_). Since RVEA comes in a non-interactive version as well, we will have to specify explicitly to be interested in the interactive version using the `interact` flag. Also, we will have to specify that we will be using a problem based on surragates in a similar fashion:"
   ]
  },
  {
   "cell_type": "code",
   "execution_count": 17,
   "id": "9b0ca3c3",
   "metadata": {},
   "outputs": [],
   "source": [
    "warnings.filterwarnings(\"ignore\", category=UserWarning)\n",
    "# Source code 10\n",
    "from desdeo_emo.EAs import RVEA\n",
    "\n",
    "evolver = RVEA(\n",
    "    problem,\n",
    "    interact=True,\n",
    "    use_surrogates=True\n",
    ")\n",
    "\n",
    "(_, _, refp_request, _), _ = evolver.requests()\n",
    "\n",
    "refp_request.response = pd.DataFrame([[-5.7, -2.8, -6.9, -3.0, 0.1]],\n",
    "                                   columns=[\"f_1\", \"f_2\", \"f_3\", \"f_4\", \"f_5\"]\n",
    "                                  )\n",
    "\n",
    "(_, _, refp_request, _), _ = evolver.iterate(refp_request)"
   ]
  },
  {
   "cell_type": "markdown",
   "id": "edc1f461",
   "metadata": {},
   "source": [
    "We have now computed new solutions according to our given preferences. Let us inspect them together with the reference point using a plot:"
   ]
  },
  {
   "cell_type": "code",
   "execution_count": 18,
   "id": "7e9bdcbc",
   "metadata": {},
   "outputs": [
    {
     "data": {
      "text/plain": [
       "<AxesSubplot:>"
      ]
     },
     "execution_count": 18,
     "metadata": {},
     "output_type": "execute_result"
    },
    {
     "data": {
      "image/png": "[encoded data removed]",
      "text/plain": [
       "<Figure size 432x288 with 1 Axes>"
      ]
     },
     "metadata": {
      "needs_background": "light"
     },
     "output_type": "display_data"
    }
   ],
   "source": [
    "import matplotlib.pyplot as plt\n",
    "from pandas.plotting import parallel_coordinates\n",
    "\n",
    "objectives_df = pd.DataFrame(data=evolver.population.objectives)\n",
    "objectives_df.columns = [\"f_1\", \"f_2\", \"f_3\", \"f_4\", \"f_5\"]\n",
    "objectives_df.insert(0, \"type\", \"Solutions\")\n",
    "objectives_df = objectives_df.append(\n",
    "    {\"type\": \"Reference point\", \"f_1\": -5.7, \"f_2\": -2.8, \"f_3\": -6.9, \"f_4\": -3.0, \"f_5\": 0.1}, ignore_index=True)\n",
    "\n",
    "parallel_coordinates(objectives_df, class_column=\"type\", color=[\"#556270\", \"#C7F464\"])"
   ]
  },
  {
   "cell_type": "markdown",
   "id": "a07a0624",
   "metadata": {},
   "source": [
    "As seen from the plot above, quite many of the solutions roughly follow the given reference point. If none of the solutions found is attractive, we could supply new preferences to RVEA or we could otherwise tweak its parameters. However, what we have seen so far should give the rough idea how a data-driven problem can be modeled and solved using an evolutionary method in DESDEO. Next, we will consider the case of solving a computationally expensive multiobjective optimization problem."
   ]
  },
  {
   "cell_type": "markdown",
   "id": "c3a88649",
   "metadata": {},
   "source": [
    "## Use case 3: computationally expensive problem\n",
    "\n",
    "In the case of computationally expensive problems, we may encounter unacceptably long waiting times when solving the problems interactively. This is obviously not desired. In such cases, one solution is to compute a representation of the Pareto optimal front _a priori_ and then use the front in an interactive method to explore the available solutions. In this way, we can avoid long waiting times during the interactive solution process.\n",
    "\n",
    "Suppose then that the river pollution problem defined at the beginning of this notebook was very expensive. To generate an approximate representaton of the Pareto optimal front, we use the implementation of NSGAIII found in _desdeo-tools_. We use NSGAIII's non-interactive variant to evolve the population for 1000 generations (default) and then extract the non-dominated set of solutions from the final population by invoking the `end` method. This non-dominated set will then work as our representation of the Pareto front (as is often done). In code:"
   ]
  },
  {
   "cell_type": "code",
   "execution_count": 19,
   "id": "6e44d55b",
   "metadata": {},
   "outputs": [
    {
     "name": "stderr",
     "output_type": "stream",
     "text": [
      "/home/kilo/.cache/pypoetry/virtualenvs/desdeo-5gtrLBsD-py3.9/lib/python3.9/site-packages/desdeo_emo/selection/NSGAIII_select.py:166: RuntimeWarning:\n",
      "\n",
      "divide by zero encountered in true_divide\n",
      "\n"
     ]
    }
   ],
   "source": [
    "# Source code 11\n",
    "from desdeo_emo.EAs import NSGAIII\n",
    "\n",
    "evolver = NSGAIII(mo_problem, interact=False)\n",
    "\n",
    "while evolver.continue_evolution():\n",
    "    evolver.iterate()\n",
    "\n",
    "individuals, pareto_front = evolver.end()"
   ]
  },
  {
   "cell_type": "markdown",
   "id": "6e38f896",
   "metadata": {},
   "source": [
    "We then use the E-NAUTILUS method found in _desdeo-mcdm_. E-NAUTILUS is a good choice of interactive method when we have already computed a representation of the Pareto front. Moreover, E-NAUTILUS is a tradeoff free method, which means that during the interactive process, we will be able to always improve our solution. This is because E-NAUTILUS starts from a bad solution (often the nadir) from which the Pareto front is then gradually approched by taking steps towards it in each iteration according to expressed preferences. We can import E-NAUTILUS and instantiate it as:"
   ]
  },
  {
   "cell_type": "code",
   "execution_count": 20,
   "id": "fb9a6fd2",
   "metadata": {},
   "outputs": [],
   "source": [
    "# Source code 12\n",
    "from desdeo_mcdm.interactive import ENautilus\n",
    "\n",
    "# 'pareto_front' stores the set of solutions computed using NSGA-III\n",
    "method = ENautilus(pareto_front, ideal, nadir)\n",
    "\n",
    "enautilus_request = method.start()"
   ]
  },
  {
   "cell_type": "markdown",
   "id": "e1f1806a",
   "metadata": {},
   "source": [
    "As seen, we have used the previously computed representation of the Pareto front, ideal point, and nadir point. Before we can start iterating the method, we will have to specify the number of intermediate solutions we wish to see in each iteration and the number of iterations to iterate the method for:"
   ]
  },
  {
   "cell_type": "code",
   "execution_count": 21,
   "id": "20a7e6c2",
   "metadata": {},
   "outputs": [
    {
     "name": "stdout",
     "output_type": "stream",
     "text": [
      "Please specify the number of iterations as 'n_iterations' to be carried out, and how many intermediate points to show as 'n_points'.\n"
     ]
    }
   ],
   "source": [
    "print(enautilus_request.content[\"message\"])"
   ]
  },
  {
   "cell_type": "code",
   "execution_count": 22,
   "id": "5e501d2c",
   "metadata": {},
   "outputs": [],
   "source": [
    "# Source code 13\n",
    "response = {\"n_iterations\": 5, \"n_points\": 3}\n",
    "\n",
    "enautilus_request.response = response\n",
    "\n",
    "enautilus_request = method.iterate(enautilus_request)"
   ]
  },
  {
   "cell_type": "markdown",
   "id": "5580d61d",
   "metadata": {},
   "source": [
    "In the new request, we have now intermediate points and the bounds of the currently reachable solution on Pareto front. We can inspect them:"
   ]
  },
  {
   "cell_type": "code",
   "execution_count": 23,
   "id": "6c41b74b",
   "metadata": {},
   "outputs": [
    {
     "name": "stdout",
     "output_type": "stream",
     "text": [
      "Intermediate points:\n",
      " [[-4.99964227 -2.7713281  -1.51675587 -2.16439903  0.31953244]\n",
      " [-5.01439308 -2.76843095 -1.44869828 -3.48054163  0.34803403]\n",
      " [-5.06710072 -2.7738415  -0.4423165  -2.20424663  0.34924982]]\n",
      "Upper bounds:\n",
      " [[-4.98058006 -2.77112614 -3.83081652 -1.97489208  0.35      ]\n",
      " [-4.98058006 -2.77112614 -2.00680105 -1.9222225   0.35      ]\n",
      " [-4.98058006 -2.77174342 -0.53737674 -1.9222225   0.35      ]]\n",
      "Lower bounds:\n",
      " [[ -6.2565996   -2.82806973  -7.43338816  -7.33345755   0.03116825]\n",
      " [ -6.31206939  -2.80272184  -7.43338816 -11.07376461   0.19589683]\n",
      " [ -6.3371189   -2.82806973  -7.2701393  -11.33612684   0.03116825]]\n"
     ]
    }
   ],
   "source": [
    "print(\"Intermediate points:\\n\", enautilus_request.content[\"points\"])\n",
    "print(\"Upper bounds:\\n\", enautilus_request.content[\"upper_bounds\"])\n",
    "print(\"Lower bounds:\\n\", enautilus_request.content[\"lower_bounds\"])"
   ]
  },
  {
   "cell_type": "markdown",
   "id": "4c8ab62a",
   "metadata": {},
   "source": [
    "From the intermediate points and bounds shown, we can then choose our most preferred one to continue iterating. We can do this by expressing the index (starting from zero) of the point we most prefer. Choosing the last intermediate point looks like this:"
   ]
  },
  {
   "cell_type": "code",
   "execution_count": 24,
   "id": "73fd4dbb",
   "metadata": {},
   "outputs": [],
   "source": [
    "# Source code 14\n",
    "response = {\"preferred_point_index\": 2}\n",
    "\n",
    "enautilus_request.response = response\n",
    "\n",
    "enautilus_request = method.iterate(enautilus_request)"
   ]
  },
  {
   "cell_type": "markdown",
   "id": "2e2181fe",
   "metadata": {},
   "source": [
    "Next, we would have to choose a new preferred solution from the newly computed intermediate points. We would continue until we reach the desired number of iterations and end up with a solution on the representation of the Pareto front given when instantiating `ENautilus`. Since the solution found would still be picked from a set of (approximate) representations of Pareto optimal solutions, we could still improve the solution using the (expensive) original problem and a achievement scalarizing functions, for example.\n",
    "\n",
    "The point of this use case was, however, to show how to handle a computationally expensive problem, which we have now demonstrated. Moreover, we have also shown how an evolutionary method (NSGA-III) has been hybridized with an MCDM method (E-NAUTILUS). This was a remarkably simple example, but more advanced applications are also possible."
   ]
  },
  {
   "cell_type": "markdown",
   "id": "f3bbd66e-d1f7-4fb5-824d-6e01795f384d",
   "metadata": {},
   "source": [
    "## Use case 4: switching methods\n",
    "\n",
    "DESDEO allows to seamlessly switch between methods as long as the problem is compatible across the methods. Suppose, for example, that we had now finished iterating the E-NAUTILUS method discussed in the previous subsection. We got the final solution\n",
    "`[-6.27116931, -2.80042652, -3.46795271, -6.57327201,  0.31967811]`. Since this solution is computed using a set of non-dominated solutions, which represent the Pareto optimal solution, we can improve the solution using the analytical form of the River problem in a method able to handle this kind of problems. We can use Synchronous NIMBUS and initialize it with the solution we ended up in E-NAUTILUS as:"
   ]
  },
  {
   "cell_type": "code",
   "execution_count": 25,
   "id": "74c40cf4-3543-40eb-9bcb-187a54aba6b1",
   "metadata": {},
   "outputs": [
    {
     "name": "stdout",
     "output_type": "stream",
     "text": [
      "Improved starting point: [-6.27116929 -2.80042652 -3.46795321 -6.5732719   0.3196781 ]\n"
     ]
    }
   ],
   "source": [
    "# Source code 15\n",
    "nimbus_method = NIMBUS(mo_problem, starting_point=np.array([-6.27116931, -2.80042652, -3.46795271, -6.57327201, 0.31967811]))\n",
    "classification_request, _ = nimbus_method.start()\n",
    "\n",
    "solution = classification_request.content[\"objective_values\"]\n",
    "\n",
    "print(f\"Improved starting point: {solution}\")"
   ]
  },
  {
   "cell_type": "markdown",
   "id": "73602925-22b8-4660-bad5-94a4009da20d",
   "metadata": {},
   "source": [
    "We can see that the solution we got in the classification step in NIMBUS is slightly better than the starting point. This is expected. We can continue using NIMBUS as we did in Use case 1. Suppose we would make the following classifications:"
   ]
  },
  {
   "cell_type": "code",
   "execution_count": 26,
   "id": "e949e7a4-af14-421d-a763-30e76b6999af",
   "metadata": {},
   "outputs": [
    {
     "name": "stdout",
     "output_type": "stream",
     "text": [
      "New solutions based on the classification:\n",
      "[[-6.27116929 -2.80042545 -3.46795321 -6.57403796  0.3196781 ]\n",
      " [-6.25694385 -2.80351526 -3.82291043 -4.76892902  0.31341139]\n",
      " [-6.23956126 -2.8025631  -4.18812465 -4.78570078  0.30575386]\n",
      " [-6.21076915 -2.80107536 -4.67094925 -4.8160743   0.29307011]]\n"
     ]
    }
   ],
   "source": [
    "# Source code 16\n",
    "response = {\n",
    "    \"classifications\": [\">=\", \">=\", \"=\", \"<=\", \"<=\"],\n",
    "    \"levels\": [-6.0, -2.81, 0, -5.5, 0.28],\n",
    "    \"number_of_solutions\": 4,\n",
    "}\n",
    "\n",
    "classification_request.response = response\n",
    "\n",
    "save_request, _ = nimbus_method.iterate(classification_request)\n",
    "\n",
    "print(f\"New solutions based on the classification:\\n{np.array(save_request.content['objectives'])}\")"
   ]
  },
  {
   "cell_type": "markdown",
   "id": "c80501ab-3e08-4a8f-9a67-7486e139047e",
   "metadata": {},
   "source": [
    "At this point, we may feel like we do not like the way preferences are given in Synchronous NIMBUS. We would like to give an explicit reference point. The environment DESDEO offers allows to readily switch between methods. We can switch to the Reference point method as:"
   ]
  },
  {
   "cell_type": "code",
   "execution_count": 27,
   "id": "c8fca763-fc0a-48cc-944e-a81cc92b5f74",
   "metadata": {},
   "outputs": [
    {
     "name": "stdout",
     "output_type": "stream",
     "text": [
      "Please specify a reference point as 'reference_point'.\n"
     ]
    }
   ],
   "source": [
    "# Source code 17\n",
    "from desdeo_mcdm.interactive import ReferencePointMethod\n",
    "\n",
    "rp_method = ReferencePointMethod(mo_problem, mo_problem.ideal, mo_problem.nadir)\n",
    "initial_request = rp_method.start()\n",
    "\n",
    "print(initial_request.content[\"message\"])"
   ]
  },
  {
   "cell_type": "markdown",
   "id": "80507a16-58b6-467a-8a92-81da434d8bf9",
   "metadata": {},
   "source": [
    "Note that we did not initialize the Reference point method with a starting point as we did in the case of Synchronous NIMBUS. This is because the Reference point method always expects the first reference point to be given by the DM whereas in Synchronous NIMBUS, a neutral starting point is computed in the case no starting point is supplied. Let us choose as the initial referene point one of the solutions computed in the classification step in Synchronous NIMBUS `[-6.17191404 -2.79781439 -5.15768657 -5.38138508  0.28427698]`:"
   ]
  },
  {
   "cell_type": "code",
   "execution_count": 28,
   "id": "d6cca098-5d01-45f4-9e49-d2fdc545648e",
   "metadata": {},
   "outputs": [
    {
     "name": "stdout",
     "output_type": "stream",
     "text": [
      "Alternative solutions:\n",
      "[[ -6.06738269  -2.79173202  -5.96151717  -6.57708193   0.30869325]\n",
      " [ -6.06739265  -2.7881606   -5.96146219 -11.62595495   0.349997  ]\n",
      " [ -6.06827041  -2.79173999  -5.95660494  -6.59286023   0.3089429 ]\n",
      " [ -6.06739265  -2.79173037  -5.96146219  -6.57850761   0.30871587]\n",
      " [ -6.06807439  -2.79161702  -5.95769166  -6.67818059   0.3102679 ]]\n"
     ]
    }
   ],
   "source": [
    "# Source code 18\n",
    "response = {\n",
    "    \"reference_point\": np.array([-6.06739, -2.79173, -5.96145, -6.57333, 0.30863]),\n",
    "}\n",
    "\n",
    "initial_request.response = response\n",
    "\n",
    "rp_request = rp_method.iterate(initial_request)\n",
    "\n",
    "alternatives = np.array(rp_request.content[\"additional_solutions\"])\n",
    "\n",
    "print(f\"Alternative solutions:\\n{alternatives}\")"
   ]
  },
  {
   "cell_type": "markdown",
   "id": "f9ac2f5c-6f17-42ec-b556-51bff70140a6",
   "metadata": {},
   "source": [
    "We are once again presented with a set of new solutions. At this point, we could continue using the Reference point method or we could switch back to Synchronous NIMBUS by repeating the steps in Source code 15 or we could switch to a totally different method. \n",
    "\n",
    "The switching of methods is therefore very seamless in DESDEO."
   ]
  },
  {
   "cell_type": "markdown",
   "id": "825cb1fb",
   "metadata": {},
   "source": [
    "## Summary\n",
    "\n",
    "We have seen in the considered use cases how an analytically defined problem can be solved using an MCDM method (NIMBUS); how a driven-driven problem can be modeled using surrogates and solved utilizing an evolutionary method (interactive RVEA); and we have seen how we can combine both evolutionary (NSGAIII) and MCDM (E-NAUTILUS) methods to solve a computationally expensive problem; and we even saw how the method can be changed during the iteration process. In addition, we have seen the basic procedure on how to use interactive methods found in DESDEO (the request-response structure). While these examples were quite simple, they were still and excellent showcase of the basics in applying DESDEO to solve multiobjective optimization problems.\n",
    "\n",
    "Lastly, it is good to observe that interacting with the methods as we have in this example, was cumbersome. We highly suggest that instead some sort of user interface is provided to interface to these method. This can facilitate greatly the interaction between humans and interactive methods found in DESDEO. We are currently developing some necessary building blocks to build such an interface, but we are not ready to discuss it here yet. But stay tuned!"
   ]
  }
 ],
 "metadata": {
  "kernelspec": {
   "display_name": "desdeo",
   "language": "python",
   "name": "desdeo"
  },
  "language_info": {
   "codemirror_mode": {
    "name": "ipython",
    "version": 3
   },
   "file_extension": ".py",
   "mimetype": "text/x-python",
   "name": "python",
   "nbconvert_exporter": "python",
   "pygments_lexer": "ipython3",
   "version": "3.9.7"
  }
 },
 "nbformat": 4,
 "nbformat_minor": 5
}
