{
 "cells": [
  {
   "cell_type": "markdown",
   "id": "e98d0735",
   "metadata": {},
   "source": [
    "# How to use MCDM methods\n",
    "In this example, we will see how MCDM methods available in DESDEO can be utilized to solve a multiobjective optimization problem. MCDM methods are implemented in a functional way, which means their individual components must be first combined. This might feel unnecessary at first, but in practice, it means we are able to combine components of multiple methods to create new methods that can best suit our needs.\n",
    "\n",
    "Before going into MCDM methods, we will first see examples of how scalarization is done in DESDEO, which is an important aspect of many MCDM methods. Throughout the this example, we will be solving the DTLZ2 problem with five variables and three objective functions. We choose this problem because of its simplicity and known shape of its Pareto front.\n",
    "\n",
    "## Scalarization in DESDEO\n",
    "Scalarization is the transformation of a multiobjective optimization problem in\n",
    "to a single-objective optimization one. In DESDEO, this happens by adding a\n",
    "`ScalarizationFunction` to an instance of the `Problem` class. However, because\n",
    "many scalarization functions require information on either the ideal or nadir\n",
    "point, or both, of the problem being solved, we first need to compute these before proceeding with scalarization.\n",
    "\n",
    "### Computing the ideal point and (approximating) the nadir point\n",
    "To compute the ideal point, and approximate the nadir point, of the DTLZ2\n",
    "problem, we can utilize the payoff table method\n",
    "(`desdeo.tools.payoff_table_method`). We begin by creating the DTLZ2 problem and\n",
    "passing it ot the payoff table method:"
   ]
  },
  {
   "cell_type": "code",
   "execution_count": 8,
   "id": "937d4dd0",
   "metadata": {},
   "outputs": [],
   "source": [
    "from desdeo.problem.testproblems import dtlz2\n",
    "from desdeo.tools import payoff_table_method\n",
    "\n",
    "problem = dtlz2(5, 3)\n",
    "\n",
    "ideal, nadir = payoff_table_method(problem)"
   ]
  },
  {
   "cell_type": "markdown",
   "id": "d2a4dbcb",
   "metadata": {},
   "source": [
    "While the computed `ideal` point will have its components all close to zero, as\n",
    "expected, the nadir point will likely be a relatively bad approximation of the\n",
    "true nadir point. We know that because the Pareto optimal front of the\n",
    "3-dimensional variant of the `dtlz2` problem is the positive octant of a sphere,\n",
    "then its nadir point should have the components $\\left[1.0, 1.0, 1.0\\right]$.\n",
    "However, it is highly unlikely that the payoff table method will be able to\n",
    "produce this point. This is because of the inherent limitations of the method.\n",
    "\n",
    "In practice, the nadir point can be either inquired from a decision maker (domain\n",
    "expert), or it can be approximated by solving\n",
    "the problem utilizing an evolutionary method, such as NSGA3, and then reading\n",
    "the nadir point values of the approximated Pareto front. However, while bad,\n",
    "the payoff table method works out-of-the-box with almost any problem, and it \n",
    "gives at least a first workable approximation fo the nadir point. The ideal point\n",
    "computed by the payoff table method is often accurate enough, however.\n",
    "\n",
    "<div class=\"admonition note\">\n",
    "<p class=\"admonition-title\">Note</p>\n",
    "<p>The payoff table method (`desdeo.tools.payoff_table_method`) is a very rough\n",
    "way to approximate the nadir point of a problem. It is better to use an\n",
    "evolutionary method instead to approximate the problem's Pareto front, and then\n",
    "read an approximated value for the nadir point from the front.\n",
    "</p>\n",
    "</div>\n",
    "\n",
    "Regardless the source of the information on the nadir (and ideal) point values,\n",
    "we can update the problem with this information"
   ]
  },
  {
   "cell_type": "code",
   "execution_count": 9,
   "id": "94404297",
   "metadata": {},
   "outputs": [],
   "source": [
    "ideal = {\"f_1\": 0.0, \"f_2\": 0.0, \"f_3\": 0.0}\n",
    "nadir = {\"f_1\": 1.0, \"f_2\": 1.0, \"f_3\": 1.0}\n",
    "\n",
    "problem = problem.update_ideal_and_nadir(ideal, nadir)"
   ]
  },
  {
   "cell_type": "markdown",
   "id": "4d0a46d4",
   "metadata": {},
   "source": [
    "It is important to notice how the utilized the method `update_ideal_and_nadir`\n",
    "and then used its output to redefine the variable `problem`. In DESDEO, instance\n",
    "of the `Problem` class are, in principle, __immutable__. This means that anytime\n",
    "we wish to change an already instantiate `Problem` object, we essentially have\n",
    "to create a new one. `Problem`s are chosen to be immutable in DESDEO to avoid\n",
    "involuntarily changing the original problem, which can easily happen when\n",
    "solving the problem with multiple methods.\n",
    "\n",
    "<div class=\"admonition note\">\n",
    "<p class=\"admonition-title\">Note</p>\n",
    "<p>Instances of the <tt>Problem</tt> class in DESDEO are immutable. When making\n",
    "changes to an existing `Problem` objects, methods and functions will return a\n",
    "new instance of the original <tt>Problem</tt> with the applied changes.</p>\n",
    "</div>\n",
    "\n",
    "### Scalarizing a problem\n",
    "Once we have the ideal and nadir point values available, we can scalarize our problem. We will use the achievement scalarizing function, or ASF. To utilize the ASF, we will need a reference point.\n",
    "Let us use the values $\\left[0.8, 0.4, 0.6\\right]$ for the reference point, as an example. Because the DTLZ2 problem is differentiable, we can use the differentiable variant of the ASF (`desdeo.tools.add_asf_diff`) "
   ]
  },
  {
   "cell_type": "code",
   "execution_count": 11,
   "id": "df09715d",
   "metadata": {},
   "outputs": [],
   "source": [
    "from desdeo.tools import add_asf_diff\n",
    "\n",
    "reference_point = {\"f_1\": 0.8, \"f_2\": 0.4, \"f_3\": 0.6}\n",
    "\n",
    "problem_w_asf = add_asf_diff(problem, symbol=\"asf\", reference_point=reference_point)"
   ]
  },
  {
   "cell_type": "markdown",
   "id": "6fe95901",
   "metadata": {},
   "source": [
    "When adding the ASF, we had to supply also a `symbol` in addition to the\n",
    "`reference_point`. As discussed in the previous example, the `symbol` is\n",
    "utilized to identify various components of a `Problem`. In this case, the\n",
    "`symbol=\"asf\"` is used to refer to the ASF, which was added to the problem.\n",
    "\n",
    "We also mentioned that we can use the differentiable variant of the ASF, because\n",
    "our problem (DTLZ2) is differentiable. This is important because we want to keep\n",
    "the differentiability of our problem even after scalarization. This allows us to\n",
    "use, e.g., gradient-based optimizers when solving the scalarized problem. In\n",
    "turn, this allows us to get accurate and optimal solutions. If our problem was\n",
    "not differentiable, then we could have used the non-differentiable variant of\n",
    "ASF defined in `desdeo.tools.add_asf_nondiff`. This would be practical if we\n",
    "knew we had to solve our problem using heuristics-based methods, which are\n",
    "impartial to the differentiability of our problem. In fact, it could be even\n",
    "detrimental to utilize the differentiable variant when solving the scalarized\n",
    "problem with an evolutionary method, since the differentiable variant introduced\n",
    "many constraints to the problem, which evolutionary methods are not very adept\n",
    "to handle. The lesson here is, that we should be knowledgeable enough about our\n",
    "problem to manipulate it in the best possible way."
   ]
  }
 ],
 "metadata": {
  "kernelspec": {
   "display_name": ".venv",
   "language": "python",
   "name": "python3"
  },
  "language_info": {
   "codemirror_mode": {
    "name": "ipython",
    "version": 3
   },
   "file_extension": ".py",
   "mimetype": "text/x-python",
   "name": "python",
   "nbconvert_exporter": "python",
   "pygments_lexer": "ipython3",
   "version": "3.12.8"
  }
 },
 "nbformat": 4,
 "nbformat_minor": 5
}
