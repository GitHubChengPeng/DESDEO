{
 "cells": [
  {
   "cell_type": "markdown",
   "id": "cfa0c186",
   "metadata": {},
   "source": [
    "# Using an Artificial Decision Maker (ADM) to Compare Interactive Evolutionary Methods"
   ]
  },
  {
   "cell_type": "markdown",
   "id": "830253a7",
   "metadata": {},
   "source": [
    "This tutorial demonstrates how to use Artificial Decision Makers (ADMs) to compare interactive multiobjective evolutionary optimization methods. We will focus on comparing two methods:\n",
    "\n",
    "1. Interactive RVEA (Reference Vector Guided Evolutionary Algorithm)\n",
    "2. Interactive NSGA-III (Non-dominated Sorting Genetic Algorithm III)\n",
    "\n",
    "We will use the ADM proposed by Afsar et al. and evaluate performance using the R-metric framework:\n",
    "- R-IGD (R-metric Inverted Generational Distance)\n",
    "- R-HV (R-metric Hypervolume)\n",
    "\n",
    "## How the ADM Works\n",
    "\n",
    "The ADM operates in two sequential phases:\n",
    "\n",
    "1. **Learning Phase:**\n",
    "   - Explores the entire objective space\n",
    "   - Generates reference points in least explored areas\n",
    "   - Builds understanding of the Pareto front \n",
    "   - Identifies potential regions of interest\n",
    "\n",
    "2. **Decision Phase:**\n",
    "   - Focuses on the identified ROI\n",
    "   - Refines solutions through targeted reference points\n",
    "   - Guides the search towards most preferred solutions\n",
    "\n",
    "### Iteration Process\n",
    "At each iteration, the ADM follows these steps:\n",
    "1. Combines solutions from all algorithms and removes dominated ones\n",
    "2. Divides the combined front using uniform reference vectors\n",
    "3. Maps solutions to reference vectors based on angular distance\n",
    "4. Generates new reference points based on current phase\n",
    "5. Evaluates algorithm performance within the ROI\n",
    "\n",
    "> **Reference:**  \n",
    "> Afsar, B., Miettinen, K., & Ruiz, A. B. (2021).  \n",
    "> An Artificial Decision Maker for Comparing Reference Point Based Interactive Evolutionary Multiobjective Optimization Methods.\n",
    "> In: Ishibuchi, H., et al. Evolutionary Multi-Criterion Optimization. EMO 2021. Lecture Notes in Computer Science, vol 12654. Springer, Cham."
   ]
  },
  {
   "cell_type": "markdown",
   "id": "b445c433",
   "metadata": {},
   "source": [
    "## Problem Definition\n",
    "\n",
    "For this demonstration, we will use the DTLZ2 benchmark with 3 objective functions and 12 decision variables.\n",
    "\n",
    "First, we need to import the required modules and create the problem instance:"
   ]
  },
  {
   "cell_type": "code",
   "execution_count": null,
   "id": "4e85c3b5",
   "metadata": {},
   "outputs": [],
   "source": [
    "import numpy as np\n",
    "from desdeo.emo.methods.EAs import nsga3, rvea\n",
    "from desdeo.problem.testproblems import dtlz2\n",
    "from desdeo.adm.ADMAfsar import ADMAfsar\n",
    "from desdeo.tools.indicators_unary import r_metric_indicator\n",
    "from desdeo.emo.hooks.archivers import NonDominatedArchive\n",
    "\n",
    "\n",
    "problem = dtlz2(n_objectives=3, n_variables=12)"
   ]
  },
  {
   "cell_type": "markdown",
   "id": "24f73116",
   "metadata": {},
   "source": [
    "## Initializing ADM and Optimization Methods  \n",
    "\n",
    "The procedure consists of the following steps:  \n",
    "\n",
    "1. **Initialize ADM** with the selected problem and specify the number of iterations for each phase.  \n",
    "   - Learning phase: 4 iterations  \n",
    "   - Decision phase: 3 iterations  \n",
    "2. **Generate an initial reference point** randomly within the objective space.  \n",
    "3. **Run both interactive NSGA-III and interactive RVEA** using the same reference point.  \n",
    "\n",
    "*Note:* The initial iteration with the random reference point is **not included** in the phase iterations.  \n"
   ]
  },
  {
   "cell_type": "code",
   "execution_count": 10,
   "id": "3eab251e",
   "metadata": {},
   "outputs": [],
   "source": [
    "adm = ADMAfsar(problem=problem, it_learning_phase=4, it_decision_phase=3, number_of_vectors=100)\n",
    "\n",
    "symbols = [f\"{x.symbol}_min\" for x in problem.objectives]\n",
    "\n",
    "solver_nsga3, publisher_nsga3 = nsga3(\n",
    "    problem=problem,\n",
    "    reference_vector_options={\n",
    "        \"reference_point\": dict(zip(symbols, adm.preference)),\n",
    "        \"interactive_adaptation\": \"reference_point\",\n",
    "        \"number_of_vectors\": 100,\n",
    "        })\n",
    "solver_rvea, publisher_rvea = rvea(\n",
    "    problem=problem,\n",
    "    reference_vector_options={ \n",
    "        \"reference_point\": dict(zip(symbols, adm.preference)),\n",
    "        \"interactive_adaptation\": \"reference_point\",\n",
    "        \"number_of_vectors\": 100,\n",
    "    })\n",
    "\n",
    "archive_nsga3 = NonDominatedArchive(problem=problem, publisher=publisher_nsga3)\n",
    "archive_rvea = NonDominatedArchive(problem=problem, publisher=publisher_rvea)\n",
    "publisher_nsga3.auto_subscribe(archive_nsga3)\n",
    "publisher_rvea.auto_subscribe(archive_rvea)\n",
    "\n",
    "results_nsga3 = solver_nsga3()\n",
    "results_rvea = solver_rvea()"
   ]
  },
  {
   "cell_type": "markdown",
   "id": "7cd3a2cd",
   "metadata": {},
   "source": [
    "## Interactive Optimization Process  \n",
    "\n",
    "The ADM framework steers the optimization through an automated, interactive procedure:  \n",
    "\n",
    "### Phase Control  \n",
    "- `adm.has_next()`: Checks whether additional iterations are required   \n",
    "- `adm.get_next_reference_point()`: Generates the next reference point based on the current set of solutions  \n",
    "\n",
    "### Phase-Specific Behavior  \n",
    "1. **Learning Phase**  \n",
    "   - Explores diverse regions of the objective space  \n",
    "   - Identifies promising areas for subsequent exploration  \n",
    "\n",
    "2. **Decision Phase**  \n",
    "   - Concentrates on the region of interest identified during the learning phase\n",
    "   - Produces targeted reference points to refine the search  \n",
    "\n",
    "### Performance Evaluation  \n",
    "At each iteration, solution quality is evaluated using **R-IGD** and **R-HV**.  \n",
    "\n",
    "The following cell demonstrates this iterative process in practice.  "
   ]
  },
  {
   "cell_type": "code",
   "execution_count": 11,
   "id": "c3d5b2eb",
   "metadata": {},
   "outputs": [
    {
     "name": "stdout",
     "output_type": "stream",
     "text": [
      "\n",
      "Iteration 1 (Learning Phase)\n",
      "----------------------------------------------------------------------\n",
      " Iteration Algorithm    R-IGD     R-HV    Phase\n",
      "         1  NSGA-III 0.000667 8.034566 Learning\n",
      "         1      RVEA 0.008531 7.946162 Learning\n",
      "----------------------------------------------------------------------\n",
      "Reference Point: [0.000000, 1.001223, 0.000000]\n",
      "\n",
      "Iteration 2 (Learning Phase)\n",
      "----------------------------------------------------------------------\n",
      " Iteration Algorithm    R-IGD     R-HV    Phase\n",
      "         2  NSGA-III 0.005625 8.581272 Learning\n",
      "         2      RVEA 0.001991 8.569272 Learning\n",
      "----------------------------------------------------------------------\n",
      "Reference Point: [0.117325, 0.351976, 0.938602]\n",
      "\n",
      "Iteration 3 (Learning Phase)\n",
      "----------------------------------------------------------------------\n",
      " Iteration Algorithm    R-IGD     R-HV    Phase\n",
      "         3  NSGA-III 0.010664 8.391929 Learning\n",
      "         3      RVEA 0.004111 8.320183 Learning\n",
      "----------------------------------------------------------------------\n",
      "Reference Point: [0.108966, 0.217933, 0.980698]\n",
      "\n",
      "Iteration 4 (Learning Phase)\n",
      "----------------------------------------------------------------------\n",
      " Iteration Algorithm    R-IGD     R-HV    Phase\n",
      "         4  NSGA-III 0.010009 8.654514 Learning\n",
      "         4      RVEA 0.003927 8.698433 Learning\n",
      "----------------------------------------------------------------------\n",
      "Reference Point: [0.871181, 0.497818, 0.124454]\n",
      "\n",
      "Iteration 5 (Decision Phase)\n",
      "----------------------------------------------------------------------\n",
      " Iteration Algorithm    R-IGD     R-HV    Phase\n",
      "         5  NSGA-III 0.005496 8.540655 Decision\n",
      "         5      RVEA 0.024501 8.250511 Decision\n",
      "----------------------------------------------------------------------\n",
      "Reference Point: [0.116366, 0.349099, 0.930930]\n",
      "\n",
      "Iteration 6 (Decision Phase)\n",
      "----------------------------------------------------------------------\n",
      " Iteration Algorithm    R-IGD     R-HV    Phase\n",
      "         6  NSGA-III 0.005496 8.540655 Decision\n",
      "         6      RVEA 0.024501 8.250511 Decision\n",
      "----------------------------------------------------------------------\n",
      "Reference Point: [0.116366, 0.349099, 0.930930]\n",
      "\n",
      "Iteration 7 (Decision Phase)\n",
      "----------------------------------------------------------------------\n",
      " Iteration Algorithm    R-IGD     R-HV    Phase\n",
      "         7  NSGA-III 0.005496 8.540655 Decision\n",
      "         7      RVEA 0.024501 8.250511 Decision\n",
      "----------------------------------------------------------------------\n",
      "Reference Point: [0.116366, 0.349099, 0.930930]\n"
     ]
    }
   ],
   "source": [
    "import pandas as pd\n",
    "from IPython.display import display\n",
    "\n",
    "iteration = 0\n",
    "metrics_data = []\n",
    "reference_points = []\n",
    "\n",
    "while adm.has_next():\n",
    "    iteration += 1\n",
    "    front_rvea = results_rvea.outputs.select(['f_1_min', 'f_2_min', 'f_3_min']).to_numpy()\n",
    "    front_nsga3 = results_nsga3.outputs.select(['f_1_min', 'f_2_min', 'f_3_min']).to_numpy()\n",
    "\n",
    "    adm.get_next_preference(front_rvea, front_nsga3)\n",
    "    reference_points.append(adm.preference.copy())\n",
    "    solver_nsga3, publisher_nsga3 = nsga3(\n",
    "        problem=problem,\n",
    "        reference_vector_options={\n",
    "            \"reference_point\": dict(zip(symbols, adm.preference)),\n",
    "            \"interactive_adaptation\": \"reference_point\",\n",
    "            \"number_of_vectors\": 100,\n",
    "        })\n",
    "    solver_rvea, publisher_rvea = rvea(\n",
    "        problem=problem,\n",
    "        reference_vector_options={\n",
    "            \"reference_point\": dict(zip(symbols, adm.preference)),\n",
    "            \"interactive_adaptation\": \"reference_point\",\n",
    "            \"number_of_vectors\": 100,\n",
    "        })\n",
    "    results_nsga3 = solver_nsga3()\n",
    "    results_rvea = solver_rvea()\n",
    "    \n",
    "    # Calculate metrics\n",
    "    metrics_nsga3 = r_metric_indicator(\n",
    "        results_nsga3.outputs.select(['f_1_min', 'f_2_min', 'f_3_min']).to_numpy(), \n",
    "        np.array([adm.preference])\n",
    "    )\n",
    "    metrics_rvea = r_metric_indicator(\n",
    "        results_rvea.outputs.select(['f_1_min', 'f_2_min', 'f_3_min']).to_numpy(), \n",
    "        np.array([adm.preference])\n",
    "    )\n",
    "    \n",
    "    # Store metrics in the list\n",
    "    current_metrics = pd.DataFrame([\n",
    "        {\n",
    "            'Iteration': iteration,\n",
    "            'Algorithm': 'NSGA-III',\n",
    "            'R-IGD': metrics_nsga3.r_igd,  # First value is R-IGD\n",
    "            'R-HV': metrics_nsga3.r_hv,   # Second value is R-HV\n",
    "            'Phase': 'Learning' if iteration <= 4 else 'Decision'\n",
    "        },\n",
    "        {\n",
    "            'Iteration': iteration,\n",
    "            'Algorithm': 'RVEA',\n",
    "            'R-IGD': metrics_rvea.r_igd,   # First value is R-IGD\n",
    "            'R-HV': metrics_rvea.r_hv,    # Second value is R-HV\n",
    "            'Phase': 'Learning' if iteration <= 4 else 'Decision'\n",
    "        }\n",
    "    ])\n",
    "    \n",
    "    if len(metrics_data) == 0:\n",
    "        metrics_data = current_metrics\n",
    "    else:\n",
    "        metrics_data = pd.concat([metrics_data, current_metrics], ignore_index=True)\n",
    "    \n",
    "    # Print current metrics in a formatted table\n",
    "    print(f\"\\nIteration {iteration} ({current_metrics['Phase'].iloc[0]} Phase)\")\n",
    "    print(\"-\" * 70)\n",
    "    print(current_metrics.to_string(index=False, float_format=lambda x: '{:.6f}'.format(x)))\n",
    "    print(\"-\" * 70)\n",
    "    \n",
    "    # Print reference point\n",
    "    ref_point = np.array(adm.preference)\n",
    "    print(f\"Reference Point: [{', '.join(f'{x:.6f}' for x in ref_point)}]\")"
   ]
  },
  {
   "cell_type": "markdown",
   "id": "c552f3dc",
   "metadata": {},
   "source": [
    "## Visualization of Reference Points\n",
    "\n",
    "Let's visualize how the ADM generates reference points throughout both phases of the optimization process. The following plot shows:\n",
    "\n",
    "1. **Learning Phase (Left)**: The first 4 reference points (L1-L4) demonstrate how the ADM explores different regions of the Pareto front to understand the full range of available trade-offs.\n",
    "\n",
    "2. **Decision Phase (Right)**: The subsequent 3 reference points (D1-D3) show how the ADM focuses on a specific region of interest, refining the search based on the knowledge gained during the learning phase.\n",
    "\n",
    "The gray surface represents the Pareto front of the DTLZ2 problem, which forms a quarter-sphere in the first octant (all objectives ≥ 0). Points are labeled chronologically to show the sequence of reference point generation."
   ]
  },
  {
   "cell_type": "code",
   "execution_count": null,
   "id": "f6bce128",
   "metadata": {},
   "outputs": [
    {
     "data": {
      "application/vnd.plotly.v1+json": {
       "config": {
        "plotlyServerURL": "https://plot.ly"
       },
       "data": [
        {
         "colorscale": [
          [
           0,
           "rgb(255,255,255)"
          ],
          [
           0.125,
           "rgb(240,240,240)"
          ],
          [
           0.25,
           "rgb(217,217,217)"
          ],
          [
           0.375,
           "rgb(189,189,189)"
          ],
          [
           0.5,
           "rgb(150,150,150)"
          ],
          [
           0.625,
           "rgb(115,115,115)"
          ],
          [
           0.75,
           "rgb(82,82,82)"
          ],
          [
           0.875,
           "rgb(37,37,37)"
          ],
          [
           1,
           "rgb(0,0,0)"
          ]
         ],
         "name": "Pareto Front",
         "opacity": 0.3,
         "scene": "scene",
         "showscale": false,
         "type": "surface",
         "x": {
          "bdata": "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",
          "dtype": "f8",
          "shape": "50, 50"
         },
         "y": {
          "bdata": "AAAAAAAAAADZMul6EGmgP8b1duvnZrA/cLvvC/eUuD+PjathR17AP8aDzvTEbcQ/2m9PzeJ3yD+CRQLjkHvMP+7Ll2/gO9A/QPfYMbM10j+8L8eouyrUPwDuegd2GtY/3WJO5l8E2D9RRytl+OfZP8GrcU3AxNs/cNtuMzqa3T+ihluX6mffP8VC7AKsluA/JtTwmwV14T8/FheZx07iP6NL+7G4I+M/0e2L4qDz4z+078V5Sb7kPy7PFyh9g+U/w6xnDQhD5j8XubjGt/zmPzBhbHtbsOc/57wb6sNd6D9L3gV1wwTpP7K8Dy4upek/jJNS4tk+6j+VqjUlntHqP/qbEFtUXes/QExTw9fh6z/+5zCCBV/sP3Fcy6m81Ow/NeHcQt5C7T8ITN1UTantP8wJoe3uB+4/xrtvKKpe7j+Um5A0aK3uP//sSlsU9O4/aelYBZwy7z/otcu/7mjvP8YaX0D+lu8/7Ng7ab687z8goCdMJdrvP2zPIS0r7+8/yk9shMr77z8AAAAAAADwPwAAAAAAAAAAx/V26+dmoD9uKrKkv2SwP3IIZ1e7kbg/wDBjPSBcwD+0fn0XFWvEP6Vk6OuqdMg/3IM/1tF3zD8ADa3RvTnQP9V9LwxOM9I/oPKpnBQo1D9NyYrHjRfWP6gaUzY3Adg/TwfgGZDk2T9hEU1MGcHbPzKZZnJVlt0/frCjHMlj3z+7S89zfZTgP4KsAc65cuE/5A/2Jl9M4j8IgtE9NCHjP6yd4BUB8eM/f95RBY+75D88zpbDqIDlPyNEaHcaQOY/+QZqxLH55j8AO2rYPa3nP70fOXiPWug/zbwVDHkB6T/rOKyrzqHpP6SzoilmO+o/w5exHhfO6j9qe0T0ulnrP/3BoO4s3us/WFSPNkpb7D+b5Ibi8dDsPzxUVP8EP+0/gfU+mGal7T/ng6a++wPuP7DSGJGrWu4/Y1TdQV+p7j9+wvQcAvDuP3RRi42BLu8/GALcIs1k7z9qx4OU1pLvP3NdQ8aRuO8/LdQuy/TV7z/190no9+rvP7bnkJaV9+8/yk9shMr77z8AAAAAAAAAAAQie85uYKA/j42rYUdesD990IgTCYi4P151hWGrVcA/nBF9NAZjxD+2km0gBGvIPyQ5QKyVbMw/1HO3h1Yz0D9gCH48HyzSP2YX8yogINQ/SR+Cy9UO1j++bRz7vffXP7jkdB1Y2tk/wPTUPiW22z9u5oE1qIrdPwaqqcJlV98/+0FnWfKN4D96h9T+1mvhP0sYvHImReI/7WHbiqcZ4z+2cpdgIunjPzN8sV9gs+Q/dVOiVCx45T9yKJl6UjfmPwrGGYmg8OY/h8U2weWj5z/kOmT68lDoP156366a9+g/vrOoB7GX6T8jPQvoCzHqP3iEsfiCw+o/xb1Bsu9O6z+Eg4BnLdPrP5i+9k4ZUOw/JEwYjJLF7D/l+Og3ejPtPxuMHWmzme0/ZL62OyP47T+EHBTYsE7uP5r5fHlFne4/17gddMzj7j8u23c6MyLvP/ZiQ2JpWO8/xETAqGCG7z+qwnb2DKzvP0i1ZWJkye8/duydNF/e7z/190no9+rvP2zPIS0r7+8/AAAAAAAAAABYJeDXplWgPxE3FNaAU7A/2W9PzeJ3uD8cSd6A6krAP1+JdWqaVcQ/HebU9PBayD+E9pxZ31nMP/IX8UCsKNA/ZQ17pigg0j8JNVZr4BLUP9i7hF5QANY/WOmjsvbn1z8vWxEgU8nZP8a5qQbno9s/lQUYjzV33T/ouazLw0LfP8EQWmwMg+A/xK0h/l5g4T+C2bliHzniP/kIgpUUDeM/dUCs1Abc4z+r5+evv6XkP2rWsxYKauU/XdVTZrIo5j//5mV3huHmP/DFE6tVlOc/JyDd9/BA6D/XMff1KufoP5V+PuvXhuk/lIS31s0f6j8lY5t75LHqP5GM7Wv1POs/YrqXEtzA6z9Oewm9dT3sP+TSWKShsuw/AoTh9UAg7T/KwWDbNobtP7gki4Jo5O0/T+UaJL067j/4gFQKHonuP0kSAJd2z+4/WsrVSLQN7z/aHVzAxkPvPzVeNsSfce8/mZziRDOX7z/12uVfd7TvP0i1ZWJkye8/LdQuy/TV7z8goCdMJdrvPwAAAAAAAAAAHkyt3ZJGoD/29JPXbkSwP8v4R8RMYbg/7suXb+A7wD+bHTZB1ULEPy7tpKN1RMg/3dx2yrM/zD/SFJLLwRnQP5pEyW9tD9I/17EM2lgA1D8Z/3dSAezVP0ipeYPl0dc/Zr7Ym4Wx2T8FbFRwY4rbP0CN1JwCXN0/E30ipegl3z+9yJCKznPgP8piP9BUUOE/cp7nIE0o4j8KuIqsfvviP+990uSxyeM/q5qui7CS5D+UaZnBRVblP/iUgBM+FOY/QdVNiGfM5j+gQQyukX7nP+G8pqaNKug/XyQ8NC7Q6D+sAgbFR2/pP5ikzn6wB+o/rIzzSUCZ6j/AX/Hb0CPrP16EdsE9p+s/rM75Z2Qj7D8vs9ImJJjsP8eb0EdeBe0/oBxPD/Zq7T+06MTD0MjtPy2Jy7TVHu4//v2dQe5s7j96kgzfBbPuP/dU5BwK8e4/mcXIquom7z+vdX5cmVTvP4B2pS0Keu8/mpziRDOX7z+rwnb2DKzvP3RdQ8aRuO8/7dg7ab687z8AAAAAAAAAAJbER9c2M6A/yWcKXRUxsD/5HHTpTES4P+XQeyKRKMA/uy/HqLsqxD9cFNgWmCfIP08gLOEZHsw/FpsTFJsG0D9EuSP/8fnRP6oO61aO6NM/SJ8B/+3R1T8m1Kw7kLXXPx66vNP1ktk/4ZEDMqFp2z+C416GFjndP9FkSebbAN8/kZB2tjxg4D9ruVatvDvhP1FBEBq0EuI/ZxM4cOrk4j9BEo1jKLLjP9b/g/Y3euQ/OVl7iOQ85T95aZPj+vnlP5fvJkpJseY/M8zgg59i5z/XRWvqzg3oP7eNtXWqsug/YUrMxwZR6T/ECkI4uujpPzOhJN+ceeo/eIR8n4gD6z8NdFMxWYbrPzy8PyvsAew/kZdxCyF27D/KS0BA2eLsP7LCNDD4R+0/FIGPQWOl7T9jAUjhAfvtP6+ag4m9SO4/qkCCx4GO7j+7jf9APMzuP8usBrncAe8/4903FFUv7z+vdX5cmVTvPzZeNsSfce8/xUTAqGCG7z9rx4OU1pLvP8caX0D+lu8/AAAAAAAAAAB1g2fclxugP00KhH15GbA/yBC63eoguD9KcumtARHAP6THHfhTDcQ/3WJO5l8EyD+sbYh0GvXLPzFpT0h63s8/JWU1+7vf0T+0phgkh8vTP7fjH0AdstU/HLBET/6S1z+gp9fRq23ZP5sxx+moQds/cWl4e3oO3T+ShylOp9PePxaj6hVcSOA/GG9HAJwi4T9fLqf8WfjhP4ibEtFdyeI/UJXpgXCV4z/N0FlgXFzkP7z/fRjtHeU/2bMhv+/Z5T9qYCbfMpDmP8/zhYaGQOc/B53vUrzq5z/Za/t9p47oP8+V8egcLOk//EYiKPPC6T+PAsuNAlPqP361hjQl3Oo/WLxFCTde6z/vPMvUFdnrP9lUrUShTOw/eb7V87q47D8/sIByRh3tP2Dbt00peu0/lpJHFkvP7T8PRCxnlRzuP+6VduvzYe4/gJikY1Sf7j8Epm6qptTuP8qsBrncAe8/mMXIquom7z/aHVzAxkPvP/ZiQ2JpWO8/GALcIs1k7z/otcu/7mjvPwAAAAAAAAAADKCAR3j/nz9z1cbdQvuvP+nR4u8v97c/SP79iHDqvz9rpXDrperDP/YgzlXW2sc/watxTcDEyz/KAcxCXKfPPwmiHEnSwNE/NDpq5Eqp0z+Kt1t0l4zVPzG3StY4atc/midPZbFB2T8yf0wbhRLbP6zVkbE53Nw/zkoEwVae3j9QouXwMizgPwsYO2X5BOE/T8lJt0XZ4T9IsFgO4KjiPxVa382Rc+M/NZXjoyU55D9vKwCXZ/nkP672EBQltOU/ELiA+yxp5j8/MTWuTxjnP9AZFhpfwec/IaUrxi5k6D91aFHekwDpP5uNej5lluk/R1uEfXsl6j9uOpT3sK3qP2N+/tfhLus/81SzIuyo6z/aYy+9rxvsP0257XYOh+w/KddYEezq7D/AwThHLkftPw0enNO8m+0/1Y06eIHo7T/km04DaC3uPzmu5VReau4/gJikY1Sf7j+6jf9APMzuP/ZU5BwK8e4/WsrVSLQN7z8u23c6MyLvP3RRi42BLu8/aelYBZwy7z8AAAAAAAAAAP2jvgJWv58/PN99CCm7rz85WCcaJ8e3Pys48Wp4qr8/dFgvorrCwz9P7pNSBqvHPxW1ESQYjcs/ooZbl+pnzz/z1ZoKPZ3RP9+yX5nigdM/rg2VemZh1T8HL2aKSjvXP8OOvx8SD9k/rMsZLULc2j+PYNhgYaLcP7qSM0X4YN4/W5rSr8gL4D+H/Oen3OLgP/SZ7HZ/teE/3IcWtHmD4j8tsFIwlUzjP7a0hQSdEOQ/J4x2n13P5D+mL1/TpIjlP4LHH+NBPOY/Et4QjwXq5j9YOXEhwpHnP20WbHpLM+g/7Zy0G3fO6D/BfLMzHGPpP3rFQ6gT8ek/KyT8IDh46j8N0wERZvjqP0ylYsB7ces/abnzVFnj6z+IfLLa4E3sP9DKpUv2sOw/1hk9l38M7T8BvSupZGDtP+J1vm+PrO0/H6ap4evw7T/lm04DaC3uP++VduvzYe4/q0CCx4GO7j96kgzfBbPuP0oSAJd2z+4/2LgddMzj7j9/wvQcAvDuPwDtSlsU9O4/AAAAAAAAAABuHnvJ2XafP/ss51e2cq8/4FVN/9yQtz/aCojVK2K/P/fkm5yclcM/k+xycPx0xz8wyX2cME7LPy9fe/Y1IM8/JtTwmwV10T9tqcWgWFXTP1wqaq+VMNU/PuUJxD8G1z8Y0zBS29XYPyBwS2Xunto/uYi7wABh3D93Snn/mxvePyZHOLNLzt8/QxyEwU684D8Uu7SkEI3hP9iZ5pg0WeI/feK86oQg4z8ep+UrzeLjP+245EDan+Q/+1yFbnpX5T+nVe9mfQnmP5vPW1a0teY/rdpm7/Fb5z8kMfp2CvznP7gqzs/Tleg/y9R9hSUp6T+kRSvX2LXpPxZescHIO+o/FktgCdK66j9/N0JD0zLrP/u95d2so+s/6cqrKUEN7D81v5ZgdG/sPw7GmK0syuw/qnFfM1Id7T9K1ZoSz2jtP+F1vm+PrO0/1Y06eIHo7T8PRCxnlRzuP66ag4m9SO4//f2dQe5s7j/4gFQKHonuP5r5fHlFne4/Y1TdQV+p7j+Um5A0aK3uPwAAAAAAAAAA/LUPrRYmnz+6W9ra/SGvPyBJVOdfVLc/pueTzZ0Rvz+LmQe5V2PDP9q/hebGOMc/r5bcQhoIyz/a6gM9UdDOPxGDaJE2SNE/o0v7sbgj0z/+gDrqMfrUP23ONHcmy9Y/m8aVCRyW2D8nkNLlmVraPwla7AMpGNw/Jj3ALlTO3T9HTtwiqHzfPyDiaNZZkeA/KBx+4wNg4T+0FVvbGyriP8qQeZRs7+I/tOYbJ8Kv4z/0d/T66WrkP+/edNSyIOU/FGXB4ezQ5T9DUkXHaXvmP2bH5Kv8H+c/+e7IRHq+5z8CacPguFboP5zzRXOQ6Og/aG3rntpz6T+ObI+/cvjpP4vC8fM1duo/xGPjJgPt6j8CSfoXu1zrP6cAymNAxes/Ksaei3cm7D8KF7n8RoDsP1neBxeX0uw/qnFfM1Id7T8AvSupZGDtPw0enNO8m+0/lpJHFkvP7T9iAUjhAfvtPyyJy7TVHu4/T+UaJL067j+EHBTYsE7uP7DSGJGrWu4/xrtvKKpe7j8AAAAAAAAAAAqZOewhzZ4/QkBJzRTJrj+kv7O7vxG3P15x24PjuL4/tM6zMPkrwz+oQ3GLdfbGP4XhC4fnuso/oj0yb1F4zj/qbIy02xbRP6Ra3doP7dI/te/FeUm+1D9bYsYvDorWP3yL1grlT9g/hrA2qFYP2j+URNdT7cfbP9pdTyc1ed0/QLpZKLwi3z8JJ2gzCWLgP8E8Dw1lLuE/GhMR3zv24T/sGboXWbniP59hiGOJd+M/twysupow5D8NgDBuXOTkP4vbyjSfkuU/4FxKNzU75j+OZqcc8t3mP0b/rRWreuc/3bdA6DYR6D+gATH6baHoP4YaqlsqK+k/3NEr0Ueu6T8/hRLdoyrqPw3UqcgdoOo/cqbHrJYO6z9BRO158XXrP31Y7P8S1us/dN4N9eEu7D8KF7n8RoDsPw/GmK0syuw/1hk9l38M7T/BwThHLkftP2Hbt00peu0/FIGPQWOl7T+06MTD0MjtP7kki4Jo5O0/Zb62OyP47T/og6a++wPuP80Joe3uB+4/AAAAAAAAAACJyoLtEmyePxDwqZISaK4/XsgrAw7Jtj9ndYdPFFi+P8liV5SP78I/YPA50Rmuxj+b6sa3rGbKP37QILNNGM4/YvYNAQLh0D/7EFd8bLHSPwA8aSDsfNQ/wqxnDQhD1j9FTGfOSAPYP+k/23g4vdk/VrSZy2Jw2z+uwXBNVRzdP6NdQ2ufwN4/wTfTSmku4D/6HfsuQfjgP/hAbkmiveE/7+Mfrlh+4j/uP0qrMTrjP7hpxNb78OM/UgkCG4ei5D/Yd7nDpE7lP9bvLIon9eU/vpQToeOV5j9zLx/ArjDnP+KXGy9gxec/x96k0NBT6D8TZnEs29voPzQzLXlbXek/X+PjpS/Y6T/qx/ZiN0zqP03PnCpUueo/Rv7pSGkf6z+MXFzjW37rP3xY7P8S1us/Ksaei3cm7D81v5ZgdG/sP8/KpUv2sOw/KddYEezq7D8/sIByRh3tP7HCNDD4R+0/nxxPD/Zq7T/KwWDbNobtPxuMHWmzme0/gfU+mGal7T8ITN1UTantPwAAAAAAAAAAGUcaOQMDnj++tc+vEP+tP8utKN1derY/lRz/p0nvvT9d3EnIKq7CP74JrcDGX8Y/Wt9O/X8Lyj++mbBKX7DNP1AMW6G3ptA/v9eZRt5w0j8KzvgPKzbUP+olCr8m9tU/MGFse1uw1z8WUMrxVGTZPwS9dHKgEds/ILSND8233D/vdr26a1beP4ZLaWIP7d8/+Dsyh6a94D/P7gn+XYDhP/tm/tx6PuI/COxbIcv34j+KPKALHqzjP4RhTSxEW+Q/nR1kcA8F5T+3r4ItU6nlP7q4pC3kR+Y/XC2Bupjg5j9dVoOoSHPnP1f8W2HN/+c/dvcn7gGG6D+WdykBwwXpP+J1Ef/ufuk/nt7WB2bx6T/AHxn/CV3qP5bnC5S+weo/Rv7pSGkf6z9BRO158XXrP6gAymNAxes/6sqrKUEN7D+IfLLa4E3sP0657XYOh+w/er7V87q47D/KS0BA2eLsP8eb0EdeBe0/A4Th9UAg7T/m+Og3ejPtPz1UVP8EP+0/NuHcQt5C7T8AAAAAAAAAAPWgHHIOkp0/Eo80xCqOrT8WL7v8wyW2PyHxNB6ffr0/PjVVANxnwj9Zy170kAvGP+G4llN5qck/eyfkjKFAzT87LuTqC2jQP1/J/DR2K9I/qcE65Rjq0z93gv19fqPVP7opbeIyV9c/S94FdcME2T/gT741v6vaP0Vywd+2S9w/AqKzBj3k3T9ef3sz5nTfP5h2Q4CkfuA/+mHCGn8+4T/o9kVx0PnhP5ZjVD1nsOI/1OPkdhNi4z/VUAJhpg7kP2OZFpbyteQ/gebbE8xX5T9TSPBGCPTlP6XfCBZ+iuY/0JHB7AUb5z8MbwbGeaXnP9kNFDa1Keg/IzoMdJWn6D/Xchxj+R7pP7bNM5vBj+k/6fZFcdD56T+/Hxn/CV3qP03PnCpUueo/cabHrJYO6z8CSfoXu1zrP/u95d2so+s/aLnzVFnj6z/aYy+9rxvsP9lUrUShTOw/kJdxCyF27D8us9ImJJjsP+TSWKShsuw/JEwYjJLF7D+b5Ibi8dDsP3Fcy6m81Ow/AAAAAAAAAAAN105PUhmdP+f4tIJ+Fa0/3oomo1bLtT/+fGZVMga9P4pnL7u1HMI/YuQ+k46xxT97E/SDskDJP5p7rt4xycw/zNATWg8l0D8mGIWJRuHRP8x9AaPJmNM/esWdCCVL1T+S/5Z35vfWP4UpYSadntg/jJNS4tk+2j/DPeQsL9jbP7N6f1gxat0/rUPRpHb03j+x5U2tSzvgP7F+f/MW+OA/ll4Ye2uw4T+07s7GGGTiP+J3tpLvEuM/tBuu4MG84z+5GXoEY2HkPwAyhK+nAOU/aw1A/GWa5T/JrDB5dS7mP1T4izOvvOY/U6N5we1E5z+4sepLDcfnPxkJB5jrQug/+ZEuEGi46D8gi4vMYyfpP7fNM5vBj+k/nt7WB2bx6T/rx/ZiN0zqPw3UqcgdoOo/xWPjJgPt6j+AN0JD0zLrP0ylYsB7ces/9FSzIuyo6z/wPMvUFdnrPzy8PyvsAew/rM75Z2Qj7D9Pewm9dT3sP5m+9k4ZUOw/WVSPNkpb7D//5zCCBV/sPwAAAAAAAAAA21BNk+6YnD8w8r+pK5WsP1zKBZota7U/02hQ+yKGvD+h7Zy9y8zBP62vxErXUcU/G6dWHkfRyD+XjTerL0rMP21P8Bunu88/OoUYyGKS0T/2G+isUkLTP+f6mpwx7dQ/RMWRTI+S1j/UtOPk/DHYP2gXhx0Ny9k/+5sQW1Rd2z9s3wHLaOjcP7fGn3/ia94/3lNJi1vn3z9M4qMNOK3gP312CElfYuE/4XJ60PMS4j+UJpgwx77iP8ZALjasZeM/ULQb+nYH5D+kQN7s/KPkP3SWxOEUO+U/GybDGZfM5T9LvuhNXVjmPwA7cLlC3uY/kp5sIyRe5z+NCQ3o39fnP2QhdgFWS+g/+JEuEGi46D/Xchxj+R7pP+J1Ef/ufuk/X+PjpS/Y6T8+hRLdoyrqP4vC8fM1duo/FktgCdK66j8M0wERZvjqP2N+/tfhLus/WLxFCTde6z8MdFMxWYbrP12EdsE9p+s/YrqXEtzA6z+Eg4BnLdPrP/3BoO4s3us/QExTw9fh6z8AAAAAAAAAAFUNMQQFEZw/PUT9+lMNrD8M1wktYgW1P6Io2b+S/rs/i3w9DTN4wT9bsLRIhOzEP8opCHJUW8g/7nqYW7zDyz9x9kCH1iTPP4crW7HfPtE/VAKywcrm0j/AG9zwvInUPyiw5wlIJ9Y/KLO3Q/++1z9CvaFdd1DZPxK5pLtG29o//ecwggVf3D+e73mxTdvdP+6/S0C7T98/u6EtG/Zd4D+Y9gVjwA/hP1yu0bINveE/xjvyc7Bl4j8wvwVKfAnjP7Bnkh5GqOM/xBhcLORB5D9SWWEKLtbkP/enfLb8ZOU/x2innyru5T+Luduvk3HmP9WSklUV7+Y/3LbbjI5m5z+OCQ3o39fnPxkJB5jrQug/JDoMdJWn6D+WdykBwwXpPzUzLXlbXek/3dEr0Ueu6T+PbI+/cvjpPxdescHIO+o/KyT8IDh46j9vOpT3sK3qP3+1hjQl3Oo/eIR8n4gD6z/AX/Hb0CPrP5KM7Wv1POs/xr1Bsu9O6z9re0T0ulnrP/ubEFtUXes/AAAAAAAAAAChN61iuYGbP5NCbDIbfqs/ZABSIw+atD9RZzRMpW+7PwlXBOsBH8E/qPaANLCBxD8vhPaF+d7HP6OSEU77Ncs/joJeotSFzj9U+Dk90+bQP1IrT/VJhtI/lbf+LuEg1D+jCQLoLLbVP5e4pYLCRdc/0lTV4TjP2D9GCcKEKFLaP0LJHKIrzts/NeHcQt5C3T8134tc3q/eP0L0h/VlCuA/mtn2hKS44D98v30GfWLhP/lGP8zCB+I/sGJWXEqo4j+kI0Z86UPjP1+AFTx32uM/RioUAcxr5D//m0WQwffkPzajbxgzfuU/ncDJO/3+5T/U0UoZ/nnmP9WSklUV7+Y/k55sIyRe5z+4sepLDcfnP9oNFDa1Keg/dvcn7gGG6D8UZnEs29voP4YaqlsqK+k/aW3rntpz6T+lRSvX2LXpP3rFQ6gT8ek/SFuEfXsl6j+QAsuNAlPqPzOhJN+ceeo/rYzzSUCZ6j8mY5t75LHqP3mEsfiCw+o/xJexHhfO6j+WqjUlntHqPwAAAAAAAAAA03enYDHrmj9cWP38pueqP46xYLhQKbQ/14WBOYDZuj/FrV3NT8HAP94qRih3EcQ/g1+KEFdcxz/Pi7zMEaHKP9mMREHL3s0/EkEjlVSK0D+VrYaq6SDSPzUZdey5stM/BMC8p1s/1T9Oqx+GZsbWP5sExqlzR9g/A2VNyB3C2T98Am5FATbbP9q4Lk28otw/zAmh7e4H3j/0Th4wO2XfPye9/5giXeA/N3JknlkD4T9n5uHuFqXhP26rf/4vQuI/X3vZeXva4j8nNf5Q0W3jPwvD+cEK/OM/hyUHYwKF5D/U82cslAjlP4G73oGdhuU/ncDJO/3+5T+Luduvk3HmPwE7cLlC3uY/U6N5we1E5z8NbwbGeaXnP1f8W2HN/+c/yN6k0NBT6D+gATH6baHoP53zRXOQ6Og/zNR9hSUp6T/BfLMzHGPpP5yNej5lluk//UYiKPPC6T/FCkI4uujpP5ikzn6wB+o/lYS31s0f6j8kPQvoCzHqP6WzoilmO+o/jZNS4tk+6j8AAAAAAAAAABl5TZeUTZo/cdyo7h5Kqj+gMa6URLOzP8el5wZLPLo/vpYCWjVfwD+gFmep9pvDP38yDG+P08Y/uFm9AycFyj9ki6RU5i/NP6777g18KdA/9S5JjMS20T8DtkQjZD/TP9+6korzwtQ/CQzdzgxB1j9/u5dsS7nXP9L9cWpMK9k/mVRfc66W2j8TKzLwEfvbP5gowSAZWN0/lJuQNGit3j8tgPlipfrfPxHkY4G8n+A/rNak0MY94T8W/2QMSNfhP++8N9MXbOI/C769/w784j9mMPGyB4fjP+EaHF7dDOQ/0D12zGyN5D/U82cslAjlPzajbxgzfuU/x2innyru5T9MvuhNXVjmP1T4izOvvOY/0ZHB7AUb5z9dVoOoSHPnP+OXGy9gxec/3rdA6DYR6D8DacPguFboP7gqzs/Tleg/7Zy0G3fO6D92aFHekwDpP9CV8egcLOk/YUrMxwZR6T+sAgbFR2/pP5Z+PuvXhuk/v7OoB7GX6T/sOKyrzqHpP7O8Dy4upek/AAAAAAAAAAARQap8DKmZP3DHBXispak/cWLbxQk4sz9H2TEPL5i5P3p3+r6Y8b8/YJ7IoE0hwz/VEJqcxkTGPxIy9PZjYsk/OcRW3lN5zD8qZ/BCxojPPxwErYb2R9E/ntBmKv7G0j8HAmVKFUHUPxDLCnHYtdU/PwWJj+Uk1z8Wq6kX3I3YP2cmNhVd8Nk/V8TxRgtM2z/avCE3i6DcP9FZnFOD7d0/aOlYBZwy3z+KJL3jvzfgP8D85p7t0eA/Lehcpa5n4T/BQUmS2/jhPy+4KjVOheI/3xXgm+EM4z+wSGAcco/jP+AaHF7dDOQ/hiUHYwKF5D//m0WQwffkP/anfLb8ZOU/GybDGZfM5T/IrDB5dS7mP6XfCBZ+iuY/Wy2Bupjg5j9zLx/ArjDnP0b/rRWreuc/+e7IRHq+5z8kMfp2CvznP2wWbHpLM+g/IaUrxi5k6D/Za/t9p47oP7aNtXWqsug/XiQ8NC7Q6D/XMff1KufoP156366a9+g/zbwVDHkB6T9L3gV1wwTpPwAAAAAAAAAAyRW+WMT9mD/5CGPbevqoP1+LhrbAt7I/JjTufVftuD+H6L2cXxy/P/M1sFKcocI/9J2wKCKwxT9WezN387jIP9gNQOVDu8s/F9XSz0i2zj8/1ZW/nNTQPyBQza2nSdI/0ODeEOO50z8++xAL7iTVP6e6HBxpitY/1S1NOvbp1z/TGjzrOEPZPy+4JVzWldo/kPXMeXXh2z+vCuoHvyXdP7oiHbhdYt4/xRpfQP6W3z8NNnW4p2HgP2w/yySB8+A/bONPB+WA4T+WmWsurgniP3jQmZ64jeI/4BXgm+EM4z9mMPGyB4fjPwvD+cEK/OM/RioUAcxr5D9SWWEKLtbkP3WWxOEUO+U/aw1A/GWa5T9USPBGCPTlP7q4pC3kR+Y/v5QToeOV5j+OZqcc8t3mP2fH5Kv8H+c/rtpm7/Fb5z9YOXEhwpHnP9EZFhpfwec/CJ3vUrzq5z/XRWvqzg3oP+G8pqaNKug/KCDd9/BA6D/lOmT68lDoP74fOXiPWug/6Lwb6sNd6D8AAAAAAAAAAOXQGzrpS5g/MlpmIbdIqD8yVsQlizKyP6GaEkTxO7g/kChUZPc+vj/Z80ZWBB3CP3agSS3JFcU/unn8FgIJyD80jK9o6PXKPy1ReyG3280/kLYJj9Vc0D9w5Q2mgcfRP1hJeW6ALdM/aNDwu3OO1D/WI9W1/unVP2Yqr+/FP9c/nb88gW+P2D8OTBceo9jZPwQG7iwKG9s/er5N3k9W3D8OPPBCIYrdP75FjWEttt4/IaAnTCXa3z9NMWga3nrgP0GX7cBTBOE/t/u+cE+J4T+WmWsurgniPy+4KjVOheI/C769/w784j8nNf5Q0W3jP1+AFTx32uM/xBhcLORB5D+lQN7s/KPkPwAyhK+nAOU/gubbE8xX5T+3r4ItU6nlP9fvLIon9eU/4FxKNzU75j9EUkXHaXvmP5zPW1a0teY/E94QjwXq5j9AMTWuTxjnP9DzhYaGQOc/NMzgg59i5z+hQQyukX7nP/HFE6tVlOc/iMU2weWj5z8BO2rYPa3nPzFhbHtbsOc/AAAAAAAAAACdng7qqZOXP9yLMw2QkKc/Wzw/HoyosT+eSioMK4S3P8mZ4lOaWb0/zH7DjKiTwT+gz5JE5HXEP1OxxR6+Usc/D703U3Upyj89JPC2SvnMP5Fxa+6Awc8/x6+1T65A0T8I1R9REpzSP+9xPRmR8tM/J0CDj9BD1T+etcT8d4/WP59biiIw1dc/cw0FUqMU2T/2FJiCfU3aP2M39Gdsf9s/f+G9hx+q3D9nwbhOSM3dP0A8cyWa6N4/y09shMr73z+XSdeDSIPgP0KX7cBTBOE/beNPB+WA4T/DQUmS2/jhP/C8N9MXbOI/X3vZeXva4j+lI0Z86UPjP7Fnkh5GqOM/UbQb+nYH5D+6GXoEY2HkP2SZFpbyteQ/nh1kcA8F5T/Zd7nDpE7lP4zbyjSfkuU/FWXB4ezQ5T+pVe9mfQnmP4PHH+NBPOY/EriA+yxp5j9sYCbfMpDmP5nvJkpJseY/Q9VNiGfM5j8B52V3huHmPwzGGYmg8OY/+wZqxLH55j8ZubjGt/zmPwAAAAAAAAAA1EZL4DbVlj/QbR8QNtKmP1m6/+znGbE/hDsPLjXGtj+gH13BhGy8P6woPRitBcE/qY8/fp3Qwz/zEs6AV5bGP1pJBm0gVsk/ct0nID8PzD+rFkg4/MDOP1+oRyJRtdA/Xth5+r4F0j/HRLIkb1HTP7cDLWAKmNQ/YHFewjrZ1T9xA43NqxTXP4gkC4cKStg/0D4LjQV52T/7NwgsTaHaP7y8vHOTwts//tejS4zc3D8Scf2G7e7dP9NsUfhu+d4/yk9shMr73z9NMWga3nrgP2w/yySB8+A/Luhcpa5n4T8W/2QMSNfhP26rf/4vQuI/sGJWXEqo4j8wvwVKfAnjP8dALjasZeM/tBuu4MG84z/WUAJhpg7kP4RhTSxEW+Q/UwkCG4ei5D8NgDBuXOTkP/DedNSyIOU//FyFbnpX5T+mL1/TpIjlP6/2EBQltOU/2rMhv+/Z5T96aZPj+vnlP/iUgBM+FOY/XtVTZrIo5j9zKJl6UjfmPyREaHcaQOY/xKxnDQhD5j8AAAAAAAAAAAU9MDbCEJY/P4zxPNsNpj8Rtt8XxIawP16PMqJBArY/D/OmCvV3uz+uoCpSN3PAPwBseFQgJsM/sCeAzP/TxT9WM75NIXzIP8o7Xu7RHcs/obxLdmC4zT/sM+jGjiXQPx4Y2vWtatE/JmppQTir0j8Ado1X2ebTP4tR9TA+HdU/SDrfJhVO1j/PNJMIDnnXP4xHezDandg/KcTTmCy82T97Lu7vudPaP2ZsAaw45Ns/kwiCHmHt3D8Scf2G7e7dPz88cyWa6N4/IaAnTCXa3z8NNnW4p2HgP8D85p7t0eA/rNak0MY94T9n5uHuFqXhP/lGP8zCB+I/xjvyc7Bl4j+VJpgwx77iP+J3tpLvEuM/1ePkdhNi4z+KPKALHqzjP7lpxNb78OM/twysupow5D/1d/T66WrkP+645EDan+Q/J4x2n13P5D9wKwCXZ/nkP73/fRjtHeU/OVl7iOQ85T+VaZnBRVblP2vWsxYKauU/dlOiVCx45T89zpbDqIDlPy/PFyh9g+U/AAAAAAAAAACs0ZeZf0aVP9UcuDqzQ6U/SDZXp47erz+ebXf0gzi1PxexKoUrfLo/uXkdg9u4vz+2OGugmXbCP2KMaCHqC8U/HxrYTbGbxz+FEuKjQiXKP/iM5kPzp8w/HZxwHRojzz+0xdcNCMvQP1hJtSgYANI/+7cxEmww0z/pPg68s1vUP+iC+2uggdU/TF1P0OSh1j8pulsUNbzXPww+YfRG0Ng/1HMY0dHd2T8PX8zCjuTaP2dsAaw45Ns//9ejS4zc3D9owbhOSM3dP8BFjWEttt4/xxpfQP6W3z+MJL3jvzfgPxLkY4G8n+A/OHJknlkD4T99v30GfWLhP12u0bINveE/43J60PMS4j+17s7GGGTiP5hjVD1nsOI/CexbIcv34j/vP0qrMTrjP6FhiGOJd+M/tuYbJ8Kv4z8gp+UrzeLjP7e0hQSdEOQ/NpXjoyU55D/P0FlgXFzkP9j/g/Y3euQ/rJqui7CS5D+t5+evv6XkPzV8sV9gs+Q/gd5RBY+75D+278V5Sb7kPwAAAAAAAAAApfw/P6R2lD/ekjE383OkP+2L5/Myp64/3ryjNjFptD9F9O1sanm5PyfhqyHwgr4/P91+jjfCwT8kK8MhSz7EP5BrjHcLtcY/TGtgo9IlyT8B8gZL/I/LP4awxdHl8s0/SH+TQfcm0D+JE6DeO1DRP0ASNo3ydNI/WOk3Tc6U0z/sYX5lg6/UP0EIxHfHxNU/y1M1lFHU1j/SaaBM2t3XP6BuP8cb4dg/03MY0dHd2T97Lu7vudPaP728vHOTwts/fuG9hx+q3D8OPPBCIYrdP7oiHbhdYt4/aulYBZwy3z8ugPlipfrfPye9/5giXeA/mtn2hKS44D+Y9gVjwA/hP352CElfYuE/ll4Ye2uw4T/p9kVx0PnhP/tm/tx6PuI/8OMfrlh+4j/tGboXWbniP8uQeZRs7+I/fuK86oQg4z8usFIwlUzjPxZa382Rc+M/UZXpgXCV4z9BEo1jKLLjP+990uSxyeM/dkCs1Abc4z+3cpdgIunjP62d4BUB8eM/0u2L4qDz4z8AAAAAAAAAABJUy9RmoZM/am3P2NGeoz9S1iH9xmetP55MavJ/lLM/7Owk0/VvuD8LNc4G/kS9PwLjLZIpCcE/bbyi5Fhrwz9RfEt3bMjFPwxLsR7FH8g/244/McVwyj9zVL2w0LrMPy9MVnNN/c4/MEgUptGb0D/mRKYZnrTRP0M1pjbCyNI/sG4AWfXX0z9rWGQp8OHUP+u3CLBs5tU/X4QTZybl1j/SaaBM2t3XPws+YfRG0Ng/KcTTmCy82T/7NwgsTaHaP2I39Gdsf9s/er5N3k9W3D+vCuoHvyXdP9JZnFOD7d0/lJuQNGit3j/0Th4wO2XfP0P0h/VlCuA/u6EtG/Zd4D9N4qMNOK3gP7F+f/MW+OA/+2HCGn8+4T/Q7gn+XYDhP/lAbkmiveE/GxMR3zv24T+1FVvbGyriP9mZ5pg0WeI/3YcWtHmD4j9JsFgO4KjiP4mbEtFdyeI/aBM4cOrk4j8KuIqsfvviP/oIgpUUDeM/7mHbiqcZ4z8JgtE9NCHjP6RL+7G4I+M/AAAAAAAAAAAy3l5y/8aSP33tVTCHxKI/unq8yZ4grD84GxIbqLqyP2KNSowTYLc/y9HU1Vj/uz+0+YpZoEvAPy80tudKk8I/6ZvHixLWxD/hnyoFXxPHP3+tZ4SZSsk/hCrQ0ix7yz9E5r55haTNP+uuYukRxs8/NGuET6Hv0D8/ym4lxffRP8IrjPou+9I/Wh5FkZr50z//iEL8xPLUP+u3CLBs5tU/y1M1lFHU1j8oulsUNbzXP4xHezDandg/0D4LjQV52T/2FJiCfU3aPwUG7iwKG9s/kPXMeXXh2z/cvCE3i6DcP5gowSAZWN0/zQmh7e4H3j8134tc3q/eP+6/S0C7T98/4FNJi1vn3z+x5U2tSzvgP5l2Q4CkfuA/+Dsyh6a94D/7HfsuQfjgP8E8Dw1lLuE/KRx+4wNg4T8Vu7SkEI3hP/SZ7HZ/teE/UMlJt0XZ4T9gLqf8WfjhP1JBEBq0EuI/c57nIE0o4j+D2bliHzniP0wYvHImReI/5Q/2Jl9M4j9AFheZx07iPwAAAAAAAAAA6Ybgi6fnkT9ofByqTOWhP5xNWGkQ0qo/I36+/uLbsT8VAMIdC0q2P8FLkjhWsro/JnTlgJsTvz8w2a8AWrbBP79XlXU93sM/XP598eYAxj+KO7umxh3IP1A/aU1ONMo/QI3cSPFDzD9OLJ/MJEzOP8/ceQAwJtA/tGFqEw4i0T/pebNdahnSP1dcas0DDNM/Wh5FkZr50z9rWGQp8OHUP0EIxHfHxNU/TF1P0OSh1j/QNJMIDnnXP4gkC4cKStg/cg0FUqMU2T8OTBceo9jZPzC4JVzWldo/WcTxRgtM2z8UKzLwEfvbP9u4Lk28otw/NuHcQt5C3T+e73mxTdvdP7nGn3/ia94/rkPRpHb03j9ff3sz5nTfP4dLaWIP7d8/wjfTSmku4D8JJ2gzCWLgPyHiaNZZkeA/RByEwU684D+H/Oen3OLgPwwYO2X5BOE/GW9HAJwi4T9ruVatvDvhP8tiP9BUUOE/xa0h/l5g4T97h9T+1mvhP4OsAc65cuE/J9TwmwV14T8AAAAAAAAAAKEa2uGZA5E/lKPy/lwBoT/0/dzdc3ypP6wLXDdr+LA/gDwGqyUutT9yotLITV65P7sK3IbJh70/o91RTsDUwD+kO2ZmLuHCP2nzJRel6MQ/L5B/upvqxj9Hnscci+bIP1qFSaDt28o/9JdtYD/KzD9OGWtU/rDOP3mMvjjVR9A/SJJI5uIy0T/qebNdahnSP8QrjPou+9I/sW4AWfXX0z/tYX5lg6/UP+mC+2uggdU/STrfJhVO1j9zA43NqxTXP6BbiiIw1dc/n788gW+P2D/VGjzrOEPZP2smNhVd8Nk/m1Rfc66W2j9/Am5FATbbP0XJHKIrzts/AOgwggVf3D9w3wHLaOjcP7V6f1gxat0/BqKzBj3k3T/xdr26a1beP6ZdQ2ufwN4/Q7pZKLwi3z9LTtwiqHzfPypHOLNLzt8/XZrSr8gL4D9SouXwMizgPxij6hVcSOA/k5B2tjxg4D++yJCKznPgP8MQWmwMg+A//UFnWfKN4D+9S89zfZTgP8dC7AKsluA/AAAAAAAAAAA+wARyEhuQP9qOrST0GKA/TW1SBCMgqD9XPTabfBCwPwWubOKtDLQ/eftP+ZgDuD+Q6ZDkMvS7P57PSFJy3b8/S3ni7yffwT90zWcv48rDPyNWMo1pscU/NtZfDTuSxz/4qFg02WzJP1lyFSjHQMs/Rvf20IkNzT90eif6p9LOP3iMvjjVR9A/s2FqEw4i0T8/ym4lxffRP0M1pjbCyNI/WOk3Tc6U0z/nPg68s1vUP4tR9TA+HdU/X3FewjrZ1T+dtcT8d4/WP2Yqr+/FP9c/1S1NOvbp1z8Wq6kX3I3YP9L9cWpMK9k/A2VNyB3C2T9GCcKEKFLaPxG5pLtG29o//JsQW1Rd2z/DPeQsL9jbP0Zywd+2S9w/ILSND8233D+vwXBNVRzdP9pdTyc1ed0/Jz3ALlTO3T94Snn/mxveP7qSM0X4YN4/z0oEwVae3j+ThylOp9PeP9FkSebbAN8/E30ipegl3z/puazLw0LfPweqqcJlV98/f7CjHMlj3z+jhluX6mffPwAAAAAAAAAALAYCz5xcjj+yU8R8nlieP5ULPX15vaY/BbJzWqhIrj9P/H/p7+WyPyb1Kv6SorY/X8C8xEFZuj/iILInAgm+P6H5JfJt2MA/B9zuZeynwj9+E0iCgnLEP9Zgw6S3N8Y/NsMrlRT3xz9NCOKkI7DJP4HT0c1wYss/R/f20IkNzT9NGWtU/rDOP8/ceQAwJtA/NGuET6Hv0D/mRKYZnrTRP0ASNo3ydNI/+rcxEmww0z8Bdo1X2ebTP7cDLWAKmNQ/JkCDj9BD1T/WI9W1/unVP6i6HBxpitY/QQWJj+Uk1z+Au5dsS7nXP5wExqlzR9g/0lTV4TjP2D9DvaFdd1DZP2oXhx0Ny9k/jZNS4tk+2j/iT741v6vaPwW9dHKgEds/WLSZy2Jw2z+VRNdT7cfbPwta7AMpGNw/u4i7wABh3D+QYNhgYaLcP67VkbE53Nw/c2l4e3oO3T+D416GFjndP0GN1JwCXN0/lwUYjzV33T9w5oE1qIrdPzSZZnJVlt0/cttuMzqa3T8AAAAAAAAAAOkmfxUYe4w/ivyfGFl3nD+PboOU1FSlP4aJ0BlgaKw/ICD4SDm6sT82wey0mDu1P3gsTEFit7g/AOS/VqssvD9Z5soTi5q/P6o/BkUNgME/uuZ/fTouwz98ABQKXNfEPyrATBUCe8Y/XiToOr4YyD9NCOKkI7DJP1lyFSjHQMs/8pdtYD/KzD9NLJ/MJEzOP+quYukRxs8/MEgUptGb0D+JE6DeO1DRP1dJtSgYANI/JmppQTir0j/HRLIkb1HTP+5xPRmR8tM/aNDwu3OO1D8++xAL7iTVPxHLCnHYtdU/CAzdzgxB1j9Oqx+GZsbWP5e4pYLCRdc/KLO3Q/++1z/VtOPk/DHYP4UpYSadntg/TN4FdcME2T8WUMrxVGTZP+o/23g4vdk/hrA2qFYP2j8okNLlmVraPyFwS2Xunto/rMsZLULc2j8zf0wbhRLbP5wxx+moQds/4ZEDMqFp2z8FbFRwY4rbP8e5qQbno9s/wfTUPiW22z9iEU1MGcHbP8KrcU3AxNs/AAAAAAAAAADt8j1iFZKKP+McAreWjpo/OHzjKJPmoz/Q/P/LnoCqP6oJVdjYibA/dVcZjAjPsz/a5O9GAg+3P/HxZC3rSLo/FHCA/Ol7vT/gfXahk1PAP6os0szm5ME/D0YJ7oRxwz+mYdCvBfnEPy3ATBUCe8Y/OMMrlRT3xz/7qFg02WzJP1uFSaDt28o/Q43cSPFDzD9H5r55haTNPzJMVnNN/c4/SX+TQfcm0D+1xdcNCMvQPyAY2vWtatE/YNh5+r4F0j8K1R9REpzSP1pJeW6ALdM/0uDeEOO50z8KAmVKFUHUP+G6korzwtQ/B8C8p1s/1T+mCQLoLLbVPyuw5wlIJ9Y/SMWRTI+S1j+V/5Z35vfWP74pbeIyV9c/M2Fse1uw1z9ITGfOSAPYP3+L1grlT9g/n8aVCRyW2D8c0zBS29XYP8aOvx8SD9k/nidPZbFB2T+kp9fRq23ZPyG6vNP1ktk/ab7Ym4Wx2T8zWxEgU8nZP7zkdB1Y2tk/UwfgGZDk2T9VRytl+OfZPwAAAAAAAAAA2hKFWBWiiD9X9UXq156YP6+c/ZIVc6I/Aga9v+SRqD9wa0JSPaquP0stWGpCXbI/6xwyeJFgtT/pcLDsQF64P1MHh1yHVbs/EEoYDJ1Fvj8z3f8R3pbAP9GNjnKQBsI/DkYJ7oRxwz99ABQKXNfEP9dgw6S3N8Y/N9ZfDTuSxz9Gnscci+bIP1E/aU1ONMo/hSrQ0ix7yz90VL2w0LrMP4ewxdHl8s0/HJxwHRojzz/tM+jGjiXQP2CoRyJRtdA/x6+1T65A0T9x5Q2mgcfRPyBQza2nSdI/oNBmKv7G0j8EtkQjZD/TPzYZdey5stM/lrf+LuEg1D/BG9zwvInUP+n6mpwx7dQ/e8WdCCVL1T95gv19fqPVP+slCr8m9tU/xKxnDQhD1j9cYsYvDorWP2/ONHcmy9Y/QOUJxD8G1z8IL2aKSjvXPzO3StY4atc/HrBET/6S1z8n1Kw7kLXXP0mpeYPl0dc/Wumjsvbn1z/AbRz7vffXP6oaUzY3Adg/32JO5l8E2D8AAAAAAAAAAMf3TXKaq4Y/66U7G5+olj95hPyLvfqgP1ULQBm0nKY/SE3D47c4rD8y+zmVp+awP1+5GBCBrLM/UTJUpy1ttj/pSkj88ye5P//FmT0c3Ls/ZAyRV/CIvj813f8R3pbAP6ss0szm5ME/vOZ/fTouwz+AE0iCgnLEPydWMo1pscU/MJB/upvqxj+NO7umxh3IP4KtZ4SZSsk/344/McVwyj8F8gZL/I/LP/qM5kPzp8w/pbxLdmC4zT+vFkg4/MDOP5Rxa+6Awc8/krYJj9Vc0D9B1ZW/nNTQPx8ErYb2R9E/+C5JjMS20T+YrYaq6SDSP1QrT/VJhtI/VwKywcrm0j/6G+isUkLTP899AaPJmNM/rcE65Rjq0z8NzvgPKzbUPwQ8aSDsfNQ/uO/FeUm+1D8CgTrqMfrUP2Aqaq+VMNU/sQ2VemZh1T+Ot1t0l4zVP7vjH0AdstU/S58B/+3R1T8c/3dSAezVP9y7hF5QANY/TR+Cy9UO1j9RyYrHjRfWPwTuegd2GtY/AAAAAAAAAAD5OPLdKK+EP3kP2mZwrJQ/MYPAJ9z7nj+8ywKwkKGkP0CWcfHFv6k/amVELzXXrj+VEFzEQ/OxP1uTsB80drQ/9/BmiMLztj83DcFHR2u5P/zFmT0c3Ls/EUoYDJ1Fvj/gfXahk1PAP6s/BkUNgME/CNzuZeynwj91zWcv48rDP2jzJRel6MQ/Xf598eYAxj/inyoFXxPHPw1LsR7FH8g/TWtgo9IlyT+FEuKjQiXKP8s7Xu7RHcs/c90nID8PzD89JPC2SvnMPy9ReyG3280/GNXSz0i2zj8tZ/BCxojPP6/77g18KdA/E0EjlVSK0D9V+Dk90+bQP4grW7HfPtE/O4UYyGKS0T8nGIWJRuHRP2HJ/DR2K9I/wdeZRt5w0j/9EFd8bLHSP6Va3doP7dI/pUv7sbgj0z9vqcWgWFXTP+CyX5nigdM/NTpq5Eqp0z+2phgkh8vTP6sO61aO6NM/2LEM2lgA1D8LNVZr4BLUP2gX8yogINQ/ovKpnBQo1D++L8eouyrUPwAAAAAAAAAAMSdmW0atgj/H+X170aqSPwae5q4W+ps/iswR7P+goj/h44P7DUCnPw/BtU/+2Ks/tgw6p001sD8/z26l2HmyP65VKWuHubQ/+/BmiMLztj/sSkj88ye5P1gHh1yHVbs/F3CA/Ol7vT9g5soTi5q/P6T5JfJt2MA/T3ni7yffwT+nO2ZmLuHCP8NXlXU93sM/7ZvHixLWxD9WfEt3bMjFP5VrjHcLtcY/IxrYTbGbxz9bM75NIXzIP2BJBm0gVsk/FL03U3Upyj86jK9o6PXKP94NQOVDu8s/QcRW3lN5zD9qi6RU5i/NP+CMREHL3s0/loJeotSFzj949kCH1iTPP3ZP8Bunu88/0NATWg8l0D9ALuTqC2jQP1QMW6G3ptA/Z/YNAQLh0D/ubIy02xbRPxaDaJE2SNE/KtTwmwV10T/31ZoKPZ3RPw6iHEnSwNE/KmU1+7vf0T9IuSP/8fnRP59EyW9tD9I/ag17pigg0j9lCH48HyzSP9p9LwxOM9I/RffYMbM10j8AAAAAAAAAAJK6CRl6poA/IaK/dUmkkD+iD+Er9fCYPyVn9KKIm6A/UfdVSji6pD/dl7MadNOoP10+2xEo5qw/BM+y8qB4sD8+z26l2HmyP12TsB80drQ/UTJUpy1ttj/rcLDsQF64P/HxZC3rSLo/BOS/VqssvD/mILInAgm+P6PPSFJy3b8/pN1RTsDUwD8y2a8AWrbBPzE0tudKk8I/b7yi5Fhrwz8nK8MhSz7EP2SMaCHqC8U/syeAzP/TxT/2Es6AV5bGP1WxxR6+Usc/vnn8FgIJyD9aezN387jIPxcy9PZjYsk/vFm9AycFyj/Ti7zMEaHKP6eSEU77Ncs/8nqYW7zDyz+cjTerL0rMP557rt4xycw/gSfkjKFAzT/CmbBKX7DNP4TQILNNGM4/pz0yb1F4zj/g6gM9UdDOPzRfe/Y1IM8/poZbl+pnzz/QAcxCXKfPPzdpT0h63s8/GZsTFJsG0D/VFJLLwRnQP/UX8UCsKNA/13O3h1Yz0D8DDa3RvTnQP/HLl2/gO9A/AAAAAAAAAAAkOjIgmTZ9P0fmz3nBMo0/ZNLBDEThlT8zZWnoZSOdPx8bJMLuLqI/oHR7DGLHpT96HKWxGlqpP1o+2xEo5qw/sgw6p001sD+VEFzEQ/OxP125GBCBrLM/6hwyeJFgtT/Y5O9GAg+3P3ksTEFit7g/X8C8xEFZuj+R6ZDkMvS7P7oK3IbJh70/J3TlgJsTvz+0+YpZoEvAPwLjLZIpCcE/P91+jjfCwT+2OGugmXbCPwBseFQgJsM/qY8/fp3Qwz+gz5JE5HXEP3egSS3JFcU/9Z2wKCKwxT/WEJqcxkTGP38yDG+P08Y/hF+KEFdcxz8whPaF+d7HP8opCHJUW8g/HadWHkfRyD98E/SDskDJP+O4llN5qck/W99O/X8Lyj+d6sa3rGbKP4bhC4fnuso/sZbcQhoIyz8yyX2cME7LPxa1ESQYjcs/w6txTcDEyz+ubYh0GvXLP1EgLOEZHsw/3tx2yrM/zD+G9pxZ31nMPyY5QKyVbMw/3oM/1tF3zD+ERQLjkHvMPwAAAAAAAAAAdVeMwY4YeT+gfR2+QRWJP7pIcHnRy5I/YzohSxAImT/YX7RsuT2fP8SfFVmVtaI/pXR7DGLHpT/fl7MadNOoPxDBtU/+2Ks/cGVELzXXrj80+zmVp+awP08tWGpCXbI/eFcZjAjPsz87wey0mDu1Pyv1Kv6SorY/f/tP+ZgDuD93otLITV65P8hLkjhWsro/0dHU1Vj/uz8SNc4G/kS9Py7hqyHwgr4/v3kdg9u4vz+yoCpSN3PAP7AoPRitBcE/z37DjKiTwT/e80ZWBB3CP/g1sFKcocI/ZZ7IoE0hwz+lFmep9pvDP+MqRih3EcQ/rvaANLCBxD9hsLRIhOzEP7OvxErXUcU/Z+Q+k46xxT9fy170kAvGP8QJrcDGX8Y/ZvA50Rmuxj+uQ3GLdfbGP+G/hebGOMc/muxycPx0xz9V7pNSBqvHP/0gzlXW2sc/5GJO5l8EyD9iFNgWmCfIPzTtpKN1RMg/JObU9PBayD+9km0gBGvIP6xk6OuqdMg/4W9PzeJ3yD8AAAAAAAAAABXBCFzq83Q/39bW2SjxhD+QTdw62mKPP1lDu/0k5pQ/nkMEeV0Vmj/XX7RsuT2fPyIbJMLuLqI/UvdVSji6pD/g44P7DUCnP0SWcfHFv6k/Sk3D47c4rD91a0JSPaquP6sJVdjYibA/JCD4SDm6sT9S/H/p7+WyPwmubOKtDLQ/gzwGqyUutT8ZAMIdC0q2P2eNSowTYLc/8ewk0/VvuD9K9O1sanm5PxuxKoUrfLo/FfOmCvV3uz+mH13BhGy8P86Z4lOaWb0/lihUZPc+vj+N6L2cXxy/P4J3+r6Y8b8/wpYCWjVfwD/IrV3NT8HAPw1XBOsBH8E/jnw9DTN4wT+m7Zy9y8zBP45nL7u1HMI/QjVVANxnwj9h3EnIKq7CP85iV5SP78I/uM6zMPkrwz+QmQe5V2PDP/zkm5yclcM/eFgvorrCwz9wpXDrperDP6nHHfhTDcQ/wC/HqLsqxD+fHTZB1ULEP2SJdWqaVcQ/oRF9NAZjxD+5fn0XFWvEP8uDzvTEbcQ/AAAAAAAAAABRViHywslwP4Iww6qNx4A/Jsxs4s8liT8MMFFLur6QP15Du/0k5pQ/aDohSxAImT8/ZWnoZSOdPypn9KKIm6A/jswR7P+goj/EywKwkKGkP1wLQBm0nKY/DAa9v+SRqD/Z/P/LnoCqP5OJ0BlgaKw/EbJzWqhIrj9ePTabfBCwP7ILXDdr+LA/Kn6+/uLbsT9AGxIbqLqyP6dMavJ/lLM/57yjNjFptD+nbXf0gzi1P2ePMqJBArY/jjsPLjXGtj+nSioMK4S3P6yaEkTxO7g/MTTufVftuD9U2TEPL5i5P9Ol5wZLPLo/5IWBOYDZuj9dZzRMpW+7P64o2b+S/rs/4WhQ+yKGvD8LfWZVMga9Py/xNB6ffr0/ohz/p0nvvT92dYdPFFi+P2xx24PjuL4/tueTzZ0Rvz/qCojVK2K/Pzo48Wp4qr8/V/79iHDqvz9ScumtARHAP+3QeyKRKMA/9suXb+A7wD8kSd6A6krAP2Z1hWGrVcA/yDBjPSBcwD+XjathR17APwAAAAAAAAAA0D/78mE2aT/RQE0DETN5P/9CiQYo4oI/JMxs4s8liT+VTdw62mKPP7xIcHnRy5I/a9LBDEThlT+oD+Er9fCYPwqe5q4W+ps/O4PAJ9z7nj99hPyLvfqgP7Wc/ZIVc6I/PXzjKJPmoz+XboOU1FSlP50LPX15vaY/Vm1SBCMgqD/7/dzdc3ypP6VNWGkQ0qo/xHq8yZ4grD9c1iH9xmetP/iL5/Myp64/UjZXp47erz8Xtt8XxIawP1+6/+znGbE/YDw/HoyosT85VsQlizKyP2aLhrbAt7I/eWLbxQk4sz+nMa6URLOzP5WxYLhQKbQ/bABSIw+atD8U1wktYgW1P2TKBZota7U/5oomo1bLtT8fL7v8wyW2P9StKN1derY/Z8grAw7Jtj+sv7O7vxG3PylJVOdfVLc/6VVN/9yQtz9BWCcaJ8e3P/LR4u8v97c/0hC63eoguD8CHXTpTES4P9T4R8RMYbg/429PzeJ3uD+H0IgTCYi4P3wIZ1e7kbg/ervvC/eUuD8AAAAAAAAAABLVVyKc0mA/8cQJsWXQcD/kQE0DETN5P40ww6qNx4A/8tbW2SjxhD+2fR2+QRWJP2fmz3nBMo0/MaK/dUmkkD/Y+X170aqSP48P2mZwrJQ/AaY7G5+olj9y9UXq156YP/4cAreWjpo/qvyfGFl3nD/TU8R8nlieP+yOrST0GKA/paPy/lwBoT98fByqTOWhP5HtVTCHxKI/gG3P2NGeoz/0kjE383OkP+scuDqzQ6U/WIzxPNsNpj/qbR8QNtKmP/WLMw2QkKc/TlpmIbdIqD8VCWPbevqoP43HBXispak/jtyo7h5Kqj96WP38pueqP7JCbDIbfqs/XET9+lMNrD9R8r+pK5WsPwj5tIJ+Fa0/NI80xCqOrT/gtc+vEP+tPzPwqZISaK4/ZEBJzRTJrj/eW9ra/SGvPyAt51e2cq8/YN99CCm7rz+Y1cbdQvuvP2AKhH15GbA/22cKXRUxsD8J9ZPXbkSwPyM3FNaAU7A/oo2rYUdesD+BKrKkv2SwP9n1duvnZrA/AAAAAAAAAAAIlDDe0tRQPxbVVyKc0mA/6T/78mE2aT9gViHywslwPy7BCFzq83Q/kVeMwY4YeT9LOjIgmTZ9P6a6CRl6poA/RidmW0atgj8UOfLdKK+EP+P3TXKaq4Y/+xKFWBWiiD8O8z1iFZKKPxAnfxUYe4w/VQYCz5xcjj9UwARyEhuQP7Ya2uGZA5E/AYfgi6fnkT9L3l5y/8aSPyxUy9RmoZM/wfw/P6R2lD/H0ZeZf0aVPyM9MDbCEJY/80ZL4DbVlj+8ng7qqZOXPwbRGzrpS5g/6xW+WMT9mD80Qap8DKmZPz15TZeUTZo/+HenYDHrmj/GN61iuYGbP3sNMQQFEZw/A1FNk+6YnD81105PUhmdPx6hHHIOkp0/QkcaOQMDnj+zyoLtEmyePzSZOewhzZ4/KLYPrRYmnz+aHnvJ2XafPymkvgJWv58/OaCAR3j/nz+Mg2fclxugP6zER9c2M6A/NEyt3ZJGoD9vJeDXplWgPxsie85uYKA/3vV26+dmoD/wMul6EGmgPwAAAAAAAAAAoON9uwoaQjzKCB05qRdSPMdlD7CKHVs8wnmGECUOYjyH8nLlxIhmPCNsDjZ3/Wo8rNjL8A9rbzw1nB9xMuhxPCifxwEnFnQ8s0Uq5NI+djx2Aum1pGF4PJD6uJ4Mfno8y+s5dnyTfDxgdFvpZ6F+PAJzo0+iU4A8M/fhLkVSgTwhQYeWWUyCPO5Oir2dQYM8v0oJH9ExhDy3bUKLtByFPJsmMzgKAoY82yTZ0ZXhhjxpARGKHLuHPIZYDihljog8BkNpFzhbiTwhOb12XyGKPFSG1SWn4Io84JNj09yYizxWbjsK0EmMPAoLEz5S84w8xfLA1zaVjTxEGfdAUy+OPIzLdu9+wY48nsK6b5NLjzx3jBRvbM2PPAdRneJzI5A8glOivvJbkDzkugnvI5CQPBZhEbn5v5A86CFhh2frkDwBQVrtYRKRPJfBGKreNJE8kOUlq9RSkTx0HtsOPGyRPF7PdCYOgZE8clTUd0WRkTxP2fC+3ZyRPJ6d9u7To5E8B1wUMyamkTw=",
          "dtype": "f8",
          "shape": "50, 50"
         },
         "z": {
          "bdata": "AAAAAAAAAAAAAAAAAAAAAAAAAAAAAAAAAAAAAAAAAAAAAAAAAAAAAAAAAAAAAAAAAAAAAAAAAAAAAAAAAAAAAAAAAAAAAAAAAAAAAAAAAAAAAAAAAAAAAAAAAAAAAAAAAAAAAAAAAAAAAAAAAAAAAAAAAAAAAAAAAAAAAAAAAAAAAAAAAAAAAAAAAAAAAAAAAAAAAAAAAAAAAAAAAAAAAAAAAAAAAAAAAAAAAAAAAAAAAAAAAAAAAAAAAAAAAAAAAAAAAAAAAAAAAAAAAAAAAAAAAAAAAAAAAAAAAAAAAAAAAAAAAAAAAAAAAAAAAAAAAAAAAAAAAAAAAAAAAAAAAAAAAAAAAAAAAAAAAAAAAAAAAAAAAAAAAAAAAAAAAAAAAAAAAAAAAAAAAAAAAAAAAAAAAAAAAAAAAAAAAAAAAAAAAAAAAAAAAAAAAAAAAAAAAAAAAAAAAAAAAAAAAAAAAAAAAAAAAAAAAAAAAAAAAAAAAAAAAAAAAAAAAAAAAAAAAAAAAAAAAAAAAAAAAAAAANky6XoQaaA/2TLpehBpoD/ZMul6EGmgP9ky6XoQaaA/2TLpehBpoD/ZMul6EGmgP9ky6XoQaaA/2TLpehBpoD/ZMul6EGmgP9ky6XoQaaA/2TLpehBpoD/ZMul6EGmgP9ky6XoQaaA/2TLpehBpoD/ZMul6EGmgP9ky6XoQaaA/2TLpehBpoD/ZMul6EGmgP9ky6XoQaaA/2TLpehBpoD/ZMul6EGmgP9ky6XoQaaA/2TLpehBpoD/ZMul6EGmgP9ky6XoQaaA/2TLpehBpoD/ZMul6EGmgP9ky6XoQaaA/2TLpehBpoD/ZMul6EGmgP9ky6XoQaaA/2TLpehBpoD/ZMul6EGmgP9ky6XoQaaA/2TLpehBpoD/ZMul6EGmgP9ky6XoQaaA/2TLpehBpoD/ZMul6EGmgP9ky6XoQaaA/2TLpehBpoD/ZMul6EGmgP9ky6XoQaaA/2TLpehBpoD/ZMul6EGmgP9ky6XoQaaA/2TLpehBpoD/ZMul6EGmgP9ky6XoQaaA/2TLpehBpoD/G9Xbr52awP8b1duvnZrA/xvV26+dmsD/G9Xbr52awP8b1duvnZrA/xvV26+dmsD/G9Xbr52awP8b1duvnZrA/xvV26+dmsD/G9Xbr52awP8b1duvnZrA/xvV26+dmsD/G9Xbr52awP8b1duvnZrA/xvV26+dmsD/G9Xbr52awP8b1duvnZrA/xvV26+dmsD/G9Xbr52awP8b1duvnZrA/xvV26+dmsD/G9Xbr52awP8b1duvnZrA/xvV26+dmsD/G9Xbr52awP8b1duvnZrA/xvV26+dmsD/G9Xbr52awP8b1duvnZrA/xvV26+dmsD/G9Xbr52awP8b1duvnZrA/xvV26+dmsD/G9Xbr52awP8b1duvnZrA/xvV26+dmsD/G9Xbr52awP8b1duvnZrA/xvV26+dmsD/G9Xbr52awP8b1duvnZrA/xvV26+dmsD/G9Xbr52awP8b1duvnZrA/xvV26+dmsD/G9Xbr52awP8b1duvnZrA/xvV26+dmsD/G9Xbr52awP8b1duvnZrA/cLvvC/eUuD9wu+8L95S4P3C77wv3lLg/cLvvC/eUuD9wu+8L95S4P3C77wv3lLg/cLvvC/eUuD9wu+8L95S4P3C77wv3lLg/cLvvC/eUuD9wu+8L95S4P3C77wv3lLg/cLvvC/eUuD9wu+8L95S4P3C77wv3lLg/cLvvC/eUuD9wu+8L95S4P3C77wv3lLg/cLvvC/eUuD9wu+8L95S4P3C77wv3lLg/cLvvC/eUuD9wu+8L95S4P3C77wv3lLg/cLvvC/eUuD9wu+8L95S4P3C77wv3lLg/cLvvC/eUuD9wu+8L95S4P3C77wv3lLg/cLvvC/eUuD9wu+8L95S4P3C77wv3lLg/cLvvC/eUuD9wu+8L95S4P3C77wv3lLg/cLvvC/eUuD9wu+8L95S4P3C77wv3lLg/cLvvC/eUuD9wu+8L95S4P3C77wv3lLg/cLvvC/eUuD9wu+8L95S4P3C77wv3lLg/cLvvC/eUuD9wu+8L95S4P3C77wv3lLg/cLvvC/eUuD9wu+8L95S4P4+Nq2FHXsA/j42rYUdewD+PjathR17AP4+Nq2FHXsA/j42rYUdewD+PjathR17AP4+Nq2FHXsA/j42rYUdewD+PjathR17AP4+Nq2FHXsA/j42rYUdewD+PjathR17AP4+Nq2FHXsA/j42rYUdewD+PjathR17AP4+Nq2FHXsA/j42rYUdewD+PjathR17AP4+Nq2FHXsA/j42rYUdewD+PjathR17AP4+Nq2FHXsA/j42rYUdewD+PjathR17AP4+Nq2FHXsA/j42rYUdewD+PjathR17AP4+Nq2FHXsA/j42rYUdewD+PjathR17AP4+Nq2FHXsA/j42rYUdewD+PjathR17AP4+Nq2FHXsA/j42rYUdewD+PjathR17AP4+Nq2FHXsA/j42rYUdewD+PjathR17AP4+Nq2FHXsA/j42rYUdewD+PjathR17AP4+Nq2FHXsA/j42rYUdewD+PjathR17AP4+Nq2FHXsA/j42rYUdewD+PjathR17AP4+Nq2FHXsA/j42rYUdewD/Gg870xG3EP8aDzvTEbcQ/xoPO9MRtxD/Gg870xG3EP8aDzvTEbcQ/xoPO9MRtxD/Gg870xG3EP8aDzvTEbcQ/xoPO9MRtxD/Gg870xG3EP8aDzvTEbcQ/xoPO9MRtxD/Gg870xG3EP8aDzvTEbcQ/xoPO9MRtxD/Gg870xG3EP8aDzvTEbcQ/xoPO9MRtxD/Gg870xG3EP8aDzvTEbcQ/xoPO9MRtxD/Gg870xG3EP8aDzvTEbcQ/xoPO9MRtxD/Gg870xG3EP8aDzvTEbcQ/xoPO9MRtxD/Gg870xG3EP8aDzvTEbcQ/xoPO9MRtxD/Gg870xG3EP8aDzvTEbcQ/xoPO9MRtxD/Gg870xG3EP8aDzvTEbcQ/xoPO9MRtxD/Gg870xG3EP8aDzvTEbcQ/xoPO9MRtxD/Gg870xG3EP8aDzvTEbcQ/xoPO9MRtxD/Gg870xG3EP8aDzvTEbcQ/xoPO9MRtxD/Gg870xG3EP8aDzvTEbcQ/xoPO9MRtxD/Gg870xG3EP8aDzvTEbcQ/2m9PzeJ3yD/ab0/N4nfIP9pvT83id8g/2m9PzeJ3yD/ab0/N4nfIP9pvT83id8g/2m9PzeJ3yD/ab0/N4nfIP9pvT83id8g/2m9PzeJ3yD/ab0/N4nfIP9pvT83id8g/2m9PzeJ3yD/ab0/N4nfIP9pvT83id8g/2m9PzeJ3yD/ab0/N4nfIP9pvT83id8g/2m9PzeJ3yD/ab0/N4nfIP9pvT83id8g/2m9PzeJ3yD/ab0/N4nfIP9pvT83id8g/2m9PzeJ3yD/ab0/N4nfIP9pvT83id8g/2m9PzeJ3yD/ab0/N4nfIP9pvT83id8g/2m9PzeJ3yD/ab0/N4nfIP9pvT83id8g/2m9PzeJ3yD/ab0/N4nfIP9pvT83id8g/2m9PzeJ3yD/ab0/N4nfIP9pvT83id8g/2m9PzeJ3yD/ab0/N4nfIP9pvT83id8g/2m9PzeJ3yD/ab0/N4nfIP9pvT83id8g/2m9PzeJ3yD/ab0/N4nfIP9pvT83id8g/2m9PzeJ3yD/ab0/N4nfIP4JFAuOQe8w/gkUC45B7zD+CRQLjkHvMP4JFAuOQe8w/gkUC45B7zD+CRQLjkHvMP4JFAuOQe8w/gkUC45B7zD+CRQLjkHvMP4JFAuOQe8w/gkUC45B7zD+CRQLjkHvMP4JFAuOQe8w/gkUC45B7zD+CRQLjkHvMP4JFAuOQe8w/gkUC45B7zD+CRQLjkHvMP4JFAuOQe8w/gkUC45B7zD+CRQLjkHvMP4JFAuOQe8w/gkUC45B7zD+CRQLjkHvMP4JFAuOQe8w/gkUC45B7zD+CRQLjkHvMP4JFAuOQe8w/gkUC45B7zD+CRQLjkHvMP4JFAuOQe8w/gkUC45B7zD+CRQLjkHvMP4JFAuOQe8w/gkUC45B7zD+CRQLjkHvMP4JFAuOQe8w/gkUC45B7zD+CRQLjkHvMP4JFAuOQe8w/gkUC45B7zD+CRQLjkHvMP4JFAuOQe8w/gkUC45B7zD+CRQLjkHvMP4JFAuOQe8w/gkUC45B7zD+CRQLjkHvMP4JFAuOQe8w/gkUC45B7zD/uy5dv4DvQP+7Ll2/gO9A/7suXb+A70D/uy5dv4DvQP+7Ll2/gO9A/7suXb+A70D/uy5dv4DvQP+7Ll2/gO9A/7suXb+A70D/uy5dv4DvQP+7Ll2/gO9A/7suXb+A70D/uy5dv4DvQP+7Ll2/gO9A/7suXb+A70D/uy5dv4DvQP+7Ll2/gO9A/7suXb+A70D/uy5dv4DvQP+7Ll2/gO9A/7suXb+A70D/uy5dv4DvQP+7Ll2/gO9A/7suXb+A70D/uy5dv4DvQP+7Ll2/gO9A/7suXb+A70D/uy5dv4DvQP+7Ll2/gO9A/7suXb+A70D/uy5dv4DvQP+7Ll2/gO9A/7suXb+A70D/uy5dv4DvQP+7Ll2/gO9A/7suXb+A70D/uy5dv4DvQP+7Ll2/gO9A/7suXb+A70D/uy5dv4DvQP+7Ll2/gO9A/7suXb+A70D/uy5dv4DvQP+7Ll2/gO9A/7suXb+A70D/uy5dv4DvQP+7Ll2/gO9A/7suXb+A70D/uy5dv4DvQP+7Ll2/gO9A/QPfYMbM10j9A99gxszXSP0D32DGzNdI/QPfYMbM10j9A99gxszXSP0D32DGzNdI/QPfYMbM10j9A99gxszXSP0D32DGzNdI/QPfYMbM10j9A99gxszXSP0D32DGzNdI/QPfYMbM10j9A99gxszXSP0D32DGzNdI/QPfYMbM10j9A99gxszXSP0D32DGzNdI/QPfYMbM10j9A99gxszXSP0D32DGzNdI/QPfYMbM10j9A99gxszXSP0D32DGzNdI/QPfYMbM10j9A99gxszXSP0D32DGzNdI/QPfYMbM10j9A99gxszXSP0D32DGzNdI/QPfYMbM10j9A99gxszXSP0D32DGzNdI/QPfYMbM10j9A99gxszXSP0D32DGzNdI/QPfYMbM10j9A99gxszXSP0D32DGzNdI/QPfYMbM10j9A99gxszXSP0D32DGzNdI/QPfYMbM10j9A99gxszXSP0D32DGzNdI/QPfYMbM10j9A99gxszXSP0D32DGzNdI/QPfYMbM10j9A99gxszXSP7wvx6i7KtQ/vC/HqLsq1D+8L8eouyrUP7wvx6i7KtQ/vC/HqLsq1D+8L8eouyrUP7wvx6i7KtQ/vC/HqLsq1D+8L8eouyrUP7wvx6i7KtQ/vC/HqLsq1D+8L8eouyrUP7wvx6i7KtQ/vC/HqLsq1D+8L8eouyrUP7wvx6i7KtQ/vC/HqLsq1D+8L8eouyrUP7wvx6i7KtQ/vC/HqLsq1D+8L8eouyrUP7wvx6i7KtQ/vC/HqLsq1D+8L8eouyrUP7wvx6i7KtQ/vC/HqLsq1D+8L8eouyrUP7wvx6i7KtQ/vC/HqLsq1D+8L8eouyrUP7wvx6i7KtQ/vC/HqLsq1D+8L8eouyrUP7wvx6i7KtQ/vC/HqLsq1D+8L8eouyrUP7wvx6i7KtQ/vC/HqLsq1D+8L8eouyrUP7wvx6i7KtQ/vC/HqLsq1D+8L8eouyrUP7wvx6i7KtQ/vC/HqLsq1D+8L8eouyrUP7wvx6i7KtQ/vC/HqLsq1D+8L8eouyrUP7wvx6i7KtQ/vC/HqLsq1D8A7noHdhrWPwDuegd2GtY/AO56B3Ya1j8A7noHdhrWPwDuegd2GtY/AO56B3Ya1j8A7noHdhrWPwDuegd2GtY/AO56B3Ya1j8A7noHdhrWPwDuegd2GtY/AO56B3Ya1j8A7noHdhrWPwDuegd2GtY/AO56B3Ya1j8A7noHdhrWPwDuegd2GtY/AO56B3Ya1j8A7noHdhrWPwDuegd2GtY/AO56B3Ya1j8A7noHdhrWPwDuegd2GtY/AO56B3Ya1j8A7noHdhrWPwDuegd2GtY/AO56B3Ya1j8A7noHdhrWPwDuegd2GtY/AO56B3Ya1j8A7noHdhrWPwDuegd2GtY/AO56B3Ya1j8A7noHdhrWPwDuegd2GtY/AO56B3Ya1j8A7noHdhrWPwDuegd2GtY/AO56B3Ya1j8A7noHdhrWPwDuegd2GtY/AO56B3Ya1j8A7noHdhrWPwDuegd2GtY/AO56B3Ya1j8A7noHdhrWPwDuegd2GtY/AO56B3Ya1j8A7noHdhrWPwDuegd2GtY/3WJO5l8E2D/dYk7mXwTYP91iTuZfBNg/3WJO5l8E2D/dYk7mXwTYP91iTuZfBNg/3WJO5l8E2D/dYk7mXwTYP91iTuZfBNg/3WJO5l8E2D/dYk7mXwTYP91iTuZfBNg/3WJO5l8E2D/dYk7mXwTYP91iTuZfBNg/3WJO5l8E2D/dYk7mXwTYP91iTuZfBNg/3WJO5l8E2D/dYk7mXwTYP91iTuZfBNg/3WJO5l8E2D/dYk7mXwTYP91iTuZfBNg/3WJO5l8E2D/dYk7mXwTYP91iTuZfBNg/3WJO5l8E2D/dYk7mXwTYP91iTuZfBNg/3WJO5l8E2D/dYk7mXwTYP91iTuZfBNg/3WJO5l8E2D/dYk7mXwTYP91iTuZfBNg/3WJO5l8E2D/dYk7mXwTYP91iTuZfBNg/3WJO5l8E2D/dYk7mXwTYP91iTuZfBNg/3WJO5l8E2D/dYk7mXwTYP91iTuZfBNg/3WJO5l8E2D/dYk7mXwTYP91iTuZfBNg/3WJO5l8E2D/dYk7mXwTYP1FHK2X459k/UUcrZfjn2T9RRytl+OfZP1FHK2X459k/UUcrZfjn2T9RRytl+OfZP1FHK2X459k/UUcrZfjn2T9RRytl+OfZP1FHK2X459k/UUcrZfjn2T9RRytl+OfZP1FHK2X459k/UUcrZfjn2T9RRytl+OfZP1FHK2X459k/UUcrZfjn2T9RRytl+OfZP1FHK2X459k/UUcrZfjn2T9RRytl+OfZP1FHK2X459k/UUcrZfjn2T9RRytl+OfZP1FHK2X459k/UUcrZfjn2T9RRytl+OfZP1FHK2X459k/UUcrZfjn2T9RRytl+OfZP1FHK2X459k/UUcrZfjn2T9RRytl+OfZP1FHK2X459k/UUcrZfjn2T9RRytl+OfZP1FHK2X459k/UUcrZfjn2T9RRytl+OfZP1FHK2X459k/UUcrZfjn2T9RRytl+OfZP1FHK2X459k/UUcrZfjn2T9RRytl+OfZP1FHK2X459k/UUcrZfjn2T9RRytl+OfZP1FHK2X459k/UUcrZfjn2T/Bq3FNwMTbP8GrcU3AxNs/watxTcDE2z/Bq3FNwMTbP8GrcU3AxNs/watxTcDE2z/Bq3FNwMTbP8GrcU3AxNs/watxTcDE2z/Bq3FNwMTbP8GrcU3AxNs/watxTcDE2z/Bq3FNwMTbP8GrcU3AxNs/watxTcDE2z/Bq3FNwMTbP8GrcU3AxNs/watxTcDE2z/Bq3FNwMTbP8GrcU3AxNs/watxTcDE2z/Bq3FNwMTbP8GrcU3AxNs/watxTcDE2z/Bq3FNwMTbP8GrcU3AxNs/watxTcDE2z/Bq3FNwMTbP8GrcU3AxNs/watxTcDE2z/Bq3FNwMTbP8GrcU3AxNs/watxTcDE2z/Bq3FNwMTbP8GrcU3AxNs/watxTcDE2z/Bq3FNwMTbP8GrcU3AxNs/watxTcDE2z/Bq3FNwMTbP8GrcU3AxNs/watxTcDE2z/Bq3FNwMTbP8GrcU3AxNs/watxTcDE2z/Bq3FNwMTbP8GrcU3AxNs/watxTcDE2z/Bq3FNwMTbP8GrcU3AxNs/cNtuMzqa3T9w224zOprdP3DbbjM6mt0/cNtuMzqa3T9w224zOprdP3DbbjM6mt0/cNtuMzqa3T9w224zOprdP3DbbjM6mt0/cNtuMzqa3T9w224zOprdP3DbbjM6mt0/cNtuMzqa3T9w224zOprdP3DbbjM6mt0/cNtuMzqa3T9w224zOprdP3DbbjM6mt0/cNtuMzqa3T9w224zOprdP3DbbjM6mt0/cNtuMzqa3T9w224zOprdP3DbbjM6mt0/cNtuMzqa3T9w224zOprdP3DbbjM6mt0/cNtuMzqa3T9w224zOprdP3DbbjM6mt0/cNtuMzqa3T9w224zOprdP3DbbjM6mt0/cNtuMzqa3T9w224zOprdP3DbbjM6mt0/cNtuMzqa3T9w224zOprdP3DbbjM6mt0/cNtuMzqa3T9w224zOprdP3DbbjM6mt0/cNtuMzqa3T9w224zOprdP3DbbjM6mt0/cNtuMzqa3T9w224zOprdP3DbbjM6mt0/cNtuMzqa3T9w224zOprdP6KGW5fqZ98/ooZbl+pn3z+ihluX6mffP6KGW5fqZ98/ooZbl+pn3z+ihluX6mffP6KGW5fqZ98/ooZbl+pn3z+ihluX6mffP6KGW5fqZ98/ooZbl+pn3z+ihluX6mffP6KGW5fqZ98/ooZbl+pn3z+ihluX6mffP6KGW5fqZ98/ooZbl+pn3z+ihluX6mffP6KGW5fqZ98/ooZbl+pn3z+ihluX6mffP6KGW5fqZ98/ooZbl+pn3z+ihluX6mffP6KGW5fqZ98/ooZbl+pn3z+ihluX6mffP6KGW5fqZ98/ooZbl+pn3z+ihluX6mffP6KGW5fqZ98/ooZbl+pn3z+ihluX6mffP6KGW5fqZ98/ooZbl+pn3z+ihluX6mffP6KGW5fqZ98/ooZbl+pn3z+ihluX6mffP6KGW5fqZ98/ooZbl+pn3z+ihluX6mffP6KGW5fqZ98/ooZbl+pn3z+ihluX6mffP6KGW5fqZ98/ooZbl+pn3z+ihluX6mffP6KGW5fqZ98/ooZbl+pn3z/FQuwCrJbgP8VC7AKsluA/xULsAqyW4D/FQuwCrJbgP8VC7AKsluA/xULsAqyW4D/FQuwCrJbgP8VC7AKsluA/xULsAqyW4D/FQuwCrJbgP8VC7AKsluA/xULsAqyW4D/FQuwCrJbgP8VC7AKsluA/xULsAqyW4D/FQuwCrJbgP8VC7AKsluA/xULsAqyW4D/FQuwCrJbgP8VC7AKsluA/xULsAqyW4D/FQuwCrJbgP8VC7AKsluA/xULsAqyW4D/FQuwCrJbgP8VC7AKsluA/xULsAqyW4D/FQuwCrJbgP8VC7AKsluA/xULsAqyW4D/FQuwCrJbgP8VC7AKsluA/xULsAqyW4D/FQuwCrJbgP8VC7AKsluA/xULsAqyW4D/FQuwCrJbgP8VC7AKsluA/xULsAqyW4D/FQuwCrJbgP8VC7AKsluA/xULsAqyW4D/FQuwCrJbgP8VC7AKsluA/xULsAqyW4D/FQuwCrJbgP8VC7AKsluA/xULsAqyW4D/FQuwCrJbgP8VC7AKsluA/JtTwmwV14T8m1PCbBXXhPybU8JsFdeE/JtTwmwV14T8m1PCbBXXhPybU8JsFdeE/JtTwmwV14T8m1PCbBXXhPybU8JsFdeE/JtTwmwV14T8m1PCbBXXhPybU8JsFdeE/JtTwmwV14T8m1PCbBXXhPybU8JsFdeE/JtTwmwV14T8m1PCbBXXhPybU8JsFdeE/JtTwmwV14T8m1PCbBXXhPybU8JsFdeE/JtTwmwV14T8m1PCbBXXhPybU8JsFdeE/JtTwmwV14T8m1PCbBXXhPybU8JsFdeE/JtTwmwV14T8m1PCbBXXhPybU8JsFdeE/JtTwmwV14T8m1PCbBXXhPybU8JsFdeE/JtTwmwV14T8m1PCbBXXhPybU8JsFdeE/JtTwmwV14T8m1PCbBXXhPybU8JsFdeE/JtTwmwV14T8m1PCbBXXhPybU8JsFdeE/JtTwmwV14T8m1PCbBXXhPybU8JsFdeE/JtTwmwV14T8m1PCbBXXhPybU8JsFdeE/JtTwmwV14T8m1PCbBXXhPz8WF5nHTuI/PxYXmcdO4j8/FheZx07iPz8WF5nHTuI/PxYXmcdO4j8/FheZx07iPz8WF5nHTuI/PxYXmcdO4j8/FheZx07iPz8WF5nHTuI/PxYXmcdO4j8/FheZx07iPz8WF5nHTuI/PxYXmcdO4j8/FheZx07iPz8WF5nHTuI/PxYXmcdO4j8/FheZx07iPz8WF5nHTuI/PxYXmcdO4j8/FheZx07iPz8WF5nHTuI/PxYXmcdO4j8/FheZx07iPz8WF5nHTuI/PxYXmcdO4j8/FheZx07iPz8WF5nHTuI/PxYXmcdO4j8/FheZx07iPz8WF5nHTuI/PxYXmcdO4j8/FheZx07iPz8WF5nHTuI/PxYXmcdO4j8/FheZx07iPz8WF5nHTuI/PxYXmcdO4j8/FheZx07iPz8WF5nHTuI/PxYXmcdO4j8/FheZx07iPz8WF5nHTuI/PxYXmcdO4j8/FheZx07iPz8WF5nHTuI/PxYXmcdO4j8/FheZx07iPz8WF5nHTuI/PxYXmcdO4j+jS/uxuCPjP6NL+7G4I+M/o0v7sbgj4z+jS/uxuCPjP6NL+7G4I+M/o0v7sbgj4z+jS/uxuCPjP6NL+7G4I+M/o0v7sbgj4z+jS/uxuCPjP6NL+7G4I+M/o0v7sbgj4z+jS/uxuCPjP6NL+7G4I+M/o0v7sbgj4z+jS/uxuCPjP6NL+7G4I+M/o0v7sbgj4z+jS/uxuCPjP6NL+7G4I+M/o0v7sbgj4z+jS/uxuCPjP6NL+7G4I+M/o0v7sbgj4z+jS/uxuCPjP6NL+7G4I+M/o0v7sbgj4z+jS/uxuCPjP6NL+7G4I+M/o0v7sbgj4z+jS/uxuCPjP6NL+7G4I+M/o0v7sbgj4z+jS/uxuCPjP6NL+7G4I+M/o0v7sbgj4z+jS/uxuCPjP6NL+7G4I+M/o0v7sbgj4z+jS/uxuCPjP6NL+7G4I+M/o0v7sbgj4z+jS/uxuCPjP6NL+7G4I+M/o0v7sbgj4z+jS/uxuCPjP6NL+7G4I+M/o0v7sbgj4z+jS/uxuCPjP6NL+7G4I+M/0e2L4qDz4z/R7YvioPPjP9Hti+Kg8+M/0e2L4qDz4z/R7YvioPPjP9Hti+Kg8+M/0e2L4qDz4z/R7YvioPPjP9Hti+Kg8+M/0e2L4qDz4z/R7YvioPPjP9Hti+Kg8+M/0e2L4qDz4z/R7YvioPPjP9Hti+Kg8+M/0e2L4qDz4z/R7YvioPPjP9Hti+Kg8+M/0e2L4qDz4z/R7YvioPPjP9Hti+Kg8+M/0e2L4qDz4z/R7YvioPPjP9Hti+Kg8+M/0e2L4qDz4z/R7YvioPPjP9Hti+Kg8+M/0e2L4qDz4z/R7YvioPPjP9Hti+Kg8+M/0e2L4qDz4z/R7YvioPPjP9Hti+Kg8+M/0e2L4qDz4z/R7YvioPPjP9Hti+Kg8+M/0e2L4qDz4z/R7YvioPPjP9Hti+Kg8+M/0e2L4qDz4z/R7YvioPPjP9Hti+Kg8+M/0e2L4qDz4z/R7YvioPPjP9Hti+Kg8+M/0e2L4qDz4z/R7YvioPPjP9Hti+Kg8+M/0e2L4qDz4z/R7YvioPPjP7TvxXlJvuQ/tO/FeUm+5D+078V5Sb7kP7TvxXlJvuQ/tO/FeUm+5D+078V5Sb7kP7TvxXlJvuQ/tO/FeUm+5D+078V5Sb7kP7TvxXlJvuQ/tO/FeUm+5D+078V5Sb7kP7TvxXlJvuQ/tO/FeUm+5D+078V5Sb7kP7TvxXlJvuQ/tO/FeUm+5D+078V5Sb7kP7TvxXlJvuQ/tO/FeUm+5D+078V5Sb7kP7TvxXlJvuQ/tO/FeUm+5D+078V5Sb7kP7TvxXlJvuQ/tO/FeUm+5D+078V5Sb7kP7TvxXlJvuQ/tO/FeUm+5D+078V5Sb7kP7TvxXlJvuQ/tO/FeUm+5D+078V5Sb7kP7TvxXlJvuQ/tO/FeUm+5D+078V5Sb7kP7TvxXlJvuQ/tO/FeUm+5D+078V5Sb7kP7TvxXlJvuQ/tO/FeUm+5D+078V5Sb7kP7TvxXlJvuQ/tO/FeUm+5D+078V5Sb7kP7TvxXlJvuQ/tO/FeUm+5D+078V5Sb7kP7TvxXlJvuQ/tO/FeUm+5D8uzxcofYPlPy7PFyh9g+U/Ls8XKH2D5T8uzxcofYPlPy7PFyh9g+U/Ls8XKH2D5T8uzxcofYPlPy7PFyh9g+U/Ls8XKH2D5T8uzxcofYPlPy7PFyh9g+U/Ls8XKH2D5T8uzxcofYPlPy7PFyh9g+U/Ls8XKH2D5T8uzxcofYPlPy7PFyh9g+U/Ls8XKH2D5T8uzxcofYPlPy7PFyh9g+U/Ls8XKH2D5T8uzxcofYPlPy7PFyh9g+U/Ls8XKH2D5T8uzxcofYPlPy7PFyh9g+U/Ls8XKH2D5T8uzxcofYPlPy7PFyh9g+U/Ls8XKH2D5T8uzxcofYPlPy7PFyh9g+U/Ls8XKH2D5T8uzxcofYPlPy7PFyh9g+U/Ls8XKH2D5T8uzxcofYPlPy7PFyh9g+U/Ls8XKH2D5T8uzxcofYPlPy7PFyh9g+U/Ls8XKH2D5T8uzxcofYPlPy7PFyh9g+U/Ls8XKH2D5T8uzxcofYPlPy7PFyh9g+U/Ls8XKH2D5T8uzxcofYPlPy7PFyh9g+U/w6xnDQhD5j/DrGcNCEPmP8OsZw0IQ+Y/w6xnDQhD5j/DrGcNCEPmP8OsZw0IQ+Y/w6xnDQhD5j/DrGcNCEPmP8OsZw0IQ+Y/w6xnDQhD5j/DrGcNCEPmP8OsZw0IQ+Y/w6xnDQhD5j/DrGcNCEPmP8OsZw0IQ+Y/w6xnDQhD5j/DrGcNCEPmP8OsZw0IQ+Y/w6xnDQhD5j/DrGcNCEPmP8OsZw0IQ+Y/w6xnDQhD5j/DrGcNCEPmP8OsZw0IQ+Y/w6xnDQhD5j/DrGcNCEPmP8OsZw0IQ+Y/w6xnDQhD5j/DrGcNCEPmP8OsZw0IQ+Y/w6xnDQhD5j/DrGcNCEPmP8OsZw0IQ+Y/w6xnDQhD5j/DrGcNCEPmP8OsZw0IQ+Y/w6xnDQhD5j/DrGcNCEPmP8OsZw0IQ+Y/w6xnDQhD5j/DrGcNCEPmP8OsZw0IQ+Y/w6xnDQhD5j/DrGcNCEPmP8OsZw0IQ+Y/w6xnDQhD5j/DrGcNCEPmP8OsZw0IQ+Y/w6xnDQhD5j/DrGcNCEPmPxe5uMa3/OY/F7m4xrf85j8XubjGt/zmPxe5uMa3/OY/F7m4xrf85j8XubjGt/zmPxe5uMa3/OY/F7m4xrf85j8XubjGt/zmPxe5uMa3/OY/F7m4xrf85j8XubjGt/zmPxe5uMa3/OY/F7m4xrf85j8XubjGt/zmPxe5uMa3/OY/F7m4xrf85j8XubjGt/zmPxe5uMa3/OY/F7m4xrf85j8XubjGt/zmPxe5uMa3/OY/F7m4xrf85j8XubjGt/zmPxe5uMa3/OY/F7m4xrf85j8XubjGt/zmPxe5uMa3/OY/F7m4xrf85j8XubjGt/zmPxe5uMa3/OY/F7m4xrf85j8XubjGt/zmPxe5uMa3/OY/F7m4xrf85j8XubjGt/zmPxe5uMa3/OY/F7m4xrf85j8XubjGt/zmPxe5uMa3/OY/F7m4xrf85j8XubjGt/zmPxe5uMa3/OY/F7m4xrf85j8XubjGt/zmPxe5uMa3/OY/F7m4xrf85j8XubjGt/zmPxe5uMa3/OY/F7m4xrf85j8wYWx7W7DnPzBhbHtbsOc/MGFse1uw5z8wYWx7W7DnPzBhbHtbsOc/MGFse1uw5z8wYWx7W7DnPzBhbHtbsOc/MGFse1uw5z8wYWx7W7DnPzBhbHtbsOc/MGFse1uw5z8wYWx7W7DnPzBhbHtbsOc/MGFse1uw5z8wYWx7W7DnPzBhbHtbsOc/MGFse1uw5z8wYWx7W7DnPzBhbHtbsOc/MGFse1uw5z8wYWx7W7DnPzBhbHtbsOc/MGFse1uw5z8wYWx7W7DnPzBhbHtbsOc/MGFse1uw5z8wYWx7W7DnPzBhbHtbsOc/MGFse1uw5z8wYWx7W7DnPzBhbHtbsOc/MGFse1uw5z8wYWx7W7DnPzBhbHtbsOc/MGFse1uw5z8wYWx7W7DnPzBhbHtbsOc/MGFse1uw5z8wYWx7W7DnPzBhbHtbsOc/MGFse1uw5z8wYWx7W7DnPzBhbHtbsOc/MGFse1uw5z8wYWx7W7DnPzBhbHtbsOc/MGFse1uw5z8wYWx7W7DnPzBhbHtbsOc/57wb6sNd6D/nvBvqw13oP+e8G+rDXeg/57wb6sNd6D/nvBvqw13oP+e8G+rDXeg/57wb6sNd6D/nvBvqw13oP+e8G+rDXeg/57wb6sNd6D/nvBvqw13oP+e8G+rDXeg/57wb6sNd6D/nvBvqw13oP+e8G+rDXeg/57wb6sNd6D/nvBvqw13oP+e8G+rDXeg/57wb6sNd6D/nvBvqw13oP+e8G+rDXeg/57wb6sNd6D/nvBvqw13oP+e8G+rDXeg/57wb6sNd6D/nvBvqw13oP+e8G+rDXeg/57wb6sNd6D/nvBvqw13oP+e8G+rDXeg/57wb6sNd6D/nvBvqw13oP+e8G+rDXeg/57wb6sNd6D/nvBvqw13oP+e8G+rDXeg/57wb6sNd6D/nvBvqw13oP+e8G+rDXeg/57wb6sNd6D/nvBvqw13oP+e8G+rDXeg/57wb6sNd6D/nvBvqw13oP+e8G+rDXeg/57wb6sNd6D/nvBvqw13oP+e8G+rDXeg/57wb6sNd6D/nvBvqw13oP0veBXXDBOk/S94FdcME6T9L3gV1wwTpP0veBXXDBOk/S94FdcME6T9L3gV1wwTpP0veBXXDBOk/S94FdcME6T9L3gV1wwTpP0veBXXDBOk/S94FdcME6T9L3gV1wwTpP0veBXXDBOk/S94FdcME6T9L3gV1wwTpP0veBXXDBOk/S94FdcME6T9L3gV1wwTpP0veBXXDBOk/S94FdcME6T9L3gV1wwTpP0veBXXDBOk/S94FdcME6T9L3gV1wwTpP0veBXXDBOk/S94FdcME6T9L3gV1wwTpP0veBXXDBOk/S94FdcME6T9L3gV1wwTpP0veBXXDBOk/S94FdcME6T9L3gV1wwTpP0veBXXDBOk/S94FdcME6T9L3gV1wwTpP0veBXXDBOk/S94FdcME6T9L3gV1wwTpP0veBXXDBOk/S94FdcME6T9L3gV1wwTpP0veBXXDBOk/S94FdcME6T9L3gV1wwTpP0veBXXDBOk/S94FdcME6T9L3gV1wwTpP0veBXXDBOk/S94FdcME6T+yvA8uLqXpP7K8Dy4upek/srwPLi6l6T+yvA8uLqXpP7K8Dy4upek/srwPLi6l6T+yvA8uLqXpP7K8Dy4upek/srwPLi6l6T+yvA8uLqXpP7K8Dy4upek/srwPLi6l6T+yvA8uLqXpP7K8Dy4upek/srwPLi6l6T+yvA8uLqXpP7K8Dy4upek/srwPLi6l6T+yvA8uLqXpP7K8Dy4upek/srwPLi6l6T+yvA8uLqXpP7K8Dy4upek/srwPLi6l6T+yvA8uLqXpP7K8Dy4upek/srwPLi6l6T+yvA8uLqXpP7K8Dy4upek/srwPLi6l6T+yvA8uLqXpP7K8Dy4upek/srwPLi6l6T+yvA8uLqXpP7K8Dy4upek/srwPLi6l6T+yvA8uLqXpP7K8Dy4upek/srwPLi6l6T+yvA8uLqXpP7K8Dy4upek/srwPLi6l6T+yvA8uLqXpP7K8Dy4upek/srwPLi6l6T+yvA8uLqXpP7K8Dy4upek/srwPLi6l6T+yvA8uLqXpP7K8Dy4upek/jJNS4tk+6j+Mk1Li2T7qP4yTUuLZPuo/jJNS4tk+6j+Mk1Li2T7qP4yTUuLZPuo/jJNS4tk+6j+Mk1Li2T7qP4yTUuLZPuo/jJNS4tk+6j+Mk1Li2T7qP4yTUuLZPuo/jJNS4tk+6j+Mk1Li2T7qP4yTUuLZPuo/jJNS4tk+6j+Mk1Li2T7qP4yTUuLZPuo/jJNS4tk+6j+Mk1Li2T7qP4yTUuLZPuo/jJNS4tk+6j+Mk1Li2T7qP4yTUuLZPuo/jJNS4tk+6j+Mk1Li2T7qP4yTUuLZPuo/jJNS4tk+6j+Mk1Li2T7qP4yTUuLZPuo/jJNS4tk+6j+Mk1Li2T7qP4yTUuLZPuo/jJNS4tk+6j+Mk1Li2T7qP4yTUuLZPuo/jJNS4tk+6j+Mk1Li2T7qP4yTUuLZPuo/jJNS4tk+6j+Mk1Li2T7qP4yTUuLZPuo/jJNS4tk+6j+Mk1Li2T7qP4yTUuLZPuo/jJNS4tk+6j+Mk1Li2T7qP4yTUuLZPuo/jJNS4tk+6j+Mk1Li2T7qP5WqNSWe0eo/lao1JZ7R6j+VqjUlntHqP5WqNSWe0eo/lao1JZ7R6j+VqjUlntHqP5WqNSWe0eo/lao1JZ7R6j+VqjUlntHqP5WqNSWe0eo/lao1JZ7R6j+VqjUlntHqP5WqNSWe0eo/lao1JZ7R6j+VqjUlntHqP5WqNSWe0eo/lao1JZ7R6j+VqjUlntHqP5WqNSWe0eo/lao1JZ7R6j+VqjUlntHqP5WqNSWe0eo/lao1JZ7R6j+VqjUlntHqP5WqNSWe0eo/lao1JZ7R6j+VqjUlntHqP5WqNSWe0eo/lao1JZ7R6j+VqjUlntHqP5WqNSWe0eo/lao1JZ7R6j+VqjUlntHqP5WqNSWe0eo/lao1JZ7R6j+VqjUlntHqP5WqNSWe0eo/lao1JZ7R6j+VqjUlntHqP5WqNSWe0eo/lao1JZ7R6j+VqjUlntHqP5WqNSWe0eo/lao1JZ7R6j+VqjUlntHqP5WqNSWe0eo/lao1JZ7R6j+VqjUlntHqP5WqNSWe0eo/lao1JZ7R6j/6mxBbVF3rP/qbEFtUXes/+psQW1Rd6z/6mxBbVF3rP/qbEFtUXes/+psQW1Rd6z/6mxBbVF3rP/qbEFtUXes/+psQW1Rd6z/6mxBbVF3rP/qbEFtUXes/+psQW1Rd6z/6mxBbVF3rP/qbEFtUXes/+psQW1Rd6z/6mxBbVF3rP/qbEFtUXes/+psQW1Rd6z/6mxBbVF3rP/qbEFtUXes/+psQW1Rd6z/6mxBbVF3rP/qbEFtUXes/+psQW1Rd6z/6mxBbVF3rP/qbEFtUXes/+psQW1Rd6z/6mxBbVF3rP/qbEFtUXes/+psQW1Rd6z/6mxBbVF3rP/qbEFtUXes/+psQW1Rd6z/6mxBbVF3rP/qbEFtUXes/+psQW1Rd6z/6mxBbVF3rP/qbEFtUXes/+psQW1Rd6z/6mxBbVF3rP/qbEFtUXes/+psQW1Rd6z/6mxBbVF3rP/qbEFtUXes/+psQW1Rd6z/6mxBbVF3rP/qbEFtUXes/+psQW1Rd6z/6mxBbVF3rP/qbEFtUXes/QExTw9fh6z9ATFPD1+HrP0BMU8PX4es/QExTw9fh6z9ATFPD1+HrP0BMU8PX4es/QExTw9fh6z9ATFPD1+HrP0BMU8PX4es/QExTw9fh6z9ATFPD1+HrP0BMU8PX4es/QExTw9fh6z9ATFPD1+HrP0BMU8PX4es/QExTw9fh6z9ATFPD1+HrP0BMU8PX4es/QExTw9fh6z9ATFPD1+HrP0BMU8PX4es/QExTw9fh6z9ATFPD1+HrP0BMU8PX4es/QExTw9fh6z9ATFPD1+HrP0BMU8PX4es/QExTw9fh6z9ATFPD1+HrP0BMU8PX4es/QExTw9fh6z9ATFPD1+HrP0BMU8PX4es/QExTw9fh6z9ATFPD1+HrP0BMU8PX4es/QExTw9fh6z9ATFPD1+HrP0BMU8PX4es/QExTw9fh6z9ATFPD1+HrP0BMU8PX4es/QExTw9fh6z9ATFPD1+HrP0BMU8PX4es/QExTw9fh6z9ATFPD1+HrP0BMU8PX4es/QExTw9fh6z9ATFPD1+HrP/7nMIIFX+w//ucwggVf7D/+5zCCBV/sP/7nMIIFX+w//ucwggVf7D/+5zCCBV/sP/7nMIIFX+w//ucwggVf7D/+5zCCBV/sP/7nMIIFX+w//ucwggVf7D/+5zCCBV/sP/7nMIIFX+w//ucwggVf7D/+5zCCBV/sP/7nMIIFX+w//ucwggVf7D/+5zCCBV/sP/7nMIIFX+w//ucwggVf7D/+5zCCBV/sP/7nMIIFX+w//ucwggVf7D/+5zCCBV/sP/7nMIIFX+w//ucwggVf7D/+5zCCBV/sP/7nMIIFX+w//ucwggVf7D/+5zCCBV/sP/7nMIIFX+w//ucwggVf7D/+5zCCBV/sP/7nMIIFX+w//ucwggVf7D/+5zCCBV/sP/7nMIIFX+w//ucwggVf7D/+5zCCBV/sP/7nMIIFX+w//ucwggVf7D/+5zCCBV/sP/7nMIIFX+w//ucwggVf7D/+5zCCBV/sP/7nMIIFX+w//ucwggVf7D/+5zCCBV/sP/7nMIIFX+w//ucwggVf7D9xXMupvNTsP3Fcy6m81Ow/cVzLqbzU7D9xXMupvNTsP3Fcy6m81Ow/cVzLqbzU7D9xXMupvNTsP3Fcy6m81Ow/cVzLqbzU7D9xXMupvNTsP3Fcy6m81Ow/cVzLqbzU7D9xXMupvNTsP3Fcy6m81Ow/cVzLqbzU7D9xXMupvNTsP3Fcy6m81Ow/cVzLqbzU7D9xXMupvNTsP3Fcy6m81Ow/cVzLqbzU7D9xXMupvNTsP3Fcy6m81Ow/cVzLqbzU7D9xXMupvNTsP3Fcy6m81Ow/cVzLqbzU7D9xXMupvNTsP3Fcy6m81Ow/cVzLqbzU7D9xXMupvNTsP3Fcy6m81Ow/cVzLqbzU7D9xXMupvNTsP3Fcy6m81Ow/cVzLqbzU7D9xXMupvNTsP3Fcy6m81Ow/cVzLqbzU7D9xXMupvNTsP3Fcy6m81Ow/cVzLqbzU7D9xXMupvNTsP3Fcy6m81Ow/cVzLqbzU7D9xXMupvNTsP3Fcy6m81Ow/cVzLqbzU7D9xXMupvNTsP3Fcy6m81Ow/NeHcQt5C7T814dxC3kLtPzXh3ELeQu0/NeHcQt5C7T814dxC3kLtPzXh3ELeQu0/NeHcQt5C7T814dxC3kLtPzXh3ELeQu0/NeHcQt5C7T814dxC3kLtPzXh3ELeQu0/NeHcQt5C7T814dxC3kLtPzXh3ELeQu0/NeHcQt5C7T814dxC3kLtPzXh3ELeQu0/NeHcQt5C7T814dxC3kLtPzXh3ELeQu0/NeHcQt5C7T814dxC3kLtPzXh3ELeQu0/NeHcQt5C7T814dxC3kLtPzXh3ELeQu0/NeHcQt5C7T814dxC3kLtPzXh3ELeQu0/NeHcQt5C7T814dxC3kLtPzXh3ELeQu0/NeHcQt5C7T814dxC3kLtPzXh3ELeQu0/NeHcQt5C7T814dxC3kLtPzXh3ELeQu0/NeHcQt5C7T814dxC3kLtPzXh3ELeQu0/NeHcQt5C7T814dxC3kLtPzXh3ELeQu0/NeHcQt5C7T814dxC3kLtPzXh3ELeQu0/NeHcQt5C7T814dxC3kLtPwhM3VRNqe0/CEzdVE2p7T8ITN1UTantPwhM3VRNqe0/CEzdVE2p7T8ITN1UTantPwhM3VRNqe0/CEzdVE2p7T8ITN1UTantPwhM3VRNqe0/CEzdVE2p7T8ITN1UTantPwhM3VRNqe0/CEzdVE2p7T8ITN1UTantPwhM3VRNqe0/CEzdVE2p7T8ITN1UTantPwhM3VRNqe0/CEzdVE2p7T8ITN1UTantPwhM3VRNqe0/CEzdVE2p7T8ITN1UTantPwhM3VRNqe0/CEzdVE2p7T8ITN1UTantPwhM3VRNqe0/CEzdVE2p7T8ITN1UTantPwhM3VRNqe0/CEzdVE2p7T8ITN1UTantPwhM3VRNqe0/CEzdVE2p7T8ITN1UTantPwhM3VRNqe0/CEzdVE2p7T8ITN1UTantPwhM3VRNqe0/CEzdVE2p7T8ITN1UTantPwhM3VRNqe0/CEzdVE2p7T8ITN1UTantPwhM3VRNqe0/CEzdVE2p7T8ITN1UTantPwhM3VRNqe0/CEzdVE2p7T/MCaHt7gfuP8wJoe3uB+4/zAmh7e4H7j/MCaHt7gfuP8wJoe3uB+4/zAmh7e4H7j/MCaHt7gfuP8wJoe3uB+4/zAmh7e4H7j/MCaHt7gfuP8wJoe3uB+4/zAmh7e4H7j/MCaHt7gfuP8wJoe3uB+4/zAmh7e4H7j/MCaHt7gfuP8wJoe3uB+4/zAmh7e4H7j/MCaHt7gfuP8wJoe3uB+4/zAmh7e4H7j/MCaHt7gfuP8wJoe3uB+4/zAmh7e4H7j/MCaHt7gfuP8wJoe3uB+4/zAmh7e4H7j/MCaHt7gfuP8wJoe3uB+4/zAmh7e4H7j/MCaHt7gfuP8wJoe3uB+4/zAmh7e4H7j/MCaHt7gfuP8wJoe3uB+4/zAmh7e4H7j/MCaHt7gfuP8wJoe3uB+4/zAmh7e4H7j/MCaHt7gfuP8wJoe3uB+4/zAmh7e4H7j/MCaHt7gfuP8wJoe3uB+4/zAmh7e4H7j/MCaHt7gfuP8wJoe3uB+4/zAmh7e4H7j/MCaHt7gfuP8wJoe3uB+4/xrtvKKpe7j/Gu28oql7uP8a7byiqXu4/xrtvKKpe7j/Gu28oql7uP8a7byiqXu4/xrtvKKpe7j/Gu28oql7uP8a7byiqXu4/xrtvKKpe7j/Gu28oql7uP8a7byiqXu4/xrtvKKpe7j/Gu28oql7uP8a7byiqXu4/xrtvKKpe7j/Gu28oql7uP8a7byiqXu4/xrtvKKpe7j/Gu28oql7uP8a7byiqXu4/xrtvKKpe7j/Gu28oql7uP8a7byiqXu4/xrtvKKpe7j/Gu28oql7uP8a7byiqXu4/xrtvKKpe7j/Gu28oql7uP8a7byiqXu4/xrtvKKpe7j/Gu28oql7uP8a7byiqXu4/xrtvKKpe7j/Gu28oql7uP8a7byiqXu4/xrtvKKpe7j/Gu28oql7uP8a7byiqXu4/xrtvKKpe7j/Gu28oql7uP8a7byiqXu4/xrtvKKpe7j/Gu28oql7uP8a7byiqXu4/xrtvKKpe7j/Gu28oql7uP8a7byiqXu4/xrtvKKpe7j/Gu28oql7uP5SbkDRore4/lJuQNGit7j+Um5A0aK3uP5SbkDRore4/lJuQNGit7j+Um5A0aK3uP5SbkDRore4/lJuQNGit7j+Um5A0aK3uP5SbkDRore4/lJuQNGit7j+Um5A0aK3uP5SbkDRore4/lJuQNGit7j+Um5A0aK3uP5SbkDRore4/lJuQNGit7j+Um5A0aK3uP5SbkDRore4/lJuQNGit7j+Um5A0aK3uP5SbkDRore4/lJuQNGit7j+Um5A0aK3uP5SbkDRore4/lJuQNGit7j+Um5A0aK3uP5SbkDRore4/lJuQNGit7j+Um5A0aK3uP5SbkDRore4/lJuQNGit7j+Um5A0aK3uP5SbkDRore4/lJuQNGit7j+Um5A0aK3uP5SbkDRore4/lJuQNGit7j+Um5A0aK3uP5SbkDRore4/lJuQNGit7j+Um5A0aK3uP5SbkDRore4/lJuQNGit7j+Um5A0aK3uP5SbkDRore4/lJuQNGit7j+Um5A0aK3uP5SbkDRore4/lJuQNGit7j//7EpbFPTuP//sSlsU9O4//+xKWxT07j//7EpbFPTuP//sSlsU9O4//+xKWxT07j//7EpbFPTuP//sSlsU9O4//+xKWxT07j//7EpbFPTuP//sSlsU9O4//+xKWxT07j//7EpbFPTuP//sSlsU9O4//+xKWxT07j//7EpbFPTuP//sSlsU9O4//+xKWxT07j//7EpbFPTuP//sSlsU9O4//+xKWxT07j//7EpbFPTuP//sSlsU9O4//+xKWxT07j//7EpbFPTuP//sSlsU9O4//+xKWxT07j//7EpbFPTuP//sSlsU9O4//+xKWxT07j//7EpbFPTuP//sSlsU9O4//+xKWxT07j//7EpbFPTuP//sSlsU9O4//+xKWxT07j//7EpbFPTuP//sSlsU9O4//+xKWxT07j//7EpbFPTuP//sSlsU9O4//+xKWxT07j//7EpbFPTuP//sSlsU9O4//+xKWxT07j//7EpbFPTuP//sSlsU9O4//+xKWxT07j//7EpbFPTuP//sSlsU9O4/aelYBZwy7z9p6VgFnDLvP2npWAWcMu8/aelYBZwy7z9p6VgFnDLvP2npWAWcMu8/aelYBZwy7z9p6VgFnDLvP2npWAWcMu8/aelYBZwy7z9p6VgFnDLvP2npWAWcMu8/aelYBZwy7z9p6VgFnDLvP2npWAWcMu8/aelYBZwy7z9p6VgFnDLvP2npWAWcMu8/aelYBZwy7z9p6VgFnDLvP2npWAWcMu8/aelYBZwy7z9p6VgFnDLvP2npWAWcMu8/aelYBZwy7z9p6VgFnDLvP2npWAWcMu8/aelYBZwy7z9p6VgFnDLvP2npWAWcMu8/aelYBZwy7z9p6VgFnDLvP2npWAWcMu8/aelYBZwy7z9p6VgFnDLvP2npWAWcMu8/aelYBZwy7z9p6VgFnDLvP2npWAWcMu8/aelYBZwy7z9p6VgFnDLvP2npWAWcMu8/aelYBZwy7z9p6VgFnDLvP2npWAWcMu8/aelYBZwy7z9p6VgFnDLvP2npWAWcMu8/aelYBZwy7z9p6VgFnDLvP+i1y7/uaO8/6LXLv+5o7z/otcu/7mjvP+i1y7/uaO8/6LXLv+5o7z/otcu/7mjvP+i1y7/uaO8/6LXLv+5o7z/otcu/7mjvP+i1y7/uaO8/6LXLv+5o7z/otcu/7mjvP+i1y7/uaO8/6LXLv+5o7z/otcu/7mjvP+i1y7/uaO8/6LXLv+5o7z/otcu/7mjvP+i1y7/uaO8/6LXLv+5o7z/otcu/7mjvP+i1y7/uaO8/6LXLv+5o7z/otcu/7mjvP+i1y7/uaO8/6LXLv+5o7z/otcu/7mjvP+i1y7/uaO8/6LXLv+5o7z/otcu/7mjvP+i1y7/uaO8/6LXLv+5o7z/otcu/7mjvP+i1y7/uaO8/6LXLv+5o7z/otcu/7mjvP+i1y7/uaO8/6LXLv+5o7z/otcu/7mjvP+i1y7/uaO8/6LXLv+5o7z/otcu/7mjvP+i1y7/uaO8/6LXLv+5o7z/otcu/7mjvP+i1y7/uaO8/6LXLv+5o7z/otcu/7mjvP+i1y7/uaO8/6LXLv+5o7z/GGl9A/pbvP8YaX0D+lu8/xhpfQP6W7z/GGl9A/pbvP8YaX0D+lu8/xhpfQP6W7z/GGl9A/pbvP8YaX0D+lu8/xhpfQP6W7z/GGl9A/pbvP8YaX0D+lu8/xhpfQP6W7z/GGl9A/pbvP8YaX0D+lu8/xhpfQP6W7z/GGl9A/pbvP8YaX0D+lu8/xhpfQP6W7z/GGl9A/pbvP8YaX0D+lu8/xhpfQP6W7z/GGl9A/pbvP8YaX0D+lu8/xhpfQP6W7z/GGl9A/pbvP8YaX0D+lu8/xhpfQP6W7z/GGl9A/pbvP8YaX0D+lu8/xhpfQP6W7z/GGl9A/pbvP8YaX0D+lu8/xhpfQP6W7z/GGl9A/pbvP8YaX0D+lu8/xhpfQP6W7z/GGl9A/pbvP8YaX0D+lu8/xhpfQP6W7z/GGl9A/pbvP8YaX0D+lu8/xhpfQP6W7z/GGl9A/pbvP8YaX0D+lu8/xhpfQP6W7z/GGl9A/pbvP8YaX0D+lu8/xhpfQP6W7z/GGl9A/pbvP8YaX0D+lu8/7Ng7ab687z/s2DtpvrzvP+zYO2m+vO8/7Ng7ab687z/s2DtpvrzvP+zYO2m+vO8/7Ng7ab687z/s2DtpvrzvP+zYO2m+vO8/7Ng7ab687z/s2DtpvrzvP+zYO2m+vO8/7Ng7ab687z/s2DtpvrzvP+zYO2m+vO8/7Ng7ab687z/s2DtpvrzvP+zYO2m+vO8/7Ng7ab687z/s2DtpvrzvP+zYO2m+vO8/7Ng7ab687z/s2DtpvrzvP+zYO2m+vO8/7Ng7ab687z/s2DtpvrzvP+zYO2m+vO8/7Ng7ab687z/s2DtpvrzvP+zYO2m+vO8/7Ng7ab687z/s2DtpvrzvP+zYO2m+vO8/7Ng7ab687z/s2DtpvrzvP+zYO2m+vO8/7Ng7ab687z/s2DtpvrzvP+zYO2m+vO8/7Ng7ab687z/s2DtpvrzvP+zYO2m+vO8/7Ng7ab687z/s2DtpvrzvP+zYO2m+vO8/7Ng7ab687z/s2DtpvrzvP+zYO2m+vO8/7Ng7ab687z/s2DtpvrzvPyCgJ0wl2u8/IKAnTCXa7z8goCdMJdrvPyCgJ0wl2u8/IKAnTCXa7z8goCdMJdrvPyCgJ0wl2u8/IKAnTCXa7z8goCdMJdrvPyCgJ0wl2u8/IKAnTCXa7z8goCdMJdrvPyCgJ0wl2u8/IKAnTCXa7z8goCdMJdrvPyCgJ0wl2u8/IKAnTCXa7z8goCdMJdrvPyCgJ0wl2u8/IKAnTCXa7z8goCdMJdrvPyCgJ0wl2u8/IKAnTCXa7z8goCdMJdrvPyCgJ0wl2u8/IKAnTCXa7z8goCdMJdrvPyCgJ0wl2u8/IKAnTCXa7z8goCdMJdrvPyCgJ0wl2u8/IKAnTCXa7z8goCdMJdrvPyCgJ0wl2u8/IKAnTCXa7z8goCdMJdrvPyCgJ0wl2u8/IKAnTCXa7z8goCdMJdrvPyCgJ0wl2u8/IKAnTCXa7z8goCdMJdrvPyCgJ0wl2u8/IKAnTCXa7z8goCdMJdrvPyCgJ0wl2u8/IKAnTCXa7z8goCdMJdrvPyCgJ0wl2u8/IKAnTCXa7z9szyEtK+/vP2zPIS0r7+8/bM8hLSvv7z9szyEtK+/vP2zPIS0r7+8/bM8hLSvv7z9szyEtK+/vP2zPIS0r7+8/bM8hLSvv7z9szyEtK+/vP2zPIS0r7+8/bM8hLSvv7z9szyEtK+/vP2zPIS0r7+8/bM8hLSvv7z9szyEtK+/vP2zPIS0r7+8/bM8hLSvv7z9szyEtK+/vP2zPIS0r7+8/bM8hLSvv7z9szyEtK+/vP2zPIS0r7+8/bM8hLSvv7z9szyEtK+/vP2zPIS0r7+8/bM8hLSvv7z9szyEtK+/vP2zPIS0r7+8/bM8hLSvv7z9szyEtK+/vP2zPIS0r7+8/bM8hLSvv7z9szyEtK+/vP2zPIS0r7+8/bM8hLSvv7z9szyEtK+/vP2zPIS0r7+8/bM8hLSvv7z9szyEtK+/vP2zPIS0r7+8/bM8hLSvv7z9szyEtK+/vP2zPIS0r7+8/bM8hLSvv7z9szyEtK+/vP2zPIS0r7+8/bM8hLSvv7z9szyEtK+/vP2zPIS0r7+8/yk9shMr77z/KT2yEyvvvP8pPbITK++8/yk9shMr77z/KT2yEyvvvP8pPbITK++8/yk9shMr77z/KT2yEyvvvP8pPbITK++8/yk9shMr77z/KT2yEyvvvP8pPbITK++8/yk9shMr77z/KT2yEyvvvP8pPbITK++8/yk9shMr77z/KT2yEyvvvP8pPbITK++8/yk9shMr77z/KT2yEyvvvP8pPbITK++8/yk9shMr77z/KT2yEyvvvP8pPbITK++8/yk9shMr77z/KT2yEyvvvP8pPbITK++8/yk9shMr77z/KT2yEyvvvP8pPbITK++8/yk9shMr77z/KT2yEyvvvP8pPbITK++8/yk9shMr77z/KT2yEyvvvP8pPbITK++8/yk9shMr77z/KT2yEyvvvP8pPbITK++8/yk9shMr77z/KT2yEyvvvP8pPbITK++8/yk9shMr77z/KT2yEyvvvP8pPbITK++8/yk9shMr77z/KT2yEyvvvP8pPbITK++8/yk9shMr77z/KT2yEyvvvPwAAAAAAAPA/AAAAAAAA8D8AAAAAAADwPwAAAAAAAPA/AAAAAAAA8D8AAAAAAADwPwAAAAAAAPA/AAAAAAAA8D8AAAAAAADwPwAAAAAAAPA/AAAAAAAA8D8AAAAAAADwPwAAAAAAAPA/AAAAAAAA8D8AAAAAAADwPwAAAAAAAPA/AAAAAAAA8D8AAAAAAADwPwAAAAAAAPA/AAAAAAAA8D8AAAAAAADwPwAAAAAAAPA/AAAAAAAA8D8AAAAAAADwPwAAAAAAAPA/AAAAAAAA8D8AAAAAAADwPwAAAAAAAPA/AAAAAAAA8D8AAAAAAADwPwAAAAAAAPA/AAAAAAAA8D8AAAAAAADwPwAAAAAAAPA/AAAAAAAA8D8AAAAAAADwPwAAAAAAAPA/AAAAAAAA8D8AAAAAAADwPwAAAAAAAPA/AAAAAAAA8D8AAAAAAADwPwAAAAAAAPA/AAAAAAAA8D8AAAAAAADwPwAAAAAAAPA/AAAAAAAA8D8AAAAAAADwPwAAAAAAAPA/AAAAAAAA8D8=",
          "dtype": "f8",
          "shape": "50, 50"
         }
        },
        {
         "colorscale": [
          [
           0,
           "rgb(255,255,255)"
          ],
          [
           0.125,
           "rgb(240,240,240)"
          ],
          [
           0.25,
           "rgb(217,217,217)"
          ],
          [
           0.375,
           "rgb(189,189,189)"
          ],
          [
           0.5,
           "rgb(150,150,150)"
          ],
          [
           0.625,
           "rgb(115,115,115)"
          ],
          [
           0.75,
           "rgb(82,82,82)"
          ],
          [
           0.875,
           "rgb(37,37,37)"
          ],
          [
           1,
           "rgb(0,0,0)"
          ]
         ],
         "name": "Pareto Front",
         "opacity": 0.3,
         "scene": "scene2",
         "showscale": false,
         "type": "surface",
         "x": {
          "bdata": "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",
          "dtype": "f8",
          "shape": "50, 50"
         },
         "y": {
          "bdata": "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",
          "dtype": "f8",
          "shape": "50, 50"
         },
         "z": {
          "bdata": "AAAAAAAAAAAAAAAAAAAAAAAAAAAAAAAAAAAAAAAAAAAAAAAAAAAAAAAAAAAAAAAAAAAAAAAAAAAAAAAAAAAAAAAAAAAAAAAAAAAAAAAAAAAAAAAAAAAAAAAAAAAAAAAAAAAAAAAAAAAAAAAAAAAAAAAAAAAAAAAAAAAAAAAAAAAAAAAAAAAAAAAAAAAAAAAAAAAAAAAAAAAAAAAAAAAAAAAAAAAAAAAAAAAAAAAAAAAAAAAAAAAAAAAAAAAAAAAAAAAAAAAAAAAAAAAAAAAAAAAAAAAAAAAAAAAAAAAAAAAAAAAAAAAAAAAAAAAAAAAAAAAAAAAAAAAAAAAAAAAAAAAAAAAAAAAAAAAAAAAAAAAAAAAAAAAAAAAAAAAAAAAAAAAAAAAAAAAAAAAAAAAAAAAAAAAAAAAAAAAAAAAAAAAAAAAAAAAAAAAAAAAAAAAAAAAAAAAAAAAAAAAAAAAAAAAAAAAAAAAAAAAAAAAAAAAAAAAAAAAAAAAAAAAAAAAAAAAAAAAAAAAAAAAAAAAAANky6XoQaaA/2TLpehBpoD/ZMul6EGmgP9ky6XoQaaA/2TLpehBpoD/ZMul6EGmgP9ky6XoQaaA/2TLpehBpoD/ZMul6EGmgP9ky6XoQaaA/2TLpehBpoD/ZMul6EGmgP9ky6XoQaaA/2TLpehBpoD/ZMul6EGmgP9ky6XoQaaA/2TLpehBpoD/ZMul6EGmgP9ky6XoQaaA/2TLpehBpoD/ZMul6EGmgP9ky6XoQaaA/2TLpehBpoD/ZMul6EGmgP9ky6XoQaaA/2TLpehBpoD/ZMul6EGmgP9ky6XoQaaA/2TLpehBpoD/ZMul6EGmgP9ky6XoQaaA/2TLpehBpoD/ZMul6EGmgP9ky6XoQaaA/2TLpehBpoD/ZMul6EGmgP9ky6XoQaaA/2TLpehBpoD/ZMul6EGmgP9ky6XoQaaA/2TLpehBpoD/ZMul6EGmgP9ky6XoQaaA/2TLpehBpoD/ZMul6EGmgP9ky6XoQaaA/2TLpehBpoD/ZMul6EGmgP9ky6XoQaaA/2TLpehBpoD/G9Xbr52awP8b1duvnZrA/xvV26+dmsD/G9Xbr52awP8b1duvnZrA/xvV26+dmsD/G9Xbr52awP8b1duvnZrA/xvV26+dmsD/G9Xbr52awP8b1duvnZrA/xvV26+dmsD/G9Xbr52awP8b1duvnZrA/xvV26+dmsD/G9Xbr52awP8b1duvnZrA/xvV26+dmsD/G9Xbr52awP8b1duvnZrA/xvV26+dmsD/G9Xbr52awP8b1duvnZrA/xvV26+dmsD/G9Xbr52awP8b1duvnZrA/xvV26+dmsD/G9Xbr52awP8b1duvnZrA/xvV26+dmsD/G9Xbr52awP8b1duvnZrA/xvV26+dmsD/G9Xbr52awP8b1duvnZrA/xvV26+dmsD/G9Xbr52awP8b1duvnZrA/xvV26+dmsD/G9Xbr52awP8b1duvnZrA/xvV26+dmsD/G9Xbr52awP8b1duvnZrA/xvV26+dmsD/G9Xbr52awP8b1duvnZrA/xvV26+dmsD/G9Xbr52awP8b1duvnZrA/cLvvC/eUuD9wu+8L95S4P3C77wv3lLg/cLvvC/eUuD9wu+8L95S4P3C77wv3lLg/cLvvC/eUuD9wu+8L95S4P3C77wv3lLg/cLvvC/eUuD9wu+8L95S4P3C77wv3lLg/cLvvC/eUuD9wu+8L95S4P3C77wv3lLg/cLvvC/eUuD9wu+8L95S4P3C77wv3lLg/cLvvC/eUuD9wu+8L95S4P3C77wv3lLg/cLvvC/eUuD9wu+8L95S4P3C77wv3lLg/cLvvC/eUuD9wu+8L95S4P3C77wv3lLg/cLvvC/eUuD9wu+8L95S4P3C77wv3lLg/cLvvC/eUuD9wu+8L95S4P3C77wv3lLg/cLvvC/eUuD9wu+8L95S4P3C77wv3lLg/cLvvC/eUuD9wu+8L95S4P3C77wv3lLg/cLvvC/eUuD9wu+8L95S4P3C77wv3lLg/cLvvC/eUuD9wu+8L95S4P3C77wv3lLg/cLvvC/eUuD9wu+8L95S4P3C77wv3lLg/cLvvC/eUuD9wu+8L95S4P4+Nq2FHXsA/j42rYUdewD+PjathR17AP4+Nq2FHXsA/j42rYUdewD+PjathR17AP4+Nq2FHXsA/j42rYUdewD+PjathR17AP4+Nq2FHXsA/j42rYUdewD+PjathR17AP4+Nq2FHXsA/j42rYUdewD+PjathR17AP4+Nq2FHXsA/j42rYUdewD+PjathR17AP4+Nq2FHXsA/j42rYUdewD+PjathR17AP4+Nq2FHXsA/j42rYUdewD+PjathR17AP4+Nq2FHXsA/j42rYUdewD+PjathR17AP4+Nq2FHXsA/j42rYUdewD+PjathR17AP4+Nq2FHXsA/j42rYUdewD+PjathR17AP4+Nq2FHXsA/j42rYUdewD+PjathR17AP4+Nq2FHXsA/j42rYUdewD+PjathR17AP4+Nq2FHXsA/j42rYUdewD+PjathR17AP4+Nq2FHXsA/j42rYUdewD+PjathR17AP4+Nq2FHXsA/j42rYUdewD+PjathR17AP4+Nq2FHXsA/j42rYUdewD/Gg870xG3EP8aDzvTEbcQ/xoPO9MRtxD/Gg870xG3EP8aDzvTEbcQ/xoPO9MRtxD/Gg870xG3EP8aDzvTEbcQ/xoPO9MRtxD/Gg870xG3EP8aDzvTEbcQ/xoPO9MRtxD/Gg870xG3EP8aDzvTEbcQ/xoPO9MRtxD/Gg870xG3EP8aDzvTEbcQ/xoPO9MRtxD/Gg870xG3EP8aDzvTEbcQ/xoPO9MRtxD/Gg870xG3EP8aDzvTEbcQ/xoPO9MRtxD/Gg870xG3EP8aDzvTEbcQ/xoPO9MRtxD/Gg870xG3EP8aDzvTEbcQ/xoPO9MRtxD/Gg870xG3EP8aDzvTEbcQ/xoPO9MRtxD/Gg870xG3EP8aDzvTEbcQ/xoPO9MRtxD/Gg870xG3EP8aDzvTEbcQ/xoPO9MRtxD/Gg870xG3EP8aDzvTEbcQ/xoPO9MRtxD/Gg870xG3EP8aDzvTEbcQ/xoPO9MRtxD/Gg870xG3EP8aDzvTEbcQ/xoPO9MRtxD/Gg870xG3EP8aDzvTEbcQ/2m9PzeJ3yD/ab0/N4nfIP9pvT83id8g/2m9PzeJ3yD/ab0/N4nfIP9pvT83id8g/2m9PzeJ3yD/ab0/N4nfIP9pvT83id8g/2m9PzeJ3yD/ab0/N4nfIP9pvT83id8g/2m9PzeJ3yD/ab0/N4nfIP9pvT83id8g/2m9PzeJ3yD/ab0/N4nfIP9pvT83id8g/2m9PzeJ3yD/ab0/N4nfIP9pvT83id8g/2m9PzeJ3yD/ab0/N4nfIP9pvT83id8g/2m9PzeJ3yD/ab0/N4nfIP9pvT83id8g/2m9PzeJ3yD/ab0/N4nfIP9pvT83id8g/2m9PzeJ3yD/ab0/N4nfIP9pvT83id8g/2m9PzeJ3yD/ab0/N4nfIP9pvT83id8g/2m9PzeJ3yD/ab0/N4nfIP9pvT83id8g/2m9PzeJ3yD/ab0/N4nfIP9pvT83id8g/2m9PzeJ3yD/ab0/N4nfIP9pvT83id8g/2m9PzeJ3yD/ab0/N4nfIP9pvT83id8g/2m9PzeJ3yD/ab0/N4nfIP4JFAuOQe8w/gkUC45B7zD+CRQLjkHvMP4JFAuOQe8w/gkUC45B7zD+CRQLjkHvMP4JFAuOQe8w/gkUC45B7zD+CRQLjkHvMP4JFAuOQe8w/gkUC45B7zD+CRQLjkHvMP4JFAuOQe8w/gkUC45B7zD+CRQLjkHvMP4JFAuOQe8w/gkUC45B7zD+CRQLjkHvMP4JFAuOQe8w/gkUC45B7zD+CRQLjkHvMP4JFAuOQe8w/gkUC45B7zD+CRQLjkHvMP4JFAuOQe8w/gkUC45B7zD+CRQLjkHvMP4JFAuOQe8w/gkUC45B7zD+CRQLjkHvMP4JFAuOQe8w/gkUC45B7zD+CRQLjkHvMP4JFAuOQe8w/gkUC45B7zD+CRQLjkHvMP4JFAuOQe8w/gkUC45B7zD+CRQLjkHvMP4JFAuOQe8w/gkUC45B7zD+CRQLjkHvMP4JFAuOQe8w/gkUC45B7zD+CRQLjkHvMP4JFAuOQe8w/gkUC45B7zD+CRQLjkHvMP4JFAuOQe8w/gkUC45B7zD/uy5dv4DvQP+7Ll2/gO9A/7suXb+A70D/uy5dv4DvQP+7Ll2/gO9A/7suXb+A70D/uy5dv4DvQP+7Ll2/gO9A/7suXb+A70D/uy5dv4DvQP+7Ll2/gO9A/7suXb+A70D/uy5dv4DvQP+7Ll2/gO9A/7suXb+A70D/uy5dv4DvQP+7Ll2/gO9A/7suXb+A70D/uy5dv4DvQP+7Ll2/gO9A/7suXb+A70D/uy5dv4DvQP+7Ll2/gO9A/7suXb+A70D/uy5dv4DvQP+7Ll2/gO9A/7suXb+A70D/uy5dv4DvQP+7Ll2/gO9A/7suXb+A70D/uy5dv4DvQP+7Ll2/gO9A/7suXb+A70D/uy5dv4DvQP+7Ll2/gO9A/7suXb+A70D/uy5dv4DvQP+7Ll2/gO9A/7suXb+A70D/uy5dv4DvQP+7Ll2/gO9A/7suXb+A70D/uy5dv4DvQP+7Ll2/gO9A/7suXb+A70D/uy5dv4DvQP+7Ll2/gO9A/7suXb+A70D/uy5dv4DvQP+7Ll2/gO9A/QPfYMbM10j9A99gxszXSP0D32DGzNdI/QPfYMbM10j9A99gxszXSP0D32DGzNdI/QPfYMbM10j9A99gxszXSP0D32DGzNdI/QPfYMbM10j9A99gxszXSP0D32DGzNdI/QPfYMbM10j9A99gxszXSP0D32DGzNdI/QPfYMbM10j9A99gxszXSP0D32DGzNdI/QPfYMbM10j9A99gxszXSP0D32DGzNdI/QPfYMbM10j9A99gxszXSP0D32DGzNdI/QPfYMbM10j9A99gxszXSP0D32DGzNdI/QPfYMbM10j9A99gxszXSP0D32DGzNdI/QPfYMbM10j9A99gxszXSP0D32DGzNdI/QPfYMbM10j9A99gxszXSP0D32DGzNdI/QPfYMbM10j9A99gxszXSP0D32DGzNdI/QPfYMbM10j9A99gxszXSP0D32DGzNdI/QPfYMbM10j9A99gxszXSP0D32DGzNdI/QPfYMbM10j9A99gxszXSP0D32DGzNdI/QPfYMbM10j9A99gxszXSP7wvx6i7KtQ/vC/HqLsq1D+8L8eouyrUP7wvx6i7KtQ/vC/HqLsq1D+8L8eouyrUP7wvx6i7KtQ/vC/HqLsq1D+8L8eouyrUP7wvx6i7KtQ/vC/HqLsq1D+8L8eouyrUP7wvx6i7KtQ/vC/HqLsq1D+8L8eouyrUP7wvx6i7KtQ/vC/HqLsq1D+8L8eouyrUP7wvx6i7KtQ/vC/HqLsq1D+8L8eouyrUP7wvx6i7KtQ/vC/HqLsq1D+8L8eouyrUP7wvx6i7KtQ/vC/HqLsq1D+8L8eouyrUP7wvx6i7KtQ/vC/HqLsq1D+8L8eouyrUP7wvx6i7KtQ/vC/HqLsq1D+8L8eouyrUP7wvx6i7KtQ/vC/HqLsq1D+8L8eouyrUP7wvx6i7KtQ/vC/HqLsq1D+8L8eouyrUP7wvx6i7KtQ/vC/HqLsq1D+8L8eouyrUP7wvx6i7KtQ/vC/HqLsq1D+8L8eouyrUP7wvx6i7KtQ/vC/HqLsq1D+8L8eouyrUP7wvx6i7KtQ/vC/HqLsq1D8A7noHdhrWPwDuegd2GtY/AO56B3Ya1j8A7noHdhrWPwDuegd2GtY/AO56B3Ya1j8A7noHdhrWPwDuegd2GtY/AO56B3Ya1j8A7noHdhrWPwDuegd2GtY/AO56B3Ya1j8A7noHdhrWPwDuegd2GtY/AO56B3Ya1j8A7noHdhrWPwDuegd2GtY/AO56B3Ya1j8A7noHdhrWPwDuegd2GtY/AO56B3Ya1j8A7noHdhrWPwDuegd2GtY/AO56B3Ya1j8A7noHdhrWPwDuegd2GtY/AO56B3Ya1j8A7noHdhrWPwDuegd2GtY/AO56B3Ya1j8A7noHdhrWPwDuegd2GtY/AO56B3Ya1j8A7noHdhrWPwDuegd2GtY/AO56B3Ya1j8A7noHdhrWPwDuegd2GtY/AO56B3Ya1j8A7noHdhrWPwDuegd2GtY/AO56B3Ya1j8A7noHdhrWPwDuegd2GtY/AO56B3Ya1j8A7noHdhrWPwDuegd2GtY/AO56B3Ya1j8A7noHdhrWPwDuegd2GtY/3WJO5l8E2D/dYk7mXwTYP91iTuZfBNg/3WJO5l8E2D/dYk7mXwTYP91iTuZfBNg/3WJO5l8E2D/dYk7mXwTYP91iTuZfBNg/3WJO5l8E2D/dYk7mXwTYP91iTuZfBNg/3WJO5l8E2D/dYk7mXwTYP91iTuZfBNg/3WJO5l8E2D/dYk7mXwTYP91iTuZfBNg/3WJO5l8E2D/dYk7mXwTYP91iTuZfBNg/3WJO5l8E2D/dYk7mXwTYP91iTuZfBNg/3WJO5l8E2D/dYk7mXwTYP91iTuZfBNg/3WJO5l8E2D/dYk7mXwTYP91iTuZfBNg/3WJO5l8E2D/dYk7mXwTYP91iTuZfBNg/3WJO5l8E2D/dYk7mXwTYP91iTuZfBNg/3WJO5l8E2D/dYk7mXwTYP91iTuZfBNg/3WJO5l8E2D/dYk7mXwTYP91iTuZfBNg/3WJO5l8E2D/dYk7mXwTYP91iTuZfBNg/3WJO5l8E2D/dYk7mXwTYP91iTuZfBNg/3WJO5l8E2D/dYk7mXwTYP1FHK2X459k/UUcrZfjn2T9RRytl+OfZP1FHK2X459k/UUcrZfjn2T9RRytl+OfZP1FHK2X459k/UUcrZfjn2T9RRytl+OfZP1FHK2X459k/UUcrZfjn2T9RRytl+OfZP1FHK2X459k/UUcrZfjn2T9RRytl+OfZP1FHK2X459k/UUcrZfjn2T9RRytl+OfZP1FHK2X459k/UUcrZfjn2T9RRytl+OfZP1FHK2X459k/UUcrZfjn2T9RRytl+OfZP1FHK2X459k/UUcrZfjn2T9RRytl+OfZP1FHK2X459k/UUcrZfjn2T9RRytl+OfZP1FHK2X459k/UUcrZfjn2T9RRytl+OfZP1FHK2X459k/UUcrZfjn2T9RRytl+OfZP1FHK2X459k/UUcrZfjn2T9RRytl+OfZP1FHK2X459k/UUcrZfjn2T9RRytl+OfZP1FHK2X459k/UUcrZfjn2T9RRytl+OfZP1FHK2X459k/UUcrZfjn2T9RRytl+OfZP1FHK2X459k/UUcrZfjn2T/Bq3FNwMTbP8GrcU3AxNs/watxTcDE2z/Bq3FNwMTbP8GrcU3AxNs/watxTcDE2z/Bq3FNwMTbP8GrcU3AxNs/watxTcDE2z/Bq3FNwMTbP8GrcU3AxNs/watxTcDE2z/Bq3FNwMTbP8GrcU3AxNs/watxTcDE2z/Bq3FNwMTbP8GrcU3AxNs/watxTcDE2z/Bq3FNwMTbP8GrcU3AxNs/watxTcDE2z/Bq3FNwMTbP8GrcU3AxNs/watxTcDE2z/Bq3FNwMTbP8GrcU3AxNs/watxTcDE2z/Bq3FNwMTbP8GrcU3AxNs/watxTcDE2z/Bq3FNwMTbP8GrcU3AxNs/watxTcDE2z/Bq3FNwMTbP8GrcU3AxNs/watxTcDE2z/Bq3FNwMTbP8GrcU3AxNs/watxTcDE2z/Bq3FNwMTbP8GrcU3AxNs/watxTcDE2z/Bq3FNwMTbP8GrcU3AxNs/watxTcDE2z/Bq3FNwMTbP8GrcU3AxNs/watxTcDE2z/Bq3FNwMTbP8GrcU3AxNs/cNtuMzqa3T9w224zOprdP3DbbjM6mt0/cNtuMzqa3T9w224zOprdP3DbbjM6mt0/cNtuMzqa3T9w224zOprdP3DbbjM6mt0/cNtuMzqa3T9w224zOprdP3DbbjM6mt0/cNtuMzqa3T9w224zOprdP3DbbjM6mt0/cNtuMzqa3T9w224zOprdP3DbbjM6mt0/cNtuMzqa3T9w224zOprdP3DbbjM6mt0/cNtuMzqa3T9w224zOprdP3DbbjM6mt0/cNtuMzqa3T9w224zOprdP3DbbjM6mt0/cNtuMzqa3T9w224zOprdP3DbbjM6mt0/cNtuMzqa3T9w224zOprdP3DbbjM6mt0/cNtuMzqa3T9w224zOprdP3DbbjM6mt0/cNtuMzqa3T9w224zOprdP3DbbjM6mt0/cNtuMzqa3T9w224zOprdP3DbbjM6mt0/cNtuMzqa3T9w224zOprdP3DbbjM6mt0/cNtuMzqa3T9w224zOprdP3DbbjM6mt0/cNtuMzqa3T9w224zOprdP6KGW5fqZ98/ooZbl+pn3z+ihluX6mffP6KGW5fqZ98/ooZbl+pn3z+ihluX6mffP6KGW5fqZ98/ooZbl+pn3z+ihluX6mffP6KGW5fqZ98/ooZbl+pn3z+ihluX6mffP6KGW5fqZ98/ooZbl+pn3z+ihluX6mffP6KGW5fqZ98/ooZbl+pn3z+ihluX6mffP6KGW5fqZ98/ooZbl+pn3z+ihluX6mffP6KGW5fqZ98/ooZbl+pn3z+ihluX6mffP6KGW5fqZ98/ooZbl+pn3z+ihluX6mffP6KGW5fqZ98/ooZbl+pn3z+ihluX6mffP6KGW5fqZ98/ooZbl+pn3z+ihluX6mffP6KGW5fqZ98/ooZbl+pn3z+ihluX6mffP6KGW5fqZ98/ooZbl+pn3z+ihluX6mffP6KGW5fqZ98/ooZbl+pn3z+ihluX6mffP6KGW5fqZ98/ooZbl+pn3z+ihluX6mffP6KGW5fqZ98/ooZbl+pn3z+ihluX6mffP6KGW5fqZ98/ooZbl+pn3z/FQuwCrJbgP8VC7AKsluA/xULsAqyW4D/FQuwCrJbgP8VC7AKsluA/xULsAqyW4D/FQuwCrJbgP8VC7AKsluA/xULsAqyW4D/FQuwCrJbgP8VC7AKsluA/xULsAqyW4D/FQuwCrJbgP8VC7AKsluA/xULsAqyW4D/FQuwCrJbgP8VC7AKsluA/xULsAqyW4D/FQuwCrJbgP8VC7AKsluA/xULsAqyW4D/FQuwCrJbgP8VC7AKsluA/xULsAqyW4D/FQuwCrJbgP8VC7AKsluA/xULsAqyW4D/FQuwCrJbgP8VC7AKsluA/xULsAqyW4D/FQuwCrJbgP8VC7AKsluA/xULsAqyW4D/FQuwCrJbgP8VC7AKsluA/xULsAqyW4D/FQuwCrJbgP8VC7AKsluA/xULsAqyW4D/FQuwCrJbgP8VC7AKsluA/xULsAqyW4D/FQuwCrJbgP8VC7AKsluA/xULsAqyW4D/FQuwCrJbgP8VC7AKsluA/xULsAqyW4D/FQuwCrJbgP8VC7AKsluA/JtTwmwV14T8m1PCbBXXhPybU8JsFdeE/JtTwmwV14T8m1PCbBXXhPybU8JsFdeE/JtTwmwV14T8m1PCbBXXhPybU8JsFdeE/JtTwmwV14T8m1PCbBXXhPybU8JsFdeE/JtTwmwV14T8m1PCbBXXhPybU8JsFdeE/JtTwmwV14T8m1PCbBXXhPybU8JsFdeE/JtTwmwV14T8m1PCbBXXhPybU8JsFdeE/JtTwmwV14T8m1PCbBXXhPybU8JsFdeE/JtTwmwV14T8m1PCbBXXhPybU8JsFdeE/JtTwmwV14T8m1PCbBXXhPybU8JsFdeE/JtTwmwV14T8m1PCbBXXhPybU8JsFdeE/JtTwmwV14T8m1PCbBXXhPybU8JsFdeE/JtTwmwV14T8m1PCbBXXhPybU8JsFdeE/JtTwmwV14T8m1PCbBXXhPybU8JsFdeE/JtTwmwV14T8m1PCbBXXhPybU8JsFdeE/JtTwmwV14T8m1PCbBXXhPybU8JsFdeE/JtTwmwV14T8m1PCbBXXhPz8WF5nHTuI/PxYXmcdO4j8/FheZx07iPz8WF5nHTuI/PxYXmcdO4j8/FheZx07iPz8WF5nHTuI/PxYXmcdO4j8/FheZx07iPz8WF5nHTuI/PxYXmcdO4j8/FheZx07iPz8WF5nHTuI/PxYXmcdO4j8/FheZx07iPz8WF5nHTuI/PxYXmcdO4j8/FheZx07iPz8WF5nHTuI/PxYXmcdO4j8/FheZx07iPz8WF5nHTuI/PxYXmcdO4j8/FheZx07iPz8WF5nHTuI/PxYXmcdO4j8/FheZx07iPz8WF5nHTuI/PxYXmcdO4j8/FheZx07iPz8WF5nHTuI/PxYXmcdO4j8/FheZx07iPz8WF5nHTuI/PxYXmcdO4j8/FheZx07iPz8WF5nHTuI/PxYXmcdO4j8/FheZx07iPz8WF5nHTuI/PxYXmcdO4j8/FheZx07iPz8WF5nHTuI/PxYXmcdO4j8/FheZx07iPz8WF5nHTuI/PxYXmcdO4j8/FheZx07iPz8WF5nHTuI/PxYXmcdO4j+jS/uxuCPjP6NL+7G4I+M/o0v7sbgj4z+jS/uxuCPjP6NL+7G4I+M/o0v7sbgj4z+jS/uxuCPjP6NL+7G4I+M/o0v7sbgj4z+jS/uxuCPjP6NL+7G4I+M/o0v7sbgj4z+jS/uxuCPjP6NL+7G4I+M/o0v7sbgj4z+jS/uxuCPjP6NL+7G4I+M/o0v7sbgj4z+jS/uxuCPjP6NL+7G4I+M/o0v7sbgj4z+jS/uxuCPjP6NL+7G4I+M/o0v7sbgj4z+jS/uxuCPjP6NL+7G4I+M/o0v7sbgj4z+jS/uxuCPjP6NL+7G4I+M/o0v7sbgj4z+jS/uxuCPjP6NL+7G4I+M/o0v7sbgj4z+jS/uxuCPjP6NL+7G4I+M/o0v7sbgj4z+jS/uxuCPjP6NL+7G4I+M/o0v7sbgj4z+jS/uxuCPjP6NL+7G4I+M/o0v7sbgj4z+jS/uxuCPjP6NL+7G4I+M/o0v7sbgj4z+jS/uxuCPjP6NL+7G4I+M/o0v7sbgj4z+jS/uxuCPjP6NL+7G4I+M/0e2L4qDz4z/R7YvioPPjP9Hti+Kg8+M/0e2L4qDz4z/R7YvioPPjP9Hti+Kg8+M/0e2L4qDz4z/R7YvioPPjP9Hti+Kg8+M/0e2L4qDz4z/R7YvioPPjP9Hti+Kg8+M/0e2L4qDz4z/R7YvioPPjP9Hti+Kg8+M/0e2L4qDz4z/R7YvioPPjP9Hti+Kg8+M/0e2L4qDz4z/R7YvioPPjP9Hti+Kg8+M/0e2L4qDz4z/R7YvioPPjP9Hti+Kg8+M/0e2L4qDz4z/R7YvioPPjP9Hti+Kg8+M/0e2L4qDz4z/R7YvioPPjP9Hti+Kg8+M/0e2L4qDz4z/R7YvioPPjP9Hti+Kg8+M/0e2L4qDz4z/R7YvioPPjP9Hti+Kg8+M/0e2L4qDz4z/R7YvioPPjP9Hti+Kg8+M/0e2L4qDz4z/R7YvioPPjP9Hti+Kg8+M/0e2L4qDz4z/R7YvioPPjP9Hti+Kg8+M/0e2L4qDz4z/R7YvioPPjP9Hti+Kg8+M/0e2L4qDz4z/R7YvioPPjP7TvxXlJvuQ/tO/FeUm+5D+078V5Sb7kP7TvxXlJvuQ/tO/FeUm+5D+078V5Sb7kP7TvxXlJvuQ/tO/FeUm+5D+078V5Sb7kP7TvxXlJvuQ/tO/FeUm+5D+078V5Sb7kP7TvxXlJvuQ/tO/FeUm+5D+078V5Sb7kP7TvxXlJvuQ/tO/FeUm+5D+078V5Sb7kP7TvxXlJvuQ/tO/FeUm+5D+078V5Sb7kP7TvxXlJvuQ/tO/FeUm+5D+078V5Sb7kP7TvxXlJvuQ/tO/FeUm+5D+078V5Sb7kP7TvxXlJvuQ/tO/FeUm+5D+078V5Sb7kP7TvxXlJvuQ/tO/FeUm+5D+078V5Sb7kP7TvxXlJvuQ/tO/FeUm+5D+078V5Sb7kP7TvxXlJvuQ/tO/FeUm+5D+078V5Sb7kP7TvxXlJvuQ/tO/FeUm+5D+078V5Sb7kP7TvxXlJvuQ/tO/FeUm+5D+078V5Sb7kP7TvxXlJvuQ/tO/FeUm+5D+078V5Sb7kP7TvxXlJvuQ/tO/FeUm+5D8uzxcofYPlPy7PFyh9g+U/Ls8XKH2D5T8uzxcofYPlPy7PFyh9g+U/Ls8XKH2D5T8uzxcofYPlPy7PFyh9g+U/Ls8XKH2D5T8uzxcofYPlPy7PFyh9g+U/Ls8XKH2D5T8uzxcofYPlPy7PFyh9g+U/Ls8XKH2D5T8uzxcofYPlPy7PFyh9g+U/Ls8XKH2D5T8uzxcofYPlPy7PFyh9g+U/Ls8XKH2D5T8uzxcofYPlPy7PFyh9g+U/Ls8XKH2D5T8uzxcofYPlPy7PFyh9g+U/Ls8XKH2D5T8uzxcofYPlPy7PFyh9g+U/Ls8XKH2D5T8uzxcofYPlPy7PFyh9g+U/Ls8XKH2D5T8uzxcofYPlPy7PFyh9g+U/Ls8XKH2D5T8uzxcofYPlPy7PFyh9g+U/Ls8XKH2D5T8uzxcofYPlPy7PFyh9g+U/Ls8XKH2D5T8uzxcofYPlPy7PFyh9g+U/Ls8XKH2D5T8uzxcofYPlPy7PFyh9g+U/Ls8XKH2D5T8uzxcofYPlPy7PFyh9g+U/w6xnDQhD5j/DrGcNCEPmP8OsZw0IQ+Y/w6xnDQhD5j/DrGcNCEPmP8OsZw0IQ+Y/w6xnDQhD5j/DrGcNCEPmP8OsZw0IQ+Y/w6xnDQhD5j/DrGcNCEPmP8OsZw0IQ+Y/w6xnDQhD5j/DrGcNCEPmP8OsZw0IQ+Y/w6xnDQhD5j/DrGcNCEPmP8OsZw0IQ+Y/w6xnDQhD5j/DrGcNCEPmP8OsZw0IQ+Y/w6xnDQhD5j/DrGcNCEPmP8OsZw0IQ+Y/w6xnDQhD5j/DrGcNCEPmP8OsZw0IQ+Y/w6xnDQhD5j/DrGcNCEPmP8OsZw0IQ+Y/w6xnDQhD5j/DrGcNCEPmP8OsZw0IQ+Y/w6xnDQhD5j/DrGcNCEPmP8OsZw0IQ+Y/w6xnDQhD5j/DrGcNCEPmP8OsZw0IQ+Y/w6xnDQhD5j/DrGcNCEPmP8OsZw0IQ+Y/w6xnDQhD5j/DrGcNCEPmP8OsZw0IQ+Y/w6xnDQhD5j/DrGcNCEPmP8OsZw0IQ+Y/w6xnDQhD5j/DrGcNCEPmPxe5uMa3/OY/F7m4xrf85j8XubjGt/zmPxe5uMa3/OY/F7m4xrf85j8XubjGt/zmPxe5uMa3/OY/F7m4xrf85j8XubjGt/zmPxe5uMa3/OY/F7m4xrf85j8XubjGt/zmPxe5uMa3/OY/F7m4xrf85j8XubjGt/zmPxe5uMa3/OY/F7m4xrf85j8XubjGt/zmPxe5uMa3/OY/F7m4xrf85j8XubjGt/zmPxe5uMa3/OY/F7m4xrf85j8XubjGt/zmPxe5uMa3/OY/F7m4xrf85j8XubjGt/zmPxe5uMa3/OY/F7m4xrf85j8XubjGt/zmPxe5uMa3/OY/F7m4xrf85j8XubjGt/zmPxe5uMa3/OY/F7m4xrf85j8XubjGt/zmPxe5uMa3/OY/F7m4xrf85j8XubjGt/zmPxe5uMa3/OY/F7m4xrf85j8XubjGt/zmPxe5uMa3/OY/F7m4xrf85j8XubjGt/zmPxe5uMa3/OY/F7m4xrf85j8XubjGt/zmPxe5uMa3/OY/F7m4xrf85j8wYWx7W7DnPzBhbHtbsOc/MGFse1uw5z8wYWx7W7DnPzBhbHtbsOc/MGFse1uw5z8wYWx7W7DnPzBhbHtbsOc/MGFse1uw5z8wYWx7W7DnPzBhbHtbsOc/MGFse1uw5z8wYWx7W7DnPzBhbHtbsOc/MGFse1uw5z8wYWx7W7DnPzBhbHtbsOc/MGFse1uw5z8wYWx7W7DnPzBhbHtbsOc/MGFse1uw5z8wYWx7W7DnPzBhbHtbsOc/MGFse1uw5z8wYWx7W7DnPzBhbHtbsOc/MGFse1uw5z8wYWx7W7DnPzBhbHtbsOc/MGFse1uw5z8wYWx7W7DnPzBhbHtbsOc/MGFse1uw5z8wYWx7W7DnPzBhbHtbsOc/MGFse1uw5z8wYWx7W7DnPzBhbHtbsOc/MGFse1uw5z8wYWx7W7DnPzBhbHtbsOc/MGFse1uw5z8wYWx7W7DnPzBhbHtbsOc/MGFse1uw5z8wYWx7W7DnPzBhbHtbsOc/MGFse1uw5z8wYWx7W7DnPzBhbHtbsOc/57wb6sNd6D/nvBvqw13oP+e8G+rDXeg/57wb6sNd6D/nvBvqw13oP+e8G+rDXeg/57wb6sNd6D/nvBvqw13oP+e8G+rDXeg/57wb6sNd6D/nvBvqw13oP+e8G+rDXeg/57wb6sNd6D/nvBvqw13oP+e8G+rDXeg/57wb6sNd6D/nvBvqw13oP+e8G+rDXeg/57wb6sNd6D/nvBvqw13oP+e8G+rDXeg/57wb6sNd6D/nvBvqw13oP+e8G+rDXeg/57wb6sNd6D/nvBvqw13oP+e8G+rDXeg/57wb6sNd6D/nvBvqw13oP+e8G+rDXeg/57wb6sNd6D/nvBvqw13oP+e8G+rDXeg/57wb6sNd6D/nvBvqw13oP+e8G+rDXeg/57wb6sNd6D/nvBvqw13oP+e8G+rDXeg/57wb6sNd6D/nvBvqw13oP+e8G+rDXeg/57wb6sNd6D/nvBvqw13oP+e8G+rDXeg/57wb6sNd6D/nvBvqw13oP+e8G+rDXeg/57wb6sNd6D/nvBvqw13oP0veBXXDBOk/S94FdcME6T9L3gV1wwTpP0veBXXDBOk/S94FdcME6T9L3gV1wwTpP0veBXXDBOk/S94FdcME6T9L3gV1wwTpP0veBXXDBOk/S94FdcME6T9L3gV1wwTpP0veBXXDBOk/S94FdcME6T9L3gV1wwTpP0veBXXDBOk/S94FdcME6T9L3gV1wwTpP0veBXXDBOk/S94FdcME6T9L3gV1wwTpP0veBXXDBOk/S94FdcME6T9L3gV1wwTpP0veBXXDBOk/S94FdcME6T9L3gV1wwTpP0veBXXDBOk/S94FdcME6T9L3gV1wwTpP0veBXXDBOk/S94FdcME6T9L3gV1wwTpP0veBXXDBOk/S94FdcME6T9L3gV1wwTpP0veBXXDBOk/S94FdcME6T9L3gV1wwTpP0veBXXDBOk/S94FdcME6T9L3gV1wwTpP0veBXXDBOk/S94FdcME6T9L3gV1wwTpP0veBXXDBOk/S94FdcME6T9L3gV1wwTpP0veBXXDBOk/S94FdcME6T+yvA8uLqXpP7K8Dy4upek/srwPLi6l6T+yvA8uLqXpP7K8Dy4upek/srwPLi6l6T+yvA8uLqXpP7K8Dy4upek/srwPLi6l6T+yvA8uLqXpP7K8Dy4upek/srwPLi6l6T+yvA8uLqXpP7K8Dy4upek/srwPLi6l6T+yvA8uLqXpP7K8Dy4upek/srwPLi6l6T+yvA8uLqXpP7K8Dy4upek/srwPLi6l6T+yvA8uLqXpP7K8Dy4upek/srwPLi6l6T+yvA8uLqXpP7K8Dy4upek/srwPLi6l6T+yvA8uLqXpP7K8Dy4upek/srwPLi6l6T+yvA8uLqXpP7K8Dy4upek/srwPLi6l6T+yvA8uLqXpP7K8Dy4upek/srwPLi6l6T+yvA8uLqXpP7K8Dy4upek/srwPLi6l6T+yvA8uLqXpP7K8Dy4upek/srwPLi6l6T+yvA8uLqXpP7K8Dy4upek/srwPLi6l6T+yvA8uLqXpP7K8Dy4upek/srwPLi6l6T+yvA8uLqXpP7K8Dy4upek/jJNS4tk+6j+Mk1Li2T7qP4yTUuLZPuo/jJNS4tk+6j+Mk1Li2T7qP4yTUuLZPuo/jJNS4tk+6j+Mk1Li2T7qP4yTUuLZPuo/jJNS4tk+6j+Mk1Li2T7qP4yTUuLZPuo/jJNS4tk+6j+Mk1Li2T7qP4yTUuLZPuo/jJNS4tk+6j+Mk1Li2T7qP4yTUuLZPuo/jJNS4tk+6j+Mk1Li2T7qP4yTUuLZPuo/jJNS4tk+6j+Mk1Li2T7qP4yTUuLZPuo/jJNS4tk+6j+Mk1Li2T7qP4yTUuLZPuo/jJNS4tk+6j+Mk1Li2T7qP4yTUuLZPuo/jJNS4tk+6j+Mk1Li2T7qP4yTUuLZPuo/jJNS4tk+6j+Mk1Li2T7qP4yTUuLZPuo/jJNS4tk+6j+Mk1Li2T7qP4yTUuLZPuo/jJNS4tk+6j+Mk1Li2T7qP4yTUuLZPuo/jJNS4tk+6j+Mk1Li2T7qP4yTUuLZPuo/jJNS4tk+6j+Mk1Li2T7qP4yTUuLZPuo/jJNS4tk+6j+Mk1Li2T7qP5WqNSWe0eo/lao1JZ7R6j+VqjUlntHqP5WqNSWe0eo/lao1JZ7R6j+VqjUlntHqP5WqNSWe0eo/lao1JZ7R6j+VqjUlntHqP5WqNSWe0eo/lao1JZ7R6j+VqjUlntHqP5WqNSWe0eo/lao1JZ7R6j+VqjUlntHqP5WqNSWe0eo/lao1JZ7R6j+VqjUlntHqP5WqNSWe0eo/lao1JZ7R6j+VqjUlntHqP5WqNSWe0eo/lao1JZ7R6j+VqjUlntHqP5WqNSWe0eo/lao1JZ7R6j+VqjUlntHqP5WqNSWe0eo/lao1JZ7R6j+VqjUlntHqP5WqNSWe0eo/lao1JZ7R6j+VqjUlntHqP5WqNSWe0eo/lao1JZ7R6j+VqjUlntHqP5WqNSWe0eo/lao1JZ7R6j+VqjUlntHqP5WqNSWe0eo/lao1JZ7R6j+VqjUlntHqP5WqNSWe0eo/lao1JZ7R6j+VqjUlntHqP5WqNSWe0eo/lao1JZ7R6j+VqjUlntHqP5WqNSWe0eo/lao1JZ7R6j/6mxBbVF3rP/qbEFtUXes/+psQW1Rd6z/6mxBbVF3rP/qbEFtUXes/+psQW1Rd6z/6mxBbVF3rP/qbEFtUXes/+psQW1Rd6z/6mxBbVF3rP/qbEFtUXes/+psQW1Rd6z/6mxBbVF3rP/qbEFtUXes/+psQW1Rd6z/6mxBbVF3rP/qbEFtUXes/+psQW1Rd6z/6mxBbVF3rP/qbEFtUXes/+psQW1Rd6z/6mxBbVF3rP/qbEFtUXes/+psQW1Rd6z/6mxBbVF3rP/qbEFtUXes/+psQW1Rd6z/6mxBbVF3rP/qbEFtUXes/+psQW1Rd6z/6mxBbVF3rP/qbEFtUXes/+psQW1Rd6z/6mxBbVF3rP/qbEFtUXes/+psQW1Rd6z/6mxBbVF3rP/qbEFtUXes/+psQW1Rd6z/6mxBbVF3rP/qbEFtUXes/+psQW1Rd6z/6mxBbVF3rP/qbEFtUXes/+psQW1Rd6z/6mxBbVF3rP/qbEFtUXes/+psQW1Rd6z/6mxBbVF3rP/qbEFtUXes/QExTw9fh6z9ATFPD1+HrP0BMU8PX4es/QExTw9fh6z9ATFPD1+HrP0BMU8PX4es/QExTw9fh6z9ATFPD1+HrP0BMU8PX4es/QExTw9fh6z9ATFPD1+HrP0BMU8PX4es/QExTw9fh6z9ATFPD1+HrP0BMU8PX4es/QExTw9fh6z9ATFPD1+HrP0BMU8PX4es/QExTw9fh6z9ATFPD1+HrP0BMU8PX4es/QExTw9fh6z9ATFPD1+HrP0BMU8PX4es/QExTw9fh6z9ATFPD1+HrP0BMU8PX4es/QExTw9fh6z9ATFPD1+HrP0BMU8PX4es/QExTw9fh6z9ATFPD1+HrP0BMU8PX4es/QExTw9fh6z9ATFPD1+HrP0BMU8PX4es/QExTw9fh6z9ATFPD1+HrP0BMU8PX4es/QExTw9fh6z9ATFPD1+HrP0BMU8PX4es/QExTw9fh6z9ATFPD1+HrP0BMU8PX4es/QExTw9fh6z9ATFPD1+HrP0BMU8PX4es/QExTw9fh6z9ATFPD1+HrP/7nMIIFX+w//ucwggVf7D/+5zCCBV/sP/7nMIIFX+w//ucwggVf7D/+5zCCBV/sP/7nMIIFX+w//ucwggVf7D/+5zCCBV/sP/7nMIIFX+w//ucwggVf7D/+5zCCBV/sP/7nMIIFX+w//ucwggVf7D/+5zCCBV/sP/7nMIIFX+w//ucwggVf7D/+5zCCBV/sP/7nMIIFX+w//ucwggVf7D/+5zCCBV/sP/7nMIIFX+w//ucwggVf7D/+5zCCBV/sP/7nMIIFX+w//ucwggVf7D/+5zCCBV/sP/7nMIIFX+w//ucwggVf7D/+5zCCBV/sP/7nMIIFX+w//ucwggVf7D/+5zCCBV/sP/7nMIIFX+w//ucwggVf7D/+5zCCBV/sP/7nMIIFX+w//ucwggVf7D/+5zCCBV/sP/7nMIIFX+w//ucwggVf7D/+5zCCBV/sP/7nMIIFX+w//ucwggVf7D/+5zCCBV/sP/7nMIIFX+w//ucwggVf7D/+5zCCBV/sP/7nMIIFX+w//ucwggVf7D9xXMupvNTsP3Fcy6m81Ow/cVzLqbzU7D9xXMupvNTsP3Fcy6m81Ow/cVzLqbzU7D9xXMupvNTsP3Fcy6m81Ow/cVzLqbzU7D9xXMupvNTsP3Fcy6m81Ow/cVzLqbzU7D9xXMupvNTsP3Fcy6m81Ow/cVzLqbzU7D9xXMupvNTsP3Fcy6m81Ow/cVzLqbzU7D9xXMupvNTsP3Fcy6m81Ow/cVzLqbzU7D9xXMupvNTsP3Fcy6m81Ow/cVzLqbzU7D9xXMupvNTsP3Fcy6m81Ow/cVzLqbzU7D9xXMupvNTsP3Fcy6m81Ow/cVzLqbzU7D9xXMupvNTsP3Fcy6m81Ow/cVzLqbzU7D9xXMupvNTsP3Fcy6m81Ow/cVzLqbzU7D9xXMupvNTsP3Fcy6m81Ow/cVzLqbzU7D9xXMupvNTsP3Fcy6m81Ow/cVzLqbzU7D9xXMupvNTsP3Fcy6m81Ow/cVzLqbzU7D9xXMupvNTsP3Fcy6m81Ow/cVzLqbzU7D9xXMupvNTsP3Fcy6m81Ow/NeHcQt5C7T814dxC3kLtPzXh3ELeQu0/NeHcQt5C7T814dxC3kLtPzXh3ELeQu0/NeHcQt5C7T814dxC3kLtPzXh3ELeQu0/NeHcQt5C7T814dxC3kLtPzXh3ELeQu0/NeHcQt5C7T814dxC3kLtPzXh3ELeQu0/NeHcQt5C7T814dxC3kLtPzXh3ELeQu0/NeHcQt5C7T814dxC3kLtPzXh3ELeQu0/NeHcQt5C7T814dxC3kLtPzXh3ELeQu0/NeHcQt5C7T814dxC3kLtPzXh3ELeQu0/NeHcQt5C7T814dxC3kLtPzXh3ELeQu0/NeHcQt5C7T814dxC3kLtPzXh3ELeQu0/NeHcQt5C7T814dxC3kLtPzXh3ELeQu0/NeHcQt5C7T814dxC3kLtPzXh3ELeQu0/NeHcQt5C7T814dxC3kLtPzXh3ELeQu0/NeHcQt5C7T814dxC3kLtPzXh3ELeQu0/NeHcQt5C7T814dxC3kLtPzXh3ELeQu0/NeHcQt5C7T814dxC3kLtPwhM3VRNqe0/CEzdVE2p7T8ITN1UTantPwhM3VRNqe0/CEzdVE2p7T8ITN1UTantPwhM3VRNqe0/CEzdVE2p7T8ITN1UTantPwhM3VRNqe0/CEzdVE2p7T8ITN1UTantPwhM3VRNqe0/CEzdVE2p7T8ITN1UTantPwhM3VRNqe0/CEzdVE2p7T8ITN1UTantPwhM3VRNqe0/CEzdVE2p7T8ITN1UTantPwhM3VRNqe0/CEzdVE2p7T8ITN1UTantPwhM3VRNqe0/CEzdVE2p7T8ITN1UTantPwhM3VRNqe0/CEzdVE2p7T8ITN1UTantPwhM3VRNqe0/CEzdVE2p7T8ITN1UTantPwhM3VRNqe0/CEzdVE2p7T8ITN1UTantPwhM3VRNqe0/CEzdVE2p7T8ITN1UTantPwhM3VRNqe0/CEzdVE2p7T8ITN1UTantPwhM3VRNqe0/CEzdVE2p7T8ITN1UTantPwhM3VRNqe0/CEzdVE2p7T8ITN1UTantPwhM3VRNqe0/CEzdVE2p7T/MCaHt7gfuP8wJoe3uB+4/zAmh7e4H7j/MCaHt7gfuP8wJoe3uB+4/zAmh7e4H7j/MCaHt7gfuP8wJoe3uB+4/zAmh7e4H7j/MCaHt7gfuP8wJoe3uB+4/zAmh7e4H7j/MCaHt7gfuP8wJoe3uB+4/zAmh7e4H7j/MCaHt7gfuP8wJoe3uB+4/zAmh7e4H7j/MCaHt7gfuP8wJoe3uB+4/zAmh7e4H7j/MCaHt7gfuP8wJoe3uB+4/zAmh7e4H7j/MCaHt7gfuP8wJoe3uB+4/zAmh7e4H7j/MCaHt7gfuP8wJoe3uB+4/zAmh7e4H7j/MCaHt7gfuP8wJoe3uB+4/zAmh7e4H7j/MCaHt7gfuP8wJoe3uB+4/zAmh7e4H7j/MCaHt7gfuP8wJoe3uB+4/zAmh7e4H7j/MCaHt7gfuP8wJoe3uB+4/zAmh7e4H7j/MCaHt7gfuP8wJoe3uB+4/zAmh7e4H7j/MCaHt7gfuP8wJoe3uB+4/zAmh7e4H7j/MCaHt7gfuP8wJoe3uB+4/xrtvKKpe7j/Gu28oql7uP8a7byiqXu4/xrtvKKpe7j/Gu28oql7uP8a7byiqXu4/xrtvKKpe7j/Gu28oql7uP8a7byiqXu4/xrtvKKpe7j/Gu28oql7uP8a7byiqXu4/xrtvKKpe7j/Gu28oql7uP8a7byiqXu4/xrtvKKpe7j/Gu28oql7uP8a7byiqXu4/xrtvKKpe7j/Gu28oql7uP8a7byiqXu4/xrtvKKpe7j/Gu28oql7uP8a7byiqXu4/xrtvKKpe7j/Gu28oql7uP8a7byiqXu4/xrtvKKpe7j/Gu28oql7uP8a7byiqXu4/xrtvKKpe7j/Gu28oql7uP8a7byiqXu4/xrtvKKpe7j/Gu28oql7uP8a7byiqXu4/xrtvKKpe7j/Gu28oql7uP8a7byiqXu4/xrtvKKpe7j/Gu28oql7uP8a7byiqXu4/xrtvKKpe7j/Gu28oql7uP8a7byiqXu4/xrtvKKpe7j/Gu28oql7uP8a7byiqXu4/xrtvKKpe7j/Gu28oql7uP5SbkDRore4/lJuQNGit7j+Um5A0aK3uP5SbkDRore4/lJuQNGit7j+Um5A0aK3uP5SbkDRore4/lJuQNGit7j+Um5A0aK3uP5SbkDRore4/lJuQNGit7j+Um5A0aK3uP5SbkDRore4/lJuQNGit7j+Um5A0aK3uP5SbkDRore4/lJuQNGit7j+Um5A0aK3uP5SbkDRore4/lJuQNGit7j+Um5A0aK3uP5SbkDRore4/lJuQNGit7j+Um5A0aK3uP5SbkDRore4/lJuQNGit7j+Um5A0aK3uP5SbkDRore4/lJuQNGit7j+Um5A0aK3uP5SbkDRore4/lJuQNGit7j+Um5A0aK3uP5SbkDRore4/lJuQNGit7j+Um5A0aK3uP5SbkDRore4/lJuQNGit7j+Um5A0aK3uP5SbkDRore4/lJuQNGit7j+Um5A0aK3uP5SbkDRore4/lJuQNGit7j+Um5A0aK3uP5SbkDRore4/lJuQNGit7j+Um5A0aK3uP5SbkDRore4/lJuQNGit7j//7EpbFPTuP//sSlsU9O4//+xKWxT07j//7EpbFPTuP//sSlsU9O4//+xKWxT07j//7EpbFPTuP//sSlsU9O4//+xKWxT07j//7EpbFPTuP//sSlsU9O4//+xKWxT07j//7EpbFPTuP//sSlsU9O4//+xKWxT07j//7EpbFPTuP//sSlsU9O4//+xKWxT07j//7EpbFPTuP//sSlsU9O4//+xKWxT07j//7EpbFPTuP//sSlsU9O4//+xKWxT07j//7EpbFPTuP//sSlsU9O4//+xKWxT07j//7EpbFPTuP//sSlsU9O4//+xKWxT07j//7EpbFPTuP//sSlsU9O4//+xKWxT07j//7EpbFPTuP//sSlsU9O4//+xKWxT07j//7EpbFPTuP//sSlsU9O4//+xKWxT07j//7EpbFPTuP//sSlsU9O4//+xKWxT07j//7EpbFPTuP//sSlsU9O4//+xKWxT07j//7EpbFPTuP//sSlsU9O4//+xKWxT07j//7EpbFPTuP//sSlsU9O4/aelYBZwy7z9p6VgFnDLvP2npWAWcMu8/aelYBZwy7z9p6VgFnDLvP2npWAWcMu8/aelYBZwy7z9p6VgFnDLvP2npWAWcMu8/aelYBZwy7z9p6VgFnDLvP2npWAWcMu8/aelYBZwy7z9p6VgFnDLvP2npWAWcMu8/aelYBZwy7z9p6VgFnDLvP2npWAWcMu8/aelYBZwy7z9p6VgFnDLvP2npWAWcMu8/aelYBZwy7z9p6VgFnDLvP2npWAWcMu8/aelYBZwy7z9p6VgFnDLvP2npWAWcMu8/aelYBZwy7z9p6VgFnDLvP2npWAWcMu8/aelYBZwy7z9p6VgFnDLvP2npWAWcMu8/aelYBZwy7z9p6VgFnDLvP2npWAWcMu8/aelYBZwy7z9p6VgFnDLvP2npWAWcMu8/aelYBZwy7z9p6VgFnDLvP2npWAWcMu8/aelYBZwy7z9p6VgFnDLvP2npWAWcMu8/aelYBZwy7z9p6VgFnDLvP2npWAWcMu8/aelYBZwy7z9p6VgFnDLvP+i1y7/uaO8/6LXLv+5o7z/otcu/7mjvP+i1y7/uaO8/6LXLv+5o7z/otcu/7mjvP+i1y7/uaO8/6LXLv+5o7z/otcu/7mjvP+i1y7/uaO8/6LXLv+5o7z/otcu/7mjvP+i1y7/uaO8/6LXLv+5o7z/otcu/7mjvP+i1y7/uaO8/6LXLv+5o7z/otcu/7mjvP+i1y7/uaO8/6LXLv+5o7z/otcu/7mjvP+i1y7/uaO8/6LXLv+5o7z/otcu/7mjvP+i1y7/uaO8/6LXLv+5o7z/otcu/7mjvP+i1y7/uaO8/6LXLv+5o7z/otcu/7mjvP+i1y7/uaO8/6LXLv+5o7z/otcu/7mjvP+i1y7/uaO8/6LXLv+5o7z/otcu/7mjvP+i1y7/uaO8/6LXLv+5o7z/otcu/7mjvP+i1y7/uaO8/6LXLv+5o7z/otcu/7mjvP+i1y7/uaO8/6LXLv+5o7z/otcu/7mjvP+i1y7/uaO8/6LXLv+5o7z/otcu/7mjvP+i1y7/uaO8/6LXLv+5o7z/GGl9A/pbvP8YaX0D+lu8/xhpfQP6W7z/GGl9A/pbvP8YaX0D+lu8/xhpfQP6W7z/GGl9A/pbvP8YaX0D+lu8/xhpfQP6W7z/GGl9A/pbvP8YaX0D+lu8/xhpfQP6W7z/GGl9A/pbvP8YaX0D+lu8/xhpfQP6W7z/GGl9A/pbvP8YaX0D+lu8/xhpfQP6W7z/GGl9A/pbvP8YaX0D+lu8/xhpfQP6W7z/GGl9A/pbvP8YaX0D+lu8/xhpfQP6W7z/GGl9A/pbvP8YaX0D+lu8/xhpfQP6W7z/GGl9A/pbvP8YaX0D+lu8/xhpfQP6W7z/GGl9A/pbvP8YaX0D+lu8/xhpfQP6W7z/GGl9A/pbvP8YaX0D+lu8/xhpfQP6W7z/GGl9A/pbvP8YaX0D+lu8/xhpfQP6W7z/GGl9A/pbvP8YaX0D+lu8/xhpfQP6W7z/GGl9A/pbvP8YaX0D+lu8/xhpfQP6W7z/GGl9A/pbvP8YaX0D+lu8/xhpfQP6W7z/GGl9A/pbvP8YaX0D+lu8/7Ng7ab687z/s2DtpvrzvP+zYO2m+vO8/7Ng7ab687z/s2DtpvrzvP+zYO2m+vO8/7Ng7ab687z/s2DtpvrzvP+zYO2m+vO8/7Ng7ab687z/s2DtpvrzvP+zYO2m+vO8/7Ng7ab687z/s2DtpvrzvP+zYO2m+vO8/7Ng7ab687z/s2DtpvrzvP+zYO2m+vO8/7Ng7ab687z/s2DtpvrzvP+zYO2m+vO8/7Ng7ab687z/s2DtpvrzvP+zYO2m+vO8/7Ng7ab687z/s2DtpvrzvP+zYO2m+vO8/7Ng7ab687z/s2DtpvrzvP+zYO2m+vO8/7Ng7ab687z/s2DtpvrzvP+zYO2m+vO8/7Ng7ab687z/s2DtpvrzvP+zYO2m+vO8/7Ng7ab687z/s2DtpvrzvP+zYO2m+vO8/7Ng7ab687z/s2DtpvrzvP+zYO2m+vO8/7Ng7ab687z/s2DtpvrzvP+zYO2m+vO8/7Ng7ab687z/s2DtpvrzvP+zYO2m+vO8/7Ng7ab687z/s2DtpvrzvPyCgJ0wl2u8/IKAnTCXa7z8goCdMJdrvPyCgJ0wl2u8/IKAnTCXa7z8goCdMJdrvPyCgJ0wl2u8/IKAnTCXa7z8goCdMJdrvPyCgJ0wl2u8/IKAnTCXa7z8goCdMJdrvPyCgJ0wl2u8/IKAnTCXa7z8goCdMJdrvPyCgJ0wl2u8/IKAnTCXa7z8goCdMJdrvPyCgJ0wl2u8/IKAnTCXa7z8goCdMJdrvPyCgJ0wl2u8/IKAnTCXa7z8goCdMJdrvPyCgJ0wl2u8/IKAnTCXa7z8goCdMJdrvPyCgJ0wl2u8/IKAnTCXa7z8goCdMJdrvPyCgJ0wl2u8/IKAnTCXa7z8goCdMJdrvPyCgJ0wl2u8/IKAnTCXa7z8goCdMJdrvPyCgJ0wl2u8/IKAnTCXa7z8goCdMJdrvPyCgJ0wl2u8/IKAnTCXa7z8goCdMJdrvPyCgJ0wl2u8/IKAnTCXa7z8goCdMJdrvPyCgJ0wl2u8/IKAnTCXa7z8goCdMJdrvPyCgJ0wl2u8/IKAnTCXa7z9szyEtK+/vP2zPIS0r7+8/bM8hLSvv7z9szyEtK+/vP2zPIS0r7+8/bM8hLSvv7z9szyEtK+/vP2zPIS0r7+8/bM8hLSvv7z9szyEtK+/vP2zPIS0r7+8/bM8hLSvv7z9szyEtK+/vP2zPIS0r7+8/bM8hLSvv7z9szyEtK+/vP2zPIS0r7+8/bM8hLSvv7z9szyEtK+/vP2zPIS0r7+8/bM8hLSvv7z9szyEtK+/vP2zPIS0r7+8/bM8hLSvv7z9szyEtK+/vP2zPIS0r7+8/bM8hLSvv7z9szyEtK+/vP2zPIS0r7+8/bM8hLSvv7z9szyEtK+/vP2zPIS0r7+8/bM8hLSvv7z9szyEtK+/vP2zPIS0r7+8/bM8hLSvv7z9szyEtK+/vP2zPIS0r7+8/bM8hLSvv7z9szyEtK+/vP2zPIS0r7+8/bM8hLSvv7z9szyEtK+/vP2zPIS0r7+8/bM8hLSvv7z9szyEtK+/vP2zPIS0r7+8/bM8hLSvv7z9szyEtK+/vP2zPIS0r7+8/yk9shMr77z/KT2yEyvvvP8pPbITK++8/yk9shMr77z/KT2yEyvvvP8pPbITK++8/yk9shMr77z/KT2yEyvvvP8pPbITK++8/yk9shMr77z/KT2yEyvvvP8pPbITK++8/yk9shMr77z/KT2yEyvvvP8pPbITK++8/yk9shMr77z/KT2yEyvvvP8pPbITK++8/yk9shMr77z/KT2yEyvvvP8pPbITK++8/yk9shMr77z/KT2yEyvvvP8pPbITK++8/yk9shMr77z/KT2yEyvvvP8pPbITK++8/yk9shMr77z/KT2yEyvvvP8pPbITK++8/yk9shMr77z/KT2yEyvvvP8pPbITK++8/yk9shMr77z/KT2yEyvvvP8pPbITK++8/yk9shMr77z/KT2yEyvvvP8pPbITK++8/yk9shMr77z/KT2yEyvvvP8pPbITK++8/yk9shMr77z/KT2yEyvvvP8pPbITK++8/yk9shMr77z/KT2yEyvvvP8pPbITK++8/yk9shMr77z/KT2yEyvvvPwAAAAAAAPA/AAAAAAAA8D8AAAAAAADwPwAAAAAAAPA/AAAAAAAA8D8AAAAAAADwPwAAAAAAAPA/AAAAAAAA8D8AAAAAAADwPwAAAAAAAPA/AAAAAAAA8D8AAAAAAADwPwAAAAAAAPA/AAAAAAAA8D8AAAAAAADwPwAAAAAAAPA/AAAAAAAA8D8AAAAAAADwPwAAAAAAAPA/AAAAAAAA8D8AAAAAAADwPwAAAAAAAPA/AAAAAAAA8D8AAAAAAADwPwAAAAAAAPA/AAAAAAAA8D8AAAAAAADwPwAAAAAAAPA/AAAAAAAA8D8AAAAAAADwPwAAAAAAAPA/AAAAAAAA8D8AAAAAAADwPwAAAAAAAPA/AAAAAAAA8D8AAAAAAADwPwAAAAAAAPA/AAAAAAAA8D8AAAAAAADwPwAAAAAAAPA/AAAAAAAA8D8AAAAAAADwPwAAAAAAAPA/AAAAAAAA8D8AAAAAAADwPwAAAAAAAPA/AAAAAAAA8D8AAAAAAADwPwAAAAAAAPA/AAAAAAAA8D8=",
          "dtype": "f8",
          "shape": "50, 50"
         }
        },
        {
         "marker": {
          "color": "blue",
          "size": 8
         },
         "mode": "markers+text",
         "name": "Learning Phase",
         "scene": "scene",
         "showlegend": true,
         "text": [
          "L1",
          "L2",
          "L3",
          "L4"
         ],
         "type": "scatter3d",
         "x": {
          "bdata": "QviITh2/Qjw76ZcPCAm+P6DjvLQ45bs/1Cnqirfg6z8=",
          "dtype": "f8"
         },
         "y": {
          "bdata": "3NA6pQIF8D/t7rELxobWP6DjvLQ45cs/zS8wej/c3z8=",
          "dtype": "f8"
         },
         "z": {
          "bdata": "AAAAAAAAAAA76ZcPCAnuPxSAVMvfYe8/zS8wej/cvz8=",
          "dtype": "f8"
         }
        },
        {
         "marker": {
          "color": "red",
          "size": 8
         },
         "mode": "markers+text",
         "name": "Decision Phase",
         "scene": "scene2",
         "showlegend": true,
         "text": [
          "D1",
          "D2",
          "D3"
         ],
         "type": "scatter3d",
         "x": {
          "bdata": "VuIPzizKvT9W4g/OLMq9P1biD84syr0/",
          "dtype": "f8"
         },
         "y": {
          "bdata": "wumLmqFX1j/C6YuaoVfWP8Lpi5qhV9Y/",
          "dtype": "f8"
         },
         "z": {
          "bdata": "VuIPzizK7T9W4g/OLMrtP1biD84syu0/",
          "dtype": "f8"
         }
        }
       ],
       "layout": {
        "annotations": [
         {
          "font": {
           "size": 16
          },
          "showarrow": false,
          "text": "Learning phase",
          "x": 0.225,
          "xanchor": "center",
          "xref": "paper",
          "y": 1,
          "yanchor": "bottom",
          "yref": "paper"
         },
         {
          "font": {
           "size": 16
          },
          "showarrow": false,
          "text": "Decision phase",
          "x": 0.775,
          "xanchor": "center",
          "xref": "paper",
          "y": 1,
          "yanchor": "bottom",
          "yref": "paper"
         }
        ],
        "height": 600,
        "scene": {
         "domain": {
          "x": [
           0,
           0.45
          ],
          "y": [
           0,
           1
          ]
         }
        },
        "scene2": {
         "domain": {
          "x": [
           0.55,
           1
          ],
          "y": [
           0,
           1
          ]
         }
        },
        "showlegend": true,
        "template": {
         "data": {
          "bar": [
           {
            "error_x": {
             "color": "#2a3f5f"
            },
            "error_y": {
             "color": "#2a3f5f"
            },
            "marker": {
             "line": {
              "color": "#E5ECF6",
              "width": 0.5
             },
             "pattern": {
              "fillmode": "overlay",
              "size": 10,
              "solidity": 0.2
             }
            },
            "type": "bar"
           }
          ],
          "barpolar": [
           {
            "marker": {
             "line": {
              "color": "#E5ECF6",
              "width": 0.5
             },
             "pattern": {
              "fillmode": "overlay",
              "size": 10,
              "solidity": 0.2
             }
            },
            "type": "barpolar"
           }
          ],
          "carpet": [
           {
            "aaxis": {
             "endlinecolor": "#2a3f5f",
             "gridcolor": "white",
             "linecolor": "white",
             "minorgridcolor": "white",
             "startlinecolor": "#2a3f5f"
            },
            "baxis": {
             "endlinecolor": "#2a3f5f",
             "gridcolor": "white",
             "linecolor": "white",
             "minorgridcolor": "white",
             "startlinecolor": "#2a3f5f"
            },
            "type": "carpet"
           }
          ],
          "choropleth": [
           {
            "colorbar": {
             "outlinewidth": 0,
             "ticks": ""
            },
            "type": "choropleth"
           }
          ],
          "contour": [
           {
            "colorbar": {
             "outlinewidth": 0,
             "ticks": ""
            },
            "colorscale": [
             [
              0,
              "#0d0887"
             ],
             [
              0.1111111111111111,
              "#46039f"
             ],
             [
              0.2222222222222222,
              "#7201a8"
             ],
             [
              0.3333333333333333,
              "#9c179e"
             ],
             [
              0.4444444444444444,
              "#bd3786"
             ],
             [
              0.5555555555555556,
              "#d8576b"
             ],
             [
              0.6666666666666666,
              "#ed7953"
             ],
             [
              0.7777777777777778,
              "#fb9f3a"
             ],
             [
              0.8888888888888888,
              "#fdca26"
             ],
             [
              1,
              "#f0f921"
             ]
            ],
            "type": "contour"
           }
          ],
          "contourcarpet": [
           {
            "colorbar": {
             "outlinewidth": 0,
             "ticks": ""
            },
            "type": "contourcarpet"
           }
          ],
          "heatmap": [
           {
            "colorbar": {
             "outlinewidth": 0,
             "ticks": ""
            },
            "colorscale": [
             [
              0,
              "#0d0887"
             ],
             [
              0.1111111111111111,
              "#46039f"
             ],
             [
              0.2222222222222222,
              "#7201a8"
             ],
             [
              0.3333333333333333,
              "#9c179e"
             ],
             [
              0.4444444444444444,
              "#bd3786"
             ],
             [
              0.5555555555555556,
              "#d8576b"
             ],
             [
              0.6666666666666666,
              "#ed7953"
             ],
             [
              0.7777777777777778,
              "#fb9f3a"
             ],
             [
              0.8888888888888888,
              "#fdca26"
             ],
             [
              1,
              "#f0f921"
             ]
            ],
            "type": "heatmap"
           }
          ],
          "histogram": [
           {
            "marker": {
             "pattern": {
              "fillmode": "overlay",
              "size": 10,
              "solidity": 0.2
             }
            },
            "type": "histogram"
           }
          ],
          "histogram2d": [
           {
            "colorbar": {
             "outlinewidth": 0,
             "ticks": ""
            },
            "colorscale": [
             [
              0,
              "#0d0887"
             ],
             [
              0.1111111111111111,
              "#46039f"
             ],
             [
              0.2222222222222222,
              "#7201a8"
             ],
             [
              0.3333333333333333,
              "#9c179e"
             ],
             [
              0.4444444444444444,
              "#bd3786"
             ],
             [
              0.5555555555555556,
              "#d8576b"
             ],
             [
              0.6666666666666666,
              "#ed7953"
             ],
             [
              0.7777777777777778,
              "#fb9f3a"
             ],
             [
              0.8888888888888888,
              "#fdca26"
             ],
             [
              1,
              "#f0f921"
             ]
            ],
            "type": "histogram2d"
           }
          ],
          "histogram2dcontour": [
           {
            "colorbar": {
             "outlinewidth": 0,
             "ticks": ""
            },
            "colorscale": [
             [
              0,
              "#0d0887"
             ],
             [
              0.1111111111111111,
              "#46039f"
             ],
             [
              0.2222222222222222,
              "#7201a8"
             ],
             [
              0.3333333333333333,
              "#9c179e"
             ],
             [
              0.4444444444444444,
              "#bd3786"
             ],
             [
              0.5555555555555556,
              "#d8576b"
             ],
             [
              0.6666666666666666,
              "#ed7953"
             ],
             [
              0.7777777777777778,
              "#fb9f3a"
             ],
             [
              0.8888888888888888,
              "#fdca26"
             ],
             [
              1,
              "#f0f921"
             ]
            ],
            "type": "histogram2dcontour"
           }
          ],
          "mesh3d": [
           {
            "colorbar": {
             "outlinewidth": 0,
             "ticks": ""
            },
            "type": "mesh3d"
           }
          ],
          "parcoords": [
           {
            "line": {
             "colorbar": {
              "outlinewidth": 0,
              "ticks": ""
             }
            },
            "type": "parcoords"
           }
          ],
          "pie": [
           {
            "automargin": true,
            "type": "pie"
           }
          ],
          "scatter": [
           {
            "fillpattern": {
             "fillmode": "overlay",
             "size": 10,
             "solidity": 0.2
            },
            "type": "scatter"
           }
          ],
          "scatter3d": [
           {
            "line": {
             "colorbar": {
              "outlinewidth": 0,
              "ticks": ""
             }
            },
            "marker": {
             "colorbar": {
              "outlinewidth": 0,
              "ticks": ""
             }
            },
            "type": "scatter3d"
           }
          ],
          "scattercarpet": [
           {
            "marker": {
             "colorbar": {
              "outlinewidth": 0,
              "ticks": ""
             }
            },
            "type": "scattercarpet"
           }
          ],
          "scattergeo": [
           {
            "marker": {
             "colorbar": {
              "outlinewidth": 0,
              "ticks": ""
             }
            },
            "type": "scattergeo"
           }
          ],
          "scattergl": [
           {
            "marker": {
             "colorbar": {
              "outlinewidth": 0,
              "ticks": ""
             }
            },
            "type": "scattergl"
           }
          ],
          "scattermap": [
           {
            "marker": {
             "colorbar": {
              "outlinewidth": 0,
              "ticks": ""
             }
            },
            "type": "scattermap"
           }
          ],
          "scattermapbox": [
           {
            "marker": {
             "colorbar": {
              "outlinewidth": 0,
              "ticks": ""
             }
            },
            "type": "scattermapbox"
           }
          ],
          "scatterpolar": [
           {
            "marker": {
             "colorbar": {
              "outlinewidth": 0,
              "ticks": ""
             }
            },
            "type": "scatterpolar"
           }
          ],
          "scatterpolargl": [
           {
            "marker": {
             "colorbar": {
              "outlinewidth": 0,
              "ticks": ""
             }
            },
            "type": "scatterpolargl"
           }
          ],
          "scatterternary": [
           {
            "marker": {
             "colorbar": {
              "outlinewidth": 0,
              "ticks": ""
             }
            },
            "type": "scatterternary"
           }
          ],
          "surface": [
           {
            "colorbar": {
             "outlinewidth": 0,
             "ticks": ""
            },
            "colorscale": [
             [
              0,
              "#0d0887"
             ],
             [
              0.1111111111111111,
              "#46039f"
             ],
             [
              0.2222222222222222,
              "#7201a8"
             ],
             [
              0.3333333333333333,
              "#9c179e"
             ],
             [
              0.4444444444444444,
              "#bd3786"
             ],
             [
              0.5555555555555556,
              "#d8576b"
             ],
             [
              0.6666666666666666,
              "#ed7953"
             ],
             [
              0.7777777777777778,
              "#fb9f3a"
             ],
             [
              0.8888888888888888,
              "#fdca26"
             ],
             [
              1,
              "#f0f921"
             ]
            ],
            "type": "surface"
           }
          ],
          "table": [
           {
            "cells": {
             "fill": {
              "color": "#EBF0F8"
             },
             "line": {
              "color": "white"
             }
            },
            "header": {
             "fill": {
              "color": "#C8D4E3"
             },
             "line": {
              "color": "white"
             }
            },
            "type": "table"
           }
          ]
         },
         "layout": {
          "annotationdefaults": {
           "arrowcolor": "#2a3f5f",
           "arrowhead": 0,
           "arrowwidth": 1
          },
          "autotypenumbers": "strict",
          "coloraxis": {
           "colorbar": {
            "outlinewidth": 0,
            "ticks": ""
           }
          },
          "colorscale": {
           "diverging": [
            [
             0,
             "#8e0152"
            ],
            [
             0.1,
             "#c51b7d"
            ],
            [
             0.2,
             "#de77ae"
            ],
            [
             0.3,
             "#f1b6da"
            ],
            [
             0.4,
             "#fde0ef"
            ],
            [
             0.5,
             "#f7f7f7"
            ],
            [
             0.6,
             "#e6f5d0"
            ],
            [
             0.7,
             "#b8e186"
            ],
            [
             0.8,
             "#7fbc41"
            ],
            [
             0.9,
             "#4d9221"
            ],
            [
             1,
             "#276419"
            ]
           ],
           "sequential": [
            [
             0,
             "#0d0887"
            ],
            [
             0.1111111111111111,
             "#46039f"
            ],
            [
             0.2222222222222222,
             "#7201a8"
            ],
            [
             0.3333333333333333,
             "#9c179e"
            ],
            [
             0.4444444444444444,
             "#bd3786"
            ],
            [
             0.5555555555555556,
             "#d8576b"
            ],
            [
             0.6666666666666666,
             "#ed7953"
            ],
            [
             0.7777777777777778,
             "#fb9f3a"
            ],
            [
             0.8888888888888888,
             "#fdca26"
            ],
            [
             1,
             "#f0f921"
            ]
           ],
           "sequentialminus": [
            [
             0,
             "#0d0887"
            ],
            [
             0.1111111111111111,
             "#46039f"
            ],
            [
             0.2222222222222222,
             "#7201a8"
            ],
            [
             0.3333333333333333,
             "#9c179e"
            ],
            [
             0.4444444444444444,
             "#bd3786"
            ],
            [
             0.5555555555555556,
             "#d8576b"
            ],
            [
             0.6666666666666666,
             "#ed7953"
            ],
            [
             0.7777777777777778,
             "#fb9f3a"
            ],
            [
             0.8888888888888888,
             "#fdca26"
            ],
            [
             1,
             "#f0f921"
            ]
           ]
          },
          "colorway": [
           "#636efa",
           "#EF553B",
           "#00cc96",
           "#ab63fa",
           "#FFA15A",
           "#19d3f3",
           "#FF6692",
           "#B6E880",
           "#FF97FF",
           "#FECB52"
          ],
          "font": {
           "color": "#2a3f5f"
          },
          "geo": {
           "bgcolor": "white",
           "lakecolor": "white",
           "landcolor": "#E5ECF6",
           "showlakes": true,
           "showland": true,
           "subunitcolor": "white"
          },
          "hoverlabel": {
           "align": "left"
          },
          "hovermode": "closest",
          "mapbox": {
           "style": "light"
          },
          "paper_bgcolor": "white",
          "plot_bgcolor": "#E5ECF6",
          "polar": {
           "angularaxis": {
            "gridcolor": "white",
            "linecolor": "white",
            "ticks": ""
           },
           "bgcolor": "#E5ECF6",
           "radialaxis": {
            "gridcolor": "white",
            "linecolor": "white",
            "ticks": ""
           }
          },
          "scene": {
           "xaxis": {
            "backgroundcolor": "#E5ECF6",
            "gridcolor": "white",
            "gridwidth": 2,
            "linecolor": "white",
            "showbackground": true,
            "ticks": "",
            "zerolinecolor": "white"
           },
           "yaxis": {
            "backgroundcolor": "#E5ECF6",
            "gridcolor": "white",
            "gridwidth": 2,
            "linecolor": "white",
            "showbackground": true,
            "ticks": "",
            "zerolinecolor": "white"
           },
           "zaxis": {
            "backgroundcolor": "#E5ECF6",
            "gridcolor": "white",
            "gridwidth": 2,
            "linecolor": "white",
            "showbackground": true,
            "ticks": "",
            "zerolinecolor": "white"
           }
          },
          "shapedefaults": {
           "line": {
            "color": "#2a3f5f"
           }
          },
          "ternary": {
           "aaxis": {
            "gridcolor": "white",
            "linecolor": "white",
            "ticks": ""
           },
           "baxis": {
            "gridcolor": "white",
            "linecolor": "white",
            "ticks": ""
           },
           "bgcolor": "#E5ECF6",
           "caxis": {
            "gridcolor": "white",
            "linecolor": "white",
            "ticks": ""
           }
          },
          "title": {
           "x": 0.05
          },
          "xaxis": {
           "automargin": true,
           "gridcolor": "white",
           "linecolor": "white",
           "ticks": "",
           "title": {
            "standoff": 15
           },
           "zerolinecolor": "white",
           "zerolinewidth": 2
          },
          "yaxis": {
           "automargin": true,
           "gridcolor": "white",
           "linecolor": "white",
           "ticks": "",
           "title": {
            "standoff": 15
           },
           "zerolinecolor": "white",
           "zerolinewidth": 2
          }
         }
        },
        "title": {
         "text": "Reference Points Generared by the ADM"
        },
        "width": 1200
       }
      }
     },
     "metadata": {},
     "output_type": "display_data"
    }
   ],
   "source": [
    "import plotly.graph_objects as go\n",
    "import numpy as np\n",
    "from plotly.subplots import make_subplots\n",
    "\n",
    "reference_points = np.array(reference_points)\n",
    "phi = np.linspace(0, np.pi/2, 50) \n",
    "theta = np.linspace(0, np.pi/2, 50)  \n",
    "phi, theta = np.meshgrid(phi, theta)\n",
    "\n",
    "x = np.cos(theta) * np.cos(phi)\n",
    "y = np.cos(theta) * np.sin(phi)\n",
    "z = np.sin(theta)\n",
    "\n",
    "# Separate reference points by phase\n",
    "learning_points = reference_points[:4]  # First 4 iterations\n",
    "decision_points = reference_points[4:]  # Remaining iterations\n",
    "\n",
    "# Create figure with two subplots\n",
    "fig = make_subplots(\n",
    "    rows=1, cols=2,\n",
    "    specs=[[{'type': 'scene'}, {'type': 'scene'}]],\n",
    "    subplot_titles=(\"Learning phase\", \"Decision phase\")\n",
    ")\n",
    "\n",
    "# Add Pareto front to both views\n",
    "fig.add_trace(\n",
    "    go.Surface(x=x, y=y, z=z, colorscale='Greys', showscale=False, opacity=0.3, name='Pareto Front'),\n",
    "    row=1, col=1\n",
    ")\n",
    "fig.add_trace(\n",
    "    go.Surface(x=x, y=y, z=z, colorscale='Greys', showscale=False, opacity=0.3, name='Pareto Front'),\n",
    "    row=1, col=2\n",
    ")\n",
    "\n",
    "# Add learning points\n",
    "fig.add_trace(\n",
    "    go.Scatter3d(\n",
    "        x=learning_points[:, 0], y=learning_points[:, 1], z=learning_points[:, 2],\n",
    "        mode='markers+text',\n",
    "        marker=dict(size=8, color='blue'),\n",
    "        text=[f'L{i+1}' for i in range(len(learning_points))],\n",
    "        name='Learning Phase',\n",
    "        showlegend=True\n",
    "    ),\n",
    "    row=1, col=1\n",
    ")\n",
    "\n",
    "# Add decision points\n",
    "fig.add_trace(\n",
    "    go.Scatter3d(\n",
    "        x=decision_points[:, 0], y=decision_points[:, 1], z=decision_points[:, 2],\n",
    "        mode='markers+text',\n",
    "        marker=dict(size=8, color='red'),\n",
    "        text=[f'D{i+1}' for i in range(len(decision_points))],\n",
    "        name='Decision Phase',\n",
    "        showlegend=True\n",
    "    ),\n",
    "    row=1, col=2\n",
    ")\n",
    "\n",
    "# Update layout\n",
    "fig.update_layout(\n",
    "    title='Reference Points Generared by the ADM',\n",
    "    width=1200,\n",
    "    height=600,\n",
    "    showlegend=True,\n",
    ")\n",
    "\n",
    "fig.show()"
   ]
  },
  {
   "cell_type": "markdown",
   "id": "3af32fb9",
   "metadata": {},
   "source": [
    "The performance comparison between NSGA-III and RVEA is evaluated using two performance indicators: R-IGD (lower is better) measures how well solutions converge to and spread along the Pareto front in the region of interest, while R-HV (higher is better) indicates the volume of dominated objective space. The optimization process progresses through two phases: a learning phase (iterations 1-4) where algorithms explore the objective space with spread-out reference points, followed by a decision phase (iterations 5-7) that focuses on refining solutions in the identified preferred region. By comparing these indicators across both phases, we can assess which algorithm better balances exploration (finding diverse solutions) and exploitation (refining solutions in preferred regions)."
   ]
  },
  {
   "cell_type": "markdown",
   "id": "a43542f8",
   "metadata": {},
   "source": [
    "## Using ADM with different types of preference information\n",
    "\n",
    "The ADM proposed by Afsar et al. supports three different ways to express preferences during the optimization process:\n",
    "\n",
    "1. **Reference Points**: Single points in the objective space that guide the search towards specific regions of interest.\n",
    "\n",
    "2. **Preferred Ranges**: Rectangular regions defined by minimum and maximum values for each objective, allowing the decision maker to specify acceptable ranges.\n",
    "\n",
    "3. **Preferred Solutions**: Multiple points that define several regions of interest simultaneously, enabling parallel exploration of different trade-offs.\n",
    "\n",
    "> **Reference:**  \n",
    "> Afsar, B., Ruiz, A. B., & Miettinen, K. (2023).  \n",
    "> Comparing interactive evolutionary multiobjective optimization methods with an artificial decision maker.\n",
    "> Complex & Intelligent Systems, Volume 9, pages 1165–1181. Springer.\n",
    "\n",
    "In this section, we will show how to use each preference type with the ADM. "
   ]
  },
  {
   "cell_type": "code",
   "execution_count": null,
   "id": "926305a0",
   "metadata": {},
   "outputs": [],
   "source": [
    "problem = dtlz2(n_objectives=3, n_variables=12)\n",
    "iterations_learning = 4\n",
    "iterations_decision = 3\n",
    "\n",
    "# Function to create and run ADM with different preference types\n",
    "def run_adm_with_preference(preference_type):\n",
    "    # Initialize ADM and solver. \n",
    "    # The first iteration is always done with a reference point\n",
    "    adm = ADMAfsar(\n",
    "        problem=problem,\n",
    "        it_learning_phase=iterations_learning,\n",
    "        it_decision_phase=iterations_decision,\n",
    "        number_of_vectors=100,\n",
    "    )\n",
    "    \n",
    "    solver_nsga3, _ = nsga3(\n",
    "        problem=problem,\n",
    "        reference_vector_options={\n",
    "            \"interactive_adaptation\": \"reference_point\",          \n",
    "            \"reference_point\": dict(zip(symbols, adm.preference)),\n",
    "            \"number_of_vectors\": 100,\n",
    "        }\n",
    "    )\n",
    "    \n",
    "    results = solver_nsga3()\n",
    "    preferences = []\n",
    "    \n",
    "    # Collect preferences through iterations\n",
    "    while adm.has_next():\n",
    "        front = results.outputs.select(['f_1_min', 'f_2_min', 'f_3_min']).to_numpy()\n",
    "        adm.get_next_preference(front, preference_type=preference_type)\n",
    "        preferences.append(adm.preference)\n",
    "\n",
    "        \n",
    "        solver_nsga3, _ = nsga3(\n",
    "            problem=problem,\n",
    "            reference_vector_options={\n",
    "                \"interactive_adaptation\": preference_type,\n",
    "                # Update preferences based on type\n",
    "                \"preferred_ranges\": {\n",
    "                    symbol: [adm.preference[i][0], adm.preference[i][1]]\n",
    "                    for i, symbol in enumerate(symbols)\n",
    "                } if preference_type == \"preferred_ranges\" else None,\n",
    "                \"reference_point\": dict(zip(symbols, adm.preference)) if preference_type == \"reference_point\" else None,\n",
    "                \"preferred_solutions\": {\n",
    "                    symbol: adm.preference[:, i].tolist() if adm.preference.ndim == 2 else [adm.preference[i]]\n",
    "                    for i, symbol in enumerate(symbols)\n",
    "                } if preference_type == \"preferred_solutions\" else None,                \n",
    "                \"number_of_vectors\": 100,\n",
    "            }\n",
    "        )\n",
    "        results = solver_nsga3()\n",
    "    \n",
    "    return preferences\n",
    "\n",
    "# Run ADM with different preference types\n",
    "reference_points = run_adm_with_preference(\"reference_point\")\n",
    "ranges = run_adm_with_preference(\"preferred_ranges\")\n",
    "preferred_solutions = run_adm_with_preference(\"preferred_solutions\")"
   ]
  },
  {
   "cell_type": "markdown",
   "id": "4d17ef85",
   "metadata": {},
   "source": [
    "### Visualizing Different Preference Types\n",
    "\n",
    "Here we create a three-panel visualization to compare how different preference types are expressed during the optimization process:\n",
    "\n",
    "1. **Left Panel**: Shows reference points during both learning (blue) and decision (red) phases.\n",
    "\n",
    "2. **Middle Panel**: Displays preferred ranges as rectangular regions.\n",
    "\n",
    "3. **Right Panel**: Illustrates preferred solutions, where multiple points simultaneously define different regions of interest.\n",
    "\n",
    "The gray surface in each panel represents the Pareto front of the DTLZ2 problem. Points and regions are color-coded by phase (blue for learning, red for decision)."
   ]
  },
  {
   "cell_type": "code",
   "execution_count": null,
   "id": "9bc4847d",
   "metadata": {},
   "outputs": [
    {
     "data": {
      "application/vnd.plotly.v1+json": {
       "config": {
        "plotlyServerURL": "https://plot.ly"
       },
       "data": [
        {
         "colorscale": [
          [
           0,
           "rgb(255,255,255)"
          ],
          [
           0.125,
           "rgb(240,240,240)"
          ],
          [
           0.25,
           "rgb(217,217,217)"
          ],
          [
           0.375,
           "rgb(189,189,189)"
          ],
          [
           0.5,
           "rgb(150,150,150)"
          ],
          [
           0.625,
           "rgb(115,115,115)"
          ],
          [
           0.75,
           "rgb(82,82,82)"
          ],
          [
           0.875,
           "rgb(37,37,37)"
          ],
          [
           1,
           "rgb(0,0,0)"
          ]
         ],
         "name": "Pareto Front",
         "opacity": 0.3,
         "scene": "scene",
         "showscale": false,
         "type": "surface",
         "x": {
          "bdata": "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",
          "dtype": "f8",
          "shape": "50, 50"
         },
         "y": {
          "bdata": "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",
          "dtype": "f8",
          "shape": "50, 50"
         },
         "z": {
          "bdata": "AAAAAAAAAAAAAAAAAAAAAAAAAAAAAAAAAAAAAAAAAAAAAAAAAAAAAAAAAAAAAAAAAAAAAAAAAAAAAAAAAAAAAAAAAAAAAAAAAAAAAAAAAAAAAAAAAAAAAAAAAAAAAAAAAAAAAAAAAAAAAAAAAAAAAAAAAAAAAAAAAAAAAAAAAAAAAAAAAAAAAAAAAAAAAAAAAAAAAAAAAAAAAAAAAAAAAAAAAAAAAAAAAAAAAAAAAAAAAAAAAAAAAAAAAAAAAAAAAAAAAAAAAAAAAAAAAAAAAAAAAAAAAAAAAAAAAAAAAAAAAAAAAAAAAAAAAAAAAAAAAAAAAAAAAAAAAAAAAAAAAAAAAAAAAAAAAAAAAAAAAAAAAAAAAAAAAAAAAAAAAAAAAAAAAAAAAAAAAAAAAAAAAAAAAAAAAAAAAAAAAAAAAAAAAAAAAAAAAAAAAAAAAAAAAAAAAAAAAAAAAAAAAAAAAAAAAAAAAAAAAAAAAAAAAAAAAAAAAAAAAAAAAAAAAAAAAAAAAAAAAAAAAAAAAAAAANky6XoQaaA/2TLpehBpoD/ZMul6EGmgP9ky6XoQaaA/2TLpehBpoD/ZMul6EGmgP9ky6XoQaaA/2TLpehBpoD/ZMul6EGmgP9ky6XoQaaA/2TLpehBpoD/ZMul6EGmgP9ky6XoQaaA/2TLpehBpoD/ZMul6EGmgP9ky6XoQaaA/2TLpehBpoD/ZMul6EGmgP9ky6XoQaaA/2TLpehBpoD/ZMul6EGmgP9ky6XoQaaA/2TLpehBpoD/ZMul6EGmgP9ky6XoQaaA/2TLpehBpoD/ZMul6EGmgP9ky6XoQaaA/2TLpehBpoD/ZMul6EGmgP9ky6XoQaaA/2TLpehBpoD/ZMul6EGmgP9ky6XoQaaA/2TLpehBpoD/ZMul6EGmgP9ky6XoQaaA/2TLpehBpoD/ZMul6EGmgP9ky6XoQaaA/2TLpehBpoD/ZMul6EGmgP9ky6XoQaaA/2TLpehBpoD/ZMul6EGmgP9ky6XoQaaA/2TLpehBpoD/ZMul6EGmgP9ky6XoQaaA/2TLpehBpoD/G9Xbr52awP8b1duvnZrA/xvV26+dmsD/G9Xbr52awP8b1duvnZrA/xvV26+dmsD/G9Xbr52awP8b1duvnZrA/xvV26+dmsD/G9Xbr52awP8b1duvnZrA/xvV26+dmsD/G9Xbr52awP8b1duvnZrA/xvV26+dmsD/G9Xbr52awP8b1duvnZrA/xvV26+dmsD/G9Xbr52awP8b1duvnZrA/xvV26+dmsD/G9Xbr52awP8b1duvnZrA/xvV26+dmsD/G9Xbr52awP8b1duvnZrA/xvV26+dmsD/G9Xbr52awP8b1duvnZrA/xvV26+dmsD/G9Xbr52awP8b1duvnZrA/xvV26+dmsD/G9Xbr52awP8b1duvnZrA/xvV26+dmsD/G9Xbr52awP8b1duvnZrA/xvV26+dmsD/G9Xbr52awP8b1duvnZrA/xvV26+dmsD/G9Xbr52awP8b1duvnZrA/xvV26+dmsD/G9Xbr52awP8b1duvnZrA/xvV26+dmsD/G9Xbr52awP8b1duvnZrA/cLvvC/eUuD9wu+8L95S4P3C77wv3lLg/cLvvC/eUuD9wu+8L95S4P3C77wv3lLg/cLvvC/eUuD9wu+8L95S4P3C77wv3lLg/cLvvC/eUuD9wu+8L95S4P3C77wv3lLg/cLvvC/eUuD9wu+8L95S4P3C77wv3lLg/cLvvC/eUuD9wu+8L95S4P3C77wv3lLg/cLvvC/eUuD9wu+8L95S4P3C77wv3lLg/cLvvC/eUuD9wu+8L95S4P3C77wv3lLg/cLvvC/eUuD9wu+8L95S4P3C77wv3lLg/cLvvC/eUuD9wu+8L95S4P3C77wv3lLg/cLvvC/eUuD9wu+8L95S4P3C77wv3lLg/cLvvC/eUuD9wu+8L95S4P3C77wv3lLg/cLvvC/eUuD9wu+8L95S4P3C77wv3lLg/cLvvC/eUuD9wu+8L95S4P3C77wv3lLg/cLvvC/eUuD9wu+8L95S4P3C77wv3lLg/cLvvC/eUuD9wu+8L95S4P3C77wv3lLg/cLvvC/eUuD9wu+8L95S4P4+Nq2FHXsA/j42rYUdewD+PjathR17AP4+Nq2FHXsA/j42rYUdewD+PjathR17AP4+Nq2FHXsA/j42rYUdewD+PjathR17AP4+Nq2FHXsA/j42rYUdewD+PjathR17AP4+Nq2FHXsA/j42rYUdewD+PjathR17AP4+Nq2FHXsA/j42rYUdewD+PjathR17AP4+Nq2FHXsA/j42rYUdewD+PjathR17AP4+Nq2FHXsA/j42rYUdewD+PjathR17AP4+Nq2FHXsA/j42rYUdewD+PjathR17AP4+Nq2FHXsA/j42rYUdewD+PjathR17AP4+Nq2FHXsA/j42rYUdewD+PjathR17AP4+Nq2FHXsA/j42rYUdewD+PjathR17AP4+Nq2FHXsA/j42rYUdewD+PjathR17AP4+Nq2FHXsA/j42rYUdewD+PjathR17AP4+Nq2FHXsA/j42rYUdewD+PjathR17AP4+Nq2FHXsA/j42rYUdewD+PjathR17AP4+Nq2FHXsA/j42rYUdewD/Gg870xG3EP8aDzvTEbcQ/xoPO9MRtxD/Gg870xG3EP8aDzvTEbcQ/xoPO9MRtxD/Gg870xG3EP8aDzvTEbcQ/xoPO9MRtxD/Gg870xG3EP8aDzvTEbcQ/xoPO9MRtxD/Gg870xG3EP8aDzvTEbcQ/xoPO9MRtxD/Gg870xG3EP8aDzvTEbcQ/xoPO9MRtxD/Gg870xG3EP8aDzvTEbcQ/xoPO9MRtxD/Gg870xG3EP8aDzvTEbcQ/xoPO9MRtxD/Gg870xG3EP8aDzvTEbcQ/xoPO9MRtxD/Gg870xG3EP8aDzvTEbcQ/xoPO9MRtxD/Gg870xG3EP8aDzvTEbcQ/xoPO9MRtxD/Gg870xG3EP8aDzvTEbcQ/xoPO9MRtxD/Gg870xG3EP8aDzvTEbcQ/xoPO9MRtxD/Gg870xG3EP8aDzvTEbcQ/xoPO9MRtxD/Gg870xG3EP8aDzvTEbcQ/xoPO9MRtxD/Gg870xG3EP8aDzvTEbcQ/xoPO9MRtxD/Gg870xG3EP8aDzvTEbcQ/2m9PzeJ3yD/ab0/N4nfIP9pvT83id8g/2m9PzeJ3yD/ab0/N4nfIP9pvT83id8g/2m9PzeJ3yD/ab0/N4nfIP9pvT83id8g/2m9PzeJ3yD/ab0/N4nfIP9pvT83id8g/2m9PzeJ3yD/ab0/N4nfIP9pvT83id8g/2m9PzeJ3yD/ab0/N4nfIP9pvT83id8g/2m9PzeJ3yD/ab0/N4nfIP9pvT83id8g/2m9PzeJ3yD/ab0/N4nfIP9pvT83id8g/2m9PzeJ3yD/ab0/N4nfIP9pvT83id8g/2m9PzeJ3yD/ab0/N4nfIP9pvT83id8g/2m9PzeJ3yD/ab0/N4nfIP9pvT83id8g/2m9PzeJ3yD/ab0/N4nfIP9pvT83id8g/2m9PzeJ3yD/ab0/N4nfIP9pvT83id8g/2m9PzeJ3yD/ab0/N4nfIP9pvT83id8g/2m9PzeJ3yD/ab0/N4nfIP9pvT83id8g/2m9PzeJ3yD/ab0/N4nfIP9pvT83id8g/2m9PzeJ3yD/ab0/N4nfIP4JFAuOQe8w/gkUC45B7zD+CRQLjkHvMP4JFAuOQe8w/gkUC45B7zD+CRQLjkHvMP4JFAuOQe8w/gkUC45B7zD+CRQLjkHvMP4JFAuOQe8w/gkUC45B7zD+CRQLjkHvMP4JFAuOQe8w/gkUC45B7zD+CRQLjkHvMP4JFAuOQe8w/gkUC45B7zD+CRQLjkHvMP4JFAuOQe8w/gkUC45B7zD+CRQLjkHvMP4JFAuOQe8w/gkUC45B7zD+CRQLjkHvMP4JFAuOQe8w/gkUC45B7zD+CRQLjkHvMP4JFAuOQe8w/gkUC45B7zD+CRQLjkHvMP4JFAuOQe8w/gkUC45B7zD+CRQLjkHvMP4JFAuOQe8w/gkUC45B7zD+CRQLjkHvMP4JFAuOQe8w/gkUC45B7zD+CRQLjkHvMP4JFAuOQe8w/gkUC45B7zD+CRQLjkHvMP4JFAuOQe8w/gkUC45B7zD+CRQLjkHvMP4JFAuOQe8w/gkUC45B7zD+CRQLjkHvMP4JFAuOQe8w/gkUC45B7zD/uy5dv4DvQP+7Ll2/gO9A/7suXb+A70D/uy5dv4DvQP+7Ll2/gO9A/7suXb+A70D/uy5dv4DvQP+7Ll2/gO9A/7suXb+A70D/uy5dv4DvQP+7Ll2/gO9A/7suXb+A70D/uy5dv4DvQP+7Ll2/gO9A/7suXb+A70D/uy5dv4DvQP+7Ll2/gO9A/7suXb+A70D/uy5dv4DvQP+7Ll2/gO9A/7suXb+A70D/uy5dv4DvQP+7Ll2/gO9A/7suXb+A70D/uy5dv4DvQP+7Ll2/gO9A/7suXb+A70D/uy5dv4DvQP+7Ll2/gO9A/7suXb+A70D/uy5dv4DvQP+7Ll2/gO9A/7suXb+A70D/uy5dv4DvQP+7Ll2/gO9A/7suXb+A70D/uy5dv4DvQP+7Ll2/gO9A/7suXb+A70D/uy5dv4DvQP+7Ll2/gO9A/7suXb+A70D/uy5dv4DvQP+7Ll2/gO9A/7suXb+A70D/uy5dv4DvQP+7Ll2/gO9A/7suXb+A70D/uy5dv4DvQP+7Ll2/gO9A/QPfYMbM10j9A99gxszXSP0D32DGzNdI/QPfYMbM10j9A99gxszXSP0D32DGzNdI/QPfYMbM10j9A99gxszXSP0D32DGzNdI/QPfYMbM10j9A99gxszXSP0D32DGzNdI/QPfYMbM10j9A99gxszXSP0D32DGzNdI/QPfYMbM10j9A99gxszXSP0D32DGzNdI/QPfYMbM10j9A99gxszXSP0D32DGzNdI/QPfYMbM10j9A99gxszXSP0D32DGzNdI/QPfYMbM10j9A99gxszXSP0D32DGzNdI/QPfYMbM10j9A99gxszXSP0D32DGzNdI/QPfYMbM10j9A99gxszXSP0D32DGzNdI/QPfYMbM10j9A99gxszXSP0D32DGzNdI/QPfYMbM10j9A99gxszXSP0D32DGzNdI/QPfYMbM10j9A99gxszXSP0D32DGzNdI/QPfYMbM10j9A99gxszXSP0D32DGzNdI/QPfYMbM10j9A99gxszXSP0D32DGzNdI/QPfYMbM10j9A99gxszXSP7wvx6i7KtQ/vC/HqLsq1D+8L8eouyrUP7wvx6i7KtQ/vC/HqLsq1D+8L8eouyrUP7wvx6i7KtQ/vC/HqLsq1D+8L8eouyrUP7wvx6i7KtQ/vC/HqLsq1D+8L8eouyrUP7wvx6i7KtQ/vC/HqLsq1D+8L8eouyrUP7wvx6i7KtQ/vC/HqLsq1D+8L8eouyrUP7wvx6i7KtQ/vC/HqLsq1D+8L8eouyrUP7wvx6i7KtQ/vC/HqLsq1D+8L8eouyrUP7wvx6i7KtQ/vC/HqLsq1D+8L8eouyrUP7wvx6i7KtQ/vC/HqLsq1D+8L8eouyrUP7wvx6i7KtQ/vC/HqLsq1D+8L8eouyrUP7wvx6i7KtQ/vC/HqLsq1D+8L8eouyrUP7wvx6i7KtQ/vC/HqLsq1D+8L8eouyrUP7wvx6i7KtQ/vC/HqLsq1D+8L8eouyrUP7wvx6i7KtQ/vC/HqLsq1D+8L8eouyrUP7wvx6i7KtQ/vC/HqLsq1D+8L8eouyrUP7wvx6i7KtQ/vC/HqLsq1D8A7noHdhrWPwDuegd2GtY/AO56B3Ya1j8A7noHdhrWPwDuegd2GtY/AO56B3Ya1j8A7noHdhrWPwDuegd2GtY/AO56B3Ya1j8A7noHdhrWPwDuegd2GtY/AO56B3Ya1j8A7noHdhrWPwDuegd2GtY/AO56B3Ya1j8A7noHdhrWPwDuegd2GtY/AO56B3Ya1j8A7noHdhrWPwDuegd2GtY/AO56B3Ya1j8A7noHdhrWPwDuegd2GtY/AO56B3Ya1j8A7noHdhrWPwDuegd2GtY/AO56B3Ya1j8A7noHdhrWPwDuegd2GtY/AO56B3Ya1j8A7noHdhrWPwDuegd2GtY/AO56B3Ya1j8A7noHdhrWPwDuegd2GtY/AO56B3Ya1j8A7noHdhrWPwDuegd2GtY/AO56B3Ya1j8A7noHdhrWPwDuegd2GtY/AO56B3Ya1j8A7noHdhrWPwDuegd2GtY/AO56B3Ya1j8A7noHdhrWPwDuegd2GtY/AO56B3Ya1j8A7noHdhrWPwDuegd2GtY/3WJO5l8E2D/dYk7mXwTYP91iTuZfBNg/3WJO5l8E2D/dYk7mXwTYP91iTuZfBNg/3WJO5l8E2D/dYk7mXwTYP91iTuZfBNg/3WJO5l8E2D/dYk7mXwTYP91iTuZfBNg/3WJO5l8E2D/dYk7mXwTYP91iTuZfBNg/3WJO5l8E2D/dYk7mXwTYP91iTuZfBNg/3WJO5l8E2D/dYk7mXwTYP91iTuZfBNg/3WJO5l8E2D/dYk7mXwTYP91iTuZfBNg/3WJO5l8E2D/dYk7mXwTYP91iTuZfBNg/3WJO5l8E2D/dYk7mXwTYP91iTuZfBNg/3WJO5l8E2D/dYk7mXwTYP91iTuZfBNg/3WJO5l8E2D/dYk7mXwTYP91iTuZfBNg/3WJO5l8E2D/dYk7mXwTYP91iTuZfBNg/3WJO5l8E2D/dYk7mXwTYP91iTuZfBNg/3WJO5l8E2D/dYk7mXwTYP91iTuZfBNg/3WJO5l8E2D/dYk7mXwTYP91iTuZfBNg/3WJO5l8E2D/dYk7mXwTYP1FHK2X459k/UUcrZfjn2T9RRytl+OfZP1FHK2X459k/UUcrZfjn2T9RRytl+OfZP1FHK2X459k/UUcrZfjn2T9RRytl+OfZP1FHK2X459k/UUcrZfjn2T9RRytl+OfZP1FHK2X459k/UUcrZfjn2T9RRytl+OfZP1FHK2X459k/UUcrZfjn2T9RRytl+OfZP1FHK2X459k/UUcrZfjn2T9RRytl+OfZP1FHK2X459k/UUcrZfjn2T9RRytl+OfZP1FHK2X459k/UUcrZfjn2T9RRytl+OfZP1FHK2X459k/UUcrZfjn2T9RRytl+OfZP1FHK2X459k/UUcrZfjn2T9RRytl+OfZP1FHK2X459k/UUcrZfjn2T9RRytl+OfZP1FHK2X459k/UUcrZfjn2T9RRytl+OfZP1FHK2X459k/UUcrZfjn2T9RRytl+OfZP1FHK2X459k/UUcrZfjn2T9RRytl+OfZP1FHK2X459k/UUcrZfjn2T9RRytl+OfZP1FHK2X459k/UUcrZfjn2T/Bq3FNwMTbP8GrcU3AxNs/watxTcDE2z/Bq3FNwMTbP8GrcU3AxNs/watxTcDE2z/Bq3FNwMTbP8GrcU3AxNs/watxTcDE2z/Bq3FNwMTbP8GrcU3AxNs/watxTcDE2z/Bq3FNwMTbP8GrcU3AxNs/watxTcDE2z/Bq3FNwMTbP8GrcU3AxNs/watxTcDE2z/Bq3FNwMTbP8GrcU3AxNs/watxTcDE2z/Bq3FNwMTbP8GrcU3AxNs/watxTcDE2z/Bq3FNwMTbP8GrcU3AxNs/watxTcDE2z/Bq3FNwMTbP8GrcU3AxNs/watxTcDE2z/Bq3FNwMTbP8GrcU3AxNs/watxTcDE2z/Bq3FNwMTbP8GrcU3AxNs/watxTcDE2z/Bq3FNwMTbP8GrcU3AxNs/watxTcDE2z/Bq3FNwMTbP8GrcU3AxNs/watxTcDE2z/Bq3FNwMTbP8GrcU3AxNs/watxTcDE2z/Bq3FNwMTbP8GrcU3AxNs/watxTcDE2z/Bq3FNwMTbP8GrcU3AxNs/cNtuMzqa3T9w224zOprdP3DbbjM6mt0/cNtuMzqa3T9w224zOprdP3DbbjM6mt0/cNtuMzqa3T9w224zOprdP3DbbjM6mt0/cNtuMzqa3T9w224zOprdP3DbbjM6mt0/cNtuMzqa3T9w224zOprdP3DbbjM6mt0/cNtuMzqa3T9w224zOprdP3DbbjM6mt0/cNtuMzqa3T9w224zOprdP3DbbjM6mt0/cNtuMzqa3T9w224zOprdP3DbbjM6mt0/cNtuMzqa3T9w224zOprdP3DbbjM6mt0/cNtuMzqa3T9w224zOprdP3DbbjM6mt0/cNtuMzqa3T9w224zOprdP3DbbjM6mt0/cNtuMzqa3T9w224zOprdP3DbbjM6mt0/cNtuMzqa3T9w224zOprdP3DbbjM6mt0/cNtuMzqa3T9w224zOprdP3DbbjM6mt0/cNtuMzqa3T9w224zOprdP3DbbjM6mt0/cNtuMzqa3T9w224zOprdP3DbbjM6mt0/cNtuMzqa3T9w224zOprdP6KGW5fqZ98/ooZbl+pn3z+ihluX6mffP6KGW5fqZ98/ooZbl+pn3z+ihluX6mffP6KGW5fqZ98/ooZbl+pn3z+ihluX6mffP6KGW5fqZ98/ooZbl+pn3z+ihluX6mffP6KGW5fqZ98/ooZbl+pn3z+ihluX6mffP6KGW5fqZ98/ooZbl+pn3z+ihluX6mffP6KGW5fqZ98/ooZbl+pn3z+ihluX6mffP6KGW5fqZ98/ooZbl+pn3z+ihluX6mffP6KGW5fqZ98/ooZbl+pn3z+ihluX6mffP6KGW5fqZ98/ooZbl+pn3z+ihluX6mffP6KGW5fqZ98/ooZbl+pn3z+ihluX6mffP6KGW5fqZ98/ooZbl+pn3z+ihluX6mffP6KGW5fqZ98/ooZbl+pn3z+ihluX6mffP6KGW5fqZ98/ooZbl+pn3z+ihluX6mffP6KGW5fqZ98/ooZbl+pn3z+ihluX6mffP6KGW5fqZ98/ooZbl+pn3z+ihluX6mffP6KGW5fqZ98/ooZbl+pn3z/FQuwCrJbgP8VC7AKsluA/xULsAqyW4D/FQuwCrJbgP8VC7AKsluA/xULsAqyW4D/FQuwCrJbgP8VC7AKsluA/xULsAqyW4D/FQuwCrJbgP8VC7AKsluA/xULsAqyW4D/FQuwCrJbgP8VC7AKsluA/xULsAqyW4D/FQuwCrJbgP8VC7AKsluA/xULsAqyW4D/FQuwCrJbgP8VC7AKsluA/xULsAqyW4D/FQuwCrJbgP8VC7AKsluA/xULsAqyW4D/FQuwCrJbgP8VC7AKsluA/xULsAqyW4D/FQuwCrJbgP8VC7AKsluA/xULsAqyW4D/FQuwCrJbgP8VC7AKsluA/xULsAqyW4D/FQuwCrJbgP8VC7AKsluA/xULsAqyW4D/FQuwCrJbgP8VC7AKsluA/xULsAqyW4D/FQuwCrJbgP8VC7AKsluA/xULsAqyW4D/FQuwCrJbgP8VC7AKsluA/xULsAqyW4D/FQuwCrJbgP8VC7AKsluA/xULsAqyW4D/FQuwCrJbgP8VC7AKsluA/JtTwmwV14T8m1PCbBXXhPybU8JsFdeE/JtTwmwV14T8m1PCbBXXhPybU8JsFdeE/JtTwmwV14T8m1PCbBXXhPybU8JsFdeE/JtTwmwV14T8m1PCbBXXhPybU8JsFdeE/JtTwmwV14T8m1PCbBXXhPybU8JsFdeE/JtTwmwV14T8m1PCbBXXhPybU8JsFdeE/JtTwmwV14T8m1PCbBXXhPybU8JsFdeE/JtTwmwV14T8m1PCbBXXhPybU8JsFdeE/JtTwmwV14T8m1PCbBXXhPybU8JsFdeE/JtTwmwV14T8m1PCbBXXhPybU8JsFdeE/JtTwmwV14T8m1PCbBXXhPybU8JsFdeE/JtTwmwV14T8m1PCbBXXhPybU8JsFdeE/JtTwmwV14T8m1PCbBXXhPybU8JsFdeE/JtTwmwV14T8m1PCbBXXhPybU8JsFdeE/JtTwmwV14T8m1PCbBXXhPybU8JsFdeE/JtTwmwV14T8m1PCbBXXhPybU8JsFdeE/JtTwmwV14T8m1PCbBXXhPz8WF5nHTuI/PxYXmcdO4j8/FheZx07iPz8WF5nHTuI/PxYXmcdO4j8/FheZx07iPz8WF5nHTuI/PxYXmcdO4j8/FheZx07iPz8WF5nHTuI/PxYXmcdO4j8/FheZx07iPz8WF5nHTuI/PxYXmcdO4j8/FheZx07iPz8WF5nHTuI/PxYXmcdO4j8/FheZx07iPz8WF5nHTuI/PxYXmcdO4j8/FheZx07iPz8WF5nHTuI/PxYXmcdO4j8/FheZx07iPz8WF5nHTuI/PxYXmcdO4j8/FheZx07iPz8WF5nHTuI/PxYXmcdO4j8/FheZx07iPz8WF5nHTuI/PxYXmcdO4j8/FheZx07iPz8WF5nHTuI/PxYXmcdO4j8/FheZx07iPz8WF5nHTuI/PxYXmcdO4j8/FheZx07iPz8WF5nHTuI/PxYXmcdO4j8/FheZx07iPz8WF5nHTuI/PxYXmcdO4j8/FheZx07iPz8WF5nHTuI/PxYXmcdO4j8/FheZx07iPz8WF5nHTuI/PxYXmcdO4j+jS/uxuCPjP6NL+7G4I+M/o0v7sbgj4z+jS/uxuCPjP6NL+7G4I+M/o0v7sbgj4z+jS/uxuCPjP6NL+7G4I+M/o0v7sbgj4z+jS/uxuCPjP6NL+7G4I+M/o0v7sbgj4z+jS/uxuCPjP6NL+7G4I+M/o0v7sbgj4z+jS/uxuCPjP6NL+7G4I+M/o0v7sbgj4z+jS/uxuCPjP6NL+7G4I+M/o0v7sbgj4z+jS/uxuCPjP6NL+7G4I+M/o0v7sbgj4z+jS/uxuCPjP6NL+7G4I+M/o0v7sbgj4z+jS/uxuCPjP6NL+7G4I+M/o0v7sbgj4z+jS/uxuCPjP6NL+7G4I+M/o0v7sbgj4z+jS/uxuCPjP6NL+7G4I+M/o0v7sbgj4z+jS/uxuCPjP6NL+7G4I+M/o0v7sbgj4z+jS/uxuCPjP6NL+7G4I+M/o0v7sbgj4z+jS/uxuCPjP6NL+7G4I+M/o0v7sbgj4z+jS/uxuCPjP6NL+7G4I+M/o0v7sbgj4z+jS/uxuCPjP6NL+7G4I+M/0e2L4qDz4z/R7YvioPPjP9Hti+Kg8+M/0e2L4qDz4z/R7YvioPPjP9Hti+Kg8+M/0e2L4qDz4z/R7YvioPPjP9Hti+Kg8+M/0e2L4qDz4z/R7YvioPPjP9Hti+Kg8+M/0e2L4qDz4z/R7YvioPPjP9Hti+Kg8+M/0e2L4qDz4z/R7YvioPPjP9Hti+Kg8+M/0e2L4qDz4z/R7YvioPPjP9Hti+Kg8+M/0e2L4qDz4z/R7YvioPPjP9Hti+Kg8+M/0e2L4qDz4z/R7YvioPPjP9Hti+Kg8+M/0e2L4qDz4z/R7YvioPPjP9Hti+Kg8+M/0e2L4qDz4z/R7YvioPPjP9Hti+Kg8+M/0e2L4qDz4z/R7YvioPPjP9Hti+Kg8+M/0e2L4qDz4z/R7YvioPPjP9Hti+Kg8+M/0e2L4qDz4z/R7YvioPPjP9Hti+Kg8+M/0e2L4qDz4z/R7YvioPPjP9Hti+Kg8+M/0e2L4qDz4z/R7YvioPPjP9Hti+Kg8+M/0e2L4qDz4z/R7YvioPPjP7TvxXlJvuQ/tO/FeUm+5D+078V5Sb7kP7TvxXlJvuQ/tO/FeUm+5D+078V5Sb7kP7TvxXlJvuQ/tO/FeUm+5D+078V5Sb7kP7TvxXlJvuQ/tO/FeUm+5D+078V5Sb7kP7TvxXlJvuQ/tO/FeUm+5D+078V5Sb7kP7TvxXlJvuQ/tO/FeUm+5D+078V5Sb7kP7TvxXlJvuQ/tO/FeUm+5D+078V5Sb7kP7TvxXlJvuQ/tO/FeUm+5D+078V5Sb7kP7TvxXlJvuQ/tO/FeUm+5D+078V5Sb7kP7TvxXlJvuQ/tO/FeUm+5D+078V5Sb7kP7TvxXlJvuQ/tO/FeUm+5D+078V5Sb7kP7TvxXlJvuQ/tO/FeUm+5D+078V5Sb7kP7TvxXlJvuQ/tO/FeUm+5D+078V5Sb7kP7TvxXlJvuQ/tO/FeUm+5D+078V5Sb7kP7TvxXlJvuQ/tO/FeUm+5D+078V5Sb7kP7TvxXlJvuQ/tO/FeUm+5D+078V5Sb7kP7TvxXlJvuQ/tO/FeUm+5D8uzxcofYPlPy7PFyh9g+U/Ls8XKH2D5T8uzxcofYPlPy7PFyh9g+U/Ls8XKH2D5T8uzxcofYPlPy7PFyh9g+U/Ls8XKH2D5T8uzxcofYPlPy7PFyh9g+U/Ls8XKH2D5T8uzxcofYPlPy7PFyh9g+U/Ls8XKH2D5T8uzxcofYPlPy7PFyh9g+U/Ls8XKH2D5T8uzxcofYPlPy7PFyh9g+U/Ls8XKH2D5T8uzxcofYPlPy7PFyh9g+U/Ls8XKH2D5T8uzxcofYPlPy7PFyh9g+U/Ls8XKH2D5T8uzxcofYPlPy7PFyh9g+U/Ls8XKH2D5T8uzxcofYPlPy7PFyh9g+U/Ls8XKH2D5T8uzxcofYPlPy7PFyh9g+U/Ls8XKH2D5T8uzxcofYPlPy7PFyh9g+U/Ls8XKH2D5T8uzxcofYPlPy7PFyh9g+U/Ls8XKH2D5T8uzxcofYPlPy7PFyh9g+U/Ls8XKH2D5T8uzxcofYPlPy7PFyh9g+U/Ls8XKH2D5T8uzxcofYPlPy7PFyh9g+U/w6xnDQhD5j/DrGcNCEPmP8OsZw0IQ+Y/w6xnDQhD5j/DrGcNCEPmP8OsZw0IQ+Y/w6xnDQhD5j/DrGcNCEPmP8OsZw0IQ+Y/w6xnDQhD5j/DrGcNCEPmP8OsZw0IQ+Y/w6xnDQhD5j/DrGcNCEPmP8OsZw0IQ+Y/w6xnDQhD5j/DrGcNCEPmP8OsZw0IQ+Y/w6xnDQhD5j/DrGcNCEPmP8OsZw0IQ+Y/w6xnDQhD5j/DrGcNCEPmP8OsZw0IQ+Y/w6xnDQhD5j/DrGcNCEPmP8OsZw0IQ+Y/w6xnDQhD5j/DrGcNCEPmP8OsZw0IQ+Y/w6xnDQhD5j/DrGcNCEPmP8OsZw0IQ+Y/w6xnDQhD5j/DrGcNCEPmP8OsZw0IQ+Y/w6xnDQhD5j/DrGcNCEPmP8OsZw0IQ+Y/w6xnDQhD5j/DrGcNCEPmP8OsZw0IQ+Y/w6xnDQhD5j/DrGcNCEPmP8OsZw0IQ+Y/w6xnDQhD5j/DrGcNCEPmP8OsZw0IQ+Y/w6xnDQhD5j/DrGcNCEPmPxe5uMa3/OY/F7m4xrf85j8XubjGt/zmPxe5uMa3/OY/F7m4xrf85j8XubjGt/zmPxe5uMa3/OY/F7m4xrf85j8XubjGt/zmPxe5uMa3/OY/F7m4xrf85j8XubjGt/zmPxe5uMa3/OY/F7m4xrf85j8XubjGt/zmPxe5uMa3/OY/F7m4xrf85j8XubjGt/zmPxe5uMa3/OY/F7m4xrf85j8XubjGt/zmPxe5uMa3/OY/F7m4xrf85j8XubjGt/zmPxe5uMa3/OY/F7m4xrf85j8XubjGt/zmPxe5uMa3/OY/F7m4xrf85j8XubjGt/zmPxe5uMa3/OY/F7m4xrf85j8XubjGt/zmPxe5uMa3/OY/F7m4xrf85j8XubjGt/zmPxe5uMa3/OY/F7m4xrf85j8XubjGt/zmPxe5uMa3/OY/F7m4xrf85j8XubjGt/zmPxe5uMa3/OY/F7m4xrf85j8XubjGt/zmPxe5uMa3/OY/F7m4xrf85j8XubjGt/zmPxe5uMa3/OY/F7m4xrf85j8wYWx7W7DnPzBhbHtbsOc/MGFse1uw5z8wYWx7W7DnPzBhbHtbsOc/MGFse1uw5z8wYWx7W7DnPzBhbHtbsOc/MGFse1uw5z8wYWx7W7DnPzBhbHtbsOc/MGFse1uw5z8wYWx7W7DnPzBhbHtbsOc/MGFse1uw5z8wYWx7W7DnPzBhbHtbsOc/MGFse1uw5z8wYWx7W7DnPzBhbHtbsOc/MGFse1uw5z8wYWx7W7DnPzBhbHtbsOc/MGFse1uw5z8wYWx7W7DnPzBhbHtbsOc/MGFse1uw5z8wYWx7W7DnPzBhbHtbsOc/MGFse1uw5z8wYWx7W7DnPzBhbHtbsOc/MGFse1uw5z8wYWx7W7DnPzBhbHtbsOc/MGFse1uw5z8wYWx7W7DnPzBhbHtbsOc/MGFse1uw5z8wYWx7W7DnPzBhbHtbsOc/MGFse1uw5z8wYWx7W7DnPzBhbHtbsOc/MGFse1uw5z8wYWx7W7DnPzBhbHtbsOc/MGFse1uw5z8wYWx7W7DnPzBhbHtbsOc/57wb6sNd6D/nvBvqw13oP+e8G+rDXeg/57wb6sNd6D/nvBvqw13oP+e8G+rDXeg/57wb6sNd6D/nvBvqw13oP+e8G+rDXeg/57wb6sNd6D/nvBvqw13oP+e8G+rDXeg/57wb6sNd6D/nvBvqw13oP+e8G+rDXeg/57wb6sNd6D/nvBvqw13oP+e8G+rDXeg/57wb6sNd6D/nvBvqw13oP+e8G+rDXeg/57wb6sNd6D/nvBvqw13oP+e8G+rDXeg/57wb6sNd6D/nvBvqw13oP+e8G+rDXeg/57wb6sNd6D/nvBvqw13oP+e8G+rDXeg/57wb6sNd6D/nvBvqw13oP+e8G+rDXeg/57wb6sNd6D/nvBvqw13oP+e8G+rDXeg/57wb6sNd6D/nvBvqw13oP+e8G+rDXeg/57wb6sNd6D/nvBvqw13oP+e8G+rDXeg/57wb6sNd6D/nvBvqw13oP+e8G+rDXeg/57wb6sNd6D/nvBvqw13oP+e8G+rDXeg/57wb6sNd6D/nvBvqw13oP0veBXXDBOk/S94FdcME6T9L3gV1wwTpP0veBXXDBOk/S94FdcME6T9L3gV1wwTpP0veBXXDBOk/S94FdcME6T9L3gV1wwTpP0veBXXDBOk/S94FdcME6T9L3gV1wwTpP0veBXXDBOk/S94FdcME6T9L3gV1wwTpP0veBXXDBOk/S94FdcME6T9L3gV1wwTpP0veBXXDBOk/S94FdcME6T9L3gV1wwTpP0veBXXDBOk/S94FdcME6T9L3gV1wwTpP0veBXXDBOk/S94FdcME6T9L3gV1wwTpP0veBXXDBOk/S94FdcME6T9L3gV1wwTpP0veBXXDBOk/S94FdcME6T9L3gV1wwTpP0veBXXDBOk/S94FdcME6T9L3gV1wwTpP0veBXXDBOk/S94FdcME6T9L3gV1wwTpP0veBXXDBOk/S94FdcME6T9L3gV1wwTpP0veBXXDBOk/S94FdcME6T9L3gV1wwTpP0veBXXDBOk/S94FdcME6T9L3gV1wwTpP0veBXXDBOk/S94FdcME6T+yvA8uLqXpP7K8Dy4upek/srwPLi6l6T+yvA8uLqXpP7K8Dy4upek/srwPLi6l6T+yvA8uLqXpP7K8Dy4upek/srwPLi6l6T+yvA8uLqXpP7K8Dy4upek/srwPLi6l6T+yvA8uLqXpP7K8Dy4upek/srwPLi6l6T+yvA8uLqXpP7K8Dy4upek/srwPLi6l6T+yvA8uLqXpP7K8Dy4upek/srwPLi6l6T+yvA8uLqXpP7K8Dy4upek/srwPLi6l6T+yvA8uLqXpP7K8Dy4upek/srwPLi6l6T+yvA8uLqXpP7K8Dy4upek/srwPLi6l6T+yvA8uLqXpP7K8Dy4upek/srwPLi6l6T+yvA8uLqXpP7K8Dy4upek/srwPLi6l6T+yvA8uLqXpP7K8Dy4upek/srwPLi6l6T+yvA8uLqXpP7K8Dy4upek/srwPLi6l6T+yvA8uLqXpP7K8Dy4upek/srwPLi6l6T+yvA8uLqXpP7K8Dy4upek/srwPLi6l6T+yvA8uLqXpP7K8Dy4upek/jJNS4tk+6j+Mk1Li2T7qP4yTUuLZPuo/jJNS4tk+6j+Mk1Li2T7qP4yTUuLZPuo/jJNS4tk+6j+Mk1Li2T7qP4yTUuLZPuo/jJNS4tk+6j+Mk1Li2T7qP4yTUuLZPuo/jJNS4tk+6j+Mk1Li2T7qP4yTUuLZPuo/jJNS4tk+6j+Mk1Li2T7qP4yTUuLZPuo/jJNS4tk+6j+Mk1Li2T7qP4yTUuLZPuo/jJNS4tk+6j+Mk1Li2T7qP4yTUuLZPuo/jJNS4tk+6j+Mk1Li2T7qP4yTUuLZPuo/jJNS4tk+6j+Mk1Li2T7qP4yTUuLZPuo/jJNS4tk+6j+Mk1Li2T7qP4yTUuLZPuo/jJNS4tk+6j+Mk1Li2T7qP4yTUuLZPuo/jJNS4tk+6j+Mk1Li2T7qP4yTUuLZPuo/jJNS4tk+6j+Mk1Li2T7qP4yTUuLZPuo/jJNS4tk+6j+Mk1Li2T7qP4yTUuLZPuo/jJNS4tk+6j+Mk1Li2T7qP4yTUuLZPuo/jJNS4tk+6j+Mk1Li2T7qP5WqNSWe0eo/lao1JZ7R6j+VqjUlntHqP5WqNSWe0eo/lao1JZ7R6j+VqjUlntHqP5WqNSWe0eo/lao1JZ7R6j+VqjUlntHqP5WqNSWe0eo/lao1JZ7R6j+VqjUlntHqP5WqNSWe0eo/lao1JZ7R6j+VqjUlntHqP5WqNSWe0eo/lao1JZ7R6j+VqjUlntHqP5WqNSWe0eo/lao1JZ7R6j+VqjUlntHqP5WqNSWe0eo/lao1JZ7R6j+VqjUlntHqP5WqNSWe0eo/lao1JZ7R6j+VqjUlntHqP5WqNSWe0eo/lao1JZ7R6j+VqjUlntHqP5WqNSWe0eo/lao1JZ7R6j+VqjUlntHqP5WqNSWe0eo/lao1JZ7R6j+VqjUlntHqP5WqNSWe0eo/lao1JZ7R6j+VqjUlntHqP5WqNSWe0eo/lao1JZ7R6j+VqjUlntHqP5WqNSWe0eo/lao1JZ7R6j+VqjUlntHqP5WqNSWe0eo/lao1JZ7R6j+VqjUlntHqP5WqNSWe0eo/lao1JZ7R6j/6mxBbVF3rP/qbEFtUXes/+psQW1Rd6z/6mxBbVF3rP/qbEFtUXes/+psQW1Rd6z/6mxBbVF3rP/qbEFtUXes/+psQW1Rd6z/6mxBbVF3rP/qbEFtUXes/+psQW1Rd6z/6mxBbVF3rP/qbEFtUXes/+psQW1Rd6z/6mxBbVF3rP/qbEFtUXes/+psQW1Rd6z/6mxBbVF3rP/qbEFtUXes/+psQW1Rd6z/6mxBbVF3rP/qbEFtUXes/+psQW1Rd6z/6mxBbVF3rP/qbEFtUXes/+psQW1Rd6z/6mxBbVF3rP/qbEFtUXes/+psQW1Rd6z/6mxBbVF3rP/qbEFtUXes/+psQW1Rd6z/6mxBbVF3rP/qbEFtUXes/+psQW1Rd6z/6mxBbVF3rP/qbEFtUXes/+psQW1Rd6z/6mxBbVF3rP/qbEFtUXes/+psQW1Rd6z/6mxBbVF3rP/qbEFtUXes/+psQW1Rd6z/6mxBbVF3rP/qbEFtUXes/+psQW1Rd6z/6mxBbVF3rP/qbEFtUXes/QExTw9fh6z9ATFPD1+HrP0BMU8PX4es/QExTw9fh6z9ATFPD1+HrP0BMU8PX4es/QExTw9fh6z9ATFPD1+HrP0BMU8PX4es/QExTw9fh6z9ATFPD1+HrP0BMU8PX4es/QExTw9fh6z9ATFPD1+HrP0BMU8PX4es/QExTw9fh6z9ATFPD1+HrP0BMU8PX4es/QExTw9fh6z9ATFPD1+HrP0BMU8PX4es/QExTw9fh6z9ATFPD1+HrP0BMU8PX4es/QExTw9fh6z9ATFPD1+HrP0BMU8PX4es/QExTw9fh6z9ATFPD1+HrP0BMU8PX4es/QExTw9fh6z9ATFPD1+HrP0BMU8PX4es/QExTw9fh6z9ATFPD1+HrP0BMU8PX4es/QExTw9fh6z9ATFPD1+HrP0BMU8PX4es/QExTw9fh6z9ATFPD1+HrP0BMU8PX4es/QExTw9fh6z9ATFPD1+HrP0BMU8PX4es/QExTw9fh6z9ATFPD1+HrP0BMU8PX4es/QExTw9fh6z9ATFPD1+HrP/7nMIIFX+w//ucwggVf7D/+5zCCBV/sP/7nMIIFX+w//ucwggVf7D/+5zCCBV/sP/7nMIIFX+w//ucwggVf7D/+5zCCBV/sP/7nMIIFX+w//ucwggVf7D/+5zCCBV/sP/7nMIIFX+w//ucwggVf7D/+5zCCBV/sP/7nMIIFX+w//ucwggVf7D/+5zCCBV/sP/7nMIIFX+w//ucwggVf7D/+5zCCBV/sP/7nMIIFX+w//ucwggVf7D/+5zCCBV/sP/7nMIIFX+w//ucwggVf7D/+5zCCBV/sP/7nMIIFX+w//ucwggVf7D/+5zCCBV/sP/7nMIIFX+w//ucwggVf7D/+5zCCBV/sP/7nMIIFX+w//ucwggVf7D/+5zCCBV/sP/7nMIIFX+w//ucwggVf7D/+5zCCBV/sP/7nMIIFX+w//ucwggVf7D/+5zCCBV/sP/7nMIIFX+w//ucwggVf7D/+5zCCBV/sP/7nMIIFX+w//ucwggVf7D/+5zCCBV/sP/7nMIIFX+w//ucwggVf7D9xXMupvNTsP3Fcy6m81Ow/cVzLqbzU7D9xXMupvNTsP3Fcy6m81Ow/cVzLqbzU7D9xXMupvNTsP3Fcy6m81Ow/cVzLqbzU7D9xXMupvNTsP3Fcy6m81Ow/cVzLqbzU7D9xXMupvNTsP3Fcy6m81Ow/cVzLqbzU7D9xXMupvNTsP3Fcy6m81Ow/cVzLqbzU7D9xXMupvNTsP3Fcy6m81Ow/cVzLqbzU7D9xXMupvNTsP3Fcy6m81Ow/cVzLqbzU7D9xXMupvNTsP3Fcy6m81Ow/cVzLqbzU7D9xXMupvNTsP3Fcy6m81Ow/cVzLqbzU7D9xXMupvNTsP3Fcy6m81Ow/cVzLqbzU7D9xXMupvNTsP3Fcy6m81Ow/cVzLqbzU7D9xXMupvNTsP3Fcy6m81Ow/cVzLqbzU7D9xXMupvNTsP3Fcy6m81Ow/cVzLqbzU7D9xXMupvNTsP3Fcy6m81Ow/cVzLqbzU7D9xXMupvNTsP3Fcy6m81Ow/cVzLqbzU7D9xXMupvNTsP3Fcy6m81Ow/NeHcQt5C7T814dxC3kLtPzXh3ELeQu0/NeHcQt5C7T814dxC3kLtPzXh3ELeQu0/NeHcQt5C7T814dxC3kLtPzXh3ELeQu0/NeHcQt5C7T814dxC3kLtPzXh3ELeQu0/NeHcQt5C7T814dxC3kLtPzXh3ELeQu0/NeHcQt5C7T814dxC3kLtPzXh3ELeQu0/NeHcQt5C7T814dxC3kLtPzXh3ELeQu0/NeHcQt5C7T814dxC3kLtPzXh3ELeQu0/NeHcQt5C7T814dxC3kLtPzXh3ELeQu0/NeHcQt5C7T814dxC3kLtPzXh3ELeQu0/NeHcQt5C7T814dxC3kLtPzXh3ELeQu0/NeHcQt5C7T814dxC3kLtPzXh3ELeQu0/NeHcQt5C7T814dxC3kLtPzXh3ELeQu0/NeHcQt5C7T814dxC3kLtPzXh3ELeQu0/NeHcQt5C7T814dxC3kLtPzXh3ELeQu0/NeHcQt5C7T814dxC3kLtPzXh3ELeQu0/NeHcQt5C7T814dxC3kLtPwhM3VRNqe0/CEzdVE2p7T8ITN1UTantPwhM3VRNqe0/CEzdVE2p7T8ITN1UTantPwhM3VRNqe0/CEzdVE2p7T8ITN1UTantPwhM3VRNqe0/CEzdVE2p7T8ITN1UTantPwhM3VRNqe0/CEzdVE2p7T8ITN1UTantPwhM3VRNqe0/CEzdVE2p7T8ITN1UTantPwhM3VRNqe0/CEzdVE2p7T8ITN1UTantPwhM3VRNqe0/CEzdVE2p7T8ITN1UTantPwhM3VRNqe0/CEzdVE2p7T8ITN1UTantPwhM3VRNqe0/CEzdVE2p7T8ITN1UTantPwhM3VRNqe0/CEzdVE2p7T8ITN1UTantPwhM3VRNqe0/CEzdVE2p7T8ITN1UTantPwhM3VRNqe0/CEzdVE2p7T8ITN1UTantPwhM3VRNqe0/CEzdVE2p7T8ITN1UTantPwhM3VRNqe0/CEzdVE2p7T8ITN1UTantPwhM3VRNqe0/CEzdVE2p7T8ITN1UTantPwhM3VRNqe0/CEzdVE2p7T/MCaHt7gfuP8wJoe3uB+4/zAmh7e4H7j/MCaHt7gfuP8wJoe3uB+4/zAmh7e4H7j/MCaHt7gfuP8wJoe3uB+4/zAmh7e4H7j/MCaHt7gfuP8wJoe3uB+4/zAmh7e4H7j/MCaHt7gfuP8wJoe3uB+4/zAmh7e4H7j/MCaHt7gfuP8wJoe3uB+4/zAmh7e4H7j/MCaHt7gfuP8wJoe3uB+4/zAmh7e4H7j/MCaHt7gfuP8wJoe3uB+4/zAmh7e4H7j/MCaHt7gfuP8wJoe3uB+4/zAmh7e4H7j/MCaHt7gfuP8wJoe3uB+4/zAmh7e4H7j/MCaHt7gfuP8wJoe3uB+4/zAmh7e4H7j/MCaHt7gfuP8wJoe3uB+4/zAmh7e4H7j/MCaHt7gfuP8wJoe3uB+4/zAmh7e4H7j/MCaHt7gfuP8wJoe3uB+4/zAmh7e4H7j/MCaHt7gfuP8wJoe3uB+4/zAmh7e4H7j/MCaHt7gfuP8wJoe3uB+4/zAmh7e4H7j/MCaHt7gfuP8wJoe3uB+4/xrtvKKpe7j/Gu28oql7uP8a7byiqXu4/xrtvKKpe7j/Gu28oql7uP8a7byiqXu4/xrtvKKpe7j/Gu28oql7uP8a7byiqXu4/xrtvKKpe7j/Gu28oql7uP8a7byiqXu4/xrtvKKpe7j/Gu28oql7uP8a7byiqXu4/xrtvKKpe7j/Gu28oql7uP8a7byiqXu4/xrtvKKpe7j/Gu28oql7uP8a7byiqXu4/xrtvKKpe7j/Gu28oql7uP8a7byiqXu4/xrtvKKpe7j/Gu28oql7uP8a7byiqXu4/xrtvKKpe7j/Gu28oql7uP8a7byiqXu4/xrtvKKpe7j/Gu28oql7uP8a7byiqXu4/xrtvKKpe7j/Gu28oql7uP8a7byiqXu4/xrtvKKpe7j/Gu28oql7uP8a7byiqXu4/xrtvKKpe7j/Gu28oql7uP8a7byiqXu4/xrtvKKpe7j/Gu28oql7uP8a7byiqXu4/xrtvKKpe7j/Gu28oql7uP8a7byiqXu4/xrtvKKpe7j/Gu28oql7uP5SbkDRore4/lJuQNGit7j+Um5A0aK3uP5SbkDRore4/lJuQNGit7j+Um5A0aK3uP5SbkDRore4/lJuQNGit7j+Um5A0aK3uP5SbkDRore4/lJuQNGit7j+Um5A0aK3uP5SbkDRore4/lJuQNGit7j+Um5A0aK3uP5SbkDRore4/lJuQNGit7j+Um5A0aK3uP5SbkDRore4/lJuQNGit7j+Um5A0aK3uP5SbkDRore4/lJuQNGit7j+Um5A0aK3uP5SbkDRore4/lJuQNGit7j+Um5A0aK3uP5SbkDRore4/lJuQNGit7j+Um5A0aK3uP5SbkDRore4/lJuQNGit7j+Um5A0aK3uP5SbkDRore4/lJuQNGit7j+Um5A0aK3uP5SbkDRore4/lJuQNGit7j+Um5A0aK3uP5SbkDRore4/lJuQNGit7j+Um5A0aK3uP5SbkDRore4/lJuQNGit7j+Um5A0aK3uP5SbkDRore4/lJuQNGit7j+Um5A0aK3uP5SbkDRore4/lJuQNGit7j//7EpbFPTuP//sSlsU9O4//+xKWxT07j//7EpbFPTuP//sSlsU9O4//+xKWxT07j//7EpbFPTuP//sSlsU9O4//+xKWxT07j//7EpbFPTuP//sSlsU9O4//+xKWxT07j//7EpbFPTuP//sSlsU9O4//+xKWxT07j//7EpbFPTuP//sSlsU9O4//+xKWxT07j//7EpbFPTuP//sSlsU9O4//+xKWxT07j//7EpbFPTuP//sSlsU9O4//+xKWxT07j//7EpbFPTuP//sSlsU9O4//+xKWxT07j//7EpbFPTuP//sSlsU9O4//+xKWxT07j//7EpbFPTuP//sSlsU9O4//+xKWxT07j//7EpbFPTuP//sSlsU9O4//+xKWxT07j//7EpbFPTuP//sSlsU9O4//+xKWxT07j//7EpbFPTuP//sSlsU9O4//+xKWxT07j//7EpbFPTuP//sSlsU9O4//+xKWxT07j//7EpbFPTuP//sSlsU9O4//+xKWxT07j//7EpbFPTuP//sSlsU9O4/aelYBZwy7z9p6VgFnDLvP2npWAWcMu8/aelYBZwy7z9p6VgFnDLvP2npWAWcMu8/aelYBZwy7z9p6VgFnDLvP2npWAWcMu8/aelYBZwy7z9p6VgFnDLvP2npWAWcMu8/aelYBZwy7z9p6VgFnDLvP2npWAWcMu8/aelYBZwy7z9p6VgFnDLvP2npWAWcMu8/aelYBZwy7z9p6VgFnDLvP2npWAWcMu8/aelYBZwy7z9p6VgFnDLvP2npWAWcMu8/aelYBZwy7z9p6VgFnDLvP2npWAWcMu8/aelYBZwy7z9p6VgFnDLvP2npWAWcMu8/aelYBZwy7z9p6VgFnDLvP2npWAWcMu8/aelYBZwy7z9p6VgFnDLvP2npWAWcMu8/aelYBZwy7z9p6VgFnDLvP2npWAWcMu8/aelYBZwy7z9p6VgFnDLvP2npWAWcMu8/aelYBZwy7z9p6VgFnDLvP2npWAWcMu8/aelYBZwy7z9p6VgFnDLvP2npWAWcMu8/aelYBZwy7z9p6VgFnDLvP+i1y7/uaO8/6LXLv+5o7z/otcu/7mjvP+i1y7/uaO8/6LXLv+5o7z/otcu/7mjvP+i1y7/uaO8/6LXLv+5o7z/otcu/7mjvP+i1y7/uaO8/6LXLv+5o7z/otcu/7mjvP+i1y7/uaO8/6LXLv+5o7z/otcu/7mjvP+i1y7/uaO8/6LXLv+5o7z/otcu/7mjvP+i1y7/uaO8/6LXLv+5o7z/otcu/7mjvP+i1y7/uaO8/6LXLv+5o7z/otcu/7mjvP+i1y7/uaO8/6LXLv+5o7z/otcu/7mjvP+i1y7/uaO8/6LXLv+5o7z/otcu/7mjvP+i1y7/uaO8/6LXLv+5o7z/otcu/7mjvP+i1y7/uaO8/6LXLv+5o7z/otcu/7mjvP+i1y7/uaO8/6LXLv+5o7z/otcu/7mjvP+i1y7/uaO8/6LXLv+5o7z/otcu/7mjvP+i1y7/uaO8/6LXLv+5o7z/otcu/7mjvP+i1y7/uaO8/6LXLv+5o7z/otcu/7mjvP+i1y7/uaO8/6LXLv+5o7z/GGl9A/pbvP8YaX0D+lu8/xhpfQP6W7z/GGl9A/pbvP8YaX0D+lu8/xhpfQP6W7z/GGl9A/pbvP8YaX0D+lu8/xhpfQP6W7z/GGl9A/pbvP8YaX0D+lu8/xhpfQP6W7z/GGl9A/pbvP8YaX0D+lu8/xhpfQP6W7z/GGl9A/pbvP8YaX0D+lu8/xhpfQP6W7z/GGl9A/pbvP8YaX0D+lu8/xhpfQP6W7z/GGl9A/pbvP8YaX0D+lu8/xhpfQP6W7z/GGl9A/pbvP8YaX0D+lu8/xhpfQP6W7z/GGl9A/pbvP8YaX0D+lu8/xhpfQP6W7z/GGl9A/pbvP8YaX0D+lu8/xhpfQP6W7z/GGl9A/pbvP8YaX0D+lu8/xhpfQP6W7z/GGl9A/pbvP8YaX0D+lu8/xhpfQP6W7z/GGl9A/pbvP8YaX0D+lu8/xhpfQP6W7z/GGl9A/pbvP8YaX0D+lu8/xhpfQP6W7z/GGl9A/pbvP8YaX0D+lu8/xhpfQP6W7z/GGl9A/pbvP8YaX0D+lu8/7Ng7ab687z/s2DtpvrzvP+zYO2m+vO8/7Ng7ab687z/s2DtpvrzvP+zYO2m+vO8/7Ng7ab687z/s2DtpvrzvP+zYO2m+vO8/7Ng7ab687z/s2DtpvrzvP+zYO2m+vO8/7Ng7ab687z/s2DtpvrzvP+zYO2m+vO8/7Ng7ab687z/s2DtpvrzvP+zYO2m+vO8/7Ng7ab687z/s2DtpvrzvP+zYO2m+vO8/7Ng7ab687z/s2DtpvrzvP+zYO2m+vO8/7Ng7ab687z/s2DtpvrzvP+zYO2m+vO8/7Ng7ab687z/s2DtpvrzvP+zYO2m+vO8/7Ng7ab687z/s2DtpvrzvP+zYO2m+vO8/7Ng7ab687z/s2DtpvrzvP+zYO2m+vO8/7Ng7ab687z/s2DtpvrzvP+zYO2m+vO8/7Ng7ab687z/s2DtpvrzvP+zYO2m+vO8/7Ng7ab687z/s2DtpvrzvP+zYO2m+vO8/7Ng7ab687z/s2DtpvrzvP+zYO2m+vO8/7Ng7ab687z/s2DtpvrzvPyCgJ0wl2u8/IKAnTCXa7z8goCdMJdrvPyCgJ0wl2u8/IKAnTCXa7z8goCdMJdrvPyCgJ0wl2u8/IKAnTCXa7z8goCdMJdrvPyCgJ0wl2u8/IKAnTCXa7z8goCdMJdrvPyCgJ0wl2u8/IKAnTCXa7z8goCdMJdrvPyCgJ0wl2u8/IKAnTCXa7z8goCdMJdrvPyCgJ0wl2u8/IKAnTCXa7z8goCdMJdrvPyCgJ0wl2u8/IKAnTCXa7z8goCdMJdrvPyCgJ0wl2u8/IKAnTCXa7z8goCdMJdrvPyCgJ0wl2u8/IKAnTCXa7z8goCdMJdrvPyCgJ0wl2u8/IKAnTCXa7z8goCdMJdrvPyCgJ0wl2u8/IKAnTCXa7z8goCdMJdrvPyCgJ0wl2u8/IKAnTCXa7z8goCdMJdrvPyCgJ0wl2u8/IKAnTCXa7z8goCdMJdrvPyCgJ0wl2u8/IKAnTCXa7z8goCdMJdrvPyCgJ0wl2u8/IKAnTCXa7z8goCdMJdrvPyCgJ0wl2u8/IKAnTCXa7z9szyEtK+/vP2zPIS0r7+8/bM8hLSvv7z9szyEtK+/vP2zPIS0r7+8/bM8hLSvv7z9szyEtK+/vP2zPIS0r7+8/bM8hLSvv7z9szyEtK+/vP2zPIS0r7+8/bM8hLSvv7z9szyEtK+/vP2zPIS0r7+8/bM8hLSvv7z9szyEtK+/vP2zPIS0r7+8/bM8hLSvv7z9szyEtK+/vP2zPIS0r7+8/bM8hLSvv7z9szyEtK+/vP2zPIS0r7+8/bM8hLSvv7z9szyEtK+/vP2zPIS0r7+8/bM8hLSvv7z9szyEtK+/vP2zPIS0r7+8/bM8hLSvv7z9szyEtK+/vP2zPIS0r7+8/bM8hLSvv7z9szyEtK+/vP2zPIS0r7+8/bM8hLSvv7z9szyEtK+/vP2zPIS0r7+8/bM8hLSvv7z9szyEtK+/vP2zPIS0r7+8/bM8hLSvv7z9szyEtK+/vP2zPIS0r7+8/bM8hLSvv7z9szyEtK+/vP2zPIS0r7+8/bM8hLSvv7z9szyEtK+/vP2zPIS0r7+8/yk9shMr77z/KT2yEyvvvP8pPbITK++8/yk9shMr77z/KT2yEyvvvP8pPbITK++8/yk9shMr77z/KT2yEyvvvP8pPbITK++8/yk9shMr77z/KT2yEyvvvP8pPbITK++8/yk9shMr77z/KT2yEyvvvP8pPbITK++8/yk9shMr77z/KT2yEyvvvP8pPbITK++8/yk9shMr77z/KT2yEyvvvP8pPbITK++8/yk9shMr77z/KT2yEyvvvP8pPbITK++8/yk9shMr77z/KT2yEyvvvP8pPbITK++8/yk9shMr77z/KT2yEyvvvP8pPbITK++8/yk9shMr77z/KT2yEyvvvP8pPbITK++8/yk9shMr77z/KT2yEyvvvP8pPbITK++8/yk9shMr77z/KT2yEyvvvP8pPbITK++8/yk9shMr77z/KT2yEyvvvP8pPbITK++8/yk9shMr77z/KT2yEyvvvP8pPbITK++8/yk9shMr77z/KT2yEyvvvP8pPbITK++8/yk9shMr77z/KT2yEyvvvPwAAAAAAAPA/AAAAAAAA8D8AAAAAAADwPwAAAAAAAPA/AAAAAAAA8D8AAAAAAADwPwAAAAAAAPA/AAAAAAAA8D8AAAAAAADwPwAAAAAAAPA/AAAAAAAA8D8AAAAAAADwPwAAAAAAAPA/AAAAAAAA8D8AAAAAAADwPwAAAAAAAPA/AAAAAAAA8D8AAAAAAADwPwAAAAAAAPA/AAAAAAAA8D8AAAAAAADwPwAAAAAAAPA/AAAAAAAA8D8AAAAAAADwPwAAAAAAAPA/AAAAAAAA8D8AAAAAAADwPwAAAAAAAPA/AAAAAAAA8D8AAAAAAADwPwAAAAAAAPA/AAAAAAAA8D8AAAAAAADwPwAAAAAAAPA/AAAAAAAA8D8AAAAAAADwPwAAAAAAAPA/AAAAAAAA8D8AAAAAAADwPwAAAAAAAPA/AAAAAAAA8D8AAAAAAADwPwAAAAAAAPA/AAAAAAAA8D8AAAAAAADwPwAAAAAAAPA/AAAAAAAA8D8AAAAAAADwPwAAAAAAAPA/AAAAAAAA8D8=",
          "dtype": "f8",
          "shape": "50, 50"
         }
        },
        {
         "colorscale": [
          [
           0,
           "rgb(255,255,255)"
          ],
          [
           0.125,
           "rgb(240,240,240)"
          ],
          [
           0.25,
           "rgb(217,217,217)"
          ],
          [
           0.375,
           "rgb(189,189,189)"
          ],
          [
           0.5,
           "rgb(150,150,150)"
          ],
          [
           0.625,
           "rgb(115,115,115)"
          ],
          [
           0.75,
           "rgb(82,82,82)"
          ],
          [
           0.875,
           "rgb(37,37,37)"
          ],
          [
           1,
           "rgb(0,0,0)"
          ]
         ],
         "name": "Pareto Front",
         "opacity": 0.3,
         "scene": "scene2",
         "showscale": false,
         "type": "surface",
         "x": {
          "bdata": "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",
          "dtype": "f8",
          "shape": "50, 50"
         },
         "y": {
          "bdata": "AAAAAAAAAADZMul6EGmgP8b1duvnZrA/cLvvC/eUuD+PjathR17AP8aDzvTEbcQ/2m9PzeJ3yD+CRQLjkHvMP+7Ll2/gO9A/QPfYMbM10j+8L8eouyrUPwDuegd2GtY/3WJO5l8E2D9RRytl+OfZP8GrcU3AxNs/cNtuMzqa3T+ihluX6mffP8VC7AKsluA/JtTwmwV14T8/FheZx07iP6NL+7G4I+M/0e2L4qDz4z+078V5Sb7kPy7PFyh9g+U/w6xnDQhD5j8XubjGt/zmPzBhbHtbsOc/57wb6sNd6D9L3gV1wwTpP7K8Dy4upek/jJNS4tk+6j+VqjUlntHqP/qbEFtUXes/QExTw9fh6z/+5zCCBV/sP3Fcy6m81Ow/NeHcQt5C7T8ITN1UTantP8wJoe3uB+4/xrtvKKpe7j+Um5A0aK3uP//sSlsU9O4/aelYBZwy7z/otcu/7mjvP8YaX0D+lu8/7Ng7ab687z8goCdMJdrvP2zPIS0r7+8/yk9shMr77z8AAAAAAADwPwAAAAAAAAAAx/V26+dmoD9uKrKkv2SwP3IIZ1e7kbg/wDBjPSBcwD+0fn0XFWvEP6Vk6OuqdMg/3IM/1tF3zD8ADa3RvTnQP9V9LwxOM9I/oPKpnBQo1D9NyYrHjRfWP6gaUzY3Adg/TwfgGZDk2T9hEU1MGcHbPzKZZnJVlt0/frCjHMlj3z+7S89zfZTgP4KsAc65cuE/5A/2Jl9M4j8IgtE9NCHjP6yd4BUB8eM/f95RBY+75D88zpbDqIDlPyNEaHcaQOY/+QZqxLH55j8AO2rYPa3nP70fOXiPWug/zbwVDHkB6T/rOKyrzqHpP6SzoilmO+o/w5exHhfO6j9qe0T0ulnrP/3BoO4s3us/WFSPNkpb7D+b5Ibi8dDsPzxUVP8EP+0/gfU+mGal7T/ng6a++wPuP7DSGJGrWu4/Y1TdQV+p7j9+wvQcAvDuP3RRi42BLu8/GALcIs1k7z9qx4OU1pLvP3NdQ8aRuO8/LdQuy/TV7z/190no9+rvP7bnkJaV9+8/yk9shMr77z8AAAAAAAAAAAQie85uYKA/j42rYUdesD990IgTCYi4P151hWGrVcA/nBF9NAZjxD+2km0gBGvIPyQ5QKyVbMw/1HO3h1Yz0D9gCH48HyzSP2YX8yogINQ/SR+Cy9UO1j++bRz7vffXP7jkdB1Y2tk/wPTUPiW22z9u5oE1qIrdPwaqqcJlV98/+0FnWfKN4D96h9T+1mvhP0sYvHImReI/7WHbiqcZ4z+2cpdgIunjPzN8sV9gs+Q/dVOiVCx45T9yKJl6UjfmPwrGGYmg8OY/h8U2weWj5z/kOmT68lDoP156366a9+g/vrOoB7GX6T8jPQvoCzHqP3iEsfiCw+o/xb1Bsu9O6z+Eg4BnLdPrP5i+9k4ZUOw/JEwYjJLF7D/l+Og3ejPtPxuMHWmzme0/ZL62OyP47T+EHBTYsE7uP5r5fHlFne4/17gddMzj7j8u23c6MyLvP/ZiQ2JpWO8/xETAqGCG7z+qwnb2DKzvP0i1ZWJkye8/duydNF/e7z/190no9+rvP2zPIS0r7+8/AAAAAAAAAABYJeDXplWgPxE3FNaAU7A/2W9PzeJ3uD8cSd6A6krAP1+JdWqaVcQ/HebU9PBayD+E9pxZ31nMP/IX8UCsKNA/ZQ17pigg0j8JNVZr4BLUP9i7hF5QANY/WOmjsvbn1z8vWxEgU8nZP8a5qQbno9s/lQUYjzV33T/ouazLw0LfP8EQWmwMg+A/xK0h/l5g4T+C2bliHzniP/kIgpUUDeM/dUCs1Abc4z+r5+evv6XkP2rWsxYKauU/XdVTZrIo5j//5mV3huHmP/DFE6tVlOc/JyDd9/BA6D/XMff1KufoP5V+PuvXhuk/lIS31s0f6j8lY5t75LHqP5GM7Wv1POs/YrqXEtzA6z9Oewm9dT3sP+TSWKShsuw/AoTh9UAg7T/KwWDbNobtP7gki4Jo5O0/T+UaJL067j/4gFQKHonuP0kSAJd2z+4/WsrVSLQN7z/aHVzAxkPvPzVeNsSfce8/mZziRDOX7z/12uVfd7TvP0i1ZWJkye8/LdQuy/TV7z8goCdMJdrvPwAAAAAAAAAAHkyt3ZJGoD/29JPXbkSwP8v4R8RMYbg/7suXb+A7wD+bHTZB1ULEPy7tpKN1RMg/3dx2yrM/zD/SFJLLwRnQP5pEyW9tD9I/17EM2lgA1D8Z/3dSAezVP0ipeYPl0dc/Zr7Ym4Wx2T8FbFRwY4rbP0CN1JwCXN0/E30ipegl3z+9yJCKznPgP8piP9BUUOE/cp7nIE0o4j8KuIqsfvviP+990uSxyeM/q5qui7CS5D+UaZnBRVblP/iUgBM+FOY/QdVNiGfM5j+gQQyukX7nP+G8pqaNKug/XyQ8NC7Q6D+sAgbFR2/pP5ikzn6wB+o/rIzzSUCZ6j/AX/Hb0CPrP16EdsE9p+s/rM75Z2Qj7D8vs9ImJJjsP8eb0EdeBe0/oBxPD/Zq7T+06MTD0MjtPy2Jy7TVHu4//v2dQe5s7j96kgzfBbPuP/dU5BwK8e4/mcXIquom7z+vdX5cmVTvP4B2pS0Keu8/mpziRDOX7z+rwnb2DKzvP3RdQ8aRuO8/7dg7ab687z8AAAAAAAAAAJbER9c2M6A/yWcKXRUxsD/5HHTpTES4P+XQeyKRKMA/uy/HqLsqxD9cFNgWmCfIP08gLOEZHsw/FpsTFJsG0D9EuSP/8fnRP6oO61aO6NM/SJ8B/+3R1T8m1Kw7kLXXPx66vNP1ktk/4ZEDMqFp2z+C416GFjndP9FkSebbAN8/kZB2tjxg4D9ruVatvDvhP1FBEBq0EuI/ZxM4cOrk4j9BEo1jKLLjP9b/g/Y3euQ/OVl7iOQ85T95aZPj+vnlP5fvJkpJseY/M8zgg59i5z/XRWvqzg3oP7eNtXWqsug/YUrMxwZR6T/ECkI4uujpPzOhJN+ceeo/eIR8n4gD6z8NdFMxWYbrPzy8PyvsAew/kZdxCyF27D/KS0BA2eLsP7LCNDD4R+0/FIGPQWOl7T9jAUjhAfvtP6+ag4m9SO4/qkCCx4GO7j+7jf9APMzuP8usBrncAe8/4903FFUv7z+vdX5cmVTvPzZeNsSfce8/xUTAqGCG7z9rx4OU1pLvP8caX0D+lu8/AAAAAAAAAAB1g2fclxugP00KhH15GbA/yBC63eoguD9KcumtARHAP6THHfhTDcQ/3WJO5l8EyD+sbYh0GvXLPzFpT0h63s8/JWU1+7vf0T+0phgkh8vTP7fjH0AdstU/HLBET/6S1z+gp9fRq23ZP5sxx+moQds/cWl4e3oO3T+ShylOp9PePxaj6hVcSOA/GG9HAJwi4T9fLqf8WfjhP4ibEtFdyeI/UJXpgXCV4z/N0FlgXFzkP7z/fRjtHeU/2bMhv+/Z5T9qYCbfMpDmP8/zhYaGQOc/B53vUrzq5z/Za/t9p47oP8+V8egcLOk//EYiKPPC6T+PAsuNAlPqP361hjQl3Oo/WLxFCTde6z/vPMvUFdnrP9lUrUShTOw/eb7V87q47D8/sIByRh3tP2Dbt00peu0/lpJHFkvP7T8PRCxnlRzuP+6VduvzYe4/gJikY1Sf7j8Epm6qptTuP8qsBrncAe8/mMXIquom7z/aHVzAxkPvP/ZiQ2JpWO8/GALcIs1k7z/otcu/7mjvPwAAAAAAAAAADKCAR3j/nz9z1cbdQvuvP+nR4u8v97c/SP79iHDqvz9rpXDrperDP/YgzlXW2sc/watxTcDEyz/KAcxCXKfPPwmiHEnSwNE/NDpq5Eqp0z+Kt1t0l4zVPzG3StY4atc/midPZbFB2T8yf0wbhRLbP6zVkbE53Nw/zkoEwVae3j9QouXwMizgPwsYO2X5BOE/T8lJt0XZ4T9IsFgO4KjiPxVa382Rc+M/NZXjoyU55D9vKwCXZ/nkP672EBQltOU/ELiA+yxp5j8/MTWuTxjnP9AZFhpfwec/IaUrxi5k6D91aFHekwDpP5uNej5lluk/R1uEfXsl6j9uOpT3sK3qP2N+/tfhLus/81SzIuyo6z/aYy+9rxvsP0257XYOh+w/KddYEezq7D/AwThHLkftPw0enNO8m+0/1Y06eIHo7T/km04DaC3uPzmu5VReau4/gJikY1Sf7j+6jf9APMzuP/ZU5BwK8e4/WsrVSLQN7z8u23c6MyLvP3RRi42BLu8/aelYBZwy7z8AAAAAAAAAAP2jvgJWv58/PN99CCm7rz85WCcaJ8e3Pys48Wp4qr8/dFgvorrCwz9P7pNSBqvHPxW1ESQYjcs/ooZbl+pnzz/z1ZoKPZ3RP9+yX5nigdM/rg2VemZh1T8HL2aKSjvXP8OOvx8SD9k/rMsZLULc2j+PYNhgYaLcP7qSM0X4YN4/W5rSr8gL4D+H/Oen3OLgP/SZ7HZ/teE/3IcWtHmD4j8tsFIwlUzjP7a0hQSdEOQ/J4x2n13P5D+mL1/TpIjlP4LHH+NBPOY/Et4QjwXq5j9YOXEhwpHnP20WbHpLM+g/7Zy0G3fO6D/BfLMzHGPpP3rFQ6gT8ek/KyT8IDh46j8N0wERZvjqP0ylYsB7ces/abnzVFnj6z+IfLLa4E3sP9DKpUv2sOw/1hk9l38M7T8BvSupZGDtP+J1vm+PrO0/H6ap4evw7T/lm04DaC3uP++VduvzYe4/q0CCx4GO7j96kgzfBbPuP0oSAJd2z+4/2LgddMzj7j9/wvQcAvDuPwDtSlsU9O4/AAAAAAAAAABuHnvJ2XafP/ss51e2cq8/4FVN/9yQtz/aCojVK2K/P/fkm5yclcM/k+xycPx0xz8wyX2cME7LPy9fe/Y1IM8/JtTwmwV10T9tqcWgWFXTP1wqaq+VMNU/PuUJxD8G1z8Y0zBS29XYPyBwS2Xunto/uYi7wABh3D93Snn/mxvePyZHOLNLzt8/QxyEwU684D8Uu7SkEI3hP9iZ5pg0WeI/feK86oQg4z8ep+UrzeLjP+245EDan+Q/+1yFbnpX5T+nVe9mfQnmP5vPW1a0teY/rdpm7/Fb5z8kMfp2CvznP7gqzs/Tleg/y9R9hSUp6T+kRSvX2LXpPxZescHIO+o/FktgCdK66j9/N0JD0zLrP/u95d2so+s/6cqrKUEN7D81v5ZgdG/sPw7GmK0syuw/qnFfM1Id7T9K1ZoSz2jtP+F1vm+PrO0/1Y06eIHo7T8PRCxnlRzuP66ag4m9SO4//f2dQe5s7j/4gFQKHonuP5r5fHlFne4/Y1TdQV+p7j+Um5A0aK3uPwAAAAAAAAAA/LUPrRYmnz+6W9ra/SGvPyBJVOdfVLc/pueTzZ0Rvz+LmQe5V2PDP9q/hebGOMc/r5bcQhoIyz/a6gM9UdDOPxGDaJE2SNE/o0v7sbgj0z/+gDrqMfrUP23ONHcmy9Y/m8aVCRyW2D8nkNLlmVraPwla7AMpGNw/Jj3ALlTO3T9HTtwiqHzfPyDiaNZZkeA/KBx+4wNg4T+0FVvbGyriP8qQeZRs7+I/tOYbJ8Kv4z/0d/T66WrkP+/edNSyIOU/FGXB4ezQ5T9DUkXHaXvmP2bH5Kv8H+c/+e7IRHq+5z8CacPguFboP5zzRXOQ6Og/aG3rntpz6T+ObI+/cvjpP4vC8fM1duo/xGPjJgPt6j8CSfoXu1zrP6cAymNAxes/Ksaei3cm7D8KF7n8RoDsP1neBxeX0uw/qnFfM1Id7T8AvSupZGDtPw0enNO8m+0/lpJHFkvP7T9iAUjhAfvtPyyJy7TVHu4/T+UaJL067j+EHBTYsE7uP7DSGJGrWu4/xrtvKKpe7j8AAAAAAAAAAAqZOewhzZ4/QkBJzRTJrj+kv7O7vxG3P15x24PjuL4/tM6zMPkrwz+oQ3GLdfbGP4XhC4fnuso/oj0yb1F4zj/qbIy02xbRP6Ra3doP7dI/te/FeUm+1D9bYsYvDorWP3yL1grlT9g/hrA2qFYP2j+URNdT7cfbP9pdTyc1ed0/QLpZKLwi3z8JJ2gzCWLgP8E8Dw1lLuE/GhMR3zv24T/sGboXWbniP59hiGOJd+M/twysupow5D8NgDBuXOTkP4vbyjSfkuU/4FxKNzU75j+OZqcc8t3mP0b/rRWreuc/3bdA6DYR6D+gATH6baHoP4YaqlsqK+k/3NEr0Ueu6T8/hRLdoyrqPw3UqcgdoOo/cqbHrJYO6z9BRO158XXrP31Y7P8S1us/dN4N9eEu7D8KF7n8RoDsPw/GmK0syuw/1hk9l38M7T/BwThHLkftP2Hbt00peu0/FIGPQWOl7T+06MTD0MjtP7kki4Jo5O0/Zb62OyP47T/og6a++wPuP80Joe3uB+4/AAAAAAAAAACJyoLtEmyePxDwqZISaK4/XsgrAw7Jtj9ndYdPFFi+P8liV5SP78I/YPA50Rmuxj+b6sa3rGbKP37QILNNGM4/YvYNAQLh0D/7EFd8bLHSPwA8aSDsfNQ/wqxnDQhD1j9FTGfOSAPYP+k/23g4vdk/VrSZy2Jw2z+uwXBNVRzdP6NdQ2ufwN4/wTfTSmku4D/6HfsuQfjgP/hAbkmiveE/7+Mfrlh+4j/uP0qrMTrjP7hpxNb78OM/UgkCG4ei5D/Yd7nDpE7lP9bvLIon9eU/vpQToeOV5j9zLx/ArjDnP+KXGy9gxec/x96k0NBT6D8TZnEs29voPzQzLXlbXek/X+PjpS/Y6T/qx/ZiN0zqP03PnCpUueo/Rv7pSGkf6z+MXFzjW37rP3xY7P8S1us/Ksaei3cm7D81v5ZgdG/sP8/KpUv2sOw/KddYEezq7D8/sIByRh3tP7HCNDD4R+0/nxxPD/Zq7T/KwWDbNobtPxuMHWmzme0/gfU+mGal7T8ITN1UTantPwAAAAAAAAAAGUcaOQMDnj++tc+vEP+tP8utKN1derY/lRz/p0nvvT9d3EnIKq7CP74JrcDGX8Y/Wt9O/X8Lyj++mbBKX7DNP1AMW6G3ptA/v9eZRt5w0j8KzvgPKzbUP+olCr8m9tU/MGFse1uw1z8WUMrxVGTZPwS9dHKgEds/ILSND8233D/vdr26a1beP4ZLaWIP7d8/+Dsyh6a94D/P7gn+XYDhP/tm/tx6PuI/COxbIcv34j+KPKALHqzjP4RhTSxEW+Q/nR1kcA8F5T+3r4ItU6nlP7q4pC3kR+Y/XC2Bupjg5j9dVoOoSHPnP1f8W2HN/+c/dvcn7gGG6D+WdykBwwXpP+J1Ef/ufuk/nt7WB2bx6T/AHxn/CV3qP5bnC5S+weo/Rv7pSGkf6z9BRO158XXrP6gAymNAxes/6sqrKUEN7D+IfLLa4E3sP0657XYOh+w/er7V87q47D/KS0BA2eLsP8eb0EdeBe0/A4Th9UAg7T/m+Og3ejPtPz1UVP8EP+0/NuHcQt5C7T8AAAAAAAAAAPWgHHIOkp0/Eo80xCqOrT8WL7v8wyW2PyHxNB6ffr0/PjVVANxnwj9Zy170kAvGP+G4llN5qck/eyfkjKFAzT87LuTqC2jQP1/J/DR2K9I/qcE65Rjq0z93gv19fqPVP7opbeIyV9c/S94FdcME2T/gT741v6vaP0Vywd+2S9w/AqKzBj3k3T9ef3sz5nTfP5h2Q4CkfuA/+mHCGn8+4T/o9kVx0PnhP5ZjVD1nsOI/1OPkdhNi4z/VUAJhpg7kP2OZFpbyteQ/gebbE8xX5T9TSPBGCPTlP6XfCBZ+iuY/0JHB7AUb5z8MbwbGeaXnP9kNFDa1Keg/IzoMdJWn6D/Xchxj+R7pP7bNM5vBj+k/6fZFcdD56T+/Hxn/CV3qP03PnCpUueo/cabHrJYO6z8CSfoXu1zrP/u95d2so+s/aLnzVFnj6z/aYy+9rxvsP9lUrUShTOw/kJdxCyF27D8us9ImJJjsP+TSWKShsuw/JEwYjJLF7D+b5Ibi8dDsP3Fcy6m81Ow/AAAAAAAAAAAN105PUhmdP+f4tIJ+Fa0/3oomo1bLtT/+fGZVMga9P4pnL7u1HMI/YuQ+k46xxT97E/SDskDJP5p7rt4xycw/zNATWg8l0D8mGIWJRuHRP8x9AaPJmNM/esWdCCVL1T+S/5Z35vfWP4UpYSadntg/jJNS4tk+2j/DPeQsL9jbP7N6f1gxat0/rUPRpHb03j+x5U2tSzvgP7F+f/MW+OA/ll4Ye2uw4T+07s7GGGTiP+J3tpLvEuM/tBuu4MG84z+5GXoEY2HkPwAyhK+nAOU/aw1A/GWa5T/JrDB5dS7mP1T4izOvvOY/U6N5we1E5z+4sepLDcfnPxkJB5jrQug/+ZEuEGi46D8gi4vMYyfpP7fNM5vBj+k/nt7WB2bx6T/rx/ZiN0zqPw3UqcgdoOo/xWPjJgPt6j+AN0JD0zLrP0ylYsB7ces/9FSzIuyo6z/wPMvUFdnrPzy8PyvsAew/rM75Z2Qj7D9Pewm9dT3sP5m+9k4ZUOw/WVSPNkpb7D//5zCCBV/sPwAAAAAAAAAA21BNk+6YnD8w8r+pK5WsP1zKBZota7U/02hQ+yKGvD+h7Zy9y8zBP62vxErXUcU/G6dWHkfRyD+XjTerL0rMP21P8Bunu88/OoUYyGKS0T/2G+isUkLTP+f6mpwx7dQ/RMWRTI+S1j/UtOPk/DHYP2gXhx0Ny9k/+5sQW1Rd2z9s3wHLaOjcP7fGn3/ia94/3lNJi1vn3z9M4qMNOK3gP312CElfYuE/4XJ60PMS4j+UJpgwx77iP8ZALjasZeM/ULQb+nYH5D+kQN7s/KPkP3SWxOEUO+U/GybDGZfM5T9LvuhNXVjmPwA7cLlC3uY/kp5sIyRe5z+NCQ3o39fnP2QhdgFWS+g/+JEuEGi46D/Xchxj+R7pP+J1Ef/ufuk/X+PjpS/Y6T8+hRLdoyrqP4vC8fM1duo/FktgCdK66j8M0wERZvjqP2N+/tfhLus/WLxFCTde6z8MdFMxWYbrP12EdsE9p+s/YrqXEtzA6z+Eg4BnLdPrP/3BoO4s3us/QExTw9fh6z8AAAAAAAAAAFUNMQQFEZw/PUT9+lMNrD8M1wktYgW1P6Io2b+S/rs/i3w9DTN4wT9bsLRIhOzEP8opCHJUW8g/7nqYW7zDyz9x9kCH1iTPP4crW7HfPtE/VAKywcrm0j/AG9zwvInUPyiw5wlIJ9Y/KLO3Q/++1z9CvaFdd1DZPxK5pLtG29o//ecwggVf3D+e73mxTdvdP+6/S0C7T98/u6EtG/Zd4D+Y9gVjwA/hP1yu0bINveE/xjvyc7Bl4j8wvwVKfAnjP7Bnkh5GqOM/xBhcLORB5D9SWWEKLtbkP/enfLb8ZOU/x2innyru5T+Luduvk3HmP9WSklUV7+Y/3LbbjI5m5z+OCQ3o39fnPxkJB5jrQug/JDoMdJWn6D+WdykBwwXpPzUzLXlbXek/3dEr0Ueu6T+PbI+/cvjpPxdescHIO+o/KyT8IDh46j9vOpT3sK3qP3+1hjQl3Oo/eIR8n4gD6z/AX/Hb0CPrP5KM7Wv1POs/xr1Bsu9O6z9re0T0ulnrP/ubEFtUXes/AAAAAAAAAAChN61iuYGbP5NCbDIbfqs/ZABSIw+atD9RZzRMpW+7PwlXBOsBH8E/qPaANLCBxD8vhPaF+d7HP6OSEU77Ncs/joJeotSFzj9U+Dk90+bQP1IrT/VJhtI/lbf+LuEg1D+jCQLoLLbVP5e4pYLCRdc/0lTV4TjP2D9GCcKEKFLaP0LJHKIrzts/NeHcQt5C3T8134tc3q/eP0L0h/VlCuA/mtn2hKS44D98v30GfWLhP/lGP8zCB+I/sGJWXEqo4j+kI0Z86UPjP1+AFTx32uM/RioUAcxr5D//m0WQwffkPzajbxgzfuU/ncDJO/3+5T/U0UoZ/nnmP9WSklUV7+Y/k55sIyRe5z+4sepLDcfnP9oNFDa1Keg/dvcn7gGG6D8UZnEs29voP4YaqlsqK+k/aW3rntpz6T+lRSvX2LXpP3rFQ6gT8ek/SFuEfXsl6j+QAsuNAlPqPzOhJN+ceeo/rYzzSUCZ6j8mY5t75LHqP3mEsfiCw+o/xJexHhfO6j+WqjUlntHqPwAAAAAAAAAA03enYDHrmj9cWP38pueqP46xYLhQKbQ/14WBOYDZuj/FrV3NT8HAP94qRih3EcQ/g1+KEFdcxz/Pi7zMEaHKP9mMREHL3s0/EkEjlVSK0D+VrYaq6SDSPzUZdey5stM/BMC8p1s/1T9Oqx+GZsbWP5sExqlzR9g/A2VNyB3C2T98Am5FATbbP9q4Lk28otw/zAmh7e4H3j/0Th4wO2XfPye9/5giXeA/N3JknlkD4T9n5uHuFqXhP26rf/4vQuI/X3vZeXva4j8nNf5Q0W3jPwvD+cEK/OM/hyUHYwKF5D/U82cslAjlP4G73oGdhuU/ncDJO/3+5T+Luduvk3HmPwE7cLlC3uY/U6N5we1E5z8NbwbGeaXnP1f8W2HN/+c/yN6k0NBT6D+gATH6baHoP53zRXOQ6Og/zNR9hSUp6T/BfLMzHGPpP5yNej5lluk//UYiKPPC6T/FCkI4uujpP5ikzn6wB+o/lYS31s0f6j8kPQvoCzHqP6WzoilmO+o/jZNS4tk+6j8AAAAAAAAAABl5TZeUTZo/cdyo7h5Kqj+gMa6URLOzP8el5wZLPLo/vpYCWjVfwD+gFmep9pvDP38yDG+P08Y/uFm9AycFyj9ki6RU5i/NP6777g18KdA/9S5JjMS20T8DtkQjZD/TP9+6korzwtQ/CQzdzgxB1j9/u5dsS7nXP9L9cWpMK9k/mVRfc66W2j8TKzLwEfvbP5gowSAZWN0/lJuQNGit3j8tgPlipfrfPxHkY4G8n+A/rNak0MY94T8W/2QMSNfhP++8N9MXbOI/C769/w784j9mMPGyB4fjP+EaHF7dDOQ/0D12zGyN5D/U82cslAjlPzajbxgzfuU/x2innyru5T9MvuhNXVjmP1T4izOvvOY/0ZHB7AUb5z9dVoOoSHPnP+OXGy9gxec/3rdA6DYR6D8DacPguFboP7gqzs/Tleg/7Zy0G3fO6D92aFHekwDpP9CV8egcLOk/YUrMxwZR6T+sAgbFR2/pP5Z+PuvXhuk/v7OoB7GX6T/sOKyrzqHpP7O8Dy4upek/AAAAAAAAAAARQap8DKmZP3DHBXispak/cWLbxQk4sz9H2TEPL5i5P3p3+r6Y8b8/YJ7IoE0hwz/VEJqcxkTGPxIy9PZjYsk/OcRW3lN5zD8qZ/BCxojPPxwErYb2R9E/ntBmKv7G0j8HAmVKFUHUPxDLCnHYtdU/PwWJj+Uk1z8Wq6kX3I3YP2cmNhVd8Nk/V8TxRgtM2z/avCE3i6DcP9FZnFOD7d0/aOlYBZwy3z+KJL3jvzfgP8D85p7t0eA/Lehcpa5n4T/BQUmS2/jhPy+4KjVOheI/3xXgm+EM4z+wSGAcco/jP+AaHF7dDOQ/hiUHYwKF5D//m0WQwffkP/anfLb8ZOU/GybDGZfM5T/IrDB5dS7mP6XfCBZ+iuY/Wy2Bupjg5j9zLx/ArjDnP0b/rRWreuc/+e7IRHq+5z8kMfp2CvznP2wWbHpLM+g/IaUrxi5k6D/Za/t9p47oP7aNtXWqsug/XiQ8NC7Q6D/XMff1KufoP156366a9+g/zbwVDHkB6T9L3gV1wwTpPwAAAAAAAAAAyRW+WMT9mD/5CGPbevqoP1+LhrbAt7I/JjTufVftuD+H6L2cXxy/P/M1sFKcocI/9J2wKCKwxT9WezN387jIP9gNQOVDu8s/F9XSz0i2zj8/1ZW/nNTQPyBQza2nSdI/0ODeEOO50z8++xAL7iTVP6e6HBxpitY/1S1NOvbp1z/TGjzrOEPZPy+4JVzWldo/kPXMeXXh2z+vCuoHvyXdP7oiHbhdYt4/xRpfQP6W3z8NNnW4p2HgP2w/yySB8+A/bONPB+WA4T+WmWsurgniP3jQmZ64jeI/4BXgm+EM4z9mMPGyB4fjPwvD+cEK/OM/RioUAcxr5D9SWWEKLtbkP3WWxOEUO+U/aw1A/GWa5T9USPBGCPTlP7q4pC3kR+Y/v5QToeOV5j+OZqcc8t3mP2fH5Kv8H+c/rtpm7/Fb5z9YOXEhwpHnP9EZFhpfwec/CJ3vUrzq5z/XRWvqzg3oP+G8pqaNKug/KCDd9/BA6D/lOmT68lDoP74fOXiPWug/6Lwb6sNd6D8AAAAAAAAAAOXQGzrpS5g/MlpmIbdIqD8yVsQlizKyP6GaEkTxO7g/kChUZPc+vj/Z80ZWBB3CP3agSS3JFcU/unn8FgIJyD80jK9o6PXKPy1ReyG3280/kLYJj9Vc0D9w5Q2mgcfRP1hJeW6ALdM/aNDwu3OO1D/WI9W1/unVP2Yqr+/FP9c/nb88gW+P2D8OTBceo9jZPwQG7iwKG9s/er5N3k9W3D8OPPBCIYrdP75FjWEttt4/IaAnTCXa3z9NMWga3nrgP0GX7cBTBOE/t/u+cE+J4T+WmWsurgniPy+4KjVOheI/C769/w784j8nNf5Q0W3jP1+AFTx32uM/xBhcLORB5D+lQN7s/KPkPwAyhK+nAOU/gubbE8xX5T+3r4ItU6nlP9fvLIon9eU/4FxKNzU75j9EUkXHaXvmP5zPW1a0teY/E94QjwXq5j9AMTWuTxjnP9DzhYaGQOc/NMzgg59i5z+hQQyukX7nP/HFE6tVlOc/iMU2weWj5z8BO2rYPa3nPzFhbHtbsOc/AAAAAAAAAACdng7qqZOXP9yLMw2QkKc/Wzw/HoyosT+eSioMK4S3P8mZ4lOaWb0/zH7DjKiTwT+gz5JE5HXEP1OxxR6+Usc/D703U3Upyj89JPC2SvnMP5Fxa+6Awc8/x6+1T65A0T8I1R9REpzSP+9xPRmR8tM/J0CDj9BD1T+etcT8d4/WP59biiIw1dc/cw0FUqMU2T/2FJiCfU3aP2M39Gdsf9s/f+G9hx+q3D9nwbhOSM3dP0A8cyWa6N4/y09shMr73z+XSdeDSIPgP0KX7cBTBOE/beNPB+WA4T/DQUmS2/jhP/C8N9MXbOI/X3vZeXva4j+lI0Z86UPjP7Fnkh5GqOM/UbQb+nYH5D+6GXoEY2HkP2SZFpbyteQ/nh1kcA8F5T/Zd7nDpE7lP4zbyjSfkuU/FWXB4ezQ5T+pVe9mfQnmP4PHH+NBPOY/EriA+yxp5j9sYCbfMpDmP5nvJkpJseY/Q9VNiGfM5j8B52V3huHmPwzGGYmg8OY/+wZqxLH55j8ZubjGt/zmPwAAAAAAAAAA1EZL4DbVlj/QbR8QNtKmP1m6/+znGbE/hDsPLjXGtj+gH13BhGy8P6woPRitBcE/qY8/fp3Qwz/zEs6AV5bGP1pJBm0gVsk/ct0nID8PzD+rFkg4/MDOP1+oRyJRtdA/Xth5+r4F0j/HRLIkb1HTP7cDLWAKmNQ/YHFewjrZ1T9xA43NqxTXP4gkC4cKStg/0D4LjQV52T/7NwgsTaHaP7y8vHOTwts//tejS4zc3D8Scf2G7e7dP9NsUfhu+d4/yk9shMr73z9NMWga3nrgP2w/yySB8+A/Luhcpa5n4T8W/2QMSNfhP26rf/4vQuI/sGJWXEqo4j8wvwVKfAnjP8dALjasZeM/tBuu4MG84z/WUAJhpg7kP4RhTSxEW+Q/UwkCG4ei5D8NgDBuXOTkP/DedNSyIOU//FyFbnpX5T+mL1/TpIjlP6/2EBQltOU/2rMhv+/Z5T96aZPj+vnlP/iUgBM+FOY/XtVTZrIo5j9zKJl6UjfmPyREaHcaQOY/xKxnDQhD5j8AAAAAAAAAAAU9MDbCEJY/P4zxPNsNpj8Rtt8XxIawP16PMqJBArY/D/OmCvV3uz+uoCpSN3PAPwBseFQgJsM/sCeAzP/TxT9WM75NIXzIP8o7Xu7RHcs/obxLdmC4zT/sM+jGjiXQPx4Y2vWtatE/JmppQTir0j8Ado1X2ebTP4tR9TA+HdU/SDrfJhVO1j/PNJMIDnnXP4xHezDandg/KcTTmCy82T97Lu7vudPaP2ZsAaw45Ns/kwiCHmHt3D8Scf2G7e7dPz88cyWa6N4/IaAnTCXa3z8NNnW4p2HgP8D85p7t0eA/rNak0MY94T9n5uHuFqXhP/lGP8zCB+I/xjvyc7Bl4j+VJpgwx77iP+J3tpLvEuM/1ePkdhNi4z+KPKALHqzjP7lpxNb78OM/twysupow5D/1d/T66WrkP+645EDan+Q/J4x2n13P5D9wKwCXZ/nkP73/fRjtHeU/OVl7iOQ85T+VaZnBRVblP2vWsxYKauU/dlOiVCx45T89zpbDqIDlPy/PFyh9g+U/AAAAAAAAAACs0ZeZf0aVP9UcuDqzQ6U/SDZXp47erz+ebXf0gzi1PxexKoUrfLo/uXkdg9u4vz+2OGugmXbCP2KMaCHqC8U/HxrYTbGbxz+FEuKjQiXKP/iM5kPzp8w/HZxwHRojzz+0xdcNCMvQP1hJtSgYANI/+7cxEmww0z/pPg68s1vUP+iC+2uggdU/TF1P0OSh1j8pulsUNbzXPww+YfRG0Ng/1HMY0dHd2T8PX8zCjuTaP2dsAaw45Ns//9ejS4zc3D9owbhOSM3dP8BFjWEttt4/xxpfQP6W3z+MJL3jvzfgPxLkY4G8n+A/OHJknlkD4T99v30GfWLhP12u0bINveE/43J60PMS4j+17s7GGGTiP5hjVD1nsOI/CexbIcv34j/vP0qrMTrjP6FhiGOJd+M/tuYbJ8Kv4z8gp+UrzeLjP7e0hQSdEOQ/NpXjoyU55D/P0FlgXFzkP9j/g/Y3euQ/rJqui7CS5D+t5+evv6XkPzV8sV9gs+Q/gd5RBY+75D+278V5Sb7kPwAAAAAAAAAApfw/P6R2lD/ekjE383OkP+2L5/Myp64/3ryjNjFptD9F9O1sanm5PyfhqyHwgr4/P91+jjfCwT8kK8MhSz7EP5BrjHcLtcY/TGtgo9IlyT8B8gZL/I/LP4awxdHl8s0/SH+TQfcm0D+JE6DeO1DRP0ASNo3ydNI/WOk3Tc6U0z/sYX5lg6/UP0EIxHfHxNU/y1M1lFHU1j/SaaBM2t3XP6BuP8cb4dg/03MY0dHd2T97Lu7vudPaP728vHOTwts/fuG9hx+q3D8OPPBCIYrdP7oiHbhdYt4/aulYBZwy3z8ugPlipfrfPye9/5giXeA/mtn2hKS44D+Y9gVjwA/hP352CElfYuE/ll4Ye2uw4T/p9kVx0PnhP/tm/tx6PuI/8OMfrlh+4j/tGboXWbniP8uQeZRs7+I/fuK86oQg4z8usFIwlUzjPxZa382Rc+M/UZXpgXCV4z9BEo1jKLLjP+990uSxyeM/dkCs1Abc4z+3cpdgIunjP62d4BUB8eM/0u2L4qDz4z8AAAAAAAAAABJUy9RmoZM/am3P2NGeoz9S1iH9xmetP55MavJ/lLM/7Owk0/VvuD8LNc4G/kS9PwLjLZIpCcE/bbyi5Fhrwz9RfEt3bMjFPwxLsR7FH8g/244/McVwyj9zVL2w0LrMPy9MVnNN/c4/MEgUptGb0D/mRKYZnrTRP0M1pjbCyNI/sG4AWfXX0z9rWGQp8OHUP+u3CLBs5tU/X4QTZybl1j/SaaBM2t3XPws+YfRG0Ng/KcTTmCy82T/7NwgsTaHaP2I39Gdsf9s/er5N3k9W3D+vCuoHvyXdP9JZnFOD7d0/lJuQNGit3j/0Th4wO2XfP0P0h/VlCuA/u6EtG/Zd4D9N4qMNOK3gP7F+f/MW+OA/+2HCGn8+4T/Q7gn+XYDhP/lAbkmiveE/GxMR3zv24T+1FVvbGyriP9mZ5pg0WeI/3YcWtHmD4j9JsFgO4KjiP4mbEtFdyeI/aBM4cOrk4j8KuIqsfvviP/oIgpUUDeM/7mHbiqcZ4z8JgtE9NCHjP6RL+7G4I+M/AAAAAAAAAAAy3l5y/8aSP33tVTCHxKI/unq8yZ4grD84GxIbqLqyP2KNSowTYLc/y9HU1Vj/uz+0+YpZoEvAPy80tudKk8I/6ZvHixLWxD/hnyoFXxPHP3+tZ4SZSsk/hCrQ0ix7yz9E5r55haTNP+uuYukRxs8/NGuET6Hv0D8/ym4lxffRP8IrjPou+9I/Wh5FkZr50z//iEL8xPLUP+u3CLBs5tU/y1M1lFHU1j8oulsUNbzXP4xHezDandg/0D4LjQV52T/2FJiCfU3aPwUG7iwKG9s/kPXMeXXh2z/cvCE3i6DcP5gowSAZWN0/zQmh7e4H3j8134tc3q/eP+6/S0C7T98/4FNJi1vn3z+x5U2tSzvgP5l2Q4CkfuA/+Dsyh6a94D/7HfsuQfjgP8E8Dw1lLuE/KRx+4wNg4T8Vu7SkEI3hP/SZ7HZ/teE/UMlJt0XZ4T9gLqf8WfjhP1JBEBq0EuI/c57nIE0o4j+D2bliHzniP0wYvHImReI/5Q/2Jl9M4j9AFheZx07iPwAAAAAAAAAA6Ybgi6fnkT9ofByqTOWhP5xNWGkQ0qo/I36+/uLbsT8VAMIdC0q2P8FLkjhWsro/JnTlgJsTvz8w2a8AWrbBP79XlXU93sM/XP598eYAxj+KO7umxh3IP1A/aU1ONMo/QI3cSPFDzD9OLJ/MJEzOP8/ceQAwJtA/tGFqEw4i0T/pebNdahnSP1dcas0DDNM/Wh5FkZr50z9rWGQp8OHUP0EIxHfHxNU/TF1P0OSh1j/QNJMIDnnXP4gkC4cKStg/cg0FUqMU2T8OTBceo9jZPzC4JVzWldo/WcTxRgtM2z8UKzLwEfvbP9u4Lk28otw/NuHcQt5C3T+e73mxTdvdP7nGn3/ia94/rkPRpHb03j9ff3sz5nTfP4dLaWIP7d8/wjfTSmku4D8JJ2gzCWLgPyHiaNZZkeA/RByEwU684D+H/Oen3OLgPwwYO2X5BOE/GW9HAJwi4T9ruVatvDvhP8tiP9BUUOE/xa0h/l5g4T97h9T+1mvhP4OsAc65cuE/J9TwmwV14T8AAAAAAAAAAKEa2uGZA5E/lKPy/lwBoT/0/dzdc3ypP6wLXDdr+LA/gDwGqyUutT9yotLITV65P7sK3IbJh70/o91RTsDUwD+kO2ZmLuHCP2nzJRel6MQ/L5B/upvqxj9Hnscci+bIP1qFSaDt28o/9JdtYD/KzD9OGWtU/rDOP3mMvjjVR9A/SJJI5uIy0T/qebNdahnSP8QrjPou+9I/sW4AWfXX0z/tYX5lg6/UP+mC+2uggdU/STrfJhVO1j9zA43NqxTXP6BbiiIw1dc/n788gW+P2D/VGjzrOEPZP2smNhVd8Nk/m1Rfc66W2j9/Am5FATbbP0XJHKIrzts/AOgwggVf3D9w3wHLaOjcP7V6f1gxat0/BqKzBj3k3T/xdr26a1beP6ZdQ2ufwN4/Q7pZKLwi3z9LTtwiqHzfPypHOLNLzt8/XZrSr8gL4D9SouXwMizgPxij6hVcSOA/k5B2tjxg4D++yJCKznPgP8MQWmwMg+A//UFnWfKN4D+9S89zfZTgP8dC7AKsluA/AAAAAAAAAAA+wARyEhuQP9qOrST0GKA/TW1SBCMgqD9XPTabfBCwPwWubOKtDLQ/eftP+ZgDuD+Q6ZDkMvS7P57PSFJy3b8/S3ni7yffwT90zWcv48rDPyNWMo1pscU/NtZfDTuSxz/4qFg02WzJP1lyFSjHQMs/Rvf20IkNzT90eif6p9LOP3iMvjjVR9A/s2FqEw4i0T8/ym4lxffRP0M1pjbCyNI/WOk3Tc6U0z/nPg68s1vUP4tR9TA+HdU/X3FewjrZ1T+dtcT8d4/WP2Yqr+/FP9c/1S1NOvbp1z8Wq6kX3I3YP9L9cWpMK9k/A2VNyB3C2T9GCcKEKFLaPxG5pLtG29o//JsQW1Rd2z/DPeQsL9jbP0Zywd+2S9w/ILSND8233D+vwXBNVRzdP9pdTyc1ed0/Jz3ALlTO3T94Snn/mxveP7qSM0X4YN4/z0oEwVae3j+ThylOp9PeP9FkSebbAN8/E30ipegl3z/puazLw0LfPweqqcJlV98/f7CjHMlj3z+jhluX6mffPwAAAAAAAAAALAYCz5xcjj+yU8R8nlieP5ULPX15vaY/BbJzWqhIrj9P/H/p7+WyPyb1Kv6SorY/X8C8xEFZuj/iILInAgm+P6H5JfJt2MA/B9zuZeynwj9+E0iCgnLEP9Zgw6S3N8Y/NsMrlRT3xz9NCOKkI7DJP4HT0c1wYss/R/f20IkNzT9NGWtU/rDOP8/ceQAwJtA/NGuET6Hv0D/mRKYZnrTRP0ASNo3ydNI/+rcxEmww0z8Bdo1X2ebTP7cDLWAKmNQ/JkCDj9BD1T/WI9W1/unVP6i6HBxpitY/QQWJj+Uk1z+Au5dsS7nXP5wExqlzR9g/0lTV4TjP2D9DvaFdd1DZP2oXhx0Ny9k/jZNS4tk+2j/iT741v6vaPwW9dHKgEds/WLSZy2Jw2z+VRNdT7cfbPwta7AMpGNw/u4i7wABh3D+QYNhgYaLcP67VkbE53Nw/c2l4e3oO3T+D416GFjndP0GN1JwCXN0/lwUYjzV33T9w5oE1qIrdPzSZZnJVlt0/cttuMzqa3T8AAAAAAAAAAOkmfxUYe4w/ivyfGFl3nD+PboOU1FSlP4aJ0BlgaKw/ICD4SDm6sT82wey0mDu1P3gsTEFit7g/AOS/VqssvD9Z5soTi5q/P6o/BkUNgME/uuZ/fTouwz98ABQKXNfEPyrATBUCe8Y/XiToOr4YyD9NCOKkI7DJP1lyFSjHQMs/8pdtYD/KzD9NLJ/MJEzOP+quYukRxs8/MEgUptGb0D+JE6DeO1DRP1dJtSgYANI/JmppQTir0j/HRLIkb1HTP+5xPRmR8tM/aNDwu3OO1D8++xAL7iTVPxHLCnHYtdU/CAzdzgxB1j9Oqx+GZsbWP5e4pYLCRdc/KLO3Q/++1z/VtOPk/DHYP4UpYSadntg/TN4FdcME2T8WUMrxVGTZP+o/23g4vdk/hrA2qFYP2j8okNLlmVraPyFwS2Xunto/rMsZLULc2j8zf0wbhRLbP5wxx+moQds/4ZEDMqFp2z8FbFRwY4rbP8e5qQbno9s/wfTUPiW22z9iEU1MGcHbP8KrcU3AxNs/AAAAAAAAAADt8j1iFZKKP+McAreWjpo/OHzjKJPmoz/Q/P/LnoCqP6oJVdjYibA/dVcZjAjPsz/a5O9GAg+3P/HxZC3rSLo/FHCA/Ol7vT/gfXahk1PAP6os0szm5ME/D0YJ7oRxwz+mYdCvBfnEPy3ATBUCe8Y/OMMrlRT3xz/7qFg02WzJP1uFSaDt28o/Q43cSPFDzD9H5r55haTNPzJMVnNN/c4/SX+TQfcm0D+1xdcNCMvQPyAY2vWtatE/YNh5+r4F0j8K1R9REpzSP1pJeW6ALdM/0uDeEOO50z8KAmVKFUHUP+G6korzwtQ/B8C8p1s/1T+mCQLoLLbVPyuw5wlIJ9Y/SMWRTI+S1j+V/5Z35vfWP74pbeIyV9c/M2Fse1uw1z9ITGfOSAPYP3+L1grlT9g/n8aVCRyW2D8c0zBS29XYP8aOvx8SD9k/nidPZbFB2T+kp9fRq23ZPyG6vNP1ktk/ab7Ym4Wx2T8zWxEgU8nZP7zkdB1Y2tk/UwfgGZDk2T9VRytl+OfZPwAAAAAAAAAA2hKFWBWiiD9X9UXq156YP6+c/ZIVc6I/Aga9v+SRqD9wa0JSPaquP0stWGpCXbI/6xwyeJFgtT/pcLDsQF64P1MHh1yHVbs/EEoYDJ1Fvj8z3f8R3pbAP9GNjnKQBsI/DkYJ7oRxwz99ABQKXNfEP9dgw6S3N8Y/N9ZfDTuSxz9Gnscci+bIP1E/aU1ONMo/hSrQ0ix7yz90VL2w0LrMP4ewxdHl8s0/HJxwHRojzz/tM+jGjiXQP2CoRyJRtdA/x6+1T65A0T9x5Q2mgcfRPyBQza2nSdI/oNBmKv7G0j8EtkQjZD/TPzYZdey5stM/lrf+LuEg1D/BG9zwvInUP+n6mpwx7dQ/e8WdCCVL1T95gv19fqPVP+slCr8m9tU/xKxnDQhD1j9cYsYvDorWP2/ONHcmy9Y/QOUJxD8G1z8IL2aKSjvXPzO3StY4atc/HrBET/6S1z8n1Kw7kLXXP0mpeYPl0dc/Wumjsvbn1z/AbRz7vffXP6oaUzY3Adg/32JO5l8E2D8AAAAAAAAAAMf3TXKaq4Y/66U7G5+olj95hPyLvfqgP1ULQBm0nKY/SE3D47c4rD8y+zmVp+awP1+5GBCBrLM/UTJUpy1ttj/pSkj88ye5P//FmT0c3Ls/ZAyRV/CIvj813f8R3pbAP6ss0szm5ME/vOZ/fTouwz+AE0iCgnLEPydWMo1pscU/MJB/upvqxj+NO7umxh3IP4KtZ4SZSsk/344/McVwyj8F8gZL/I/LP/qM5kPzp8w/pbxLdmC4zT+vFkg4/MDOP5Rxa+6Awc8/krYJj9Vc0D9B1ZW/nNTQPx8ErYb2R9E/+C5JjMS20T+YrYaq6SDSP1QrT/VJhtI/VwKywcrm0j/6G+isUkLTP899AaPJmNM/rcE65Rjq0z8NzvgPKzbUPwQ8aSDsfNQ/uO/FeUm+1D8CgTrqMfrUP2Aqaq+VMNU/sQ2VemZh1T+Ot1t0l4zVP7vjH0AdstU/S58B/+3R1T8c/3dSAezVP9y7hF5QANY/TR+Cy9UO1j9RyYrHjRfWPwTuegd2GtY/AAAAAAAAAAD5OPLdKK+EP3kP2mZwrJQ/MYPAJ9z7nj+8ywKwkKGkP0CWcfHFv6k/amVELzXXrj+VEFzEQ/OxP1uTsB80drQ/9/BmiMLztj83DcFHR2u5P/zFmT0c3Ls/EUoYDJ1Fvj/gfXahk1PAP6s/BkUNgME/CNzuZeynwj91zWcv48rDP2jzJRel6MQ/Xf598eYAxj/inyoFXxPHPw1LsR7FH8g/TWtgo9IlyT+FEuKjQiXKP8s7Xu7RHcs/c90nID8PzD89JPC2SvnMPy9ReyG3280/GNXSz0i2zj8tZ/BCxojPP6/77g18KdA/E0EjlVSK0D9V+Dk90+bQP4grW7HfPtE/O4UYyGKS0T8nGIWJRuHRP2HJ/DR2K9I/wdeZRt5w0j/9EFd8bLHSP6Va3doP7dI/pUv7sbgj0z9vqcWgWFXTP+CyX5nigdM/NTpq5Eqp0z+2phgkh8vTP6sO61aO6NM/2LEM2lgA1D8LNVZr4BLUP2gX8yogINQ/ovKpnBQo1D++L8eouyrUPwAAAAAAAAAAMSdmW0atgj/H+X170aqSPwae5q4W+ps/iswR7P+goj/h44P7DUCnPw/BtU/+2Ks/tgw6p001sD8/z26l2HmyP65VKWuHubQ/+/BmiMLztj/sSkj88ye5P1gHh1yHVbs/F3CA/Ol7vT9g5soTi5q/P6T5JfJt2MA/T3ni7yffwT+nO2ZmLuHCP8NXlXU93sM/7ZvHixLWxD9WfEt3bMjFP5VrjHcLtcY/IxrYTbGbxz9bM75NIXzIP2BJBm0gVsk/FL03U3Upyj86jK9o6PXKP94NQOVDu8s/QcRW3lN5zD9qi6RU5i/NP+CMREHL3s0/loJeotSFzj949kCH1iTPP3ZP8Bunu88/0NATWg8l0D9ALuTqC2jQP1QMW6G3ptA/Z/YNAQLh0D/ubIy02xbRPxaDaJE2SNE/KtTwmwV10T/31ZoKPZ3RPw6iHEnSwNE/KmU1+7vf0T9IuSP/8fnRP59EyW9tD9I/ag17pigg0j9lCH48HyzSP9p9LwxOM9I/RffYMbM10j8AAAAAAAAAAJK6CRl6poA/IaK/dUmkkD+iD+Er9fCYPyVn9KKIm6A/UfdVSji6pD/dl7MadNOoP10+2xEo5qw/BM+y8qB4sD8+z26l2HmyP12TsB80drQ/UTJUpy1ttj/rcLDsQF64P/HxZC3rSLo/BOS/VqssvD/mILInAgm+P6PPSFJy3b8/pN1RTsDUwD8y2a8AWrbBPzE0tudKk8I/b7yi5Fhrwz8nK8MhSz7EP2SMaCHqC8U/syeAzP/TxT/2Es6AV5bGP1WxxR6+Usc/vnn8FgIJyD9aezN387jIPxcy9PZjYsk/vFm9AycFyj/Ti7zMEaHKP6eSEU77Ncs/8nqYW7zDyz+cjTerL0rMP557rt4xycw/gSfkjKFAzT/CmbBKX7DNP4TQILNNGM4/pz0yb1F4zj/g6gM9UdDOPzRfe/Y1IM8/poZbl+pnzz/QAcxCXKfPPzdpT0h63s8/GZsTFJsG0D/VFJLLwRnQP/UX8UCsKNA/13O3h1Yz0D8DDa3RvTnQP/HLl2/gO9A/AAAAAAAAAAAkOjIgmTZ9P0fmz3nBMo0/ZNLBDEThlT8zZWnoZSOdPx8bJMLuLqI/oHR7DGLHpT96HKWxGlqpP1o+2xEo5qw/sgw6p001sD+VEFzEQ/OxP125GBCBrLM/6hwyeJFgtT/Y5O9GAg+3P3ksTEFit7g/X8C8xEFZuj+R6ZDkMvS7P7oK3IbJh70/J3TlgJsTvz+0+YpZoEvAPwLjLZIpCcE/P91+jjfCwT+2OGugmXbCPwBseFQgJsM/qY8/fp3Qwz+gz5JE5HXEP3egSS3JFcU/9Z2wKCKwxT/WEJqcxkTGP38yDG+P08Y/hF+KEFdcxz8whPaF+d7HP8opCHJUW8g/HadWHkfRyD98E/SDskDJP+O4llN5qck/W99O/X8Lyj+d6sa3rGbKP4bhC4fnuso/sZbcQhoIyz8yyX2cME7LPxa1ESQYjcs/w6txTcDEyz+ubYh0GvXLP1EgLOEZHsw/3tx2yrM/zD+G9pxZ31nMPyY5QKyVbMw/3oM/1tF3zD+ERQLjkHvMPwAAAAAAAAAAdVeMwY4YeT+gfR2+QRWJP7pIcHnRy5I/YzohSxAImT/YX7RsuT2fP8SfFVmVtaI/pXR7DGLHpT/fl7MadNOoPxDBtU/+2Ks/cGVELzXXrj80+zmVp+awP08tWGpCXbI/eFcZjAjPsz87wey0mDu1Pyv1Kv6SorY/f/tP+ZgDuD93otLITV65P8hLkjhWsro/0dHU1Vj/uz8SNc4G/kS9Py7hqyHwgr4/v3kdg9u4vz+yoCpSN3PAP7AoPRitBcE/z37DjKiTwT/e80ZWBB3CP/g1sFKcocI/ZZ7IoE0hwz+lFmep9pvDP+MqRih3EcQ/rvaANLCBxD9hsLRIhOzEP7OvxErXUcU/Z+Q+k46xxT9fy170kAvGP8QJrcDGX8Y/ZvA50Rmuxj+uQ3GLdfbGP+G/hebGOMc/muxycPx0xz9V7pNSBqvHP/0gzlXW2sc/5GJO5l8EyD9iFNgWmCfIPzTtpKN1RMg/JObU9PBayD+9km0gBGvIP6xk6OuqdMg/4W9PzeJ3yD8AAAAAAAAAABXBCFzq83Q/39bW2SjxhD+QTdw62mKPP1lDu/0k5pQ/nkMEeV0Vmj/XX7RsuT2fPyIbJMLuLqI/UvdVSji6pD/g44P7DUCnP0SWcfHFv6k/Sk3D47c4rD91a0JSPaquP6sJVdjYibA/JCD4SDm6sT9S/H/p7+WyPwmubOKtDLQ/gzwGqyUutT8ZAMIdC0q2P2eNSowTYLc/8ewk0/VvuD9K9O1sanm5PxuxKoUrfLo/FfOmCvV3uz+mH13BhGy8P86Z4lOaWb0/lihUZPc+vj+N6L2cXxy/P4J3+r6Y8b8/wpYCWjVfwD/IrV3NT8HAPw1XBOsBH8E/jnw9DTN4wT+m7Zy9y8zBP45nL7u1HMI/QjVVANxnwj9h3EnIKq7CP85iV5SP78I/uM6zMPkrwz+QmQe5V2PDP/zkm5yclcM/eFgvorrCwz9wpXDrperDP6nHHfhTDcQ/wC/HqLsqxD+fHTZB1ULEP2SJdWqaVcQ/oRF9NAZjxD+5fn0XFWvEP8uDzvTEbcQ/AAAAAAAAAABRViHywslwP4Iww6qNx4A/Jsxs4s8liT8MMFFLur6QP15Du/0k5pQ/aDohSxAImT8/ZWnoZSOdPypn9KKIm6A/jswR7P+goj/EywKwkKGkP1wLQBm0nKY/DAa9v+SRqD/Z/P/LnoCqP5OJ0BlgaKw/EbJzWqhIrj9ePTabfBCwP7ILXDdr+LA/Kn6+/uLbsT9AGxIbqLqyP6dMavJ/lLM/57yjNjFptD+nbXf0gzi1P2ePMqJBArY/jjsPLjXGtj+nSioMK4S3P6yaEkTxO7g/MTTufVftuD9U2TEPL5i5P9Ol5wZLPLo/5IWBOYDZuj9dZzRMpW+7P64o2b+S/rs/4WhQ+yKGvD8LfWZVMga9Py/xNB6ffr0/ohz/p0nvvT92dYdPFFi+P2xx24PjuL4/tueTzZ0Rvz/qCojVK2K/Pzo48Wp4qr8/V/79iHDqvz9ScumtARHAP+3QeyKRKMA/9suXb+A7wD8kSd6A6krAP2Z1hWGrVcA/yDBjPSBcwD+XjathR17APwAAAAAAAAAA0D/78mE2aT/RQE0DETN5P/9CiQYo4oI/JMxs4s8liT+VTdw62mKPP7xIcHnRy5I/a9LBDEThlT+oD+Er9fCYPwqe5q4W+ps/O4PAJ9z7nj99hPyLvfqgP7Wc/ZIVc6I/PXzjKJPmoz+XboOU1FSlP50LPX15vaY/Vm1SBCMgqD/7/dzdc3ypP6VNWGkQ0qo/xHq8yZ4grD9c1iH9xmetP/iL5/Myp64/UjZXp47erz8Xtt8XxIawP1+6/+znGbE/YDw/HoyosT85VsQlizKyP2aLhrbAt7I/eWLbxQk4sz+nMa6URLOzP5WxYLhQKbQ/bABSIw+atD8U1wktYgW1P2TKBZota7U/5oomo1bLtT8fL7v8wyW2P9StKN1derY/Z8grAw7Jtj+sv7O7vxG3PylJVOdfVLc/6VVN/9yQtz9BWCcaJ8e3P/LR4u8v97c/0hC63eoguD8CHXTpTES4P9T4R8RMYbg/429PzeJ3uD+H0IgTCYi4P3wIZ1e7kbg/ervvC/eUuD8AAAAAAAAAABLVVyKc0mA/8cQJsWXQcD/kQE0DETN5P40ww6qNx4A/8tbW2SjxhD+2fR2+QRWJP2fmz3nBMo0/MaK/dUmkkD/Y+X170aqSP48P2mZwrJQ/AaY7G5+olj9y9UXq156YP/4cAreWjpo/qvyfGFl3nD/TU8R8nlieP+yOrST0GKA/paPy/lwBoT98fByqTOWhP5HtVTCHxKI/gG3P2NGeoz/0kjE383OkP+scuDqzQ6U/WIzxPNsNpj/qbR8QNtKmP/WLMw2QkKc/TlpmIbdIqD8VCWPbevqoP43HBXispak/jtyo7h5Kqj96WP38pueqP7JCbDIbfqs/XET9+lMNrD9R8r+pK5WsPwj5tIJ+Fa0/NI80xCqOrT/gtc+vEP+tPzPwqZISaK4/ZEBJzRTJrj/eW9ra/SGvPyAt51e2cq8/YN99CCm7rz+Y1cbdQvuvP2AKhH15GbA/22cKXRUxsD8J9ZPXbkSwPyM3FNaAU7A/oo2rYUdesD+BKrKkv2SwP9n1duvnZrA/AAAAAAAAAAAIlDDe0tRQPxbVVyKc0mA/6T/78mE2aT9gViHywslwPy7BCFzq83Q/kVeMwY4YeT9LOjIgmTZ9P6a6CRl6poA/RidmW0atgj8UOfLdKK+EP+P3TXKaq4Y/+xKFWBWiiD8O8z1iFZKKPxAnfxUYe4w/VQYCz5xcjj9UwARyEhuQP7Ya2uGZA5E/AYfgi6fnkT9L3l5y/8aSPyxUy9RmoZM/wfw/P6R2lD/H0ZeZf0aVPyM9MDbCEJY/80ZL4DbVlj+8ng7qqZOXPwbRGzrpS5g/6xW+WMT9mD80Qap8DKmZPz15TZeUTZo/+HenYDHrmj/GN61iuYGbP3sNMQQFEZw/A1FNk+6YnD81105PUhmdPx6hHHIOkp0/QkcaOQMDnj+zyoLtEmyePzSZOewhzZ4/KLYPrRYmnz+aHnvJ2XafPymkvgJWv58/OaCAR3j/nz+Mg2fclxugP6zER9c2M6A/NEyt3ZJGoD9vJeDXplWgPxsie85uYKA/3vV26+dmoD/wMul6EGmgPwAAAAAAAAAAoON9uwoaQjzKCB05qRdSPMdlD7CKHVs8wnmGECUOYjyH8nLlxIhmPCNsDjZ3/Wo8rNjL8A9rbzw1nB9xMuhxPCifxwEnFnQ8s0Uq5NI+djx2Aum1pGF4PJD6uJ4Mfno8y+s5dnyTfDxgdFvpZ6F+PAJzo0+iU4A8M/fhLkVSgTwhQYeWWUyCPO5Oir2dQYM8v0oJH9ExhDy3bUKLtByFPJsmMzgKAoY82yTZ0ZXhhjxpARGKHLuHPIZYDihljog8BkNpFzhbiTwhOb12XyGKPFSG1SWn4Io84JNj09yYizxWbjsK0EmMPAoLEz5S84w8xfLA1zaVjTxEGfdAUy+OPIzLdu9+wY48nsK6b5NLjzx3jBRvbM2PPAdRneJzI5A8glOivvJbkDzkugnvI5CQPBZhEbn5v5A86CFhh2frkDwBQVrtYRKRPJfBGKreNJE8kOUlq9RSkTx0HtsOPGyRPF7PdCYOgZE8clTUd0WRkTxP2fC+3ZyRPJ6d9u7To5E8B1wUMyamkTw=",
          "dtype": "f8",
          "shape": "50, 50"
         },
         "z": {
          "bdata": "AAAAAAAAAAAAAAAAAAAAAAAAAAAAAAAAAAAAAAAAAAAAAAAAAAAAAAAAAAAAAAAAAAAAAAAAAAAAAAAAAAAAAAAAAAAAAAAAAAAAAAAAAAAAAAAAAAAAAAAAAAAAAAAAAAAAAAAAAAAAAAAAAAAAAAAAAAAAAAAAAAAAAAAAAAAAAAAAAAAAAAAAAAAAAAAAAAAAAAAAAAAAAAAAAAAAAAAAAAAAAAAAAAAAAAAAAAAAAAAAAAAAAAAAAAAAAAAAAAAAAAAAAAAAAAAAAAAAAAAAAAAAAAAAAAAAAAAAAAAAAAAAAAAAAAAAAAAAAAAAAAAAAAAAAAAAAAAAAAAAAAAAAAAAAAAAAAAAAAAAAAAAAAAAAAAAAAAAAAAAAAAAAAAAAAAAAAAAAAAAAAAAAAAAAAAAAAAAAAAAAAAAAAAAAAAAAAAAAAAAAAAAAAAAAAAAAAAAAAAAAAAAAAAAAAAAAAAAAAAAAAAAAAAAAAAAAAAAAAAAAAAAAAAAAAAAAAAAAAAAAAAAAAAAAAAAANky6XoQaaA/2TLpehBpoD/ZMul6EGmgP9ky6XoQaaA/2TLpehBpoD/ZMul6EGmgP9ky6XoQaaA/2TLpehBpoD/ZMul6EGmgP9ky6XoQaaA/2TLpehBpoD/ZMul6EGmgP9ky6XoQaaA/2TLpehBpoD/ZMul6EGmgP9ky6XoQaaA/2TLpehBpoD/ZMul6EGmgP9ky6XoQaaA/2TLpehBpoD/ZMul6EGmgP9ky6XoQaaA/2TLpehBpoD/ZMul6EGmgP9ky6XoQaaA/2TLpehBpoD/ZMul6EGmgP9ky6XoQaaA/2TLpehBpoD/ZMul6EGmgP9ky6XoQaaA/2TLpehBpoD/ZMul6EGmgP9ky6XoQaaA/2TLpehBpoD/ZMul6EGmgP9ky6XoQaaA/2TLpehBpoD/ZMul6EGmgP9ky6XoQaaA/2TLpehBpoD/ZMul6EGmgP9ky6XoQaaA/2TLpehBpoD/ZMul6EGmgP9ky6XoQaaA/2TLpehBpoD/ZMul6EGmgP9ky6XoQaaA/2TLpehBpoD/G9Xbr52awP8b1duvnZrA/xvV26+dmsD/G9Xbr52awP8b1duvnZrA/xvV26+dmsD/G9Xbr52awP8b1duvnZrA/xvV26+dmsD/G9Xbr52awP8b1duvnZrA/xvV26+dmsD/G9Xbr52awP8b1duvnZrA/xvV26+dmsD/G9Xbr52awP8b1duvnZrA/xvV26+dmsD/G9Xbr52awP8b1duvnZrA/xvV26+dmsD/G9Xbr52awP8b1duvnZrA/xvV26+dmsD/G9Xbr52awP8b1duvnZrA/xvV26+dmsD/G9Xbr52awP8b1duvnZrA/xvV26+dmsD/G9Xbr52awP8b1duvnZrA/xvV26+dmsD/G9Xbr52awP8b1duvnZrA/xvV26+dmsD/G9Xbr52awP8b1duvnZrA/xvV26+dmsD/G9Xbr52awP8b1duvnZrA/xvV26+dmsD/G9Xbr52awP8b1duvnZrA/xvV26+dmsD/G9Xbr52awP8b1duvnZrA/xvV26+dmsD/G9Xbr52awP8b1duvnZrA/cLvvC/eUuD9wu+8L95S4P3C77wv3lLg/cLvvC/eUuD9wu+8L95S4P3C77wv3lLg/cLvvC/eUuD9wu+8L95S4P3C77wv3lLg/cLvvC/eUuD9wu+8L95S4P3C77wv3lLg/cLvvC/eUuD9wu+8L95S4P3C77wv3lLg/cLvvC/eUuD9wu+8L95S4P3C77wv3lLg/cLvvC/eUuD9wu+8L95S4P3C77wv3lLg/cLvvC/eUuD9wu+8L95S4P3C77wv3lLg/cLvvC/eUuD9wu+8L95S4P3C77wv3lLg/cLvvC/eUuD9wu+8L95S4P3C77wv3lLg/cLvvC/eUuD9wu+8L95S4P3C77wv3lLg/cLvvC/eUuD9wu+8L95S4P3C77wv3lLg/cLvvC/eUuD9wu+8L95S4P3C77wv3lLg/cLvvC/eUuD9wu+8L95S4P3C77wv3lLg/cLvvC/eUuD9wu+8L95S4P3C77wv3lLg/cLvvC/eUuD9wu+8L95S4P3C77wv3lLg/cLvvC/eUuD9wu+8L95S4P4+Nq2FHXsA/j42rYUdewD+PjathR17AP4+Nq2FHXsA/j42rYUdewD+PjathR17AP4+Nq2FHXsA/j42rYUdewD+PjathR17AP4+Nq2FHXsA/j42rYUdewD+PjathR17AP4+Nq2FHXsA/j42rYUdewD+PjathR17AP4+Nq2FHXsA/j42rYUdewD+PjathR17AP4+Nq2FHXsA/j42rYUdewD+PjathR17AP4+Nq2FHXsA/j42rYUdewD+PjathR17AP4+Nq2FHXsA/j42rYUdewD+PjathR17AP4+Nq2FHXsA/j42rYUdewD+PjathR17AP4+Nq2FHXsA/j42rYUdewD+PjathR17AP4+Nq2FHXsA/j42rYUdewD+PjathR17AP4+Nq2FHXsA/j42rYUdewD+PjathR17AP4+Nq2FHXsA/j42rYUdewD+PjathR17AP4+Nq2FHXsA/j42rYUdewD+PjathR17AP4+Nq2FHXsA/j42rYUdewD+PjathR17AP4+Nq2FHXsA/j42rYUdewD/Gg870xG3EP8aDzvTEbcQ/xoPO9MRtxD/Gg870xG3EP8aDzvTEbcQ/xoPO9MRtxD/Gg870xG3EP8aDzvTEbcQ/xoPO9MRtxD/Gg870xG3EP8aDzvTEbcQ/xoPO9MRtxD/Gg870xG3EP8aDzvTEbcQ/xoPO9MRtxD/Gg870xG3EP8aDzvTEbcQ/xoPO9MRtxD/Gg870xG3EP8aDzvTEbcQ/xoPO9MRtxD/Gg870xG3EP8aDzvTEbcQ/xoPO9MRtxD/Gg870xG3EP8aDzvTEbcQ/xoPO9MRtxD/Gg870xG3EP8aDzvTEbcQ/xoPO9MRtxD/Gg870xG3EP8aDzvTEbcQ/xoPO9MRtxD/Gg870xG3EP8aDzvTEbcQ/xoPO9MRtxD/Gg870xG3EP8aDzvTEbcQ/xoPO9MRtxD/Gg870xG3EP8aDzvTEbcQ/xoPO9MRtxD/Gg870xG3EP8aDzvTEbcQ/xoPO9MRtxD/Gg870xG3EP8aDzvTEbcQ/xoPO9MRtxD/Gg870xG3EP8aDzvTEbcQ/2m9PzeJ3yD/ab0/N4nfIP9pvT83id8g/2m9PzeJ3yD/ab0/N4nfIP9pvT83id8g/2m9PzeJ3yD/ab0/N4nfIP9pvT83id8g/2m9PzeJ3yD/ab0/N4nfIP9pvT83id8g/2m9PzeJ3yD/ab0/N4nfIP9pvT83id8g/2m9PzeJ3yD/ab0/N4nfIP9pvT83id8g/2m9PzeJ3yD/ab0/N4nfIP9pvT83id8g/2m9PzeJ3yD/ab0/N4nfIP9pvT83id8g/2m9PzeJ3yD/ab0/N4nfIP9pvT83id8g/2m9PzeJ3yD/ab0/N4nfIP9pvT83id8g/2m9PzeJ3yD/ab0/N4nfIP9pvT83id8g/2m9PzeJ3yD/ab0/N4nfIP9pvT83id8g/2m9PzeJ3yD/ab0/N4nfIP9pvT83id8g/2m9PzeJ3yD/ab0/N4nfIP9pvT83id8g/2m9PzeJ3yD/ab0/N4nfIP9pvT83id8g/2m9PzeJ3yD/ab0/N4nfIP9pvT83id8g/2m9PzeJ3yD/ab0/N4nfIP4JFAuOQe8w/gkUC45B7zD+CRQLjkHvMP4JFAuOQe8w/gkUC45B7zD+CRQLjkHvMP4JFAuOQe8w/gkUC45B7zD+CRQLjkHvMP4JFAuOQe8w/gkUC45B7zD+CRQLjkHvMP4JFAuOQe8w/gkUC45B7zD+CRQLjkHvMP4JFAuOQe8w/gkUC45B7zD+CRQLjkHvMP4JFAuOQe8w/gkUC45B7zD+CRQLjkHvMP4JFAuOQe8w/gkUC45B7zD+CRQLjkHvMP4JFAuOQe8w/gkUC45B7zD+CRQLjkHvMP4JFAuOQe8w/gkUC45B7zD+CRQLjkHvMP4JFAuOQe8w/gkUC45B7zD+CRQLjkHvMP4JFAuOQe8w/gkUC45B7zD+CRQLjkHvMP4JFAuOQe8w/gkUC45B7zD+CRQLjkHvMP4JFAuOQe8w/gkUC45B7zD+CRQLjkHvMP4JFAuOQe8w/gkUC45B7zD+CRQLjkHvMP4JFAuOQe8w/gkUC45B7zD+CRQLjkHvMP4JFAuOQe8w/gkUC45B7zD/uy5dv4DvQP+7Ll2/gO9A/7suXb+A70D/uy5dv4DvQP+7Ll2/gO9A/7suXb+A70D/uy5dv4DvQP+7Ll2/gO9A/7suXb+A70D/uy5dv4DvQP+7Ll2/gO9A/7suXb+A70D/uy5dv4DvQP+7Ll2/gO9A/7suXb+A70D/uy5dv4DvQP+7Ll2/gO9A/7suXb+A70D/uy5dv4DvQP+7Ll2/gO9A/7suXb+A70D/uy5dv4DvQP+7Ll2/gO9A/7suXb+A70D/uy5dv4DvQP+7Ll2/gO9A/7suXb+A70D/uy5dv4DvQP+7Ll2/gO9A/7suXb+A70D/uy5dv4DvQP+7Ll2/gO9A/7suXb+A70D/uy5dv4DvQP+7Ll2/gO9A/7suXb+A70D/uy5dv4DvQP+7Ll2/gO9A/7suXb+A70D/uy5dv4DvQP+7Ll2/gO9A/7suXb+A70D/uy5dv4DvQP+7Ll2/gO9A/7suXb+A70D/uy5dv4DvQP+7Ll2/gO9A/7suXb+A70D/uy5dv4DvQP+7Ll2/gO9A/QPfYMbM10j9A99gxszXSP0D32DGzNdI/QPfYMbM10j9A99gxszXSP0D32DGzNdI/QPfYMbM10j9A99gxszXSP0D32DGzNdI/QPfYMbM10j9A99gxszXSP0D32DGzNdI/QPfYMbM10j9A99gxszXSP0D32DGzNdI/QPfYMbM10j9A99gxszXSP0D32DGzNdI/QPfYMbM10j9A99gxszXSP0D32DGzNdI/QPfYMbM10j9A99gxszXSP0D32DGzNdI/QPfYMbM10j9A99gxszXSP0D32DGzNdI/QPfYMbM10j9A99gxszXSP0D32DGzNdI/QPfYMbM10j9A99gxszXSP0D32DGzNdI/QPfYMbM10j9A99gxszXSP0D32DGzNdI/QPfYMbM10j9A99gxszXSP0D32DGzNdI/QPfYMbM10j9A99gxszXSP0D32DGzNdI/QPfYMbM10j9A99gxszXSP0D32DGzNdI/QPfYMbM10j9A99gxszXSP0D32DGzNdI/QPfYMbM10j9A99gxszXSP7wvx6i7KtQ/vC/HqLsq1D+8L8eouyrUP7wvx6i7KtQ/vC/HqLsq1D+8L8eouyrUP7wvx6i7KtQ/vC/HqLsq1D+8L8eouyrUP7wvx6i7KtQ/vC/HqLsq1D+8L8eouyrUP7wvx6i7KtQ/vC/HqLsq1D+8L8eouyrUP7wvx6i7KtQ/vC/HqLsq1D+8L8eouyrUP7wvx6i7KtQ/vC/HqLsq1D+8L8eouyrUP7wvx6i7KtQ/vC/HqLsq1D+8L8eouyrUP7wvx6i7KtQ/vC/HqLsq1D+8L8eouyrUP7wvx6i7KtQ/vC/HqLsq1D+8L8eouyrUP7wvx6i7KtQ/vC/HqLsq1D+8L8eouyrUP7wvx6i7KtQ/vC/HqLsq1D+8L8eouyrUP7wvx6i7KtQ/vC/HqLsq1D+8L8eouyrUP7wvx6i7KtQ/vC/HqLsq1D+8L8eouyrUP7wvx6i7KtQ/vC/HqLsq1D+8L8eouyrUP7wvx6i7KtQ/vC/HqLsq1D+8L8eouyrUP7wvx6i7KtQ/vC/HqLsq1D8A7noHdhrWPwDuegd2GtY/AO56B3Ya1j8A7noHdhrWPwDuegd2GtY/AO56B3Ya1j8A7noHdhrWPwDuegd2GtY/AO56B3Ya1j8A7noHdhrWPwDuegd2GtY/AO56B3Ya1j8A7noHdhrWPwDuegd2GtY/AO56B3Ya1j8A7noHdhrWPwDuegd2GtY/AO56B3Ya1j8A7noHdhrWPwDuegd2GtY/AO56B3Ya1j8A7noHdhrWPwDuegd2GtY/AO56B3Ya1j8A7noHdhrWPwDuegd2GtY/AO56B3Ya1j8A7noHdhrWPwDuegd2GtY/AO56B3Ya1j8A7noHdhrWPwDuegd2GtY/AO56B3Ya1j8A7noHdhrWPwDuegd2GtY/AO56B3Ya1j8A7noHdhrWPwDuegd2GtY/AO56B3Ya1j8A7noHdhrWPwDuegd2GtY/AO56B3Ya1j8A7noHdhrWPwDuegd2GtY/AO56B3Ya1j8A7noHdhrWPwDuegd2GtY/AO56B3Ya1j8A7noHdhrWPwDuegd2GtY/3WJO5l8E2D/dYk7mXwTYP91iTuZfBNg/3WJO5l8E2D/dYk7mXwTYP91iTuZfBNg/3WJO5l8E2D/dYk7mXwTYP91iTuZfBNg/3WJO5l8E2D/dYk7mXwTYP91iTuZfBNg/3WJO5l8E2D/dYk7mXwTYP91iTuZfBNg/3WJO5l8E2D/dYk7mXwTYP91iTuZfBNg/3WJO5l8E2D/dYk7mXwTYP91iTuZfBNg/3WJO5l8E2D/dYk7mXwTYP91iTuZfBNg/3WJO5l8E2D/dYk7mXwTYP91iTuZfBNg/3WJO5l8E2D/dYk7mXwTYP91iTuZfBNg/3WJO5l8E2D/dYk7mXwTYP91iTuZfBNg/3WJO5l8E2D/dYk7mXwTYP91iTuZfBNg/3WJO5l8E2D/dYk7mXwTYP91iTuZfBNg/3WJO5l8E2D/dYk7mXwTYP91iTuZfBNg/3WJO5l8E2D/dYk7mXwTYP91iTuZfBNg/3WJO5l8E2D/dYk7mXwTYP91iTuZfBNg/3WJO5l8E2D/dYk7mXwTYP1FHK2X459k/UUcrZfjn2T9RRytl+OfZP1FHK2X459k/UUcrZfjn2T9RRytl+OfZP1FHK2X459k/UUcrZfjn2T9RRytl+OfZP1FHK2X459k/UUcrZfjn2T9RRytl+OfZP1FHK2X459k/UUcrZfjn2T9RRytl+OfZP1FHK2X459k/UUcrZfjn2T9RRytl+OfZP1FHK2X459k/UUcrZfjn2T9RRytl+OfZP1FHK2X459k/UUcrZfjn2T9RRytl+OfZP1FHK2X459k/UUcrZfjn2T9RRytl+OfZP1FHK2X459k/UUcrZfjn2T9RRytl+OfZP1FHK2X459k/UUcrZfjn2T9RRytl+OfZP1FHK2X459k/UUcrZfjn2T9RRytl+OfZP1FHK2X459k/UUcrZfjn2T9RRytl+OfZP1FHK2X459k/UUcrZfjn2T9RRytl+OfZP1FHK2X459k/UUcrZfjn2T9RRytl+OfZP1FHK2X459k/UUcrZfjn2T9RRytl+OfZP1FHK2X459k/UUcrZfjn2T/Bq3FNwMTbP8GrcU3AxNs/watxTcDE2z/Bq3FNwMTbP8GrcU3AxNs/watxTcDE2z/Bq3FNwMTbP8GrcU3AxNs/watxTcDE2z/Bq3FNwMTbP8GrcU3AxNs/watxTcDE2z/Bq3FNwMTbP8GrcU3AxNs/watxTcDE2z/Bq3FNwMTbP8GrcU3AxNs/watxTcDE2z/Bq3FNwMTbP8GrcU3AxNs/watxTcDE2z/Bq3FNwMTbP8GrcU3AxNs/watxTcDE2z/Bq3FNwMTbP8GrcU3AxNs/watxTcDE2z/Bq3FNwMTbP8GrcU3AxNs/watxTcDE2z/Bq3FNwMTbP8GrcU3AxNs/watxTcDE2z/Bq3FNwMTbP8GrcU3AxNs/watxTcDE2z/Bq3FNwMTbP8GrcU3AxNs/watxTcDE2z/Bq3FNwMTbP8GrcU3AxNs/watxTcDE2z/Bq3FNwMTbP8GrcU3AxNs/watxTcDE2z/Bq3FNwMTbP8GrcU3AxNs/watxTcDE2z/Bq3FNwMTbP8GrcU3AxNs/cNtuMzqa3T9w224zOprdP3DbbjM6mt0/cNtuMzqa3T9w224zOprdP3DbbjM6mt0/cNtuMzqa3T9w224zOprdP3DbbjM6mt0/cNtuMzqa3T9w224zOprdP3DbbjM6mt0/cNtuMzqa3T9w224zOprdP3DbbjM6mt0/cNtuMzqa3T9w224zOprdP3DbbjM6mt0/cNtuMzqa3T9w224zOprdP3DbbjM6mt0/cNtuMzqa3T9w224zOprdP3DbbjM6mt0/cNtuMzqa3T9w224zOprdP3DbbjM6mt0/cNtuMzqa3T9w224zOprdP3DbbjM6mt0/cNtuMzqa3T9w224zOprdP3DbbjM6mt0/cNtuMzqa3T9w224zOprdP3DbbjM6mt0/cNtuMzqa3T9w224zOprdP3DbbjM6mt0/cNtuMzqa3T9w224zOprdP3DbbjM6mt0/cNtuMzqa3T9w224zOprdP3DbbjM6mt0/cNtuMzqa3T9w224zOprdP3DbbjM6mt0/cNtuMzqa3T9w224zOprdP6KGW5fqZ98/ooZbl+pn3z+ihluX6mffP6KGW5fqZ98/ooZbl+pn3z+ihluX6mffP6KGW5fqZ98/ooZbl+pn3z+ihluX6mffP6KGW5fqZ98/ooZbl+pn3z+ihluX6mffP6KGW5fqZ98/ooZbl+pn3z+ihluX6mffP6KGW5fqZ98/ooZbl+pn3z+ihluX6mffP6KGW5fqZ98/ooZbl+pn3z+ihluX6mffP6KGW5fqZ98/ooZbl+pn3z+ihluX6mffP6KGW5fqZ98/ooZbl+pn3z+ihluX6mffP6KGW5fqZ98/ooZbl+pn3z+ihluX6mffP6KGW5fqZ98/ooZbl+pn3z+ihluX6mffP6KGW5fqZ98/ooZbl+pn3z+ihluX6mffP6KGW5fqZ98/ooZbl+pn3z+ihluX6mffP6KGW5fqZ98/ooZbl+pn3z+ihluX6mffP6KGW5fqZ98/ooZbl+pn3z+ihluX6mffP6KGW5fqZ98/ooZbl+pn3z+ihluX6mffP6KGW5fqZ98/ooZbl+pn3z/FQuwCrJbgP8VC7AKsluA/xULsAqyW4D/FQuwCrJbgP8VC7AKsluA/xULsAqyW4D/FQuwCrJbgP8VC7AKsluA/xULsAqyW4D/FQuwCrJbgP8VC7AKsluA/xULsAqyW4D/FQuwCrJbgP8VC7AKsluA/xULsAqyW4D/FQuwCrJbgP8VC7AKsluA/xULsAqyW4D/FQuwCrJbgP8VC7AKsluA/xULsAqyW4D/FQuwCrJbgP8VC7AKsluA/xULsAqyW4D/FQuwCrJbgP8VC7AKsluA/xULsAqyW4D/FQuwCrJbgP8VC7AKsluA/xULsAqyW4D/FQuwCrJbgP8VC7AKsluA/xULsAqyW4D/FQuwCrJbgP8VC7AKsluA/xULsAqyW4D/FQuwCrJbgP8VC7AKsluA/xULsAqyW4D/FQuwCrJbgP8VC7AKsluA/xULsAqyW4D/FQuwCrJbgP8VC7AKsluA/xULsAqyW4D/FQuwCrJbgP8VC7AKsluA/xULsAqyW4D/FQuwCrJbgP8VC7AKsluA/JtTwmwV14T8m1PCbBXXhPybU8JsFdeE/JtTwmwV14T8m1PCbBXXhPybU8JsFdeE/JtTwmwV14T8m1PCbBXXhPybU8JsFdeE/JtTwmwV14T8m1PCbBXXhPybU8JsFdeE/JtTwmwV14T8m1PCbBXXhPybU8JsFdeE/JtTwmwV14T8m1PCbBXXhPybU8JsFdeE/JtTwmwV14T8m1PCbBXXhPybU8JsFdeE/JtTwmwV14T8m1PCbBXXhPybU8JsFdeE/JtTwmwV14T8m1PCbBXXhPybU8JsFdeE/JtTwmwV14T8m1PCbBXXhPybU8JsFdeE/JtTwmwV14T8m1PCbBXXhPybU8JsFdeE/JtTwmwV14T8m1PCbBXXhPybU8JsFdeE/JtTwmwV14T8m1PCbBXXhPybU8JsFdeE/JtTwmwV14T8m1PCbBXXhPybU8JsFdeE/JtTwmwV14T8m1PCbBXXhPybU8JsFdeE/JtTwmwV14T8m1PCbBXXhPybU8JsFdeE/JtTwmwV14T8m1PCbBXXhPz8WF5nHTuI/PxYXmcdO4j8/FheZx07iPz8WF5nHTuI/PxYXmcdO4j8/FheZx07iPz8WF5nHTuI/PxYXmcdO4j8/FheZx07iPz8WF5nHTuI/PxYXmcdO4j8/FheZx07iPz8WF5nHTuI/PxYXmcdO4j8/FheZx07iPz8WF5nHTuI/PxYXmcdO4j8/FheZx07iPz8WF5nHTuI/PxYXmcdO4j8/FheZx07iPz8WF5nHTuI/PxYXmcdO4j8/FheZx07iPz8WF5nHTuI/PxYXmcdO4j8/FheZx07iPz8WF5nHTuI/PxYXmcdO4j8/FheZx07iPz8WF5nHTuI/PxYXmcdO4j8/FheZx07iPz8WF5nHTuI/PxYXmcdO4j8/FheZx07iPz8WF5nHTuI/PxYXmcdO4j8/FheZx07iPz8WF5nHTuI/PxYXmcdO4j8/FheZx07iPz8WF5nHTuI/PxYXmcdO4j8/FheZx07iPz8WF5nHTuI/PxYXmcdO4j8/FheZx07iPz8WF5nHTuI/PxYXmcdO4j+jS/uxuCPjP6NL+7G4I+M/o0v7sbgj4z+jS/uxuCPjP6NL+7G4I+M/o0v7sbgj4z+jS/uxuCPjP6NL+7G4I+M/o0v7sbgj4z+jS/uxuCPjP6NL+7G4I+M/o0v7sbgj4z+jS/uxuCPjP6NL+7G4I+M/o0v7sbgj4z+jS/uxuCPjP6NL+7G4I+M/o0v7sbgj4z+jS/uxuCPjP6NL+7G4I+M/o0v7sbgj4z+jS/uxuCPjP6NL+7G4I+M/o0v7sbgj4z+jS/uxuCPjP6NL+7G4I+M/o0v7sbgj4z+jS/uxuCPjP6NL+7G4I+M/o0v7sbgj4z+jS/uxuCPjP6NL+7G4I+M/o0v7sbgj4z+jS/uxuCPjP6NL+7G4I+M/o0v7sbgj4z+jS/uxuCPjP6NL+7G4I+M/o0v7sbgj4z+jS/uxuCPjP6NL+7G4I+M/o0v7sbgj4z+jS/uxuCPjP6NL+7G4I+M/o0v7sbgj4z+jS/uxuCPjP6NL+7G4I+M/o0v7sbgj4z+jS/uxuCPjP6NL+7G4I+M/0e2L4qDz4z/R7YvioPPjP9Hti+Kg8+M/0e2L4qDz4z/R7YvioPPjP9Hti+Kg8+M/0e2L4qDz4z/R7YvioPPjP9Hti+Kg8+M/0e2L4qDz4z/R7YvioPPjP9Hti+Kg8+M/0e2L4qDz4z/R7YvioPPjP9Hti+Kg8+M/0e2L4qDz4z/R7YvioPPjP9Hti+Kg8+M/0e2L4qDz4z/R7YvioPPjP9Hti+Kg8+M/0e2L4qDz4z/R7YvioPPjP9Hti+Kg8+M/0e2L4qDz4z/R7YvioPPjP9Hti+Kg8+M/0e2L4qDz4z/R7YvioPPjP9Hti+Kg8+M/0e2L4qDz4z/R7YvioPPjP9Hti+Kg8+M/0e2L4qDz4z/R7YvioPPjP9Hti+Kg8+M/0e2L4qDz4z/R7YvioPPjP9Hti+Kg8+M/0e2L4qDz4z/R7YvioPPjP9Hti+Kg8+M/0e2L4qDz4z/R7YvioPPjP9Hti+Kg8+M/0e2L4qDz4z/R7YvioPPjP9Hti+Kg8+M/0e2L4qDz4z/R7YvioPPjP7TvxXlJvuQ/tO/FeUm+5D+078V5Sb7kP7TvxXlJvuQ/tO/FeUm+5D+078V5Sb7kP7TvxXlJvuQ/tO/FeUm+5D+078V5Sb7kP7TvxXlJvuQ/tO/FeUm+5D+078V5Sb7kP7TvxXlJvuQ/tO/FeUm+5D+078V5Sb7kP7TvxXlJvuQ/tO/FeUm+5D+078V5Sb7kP7TvxXlJvuQ/tO/FeUm+5D+078V5Sb7kP7TvxXlJvuQ/tO/FeUm+5D+078V5Sb7kP7TvxXlJvuQ/tO/FeUm+5D+078V5Sb7kP7TvxXlJvuQ/tO/FeUm+5D+078V5Sb7kP7TvxXlJvuQ/tO/FeUm+5D+078V5Sb7kP7TvxXlJvuQ/tO/FeUm+5D+078V5Sb7kP7TvxXlJvuQ/tO/FeUm+5D+078V5Sb7kP7TvxXlJvuQ/tO/FeUm+5D+078V5Sb7kP7TvxXlJvuQ/tO/FeUm+5D+078V5Sb7kP7TvxXlJvuQ/tO/FeUm+5D+078V5Sb7kP7TvxXlJvuQ/tO/FeUm+5D8uzxcofYPlPy7PFyh9g+U/Ls8XKH2D5T8uzxcofYPlPy7PFyh9g+U/Ls8XKH2D5T8uzxcofYPlPy7PFyh9g+U/Ls8XKH2D5T8uzxcofYPlPy7PFyh9g+U/Ls8XKH2D5T8uzxcofYPlPy7PFyh9g+U/Ls8XKH2D5T8uzxcofYPlPy7PFyh9g+U/Ls8XKH2D5T8uzxcofYPlPy7PFyh9g+U/Ls8XKH2D5T8uzxcofYPlPy7PFyh9g+U/Ls8XKH2D5T8uzxcofYPlPy7PFyh9g+U/Ls8XKH2D5T8uzxcofYPlPy7PFyh9g+U/Ls8XKH2D5T8uzxcofYPlPy7PFyh9g+U/Ls8XKH2D5T8uzxcofYPlPy7PFyh9g+U/Ls8XKH2D5T8uzxcofYPlPy7PFyh9g+U/Ls8XKH2D5T8uzxcofYPlPy7PFyh9g+U/Ls8XKH2D5T8uzxcofYPlPy7PFyh9g+U/Ls8XKH2D5T8uzxcofYPlPy7PFyh9g+U/Ls8XKH2D5T8uzxcofYPlPy7PFyh9g+U/w6xnDQhD5j/DrGcNCEPmP8OsZw0IQ+Y/w6xnDQhD5j/DrGcNCEPmP8OsZw0IQ+Y/w6xnDQhD5j/DrGcNCEPmP8OsZw0IQ+Y/w6xnDQhD5j/DrGcNCEPmP8OsZw0IQ+Y/w6xnDQhD5j/DrGcNCEPmP8OsZw0IQ+Y/w6xnDQhD5j/DrGcNCEPmP8OsZw0IQ+Y/w6xnDQhD5j/DrGcNCEPmP8OsZw0IQ+Y/w6xnDQhD5j/DrGcNCEPmP8OsZw0IQ+Y/w6xnDQhD5j/DrGcNCEPmP8OsZw0IQ+Y/w6xnDQhD5j/DrGcNCEPmP8OsZw0IQ+Y/w6xnDQhD5j/DrGcNCEPmP8OsZw0IQ+Y/w6xnDQhD5j/DrGcNCEPmP8OsZw0IQ+Y/w6xnDQhD5j/DrGcNCEPmP8OsZw0IQ+Y/w6xnDQhD5j/DrGcNCEPmP8OsZw0IQ+Y/w6xnDQhD5j/DrGcNCEPmP8OsZw0IQ+Y/w6xnDQhD5j/DrGcNCEPmP8OsZw0IQ+Y/w6xnDQhD5j/DrGcNCEPmPxe5uMa3/OY/F7m4xrf85j8XubjGt/zmPxe5uMa3/OY/F7m4xrf85j8XubjGt/zmPxe5uMa3/OY/F7m4xrf85j8XubjGt/zmPxe5uMa3/OY/F7m4xrf85j8XubjGt/zmPxe5uMa3/OY/F7m4xrf85j8XubjGt/zmPxe5uMa3/OY/F7m4xrf85j8XubjGt/zmPxe5uMa3/OY/F7m4xrf85j8XubjGt/zmPxe5uMa3/OY/F7m4xrf85j8XubjGt/zmPxe5uMa3/OY/F7m4xrf85j8XubjGt/zmPxe5uMa3/OY/F7m4xrf85j8XubjGt/zmPxe5uMa3/OY/F7m4xrf85j8XubjGt/zmPxe5uMa3/OY/F7m4xrf85j8XubjGt/zmPxe5uMa3/OY/F7m4xrf85j8XubjGt/zmPxe5uMa3/OY/F7m4xrf85j8XubjGt/zmPxe5uMa3/OY/F7m4xrf85j8XubjGt/zmPxe5uMa3/OY/F7m4xrf85j8XubjGt/zmPxe5uMa3/OY/F7m4xrf85j8wYWx7W7DnPzBhbHtbsOc/MGFse1uw5z8wYWx7W7DnPzBhbHtbsOc/MGFse1uw5z8wYWx7W7DnPzBhbHtbsOc/MGFse1uw5z8wYWx7W7DnPzBhbHtbsOc/MGFse1uw5z8wYWx7W7DnPzBhbHtbsOc/MGFse1uw5z8wYWx7W7DnPzBhbHtbsOc/MGFse1uw5z8wYWx7W7DnPzBhbHtbsOc/MGFse1uw5z8wYWx7W7DnPzBhbHtbsOc/MGFse1uw5z8wYWx7W7DnPzBhbHtbsOc/MGFse1uw5z8wYWx7W7DnPzBhbHtbsOc/MGFse1uw5z8wYWx7W7DnPzBhbHtbsOc/MGFse1uw5z8wYWx7W7DnPzBhbHtbsOc/MGFse1uw5z8wYWx7W7DnPzBhbHtbsOc/MGFse1uw5z8wYWx7W7DnPzBhbHtbsOc/MGFse1uw5z8wYWx7W7DnPzBhbHtbsOc/MGFse1uw5z8wYWx7W7DnPzBhbHtbsOc/MGFse1uw5z8wYWx7W7DnPzBhbHtbsOc/57wb6sNd6D/nvBvqw13oP+e8G+rDXeg/57wb6sNd6D/nvBvqw13oP+e8G+rDXeg/57wb6sNd6D/nvBvqw13oP+e8G+rDXeg/57wb6sNd6D/nvBvqw13oP+e8G+rDXeg/57wb6sNd6D/nvBvqw13oP+e8G+rDXeg/57wb6sNd6D/nvBvqw13oP+e8G+rDXeg/57wb6sNd6D/nvBvqw13oP+e8G+rDXeg/57wb6sNd6D/nvBvqw13oP+e8G+rDXeg/57wb6sNd6D/nvBvqw13oP+e8G+rDXeg/57wb6sNd6D/nvBvqw13oP+e8G+rDXeg/57wb6sNd6D/nvBvqw13oP+e8G+rDXeg/57wb6sNd6D/nvBvqw13oP+e8G+rDXeg/57wb6sNd6D/nvBvqw13oP+e8G+rDXeg/57wb6sNd6D/nvBvqw13oP+e8G+rDXeg/57wb6sNd6D/nvBvqw13oP+e8G+rDXeg/57wb6sNd6D/nvBvqw13oP+e8G+rDXeg/57wb6sNd6D/nvBvqw13oP0veBXXDBOk/S94FdcME6T9L3gV1wwTpP0veBXXDBOk/S94FdcME6T9L3gV1wwTpP0veBXXDBOk/S94FdcME6T9L3gV1wwTpP0veBXXDBOk/S94FdcME6T9L3gV1wwTpP0veBXXDBOk/S94FdcME6T9L3gV1wwTpP0veBXXDBOk/S94FdcME6T9L3gV1wwTpP0veBXXDBOk/S94FdcME6T9L3gV1wwTpP0veBXXDBOk/S94FdcME6T9L3gV1wwTpP0veBXXDBOk/S94FdcME6T9L3gV1wwTpP0veBXXDBOk/S94FdcME6T9L3gV1wwTpP0veBXXDBOk/S94FdcME6T9L3gV1wwTpP0veBXXDBOk/S94FdcME6T9L3gV1wwTpP0veBXXDBOk/S94FdcME6T9L3gV1wwTpP0veBXXDBOk/S94FdcME6T9L3gV1wwTpP0veBXXDBOk/S94FdcME6T9L3gV1wwTpP0veBXXDBOk/S94FdcME6T9L3gV1wwTpP0veBXXDBOk/S94FdcME6T+yvA8uLqXpP7K8Dy4upek/srwPLi6l6T+yvA8uLqXpP7K8Dy4upek/srwPLi6l6T+yvA8uLqXpP7K8Dy4upek/srwPLi6l6T+yvA8uLqXpP7K8Dy4upek/srwPLi6l6T+yvA8uLqXpP7K8Dy4upek/srwPLi6l6T+yvA8uLqXpP7K8Dy4upek/srwPLi6l6T+yvA8uLqXpP7K8Dy4upek/srwPLi6l6T+yvA8uLqXpP7K8Dy4upek/srwPLi6l6T+yvA8uLqXpP7K8Dy4upek/srwPLi6l6T+yvA8uLqXpP7K8Dy4upek/srwPLi6l6T+yvA8uLqXpP7K8Dy4upek/srwPLi6l6T+yvA8uLqXpP7K8Dy4upek/srwPLi6l6T+yvA8uLqXpP7K8Dy4upek/srwPLi6l6T+yvA8uLqXpP7K8Dy4upek/srwPLi6l6T+yvA8uLqXpP7K8Dy4upek/srwPLi6l6T+yvA8uLqXpP7K8Dy4upek/srwPLi6l6T+yvA8uLqXpP7K8Dy4upek/jJNS4tk+6j+Mk1Li2T7qP4yTUuLZPuo/jJNS4tk+6j+Mk1Li2T7qP4yTUuLZPuo/jJNS4tk+6j+Mk1Li2T7qP4yTUuLZPuo/jJNS4tk+6j+Mk1Li2T7qP4yTUuLZPuo/jJNS4tk+6j+Mk1Li2T7qP4yTUuLZPuo/jJNS4tk+6j+Mk1Li2T7qP4yTUuLZPuo/jJNS4tk+6j+Mk1Li2T7qP4yTUuLZPuo/jJNS4tk+6j+Mk1Li2T7qP4yTUuLZPuo/jJNS4tk+6j+Mk1Li2T7qP4yTUuLZPuo/jJNS4tk+6j+Mk1Li2T7qP4yTUuLZPuo/jJNS4tk+6j+Mk1Li2T7qP4yTUuLZPuo/jJNS4tk+6j+Mk1Li2T7qP4yTUuLZPuo/jJNS4tk+6j+Mk1Li2T7qP4yTUuLZPuo/jJNS4tk+6j+Mk1Li2T7qP4yTUuLZPuo/jJNS4tk+6j+Mk1Li2T7qP4yTUuLZPuo/jJNS4tk+6j+Mk1Li2T7qP4yTUuLZPuo/jJNS4tk+6j+Mk1Li2T7qP5WqNSWe0eo/lao1JZ7R6j+VqjUlntHqP5WqNSWe0eo/lao1JZ7R6j+VqjUlntHqP5WqNSWe0eo/lao1JZ7R6j+VqjUlntHqP5WqNSWe0eo/lao1JZ7R6j+VqjUlntHqP5WqNSWe0eo/lao1JZ7R6j+VqjUlntHqP5WqNSWe0eo/lao1JZ7R6j+VqjUlntHqP5WqNSWe0eo/lao1JZ7R6j+VqjUlntHqP5WqNSWe0eo/lao1JZ7R6j+VqjUlntHqP5WqNSWe0eo/lao1JZ7R6j+VqjUlntHqP5WqNSWe0eo/lao1JZ7R6j+VqjUlntHqP5WqNSWe0eo/lao1JZ7R6j+VqjUlntHqP5WqNSWe0eo/lao1JZ7R6j+VqjUlntHqP5WqNSWe0eo/lao1JZ7R6j+VqjUlntHqP5WqNSWe0eo/lao1JZ7R6j+VqjUlntHqP5WqNSWe0eo/lao1JZ7R6j+VqjUlntHqP5WqNSWe0eo/lao1JZ7R6j+VqjUlntHqP5WqNSWe0eo/lao1JZ7R6j/6mxBbVF3rP/qbEFtUXes/+psQW1Rd6z/6mxBbVF3rP/qbEFtUXes/+psQW1Rd6z/6mxBbVF3rP/qbEFtUXes/+psQW1Rd6z/6mxBbVF3rP/qbEFtUXes/+psQW1Rd6z/6mxBbVF3rP/qbEFtUXes/+psQW1Rd6z/6mxBbVF3rP/qbEFtUXes/+psQW1Rd6z/6mxBbVF3rP/qbEFtUXes/+psQW1Rd6z/6mxBbVF3rP/qbEFtUXes/+psQW1Rd6z/6mxBbVF3rP/qbEFtUXes/+psQW1Rd6z/6mxBbVF3rP/qbEFtUXes/+psQW1Rd6z/6mxBbVF3rP/qbEFtUXes/+psQW1Rd6z/6mxBbVF3rP/qbEFtUXes/+psQW1Rd6z/6mxBbVF3rP/qbEFtUXes/+psQW1Rd6z/6mxBbVF3rP/qbEFtUXes/+psQW1Rd6z/6mxBbVF3rP/qbEFtUXes/+psQW1Rd6z/6mxBbVF3rP/qbEFtUXes/+psQW1Rd6z/6mxBbVF3rP/qbEFtUXes/QExTw9fh6z9ATFPD1+HrP0BMU8PX4es/QExTw9fh6z9ATFPD1+HrP0BMU8PX4es/QExTw9fh6z9ATFPD1+HrP0BMU8PX4es/QExTw9fh6z9ATFPD1+HrP0BMU8PX4es/QExTw9fh6z9ATFPD1+HrP0BMU8PX4es/QExTw9fh6z9ATFPD1+HrP0BMU8PX4es/QExTw9fh6z9ATFPD1+HrP0BMU8PX4es/QExTw9fh6z9ATFPD1+HrP0BMU8PX4es/QExTw9fh6z9ATFPD1+HrP0BMU8PX4es/QExTw9fh6z9ATFPD1+HrP0BMU8PX4es/QExTw9fh6z9ATFPD1+HrP0BMU8PX4es/QExTw9fh6z9ATFPD1+HrP0BMU8PX4es/QExTw9fh6z9ATFPD1+HrP0BMU8PX4es/QExTw9fh6z9ATFPD1+HrP0BMU8PX4es/QExTw9fh6z9ATFPD1+HrP0BMU8PX4es/QExTw9fh6z9ATFPD1+HrP0BMU8PX4es/QExTw9fh6z9ATFPD1+HrP/7nMIIFX+w//ucwggVf7D/+5zCCBV/sP/7nMIIFX+w//ucwggVf7D/+5zCCBV/sP/7nMIIFX+w//ucwggVf7D/+5zCCBV/sP/7nMIIFX+w//ucwggVf7D/+5zCCBV/sP/7nMIIFX+w//ucwggVf7D/+5zCCBV/sP/7nMIIFX+w//ucwggVf7D/+5zCCBV/sP/7nMIIFX+w//ucwggVf7D/+5zCCBV/sP/7nMIIFX+w//ucwggVf7D/+5zCCBV/sP/7nMIIFX+w//ucwggVf7D/+5zCCBV/sP/7nMIIFX+w//ucwggVf7D/+5zCCBV/sP/7nMIIFX+w//ucwggVf7D/+5zCCBV/sP/7nMIIFX+w//ucwggVf7D/+5zCCBV/sP/7nMIIFX+w//ucwggVf7D/+5zCCBV/sP/7nMIIFX+w//ucwggVf7D/+5zCCBV/sP/7nMIIFX+w//ucwggVf7D/+5zCCBV/sP/7nMIIFX+w//ucwggVf7D/+5zCCBV/sP/7nMIIFX+w//ucwggVf7D9xXMupvNTsP3Fcy6m81Ow/cVzLqbzU7D9xXMupvNTsP3Fcy6m81Ow/cVzLqbzU7D9xXMupvNTsP3Fcy6m81Ow/cVzLqbzU7D9xXMupvNTsP3Fcy6m81Ow/cVzLqbzU7D9xXMupvNTsP3Fcy6m81Ow/cVzLqbzU7D9xXMupvNTsP3Fcy6m81Ow/cVzLqbzU7D9xXMupvNTsP3Fcy6m81Ow/cVzLqbzU7D9xXMupvNTsP3Fcy6m81Ow/cVzLqbzU7D9xXMupvNTsP3Fcy6m81Ow/cVzLqbzU7D9xXMupvNTsP3Fcy6m81Ow/cVzLqbzU7D9xXMupvNTsP3Fcy6m81Ow/cVzLqbzU7D9xXMupvNTsP3Fcy6m81Ow/cVzLqbzU7D9xXMupvNTsP3Fcy6m81Ow/cVzLqbzU7D9xXMupvNTsP3Fcy6m81Ow/cVzLqbzU7D9xXMupvNTsP3Fcy6m81Ow/cVzLqbzU7D9xXMupvNTsP3Fcy6m81Ow/cVzLqbzU7D9xXMupvNTsP3Fcy6m81Ow/NeHcQt5C7T814dxC3kLtPzXh3ELeQu0/NeHcQt5C7T814dxC3kLtPzXh3ELeQu0/NeHcQt5C7T814dxC3kLtPzXh3ELeQu0/NeHcQt5C7T814dxC3kLtPzXh3ELeQu0/NeHcQt5C7T814dxC3kLtPzXh3ELeQu0/NeHcQt5C7T814dxC3kLtPzXh3ELeQu0/NeHcQt5C7T814dxC3kLtPzXh3ELeQu0/NeHcQt5C7T814dxC3kLtPzXh3ELeQu0/NeHcQt5C7T814dxC3kLtPzXh3ELeQu0/NeHcQt5C7T814dxC3kLtPzXh3ELeQu0/NeHcQt5C7T814dxC3kLtPzXh3ELeQu0/NeHcQt5C7T814dxC3kLtPzXh3ELeQu0/NeHcQt5C7T814dxC3kLtPzXh3ELeQu0/NeHcQt5C7T814dxC3kLtPzXh3ELeQu0/NeHcQt5C7T814dxC3kLtPzXh3ELeQu0/NeHcQt5C7T814dxC3kLtPzXh3ELeQu0/NeHcQt5C7T814dxC3kLtPwhM3VRNqe0/CEzdVE2p7T8ITN1UTantPwhM3VRNqe0/CEzdVE2p7T8ITN1UTantPwhM3VRNqe0/CEzdVE2p7T8ITN1UTantPwhM3VRNqe0/CEzdVE2p7T8ITN1UTantPwhM3VRNqe0/CEzdVE2p7T8ITN1UTantPwhM3VRNqe0/CEzdVE2p7T8ITN1UTantPwhM3VRNqe0/CEzdVE2p7T8ITN1UTantPwhM3VRNqe0/CEzdVE2p7T8ITN1UTantPwhM3VRNqe0/CEzdVE2p7T8ITN1UTantPwhM3VRNqe0/CEzdVE2p7T8ITN1UTantPwhM3VRNqe0/CEzdVE2p7T8ITN1UTantPwhM3VRNqe0/CEzdVE2p7T8ITN1UTantPwhM3VRNqe0/CEzdVE2p7T8ITN1UTantPwhM3VRNqe0/CEzdVE2p7T8ITN1UTantPwhM3VRNqe0/CEzdVE2p7T8ITN1UTantPwhM3VRNqe0/CEzdVE2p7T8ITN1UTantPwhM3VRNqe0/CEzdVE2p7T/MCaHt7gfuP8wJoe3uB+4/zAmh7e4H7j/MCaHt7gfuP8wJoe3uB+4/zAmh7e4H7j/MCaHt7gfuP8wJoe3uB+4/zAmh7e4H7j/MCaHt7gfuP8wJoe3uB+4/zAmh7e4H7j/MCaHt7gfuP8wJoe3uB+4/zAmh7e4H7j/MCaHt7gfuP8wJoe3uB+4/zAmh7e4H7j/MCaHt7gfuP8wJoe3uB+4/zAmh7e4H7j/MCaHt7gfuP8wJoe3uB+4/zAmh7e4H7j/MCaHt7gfuP8wJoe3uB+4/zAmh7e4H7j/MCaHt7gfuP8wJoe3uB+4/zAmh7e4H7j/MCaHt7gfuP8wJoe3uB+4/zAmh7e4H7j/MCaHt7gfuP8wJoe3uB+4/zAmh7e4H7j/MCaHt7gfuP8wJoe3uB+4/zAmh7e4H7j/MCaHt7gfuP8wJoe3uB+4/zAmh7e4H7j/MCaHt7gfuP8wJoe3uB+4/zAmh7e4H7j/MCaHt7gfuP8wJoe3uB+4/zAmh7e4H7j/MCaHt7gfuP8wJoe3uB+4/xrtvKKpe7j/Gu28oql7uP8a7byiqXu4/xrtvKKpe7j/Gu28oql7uP8a7byiqXu4/xrtvKKpe7j/Gu28oql7uP8a7byiqXu4/xrtvKKpe7j/Gu28oql7uP8a7byiqXu4/xrtvKKpe7j/Gu28oql7uP8a7byiqXu4/xrtvKKpe7j/Gu28oql7uP8a7byiqXu4/xrtvKKpe7j/Gu28oql7uP8a7byiqXu4/xrtvKKpe7j/Gu28oql7uP8a7byiqXu4/xrtvKKpe7j/Gu28oql7uP8a7byiqXu4/xrtvKKpe7j/Gu28oql7uP8a7byiqXu4/xrtvKKpe7j/Gu28oql7uP8a7byiqXu4/xrtvKKpe7j/Gu28oql7uP8a7byiqXu4/xrtvKKpe7j/Gu28oql7uP8a7byiqXu4/xrtvKKpe7j/Gu28oql7uP8a7byiqXu4/xrtvKKpe7j/Gu28oql7uP8a7byiqXu4/xrtvKKpe7j/Gu28oql7uP8a7byiqXu4/xrtvKKpe7j/Gu28oql7uP5SbkDRore4/lJuQNGit7j+Um5A0aK3uP5SbkDRore4/lJuQNGit7j+Um5A0aK3uP5SbkDRore4/lJuQNGit7j+Um5A0aK3uP5SbkDRore4/lJuQNGit7j+Um5A0aK3uP5SbkDRore4/lJuQNGit7j+Um5A0aK3uP5SbkDRore4/lJuQNGit7j+Um5A0aK3uP5SbkDRore4/lJuQNGit7j+Um5A0aK3uP5SbkDRore4/lJuQNGit7j+Um5A0aK3uP5SbkDRore4/lJuQNGit7j+Um5A0aK3uP5SbkDRore4/lJuQNGit7j+Um5A0aK3uP5SbkDRore4/lJuQNGit7j+Um5A0aK3uP5SbkDRore4/lJuQNGit7j+Um5A0aK3uP5SbkDRore4/lJuQNGit7j+Um5A0aK3uP5SbkDRore4/lJuQNGit7j+Um5A0aK3uP5SbkDRore4/lJuQNGit7j+Um5A0aK3uP5SbkDRore4/lJuQNGit7j+Um5A0aK3uP5SbkDRore4/lJuQNGit7j//7EpbFPTuP//sSlsU9O4//+xKWxT07j//7EpbFPTuP//sSlsU9O4//+xKWxT07j//7EpbFPTuP//sSlsU9O4//+xKWxT07j//7EpbFPTuP//sSlsU9O4//+xKWxT07j//7EpbFPTuP//sSlsU9O4//+xKWxT07j//7EpbFPTuP//sSlsU9O4//+xKWxT07j//7EpbFPTuP//sSlsU9O4//+xKWxT07j//7EpbFPTuP//sSlsU9O4//+xKWxT07j//7EpbFPTuP//sSlsU9O4//+xKWxT07j//7EpbFPTuP//sSlsU9O4//+xKWxT07j//7EpbFPTuP//sSlsU9O4//+xKWxT07j//7EpbFPTuP//sSlsU9O4//+xKWxT07j//7EpbFPTuP//sSlsU9O4//+xKWxT07j//7EpbFPTuP//sSlsU9O4//+xKWxT07j//7EpbFPTuP//sSlsU9O4//+xKWxT07j//7EpbFPTuP//sSlsU9O4//+xKWxT07j//7EpbFPTuP//sSlsU9O4/aelYBZwy7z9p6VgFnDLvP2npWAWcMu8/aelYBZwy7z9p6VgFnDLvP2npWAWcMu8/aelYBZwy7z9p6VgFnDLvP2npWAWcMu8/aelYBZwy7z9p6VgFnDLvP2npWAWcMu8/aelYBZwy7z9p6VgFnDLvP2npWAWcMu8/aelYBZwy7z9p6VgFnDLvP2npWAWcMu8/aelYBZwy7z9p6VgFnDLvP2npWAWcMu8/aelYBZwy7z9p6VgFnDLvP2npWAWcMu8/aelYBZwy7z9p6VgFnDLvP2npWAWcMu8/aelYBZwy7z9p6VgFnDLvP2npWAWcMu8/aelYBZwy7z9p6VgFnDLvP2npWAWcMu8/aelYBZwy7z9p6VgFnDLvP2npWAWcMu8/aelYBZwy7z9p6VgFnDLvP2npWAWcMu8/aelYBZwy7z9p6VgFnDLvP2npWAWcMu8/aelYBZwy7z9p6VgFnDLvP2npWAWcMu8/aelYBZwy7z9p6VgFnDLvP2npWAWcMu8/aelYBZwy7z9p6VgFnDLvP+i1y7/uaO8/6LXLv+5o7z/otcu/7mjvP+i1y7/uaO8/6LXLv+5o7z/otcu/7mjvP+i1y7/uaO8/6LXLv+5o7z/otcu/7mjvP+i1y7/uaO8/6LXLv+5o7z/otcu/7mjvP+i1y7/uaO8/6LXLv+5o7z/otcu/7mjvP+i1y7/uaO8/6LXLv+5o7z/otcu/7mjvP+i1y7/uaO8/6LXLv+5o7z/otcu/7mjvP+i1y7/uaO8/6LXLv+5o7z/otcu/7mjvP+i1y7/uaO8/6LXLv+5o7z/otcu/7mjvP+i1y7/uaO8/6LXLv+5o7z/otcu/7mjvP+i1y7/uaO8/6LXLv+5o7z/otcu/7mjvP+i1y7/uaO8/6LXLv+5o7z/otcu/7mjvP+i1y7/uaO8/6LXLv+5o7z/otcu/7mjvP+i1y7/uaO8/6LXLv+5o7z/otcu/7mjvP+i1y7/uaO8/6LXLv+5o7z/otcu/7mjvP+i1y7/uaO8/6LXLv+5o7z/otcu/7mjvP+i1y7/uaO8/6LXLv+5o7z/GGl9A/pbvP8YaX0D+lu8/xhpfQP6W7z/GGl9A/pbvP8YaX0D+lu8/xhpfQP6W7z/GGl9A/pbvP8YaX0D+lu8/xhpfQP6W7z/GGl9A/pbvP8YaX0D+lu8/xhpfQP6W7z/GGl9A/pbvP8YaX0D+lu8/xhpfQP6W7z/GGl9A/pbvP8YaX0D+lu8/xhpfQP6W7z/GGl9A/pbvP8YaX0D+lu8/xhpfQP6W7z/GGl9A/pbvP8YaX0D+lu8/xhpfQP6W7z/GGl9A/pbvP8YaX0D+lu8/xhpfQP6W7z/GGl9A/pbvP8YaX0D+lu8/xhpfQP6W7z/GGl9A/pbvP8YaX0D+lu8/xhpfQP6W7z/GGl9A/pbvP8YaX0D+lu8/xhpfQP6W7z/GGl9A/pbvP8YaX0D+lu8/xhpfQP6W7z/GGl9A/pbvP8YaX0D+lu8/xhpfQP6W7z/GGl9A/pbvP8YaX0D+lu8/xhpfQP6W7z/GGl9A/pbvP8YaX0D+lu8/xhpfQP6W7z/GGl9A/pbvP8YaX0D+lu8/7Ng7ab687z/s2DtpvrzvP+zYO2m+vO8/7Ng7ab687z/s2DtpvrzvP+zYO2m+vO8/7Ng7ab687z/s2DtpvrzvP+zYO2m+vO8/7Ng7ab687z/s2DtpvrzvP+zYO2m+vO8/7Ng7ab687z/s2DtpvrzvP+zYO2m+vO8/7Ng7ab687z/s2DtpvrzvP+zYO2m+vO8/7Ng7ab687z/s2DtpvrzvP+zYO2m+vO8/7Ng7ab687z/s2DtpvrzvP+zYO2m+vO8/7Ng7ab687z/s2DtpvrzvP+zYO2m+vO8/7Ng7ab687z/s2DtpvrzvP+zYO2m+vO8/7Ng7ab687z/s2DtpvrzvP+zYO2m+vO8/7Ng7ab687z/s2DtpvrzvP+zYO2m+vO8/7Ng7ab687z/s2DtpvrzvP+zYO2m+vO8/7Ng7ab687z/s2DtpvrzvP+zYO2m+vO8/7Ng7ab687z/s2DtpvrzvP+zYO2m+vO8/7Ng7ab687z/s2DtpvrzvP+zYO2m+vO8/7Ng7ab687z/s2DtpvrzvPyCgJ0wl2u8/IKAnTCXa7z8goCdMJdrvPyCgJ0wl2u8/IKAnTCXa7z8goCdMJdrvPyCgJ0wl2u8/IKAnTCXa7z8goCdMJdrvPyCgJ0wl2u8/IKAnTCXa7z8goCdMJdrvPyCgJ0wl2u8/IKAnTCXa7z8goCdMJdrvPyCgJ0wl2u8/IKAnTCXa7z8goCdMJdrvPyCgJ0wl2u8/IKAnTCXa7z8goCdMJdrvPyCgJ0wl2u8/IKAnTCXa7z8goCdMJdrvPyCgJ0wl2u8/IKAnTCXa7z8goCdMJdrvPyCgJ0wl2u8/IKAnTCXa7z8goCdMJdrvPyCgJ0wl2u8/IKAnTCXa7z8goCdMJdrvPyCgJ0wl2u8/IKAnTCXa7z8goCdMJdrvPyCgJ0wl2u8/IKAnTCXa7z8goCdMJdrvPyCgJ0wl2u8/IKAnTCXa7z8goCdMJdrvPyCgJ0wl2u8/IKAnTCXa7z8goCdMJdrvPyCgJ0wl2u8/IKAnTCXa7z8goCdMJdrvPyCgJ0wl2u8/IKAnTCXa7z9szyEtK+/vP2zPIS0r7+8/bM8hLSvv7z9szyEtK+/vP2zPIS0r7+8/bM8hLSvv7z9szyEtK+/vP2zPIS0r7+8/bM8hLSvv7z9szyEtK+/vP2zPIS0r7+8/bM8hLSvv7z9szyEtK+/vP2zPIS0r7+8/bM8hLSvv7z9szyEtK+/vP2zPIS0r7+8/bM8hLSvv7z9szyEtK+/vP2zPIS0r7+8/bM8hLSvv7z9szyEtK+/vP2zPIS0r7+8/bM8hLSvv7z9szyEtK+/vP2zPIS0r7+8/bM8hLSvv7z9szyEtK+/vP2zPIS0r7+8/bM8hLSvv7z9szyEtK+/vP2zPIS0r7+8/bM8hLSvv7z9szyEtK+/vP2zPIS0r7+8/bM8hLSvv7z9szyEtK+/vP2zPIS0r7+8/bM8hLSvv7z9szyEtK+/vP2zPIS0r7+8/bM8hLSvv7z9szyEtK+/vP2zPIS0r7+8/bM8hLSvv7z9szyEtK+/vP2zPIS0r7+8/bM8hLSvv7z9szyEtK+/vP2zPIS0r7+8/yk9shMr77z/KT2yEyvvvP8pPbITK++8/yk9shMr77z/KT2yEyvvvP8pPbITK++8/yk9shMr77z/KT2yEyvvvP8pPbITK++8/yk9shMr77z/KT2yEyvvvP8pPbITK++8/yk9shMr77z/KT2yEyvvvP8pPbITK++8/yk9shMr77z/KT2yEyvvvP8pPbITK++8/yk9shMr77z/KT2yEyvvvP8pPbITK++8/yk9shMr77z/KT2yEyvvvP8pPbITK++8/yk9shMr77z/KT2yEyvvvP8pPbITK++8/yk9shMr77z/KT2yEyvvvP8pPbITK++8/yk9shMr77z/KT2yEyvvvP8pPbITK++8/yk9shMr77z/KT2yEyvvvP8pPbITK++8/yk9shMr77z/KT2yEyvvvP8pPbITK++8/yk9shMr77z/KT2yEyvvvP8pPbITK++8/yk9shMr77z/KT2yEyvvvP8pPbITK++8/yk9shMr77z/KT2yEyvvvP8pPbITK++8/yk9shMr77z/KT2yEyvvvPwAAAAAAAPA/AAAAAAAA8D8AAAAAAADwPwAAAAAAAPA/AAAAAAAA8D8AAAAAAADwPwAAAAAAAPA/AAAAAAAA8D8AAAAAAADwPwAAAAAAAPA/AAAAAAAA8D8AAAAAAADwPwAAAAAAAPA/AAAAAAAA8D8AAAAAAADwPwAAAAAAAPA/AAAAAAAA8D8AAAAAAADwPwAAAAAAAPA/AAAAAAAA8D8AAAAAAADwPwAAAAAAAPA/AAAAAAAA8D8AAAAAAADwPwAAAAAAAPA/AAAAAAAA8D8AAAAAAADwPwAAAAAAAPA/AAAAAAAA8D8AAAAAAADwPwAAAAAAAPA/AAAAAAAA8D8AAAAAAADwPwAAAAAAAPA/AAAAAAAA8D8AAAAAAADwPwAAAAAAAPA/AAAAAAAA8D8AAAAAAADwPwAAAAAAAPA/AAAAAAAA8D8AAAAAAADwPwAAAAAAAPA/AAAAAAAA8D8AAAAAAADwPwAAAAAAAPA/AAAAAAAA8D8AAAAAAADwPwAAAAAAAPA/AAAAAAAA8D8=",
          "dtype": "f8",
          "shape": "50, 50"
         }
        },
        {
         "colorscale": [
          [
           0,
           "rgb(255,255,255)"
          ],
          [
           0.125,
           "rgb(240,240,240)"
          ],
          [
           0.25,
           "rgb(217,217,217)"
          ],
          [
           0.375,
           "rgb(189,189,189)"
          ],
          [
           0.5,
           "rgb(150,150,150)"
          ],
          [
           0.625,
           "rgb(115,115,115)"
          ],
          [
           0.75,
           "rgb(82,82,82)"
          ],
          [
           0.875,
           "rgb(37,37,37)"
          ],
          [
           1,
           "rgb(0,0,0)"
          ]
         ],
         "name": "Pareto Front",
         "opacity": 0.3,
         "scene": "scene3",
         "showscale": false,
         "type": "surface",
         "x": {
          "bdata": "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",
          "dtype": "f8",
          "shape": "50, 50"
         },
         "y": {
          "bdata": "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",
          "dtype": "f8",
          "shape": "50, 50"
         },
         "z": {
          "bdata": "AAAAAAAAAAAAAAAAAAAAAAAAAAAAAAAAAAAAAAAAAAAAAAAAAAAAAAAAAAAAAAAAAAAAAAAAAAAAAAAAAAAAAAAAAAAAAAAAAAAAAAAAAAAAAAAAAAAAAAAAAAAAAAAAAAAAAAAAAAAAAAAAAAAAAAAAAAAAAAAAAAAAAAAAAAAAAAAAAAAAAAAAAAAAAAAAAAAAAAAAAAAAAAAAAAAAAAAAAAAAAAAAAAAAAAAAAAAAAAAAAAAAAAAAAAAAAAAAAAAAAAAAAAAAAAAAAAAAAAAAAAAAAAAAAAAAAAAAAAAAAAAAAAAAAAAAAAAAAAAAAAAAAAAAAAAAAAAAAAAAAAAAAAAAAAAAAAAAAAAAAAAAAAAAAAAAAAAAAAAAAAAAAAAAAAAAAAAAAAAAAAAAAAAAAAAAAAAAAAAAAAAAAAAAAAAAAAAAAAAAAAAAAAAAAAAAAAAAAAAAAAAAAAAAAAAAAAAAAAAAAAAAAAAAAAAAAAAAAAAAAAAAAAAAAAAAAAAAAAAAAAAAAAAAAAAAANky6XoQaaA/2TLpehBpoD/ZMul6EGmgP9ky6XoQaaA/2TLpehBpoD/ZMul6EGmgP9ky6XoQaaA/2TLpehBpoD/ZMul6EGmgP9ky6XoQaaA/2TLpehBpoD/ZMul6EGmgP9ky6XoQaaA/2TLpehBpoD/ZMul6EGmgP9ky6XoQaaA/2TLpehBpoD/ZMul6EGmgP9ky6XoQaaA/2TLpehBpoD/ZMul6EGmgP9ky6XoQaaA/2TLpehBpoD/ZMul6EGmgP9ky6XoQaaA/2TLpehBpoD/ZMul6EGmgP9ky6XoQaaA/2TLpehBpoD/ZMul6EGmgP9ky6XoQaaA/2TLpehBpoD/ZMul6EGmgP9ky6XoQaaA/2TLpehBpoD/ZMul6EGmgP9ky6XoQaaA/2TLpehBpoD/ZMul6EGmgP9ky6XoQaaA/2TLpehBpoD/ZMul6EGmgP9ky6XoQaaA/2TLpehBpoD/ZMul6EGmgP9ky6XoQaaA/2TLpehBpoD/ZMul6EGmgP9ky6XoQaaA/2TLpehBpoD/G9Xbr52awP8b1duvnZrA/xvV26+dmsD/G9Xbr52awP8b1duvnZrA/xvV26+dmsD/G9Xbr52awP8b1duvnZrA/xvV26+dmsD/G9Xbr52awP8b1duvnZrA/xvV26+dmsD/G9Xbr52awP8b1duvnZrA/xvV26+dmsD/G9Xbr52awP8b1duvnZrA/xvV26+dmsD/G9Xbr52awP8b1duvnZrA/xvV26+dmsD/G9Xbr52awP8b1duvnZrA/xvV26+dmsD/G9Xbr52awP8b1duvnZrA/xvV26+dmsD/G9Xbr52awP8b1duvnZrA/xvV26+dmsD/G9Xbr52awP8b1duvnZrA/xvV26+dmsD/G9Xbr52awP8b1duvnZrA/xvV26+dmsD/G9Xbr52awP8b1duvnZrA/xvV26+dmsD/G9Xbr52awP8b1duvnZrA/xvV26+dmsD/G9Xbr52awP8b1duvnZrA/xvV26+dmsD/G9Xbr52awP8b1duvnZrA/xvV26+dmsD/G9Xbr52awP8b1duvnZrA/cLvvC/eUuD9wu+8L95S4P3C77wv3lLg/cLvvC/eUuD9wu+8L95S4P3C77wv3lLg/cLvvC/eUuD9wu+8L95S4P3C77wv3lLg/cLvvC/eUuD9wu+8L95S4P3C77wv3lLg/cLvvC/eUuD9wu+8L95S4P3C77wv3lLg/cLvvC/eUuD9wu+8L95S4P3C77wv3lLg/cLvvC/eUuD9wu+8L95S4P3C77wv3lLg/cLvvC/eUuD9wu+8L95S4P3C77wv3lLg/cLvvC/eUuD9wu+8L95S4P3C77wv3lLg/cLvvC/eUuD9wu+8L95S4P3C77wv3lLg/cLvvC/eUuD9wu+8L95S4P3C77wv3lLg/cLvvC/eUuD9wu+8L95S4P3C77wv3lLg/cLvvC/eUuD9wu+8L95S4P3C77wv3lLg/cLvvC/eUuD9wu+8L95S4P3C77wv3lLg/cLvvC/eUuD9wu+8L95S4P3C77wv3lLg/cLvvC/eUuD9wu+8L95S4P3C77wv3lLg/cLvvC/eUuD9wu+8L95S4P4+Nq2FHXsA/j42rYUdewD+PjathR17AP4+Nq2FHXsA/j42rYUdewD+PjathR17AP4+Nq2FHXsA/j42rYUdewD+PjathR17AP4+Nq2FHXsA/j42rYUdewD+PjathR17AP4+Nq2FHXsA/j42rYUdewD+PjathR17AP4+Nq2FHXsA/j42rYUdewD+PjathR17AP4+Nq2FHXsA/j42rYUdewD+PjathR17AP4+Nq2FHXsA/j42rYUdewD+PjathR17AP4+Nq2FHXsA/j42rYUdewD+PjathR17AP4+Nq2FHXsA/j42rYUdewD+PjathR17AP4+Nq2FHXsA/j42rYUdewD+PjathR17AP4+Nq2FHXsA/j42rYUdewD+PjathR17AP4+Nq2FHXsA/j42rYUdewD+PjathR17AP4+Nq2FHXsA/j42rYUdewD+PjathR17AP4+Nq2FHXsA/j42rYUdewD+PjathR17AP4+Nq2FHXsA/j42rYUdewD+PjathR17AP4+Nq2FHXsA/j42rYUdewD/Gg870xG3EP8aDzvTEbcQ/xoPO9MRtxD/Gg870xG3EP8aDzvTEbcQ/xoPO9MRtxD/Gg870xG3EP8aDzvTEbcQ/xoPO9MRtxD/Gg870xG3EP8aDzvTEbcQ/xoPO9MRtxD/Gg870xG3EP8aDzvTEbcQ/xoPO9MRtxD/Gg870xG3EP8aDzvTEbcQ/xoPO9MRtxD/Gg870xG3EP8aDzvTEbcQ/xoPO9MRtxD/Gg870xG3EP8aDzvTEbcQ/xoPO9MRtxD/Gg870xG3EP8aDzvTEbcQ/xoPO9MRtxD/Gg870xG3EP8aDzvTEbcQ/xoPO9MRtxD/Gg870xG3EP8aDzvTEbcQ/xoPO9MRtxD/Gg870xG3EP8aDzvTEbcQ/xoPO9MRtxD/Gg870xG3EP8aDzvTEbcQ/xoPO9MRtxD/Gg870xG3EP8aDzvTEbcQ/xoPO9MRtxD/Gg870xG3EP8aDzvTEbcQ/xoPO9MRtxD/Gg870xG3EP8aDzvTEbcQ/xoPO9MRtxD/Gg870xG3EP8aDzvTEbcQ/2m9PzeJ3yD/ab0/N4nfIP9pvT83id8g/2m9PzeJ3yD/ab0/N4nfIP9pvT83id8g/2m9PzeJ3yD/ab0/N4nfIP9pvT83id8g/2m9PzeJ3yD/ab0/N4nfIP9pvT83id8g/2m9PzeJ3yD/ab0/N4nfIP9pvT83id8g/2m9PzeJ3yD/ab0/N4nfIP9pvT83id8g/2m9PzeJ3yD/ab0/N4nfIP9pvT83id8g/2m9PzeJ3yD/ab0/N4nfIP9pvT83id8g/2m9PzeJ3yD/ab0/N4nfIP9pvT83id8g/2m9PzeJ3yD/ab0/N4nfIP9pvT83id8g/2m9PzeJ3yD/ab0/N4nfIP9pvT83id8g/2m9PzeJ3yD/ab0/N4nfIP9pvT83id8g/2m9PzeJ3yD/ab0/N4nfIP9pvT83id8g/2m9PzeJ3yD/ab0/N4nfIP9pvT83id8g/2m9PzeJ3yD/ab0/N4nfIP9pvT83id8g/2m9PzeJ3yD/ab0/N4nfIP9pvT83id8g/2m9PzeJ3yD/ab0/N4nfIP4JFAuOQe8w/gkUC45B7zD+CRQLjkHvMP4JFAuOQe8w/gkUC45B7zD+CRQLjkHvMP4JFAuOQe8w/gkUC45B7zD+CRQLjkHvMP4JFAuOQe8w/gkUC45B7zD+CRQLjkHvMP4JFAuOQe8w/gkUC45B7zD+CRQLjkHvMP4JFAuOQe8w/gkUC45B7zD+CRQLjkHvMP4JFAuOQe8w/gkUC45B7zD+CRQLjkHvMP4JFAuOQe8w/gkUC45B7zD+CRQLjkHvMP4JFAuOQe8w/gkUC45B7zD+CRQLjkHvMP4JFAuOQe8w/gkUC45B7zD+CRQLjkHvMP4JFAuOQe8w/gkUC45B7zD+CRQLjkHvMP4JFAuOQe8w/gkUC45B7zD+CRQLjkHvMP4JFAuOQe8w/gkUC45B7zD+CRQLjkHvMP4JFAuOQe8w/gkUC45B7zD+CRQLjkHvMP4JFAuOQe8w/gkUC45B7zD+CRQLjkHvMP4JFAuOQe8w/gkUC45B7zD+CRQLjkHvMP4JFAuOQe8w/gkUC45B7zD/uy5dv4DvQP+7Ll2/gO9A/7suXb+A70D/uy5dv4DvQP+7Ll2/gO9A/7suXb+A70D/uy5dv4DvQP+7Ll2/gO9A/7suXb+A70D/uy5dv4DvQP+7Ll2/gO9A/7suXb+A70D/uy5dv4DvQP+7Ll2/gO9A/7suXb+A70D/uy5dv4DvQP+7Ll2/gO9A/7suXb+A70D/uy5dv4DvQP+7Ll2/gO9A/7suXb+A70D/uy5dv4DvQP+7Ll2/gO9A/7suXb+A70D/uy5dv4DvQP+7Ll2/gO9A/7suXb+A70D/uy5dv4DvQP+7Ll2/gO9A/7suXb+A70D/uy5dv4DvQP+7Ll2/gO9A/7suXb+A70D/uy5dv4DvQP+7Ll2/gO9A/7suXb+A70D/uy5dv4DvQP+7Ll2/gO9A/7suXb+A70D/uy5dv4DvQP+7Ll2/gO9A/7suXb+A70D/uy5dv4DvQP+7Ll2/gO9A/7suXb+A70D/uy5dv4DvQP+7Ll2/gO9A/7suXb+A70D/uy5dv4DvQP+7Ll2/gO9A/QPfYMbM10j9A99gxszXSP0D32DGzNdI/QPfYMbM10j9A99gxszXSP0D32DGzNdI/QPfYMbM10j9A99gxszXSP0D32DGzNdI/QPfYMbM10j9A99gxszXSP0D32DGzNdI/QPfYMbM10j9A99gxszXSP0D32DGzNdI/QPfYMbM10j9A99gxszXSP0D32DGzNdI/QPfYMbM10j9A99gxszXSP0D32DGzNdI/QPfYMbM10j9A99gxszXSP0D32DGzNdI/QPfYMbM10j9A99gxszXSP0D32DGzNdI/QPfYMbM10j9A99gxszXSP0D32DGzNdI/QPfYMbM10j9A99gxszXSP0D32DGzNdI/QPfYMbM10j9A99gxszXSP0D32DGzNdI/QPfYMbM10j9A99gxszXSP0D32DGzNdI/QPfYMbM10j9A99gxszXSP0D32DGzNdI/QPfYMbM10j9A99gxszXSP0D32DGzNdI/QPfYMbM10j9A99gxszXSP0D32DGzNdI/QPfYMbM10j9A99gxszXSP7wvx6i7KtQ/vC/HqLsq1D+8L8eouyrUP7wvx6i7KtQ/vC/HqLsq1D+8L8eouyrUP7wvx6i7KtQ/vC/HqLsq1D+8L8eouyrUP7wvx6i7KtQ/vC/HqLsq1D+8L8eouyrUP7wvx6i7KtQ/vC/HqLsq1D+8L8eouyrUP7wvx6i7KtQ/vC/HqLsq1D+8L8eouyrUP7wvx6i7KtQ/vC/HqLsq1D+8L8eouyrUP7wvx6i7KtQ/vC/HqLsq1D+8L8eouyrUP7wvx6i7KtQ/vC/HqLsq1D+8L8eouyrUP7wvx6i7KtQ/vC/HqLsq1D+8L8eouyrUP7wvx6i7KtQ/vC/HqLsq1D+8L8eouyrUP7wvx6i7KtQ/vC/HqLsq1D+8L8eouyrUP7wvx6i7KtQ/vC/HqLsq1D+8L8eouyrUP7wvx6i7KtQ/vC/HqLsq1D+8L8eouyrUP7wvx6i7KtQ/vC/HqLsq1D+8L8eouyrUP7wvx6i7KtQ/vC/HqLsq1D+8L8eouyrUP7wvx6i7KtQ/vC/HqLsq1D8A7noHdhrWPwDuegd2GtY/AO56B3Ya1j8A7noHdhrWPwDuegd2GtY/AO56B3Ya1j8A7noHdhrWPwDuegd2GtY/AO56B3Ya1j8A7noHdhrWPwDuegd2GtY/AO56B3Ya1j8A7noHdhrWPwDuegd2GtY/AO56B3Ya1j8A7noHdhrWPwDuegd2GtY/AO56B3Ya1j8A7noHdhrWPwDuegd2GtY/AO56B3Ya1j8A7noHdhrWPwDuegd2GtY/AO56B3Ya1j8A7noHdhrWPwDuegd2GtY/AO56B3Ya1j8A7noHdhrWPwDuegd2GtY/AO56B3Ya1j8A7noHdhrWPwDuegd2GtY/AO56B3Ya1j8A7noHdhrWPwDuegd2GtY/AO56B3Ya1j8A7noHdhrWPwDuegd2GtY/AO56B3Ya1j8A7noHdhrWPwDuegd2GtY/AO56B3Ya1j8A7noHdhrWPwDuegd2GtY/AO56B3Ya1j8A7noHdhrWPwDuegd2GtY/AO56B3Ya1j8A7noHdhrWPwDuegd2GtY/3WJO5l8E2D/dYk7mXwTYP91iTuZfBNg/3WJO5l8E2D/dYk7mXwTYP91iTuZfBNg/3WJO5l8E2D/dYk7mXwTYP91iTuZfBNg/3WJO5l8E2D/dYk7mXwTYP91iTuZfBNg/3WJO5l8E2D/dYk7mXwTYP91iTuZfBNg/3WJO5l8E2D/dYk7mXwTYP91iTuZfBNg/3WJO5l8E2D/dYk7mXwTYP91iTuZfBNg/3WJO5l8E2D/dYk7mXwTYP91iTuZfBNg/3WJO5l8E2D/dYk7mXwTYP91iTuZfBNg/3WJO5l8E2D/dYk7mXwTYP91iTuZfBNg/3WJO5l8E2D/dYk7mXwTYP91iTuZfBNg/3WJO5l8E2D/dYk7mXwTYP91iTuZfBNg/3WJO5l8E2D/dYk7mXwTYP91iTuZfBNg/3WJO5l8E2D/dYk7mXwTYP91iTuZfBNg/3WJO5l8E2D/dYk7mXwTYP91iTuZfBNg/3WJO5l8E2D/dYk7mXwTYP91iTuZfBNg/3WJO5l8E2D/dYk7mXwTYP1FHK2X459k/UUcrZfjn2T9RRytl+OfZP1FHK2X459k/UUcrZfjn2T9RRytl+OfZP1FHK2X459k/UUcrZfjn2T9RRytl+OfZP1FHK2X459k/UUcrZfjn2T9RRytl+OfZP1FHK2X459k/UUcrZfjn2T9RRytl+OfZP1FHK2X459k/UUcrZfjn2T9RRytl+OfZP1FHK2X459k/UUcrZfjn2T9RRytl+OfZP1FHK2X459k/UUcrZfjn2T9RRytl+OfZP1FHK2X459k/UUcrZfjn2T9RRytl+OfZP1FHK2X459k/UUcrZfjn2T9RRytl+OfZP1FHK2X459k/UUcrZfjn2T9RRytl+OfZP1FHK2X459k/UUcrZfjn2T9RRytl+OfZP1FHK2X459k/UUcrZfjn2T9RRytl+OfZP1FHK2X459k/UUcrZfjn2T9RRytl+OfZP1FHK2X459k/UUcrZfjn2T9RRytl+OfZP1FHK2X459k/UUcrZfjn2T9RRytl+OfZP1FHK2X459k/UUcrZfjn2T/Bq3FNwMTbP8GrcU3AxNs/watxTcDE2z/Bq3FNwMTbP8GrcU3AxNs/watxTcDE2z/Bq3FNwMTbP8GrcU3AxNs/watxTcDE2z/Bq3FNwMTbP8GrcU3AxNs/watxTcDE2z/Bq3FNwMTbP8GrcU3AxNs/watxTcDE2z/Bq3FNwMTbP8GrcU3AxNs/watxTcDE2z/Bq3FNwMTbP8GrcU3AxNs/watxTcDE2z/Bq3FNwMTbP8GrcU3AxNs/watxTcDE2z/Bq3FNwMTbP8GrcU3AxNs/watxTcDE2z/Bq3FNwMTbP8GrcU3AxNs/watxTcDE2z/Bq3FNwMTbP8GrcU3AxNs/watxTcDE2z/Bq3FNwMTbP8GrcU3AxNs/watxTcDE2z/Bq3FNwMTbP8GrcU3AxNs/watxTcDE2z/Bq3FNwMTbP8GrcU3AxNs/watxTcDE2z/Bq3FNwMTbP8GrcU3AxNs/watxTcDE2z/Bq3FNwMTbP8GrcU3AxNs/watxTcDE2z/Bq3FNwMTbP8GrcU3AxNs/cNtuMzqa3T9w224zOprdP3DbbjM6mt0/cNtuMzqa3T9w224zOprdP3DbbjM6mt0/cNtuMzqa3T9w224zOprdP3DbbjM6mt0/cNtuMzqa3T9w224zOprdP3DbbjM6mt0/cNtuMzqa3T9w224zOprdP3DbbjM6mt0/cNtuMzqa3T9w224zOprdP3DbbjM6mt0/cNtuMzqa3T9w224zOprdP3DbbjM6mt0/cNtuMzqa3T9w224zOprdP3DbbjM6mt0/cNtuMzqa3T9w224zOprdP3DbbjM6mt0/cNtuMzqa3T9w224zOprdP3DbbjM6mt0/cNtuMzqa3T9w224zOprdP3DbbjM6mt0/cNtuMzqa3T9w224zOprdP3DbbjM6mt0/cNtuMzqa3T9w224zOprdP3DbbjM6mt0/cNtuMzqa3T9w224zOprdP3DbbjM6mt0/cNtuMzqa3T9w224zOprdP3DbbjM6mt0/cNtuMzqa3T9w224zOprdP3DbbjM6mt0/cNtuMzqa3T9w224zOprdP6KGW5fqZ98/ooZbl+pn3z+ihluX6mffP6KGW5fqZ98/ooZbl+pn3z+ihluX6mffP6KGW5fqZ98/ooZbl+pn3z+ihluX6mffP6KGW5fqZ98/ooZbl+pn3z+ihluX6mffP6KGW5fqZ98/ooZbl+pn3z+ihluX6mffP6KGW5fqZ98/ooZbl+pn3z+ihluX6mffP6KGW5fqZ98/ooZbl+pn3z+ihluX6mffP6KGW5fqZ98/ooZbl+pn3z+ihluX6mffP6KGW5fqZ98/ooZbl+pn3z+ihluX6mffP6KGW5fqZ98/ooZbl+pn3z+ihluX6mffP6KGW5fqZ98/ooZbl+pn3z+ihluX6mffP6KGW5fqZ98/ooZbl+pn3z+ihluX6mffP6KGW5fqZ98/ooZbl+pn3z+ihluX6mffP6KGW5fqZ98/ooZbl+pn3z+ihluX6mffP6KGW5fqZ98/ooZbl+pn3z+ihluX6mffP6KGW5fqZ98/ooZbl+pn3z+ihluX6mffP6KGW5fqZ98/ooZbl+pn3z/FQuwCrJbgP8VC7AKsluA/xULsAqyW4D/FQuwCrJbgP8VC7AKsluA/xULsAqyW4D/FQuwCrJbgP8VC7AKsluA/xULsAqyW4D/FQuwCrJbgP8VC7AKsluA/xULsAqyW4D/FQuwCrJbgP8VC7AKsluA/xULsAqyW4D/FQuwCrJbgP8VC7AKsluA/xULsAqyW4D/FQuwCrJbgP8VC7AKsluA/xULsAqyW4D/FQuwCrJbgP8VC7AKsluA/xULsAqyW4D/FQuwCrJbgP8VC7AKsluA/xULsAqyW4D/FQuwCrJbgP8VC7AKsluA/xULsAqyW4D/FQuwCrJbgP8VC7AKsluA/xULsAqyW4D/FQuwCrJbgP8VC7AKsluA/xULsAqyW4D/FQuwCrJbgP8VC7AKsluA/xULsAqyW4D/FQuwCrJbgP8VC7AKsluA/xULsAqyW4D/FQuwCrJbgP8VC7AKsluA/xULsAqyW4D/FQuwCrJbgP8VC7AKsluA/xULsAqyW4D/FQuwCrJbgP8VC7AKsluA/JtTwmwV14T8m1PCbBXXhPybU8JsFdeE/JtTwmwV14T8m1PCbBXXhPybU8JsFdeE/JtTwmwV14T8m1PCbBXXhPybU8JsFdeE/JtTwmwV14T8m1PCbBXXhPybU8JsFdeE/JtTwmwV14T8m1PCbBXXhPybU8JsFdeE/JtTwmwV14T8m1PCbBXXhPybU8JsFdeE/JtTwmwV14T8m1PCbBXXhPybU8JsFdeE/JtTwmwV14T8m1PCbBXXhPybU8JsFdeE/JtTwmwV14T8m1PCbBXXhPybU8JsFdeE/JtTwmwV14T8m1PCbBXXhPybU8JsFdeE/JtTwmwV14T8m1PCbBXXhPybU8JsFdeE/JtTwmwV14T8m1PCbBXXhPybU8JsFdeE/JtTwmwV14T8m1PCbBXXhPybU8JsFdeE/JtTwmwV14T8m1PCbBXXhPybU8JsFdeE/JtTwmwV14T8m1PCbBXXhPybU8JsFdeE/JtTwmwV14T8m1PCbBXXhPybU8JsFdeE/JtTwmwV14T8m1PCbBXXhPz8WF5nHTuI/PxYXmcdO4j8/FheZx07iPz8WF5nHTuI/PxYXmcdO4j8/FheZx07iPz8WF5nHTuI/PxYXmcdO4j8/FheZx07iPz8WF5nHTuI/PxYXmcdO4j8/FheZx07iPz8WF5nHTuI/PxYXmcdO4j8/FheZx07iPz8WF5nHTuI/PxYXmcdO4j8/FheZx07iPz8WF5nHTuI/PxYXmcdO4j8/FheZx07iPz8WF5nHTuI/PxYXmcdO4j8/FheZx07iPz8WF5nHTuI/PxYXmcdO4j8/FheZx07iPz8WF5nHTuI/PxYXmcdO4j8/FheZx07iPz8WF5nHTuI/PxYXmcdO4j8/FheZx07iPz8WF5nHTuI/PxYXmcdO4j8/FheZx07iPz8WF5nHTuI/PxYXmcdO4j8/FheZx07iPz8WF5nHTuI/PxYXmcdO4j8/FheZx07iPz8WF5nHTuI/PxYXmcdO4j8/FheZx07iPz8WF5nHTuI/PxYXmcdO4j8/FheZx07iPz8WF5nHTuI/PxYXmcdO4j+jS/uxuCPjP6NL+7G4I+M/o0v7sbgj4z+jS/uxuCPjP6NL+7G4I+M/o0v7sbgj4z+jS/uxuCPjP6NL+7G4I+M/o0v7sbgj4z+jS/uxuCPjP6NL+7G4I+M/o0v7sbgj4z+jS/uxuCPjP6NL+7G4I+M/o0v7sbgj4z+jS/uxuCPjP6NL+7G4I+M/o0v7sbgj4z+jS/uxuCPjP6NL+7G4I+M/o0v7sbgj4z+jS/uxuCPjP6NL+7G4I+M/o0v7sbgj4z+jS/uxuCPjP6NL+7G4I+M/o0v7sbgj4z+jS/uxuCPjP6NL+7G4I+M/o0v7sbgj4z+jS/uxuCPjP6NL+7G4I+M/o0v7sbgj4z+jS/uxuCPjP6NL+7G4I+M/o0v7sbgj4z+jS/uxuCPjP6NL+7G4I+M/o0v7sbgj4z+jS/uxuCPjP6NL+7G4I+M/o0v7sbgj4z+jS/uxuCPjP6NL+7G4I+M/o0v7sbgj4z+jS/uxuCPjP6NL+7G4I+M/o0v7sbgj4z+jS/uxuCPjP6NL+7G4I+M/0e2L4qDz4z/R7YvioPPjP9Hti+Kg8+M/0e2L4qDz4z/R7YvioPPjP9Hti+Kg8+M/0e2L4qDz4z/R7YvioPPjP9Hti+Kg8+M/0e2L4qDz4z/R7YvioPPjP9Hti+Kg8+M/0e2L4qDz4z/R7YvioPPjP9Hti+Kg8+M/0e2L4qDz4z/R7YvioPPjP9Hti+Kg8+M/0e2L4qDz4z/R7YvioPPjP9Hti+Kg8+M/0e2L4qDz4z/R7YvioPPjP9Hti+Kg8+M/0e2L4qDz4z/R7YvioPPjP9Hti+Kg8+M/0e2L4qDz4z/R7YvioPPjP9Hti+Kg8+M/0e2L4qDz4z/R7YvioPPjP9Hti+Kg8+M/0e2L4qDz4z/R7YvioPPjP9Hti+Kg8+M/0e2L4qDz4z/R7YvioPPjP9Hti+Kg8+M/0e2L4qDz4z/R7YvioPPjP9Hti+Kg8+M/0e2L4qDz4z/R7YvioPPjP9Hti+Kg8+M/0e2L4qDz4z/R7YvioPPjP9Hti+Kg8+M/0e2L4qDz4z/R7YvioPPjP7TvxXlJvuQ/tO/FeUm+5D+078V5Sb7kP7TvxXlJvuQ/tO/FeUm+5D+078V5Sb7kP7TvxXlJvuQ/tO/FeUm+5D+078V5Sb7kP7TvxXlJvuQ/tO/FeUm+5D+078V5Sb7kP7TvxXlJvuQ/tO/FeUm+5D+078V5Sb7kP7TvxXlJvuQ/tO/FeUm+5D+078V5Sb7kP7TvxXlJvuQ/tO/FeUm+5D+078V5Sb7kP7TvxXlJvuQ/tO/FeUm+5D+078V5Sb7kP7TvxXlJvuQ/tO/FeUm+5D+078V5Sb7kP7TvxXlJvuQ/tO/FeUm+5D+078V5Sb7kP7TvxXlJvuQ/tO/FeUm+5D+078V5Sb7kP7TvxXlJvuQ/tO/FeUm+5D+078V5Sb7kP7TvxXlJvuQ/tO/FeUm+5D+078V5Sb7kP7TvxXlJvuQ/tO/FeUm+5D+078V5Sb7kP7TvxXlJvuQ/tO/FeUm+5D+078V5Sb7kP7TvxXlJvuQ/tO/FeUm+5D+078V5Sb7kP7TvxXlJvuQ/tO/FeUm+5D8uzxcofYPlPy7PFyh9g+U/Ls8XKH2D5T8uzxcofYPlPy7PFyh9g+U/Ls8XKH2D5T8uzxcofYPlPy7PFyh9g+U/Ls8XKH2D5T8uzxcofYPlPy7PFyh9g+U/Ls8XKH2D5T8uzxcofYPlPy7PFyh9g+U/Ls8XKH2D5T8uzxcofYPlPy7PFyh9g+U/Ls8XKH2D5T8uzxcofYPlPy7PFyh9g+U/Ls8XKH2D5T8uzxcofYPlPy7PFyh9g+U/Ls8XKH2D5T8uzxcofYPlPy7PFyh9g+U/Ls8XKH2D5T8uzxcofYPlPy7PFyh9g+U/Ls8XKH2D5T8uzxcofYPlPy7PFyh9g+U/Ls8XKH2D5T8uzxcofYPlPy7PFyh9g+U/Ls8XKH2D5T8uzxcofYPlPy7PFyh9g+U/Ls8XKH2D5T8uzxcofYPlPy7PFyh9g+U/Ls8XKH2D5T8uzxcofYPlPy7PFyh9g+U/Ls8XKH2D5T8uzxcofYPlPy7PFyh9g+U/Ls8XKH2D5T8uzxcofYPlPy7PFyh9g+U/w6xnDQhD5j/DrGcNCEPmP8OsZw0IQ+Y/w6xnDQhD5j/DrGcNCEPmP8OsZw0IQ+Y/w6xnDQhD5j/DrGcNCEPmP8OsZw0IQ+Y/w6xnDQhD5j/DrGcNCEPmP8OsZw0IQ+Y/w6xnDQhD5j/DrGcNCEPmP8OsZw0IQ+Y/w6xnDQhD5j/DrGcNCEPmP8OsZw0IQ+Y/w6xnDQhD5j/DrGcNCEPmP8OsZw0IQ+Y/w6xnDQhD5j/DrGcNCEPmP8OsZw0IQ+Y/w6xnDQhD5j/DrGcNCEPmP8OsZw0IQ+Y/w6xnDQhD5j/DrGcNCEPmP8OsZw0IQ+Y/w6xnDQhD5j/DrGcNCEPmP8OsZw0IQ+Y/w6xnDQhD5j/DrGcNCEPmP8OsZw0IQ+Y/w6xnDQhD5j/DrGcNCEPmP8OsZw0IQ+Y/w6xnDQhD5j/DrGcNCEPmP8OsZw0IQ+Y/w6xnDQhD5j/DrGcNCEPmP8OsZw0IQ+Y/w6xnDQhD5j/DrGcNCEPmP8OsZw0IQ+Y/w6xnDQhD5j/DrGcNCEPmPxe5uMa3/OY/F7m4xrf85j8XubjGt/zmPxe5uMa3/OY/F7m4xrf85j8XubjGt/zmPxe5uMa3/OY/F7m4xrf85j8XubjGt/zmPxe5uMa3/OY/F7m4xrf85j8XubjGt/zmPxe5uMa3/OY/F7m4xrf85j8XubjGt/zmPxe5uMa3/OY/F7m4xrf85j8XubjGt/zmPxe5uMa3/OY/F7m4xrf85j8XubjGt/zmPxe5uMa3/OY/F7m4xrf85j8XubjGt/zmPxe5uMa3/OY/F7m4xrf85j8XubjGt/zmPxe5uMa3/OY/F7m4xrf85j8XubjGt/zmPxe5uMa3/OY/F7m4xrf85j8XubjGt/zmPxe5uMa3/OY/F7m4xrf85j8XubjGt/zmPxe5uMa3/OY/F7m4xrf85j8XubjGt/zmPxe5uMa3/OY/F7m4xrf85j8XubjGt/zmPxe5uMa3/OY/F7m4xrf85j8XubjGt/zmPxe5uMa3/OY/F7m4xrf85j8XubjGt/zmPxe5uMa3/OY/F7m4xrf85j8wYWx7W7DnPzBhbHtbsOc/MGFse1uw5z8wYWx7W7DnPzBhbHtbsOc/MGFse1uw5z8wYWx7W7DnPzBhbHtbsOc/MGFse1uw5z8wYWx7W7DnPzBhbHtbsOc/MGFse1uw5z8wYWx7W7DnPzBhbHtbsOc/MGFse1uw5z8wYWx7W7DnPzBhbHtbsOc/MGFse1uw5z8wYWx7W7DnPzBhbHtbsOc/MGFse1uw5z8wYWx7W7DnPzBhbHtbsOc/MGFse1uw5z8wYWx7W7DnPzBhbHtbsOc/MGFse1uw5z8wYWx7W7DnPzBhbHtbsOc/MGFse1uw5z8wYWx7W7DnPzBhbHtbsOc/MGFse1uw5z8wYWx7W7DnPzBhbHtbsOc/MGFse1uw5z8wYWx7W7DnPzBhbHtbsOc/MGFse1uw5z8wYWx7W7DnPzBhbHtbsOc/MGFse1uw5z8wYWx7W7DnPzBhbHtbsOc/MGFse1uw5z8wYWx7W7DnPzBhbHtbsOc/MGFse1uw5z8wYWx7W7DnPzBhbHtbsOc/57wb6sNd6D/nvBvqw13oP+e8G+rDXeg/57wb6sNd6D/nvBvqw13oP+e8G+rDXeg/57wb6sNd6D/nvBvqw13oP+e8G+rDXeg/57wb6sNd6D/nvBvqw13oP+e8G+rDXeg/57wb6sNd6D/nvBvqw13oP+e8G+rDXeg/57wb6sNd6D/nvBvqw13oP+e8G+rDXeg/57wb6sNd6D/nvBvqw13oP+e8G+rDXeg/57wb6sNd6D/nvBvqw13oP+e8G+rDXeg/57wb6sNd6D/nvBvqw13oP+e8G+rDXeg/57wb6sNd6D/nvBvqw13oP+e8G+rDXeg/57wb6sNd6D/nvBvqw13oP+e8G+rDXeg/57wb6sNd6D/nvBvqw13oP+e8G+rDXeg/57wb6sNd6D/nvBvqw13oP+e8G+rDXeg/57wb6sNd6D/nvBvqw13oP+e8G+rDXeg/57wb6sNd6D/nvBvqw13oP+e8G+rDXeg/57wb6sNd6D/nvBvqw13oP+e8G+rDXeg/57wb6sNd6D/nvBvqw13oP0veBXXDBOk/S94FdcME6T9L3gV1wwTpP0veBXXDBOk/S94FdcME6T9L3gV1wwTpP0veBXXDBOk/S94FdcME6T9L3gV1wwTpP0veBXXDBOk/S94FdcME6T9L3gV1wwTpP0veBXXDBOk/S94FdcME6T9L3gV1wwTpP0veBXXDBOk/S94FdcME6T9L3gV1wwTpP0veBXXDBOk/S94FdcME6T9L3gV1wwTpP0veBXXDBOk/S94FdcME6T9L3gV1wwTpP0veBXXDBOk/S94FdcME6T9L3gV1wwTpP0veBXXDBOk/S94FdcME6T9L3gV1wwTpP0veBXXDBOk/S94FdcME6T9L3gV1wwTpP0veBXXDBOk/S94FdcME6T9L3gV1wwTpP0veBXXDBOk/S94FdcME6T9L3gV1wwTpP0veBXXDBOk/S94FdcME6T9L3gV1wwTpP0veBXXDBOk/S94FdcME6T9L3gV1wwTpP0veBXXDBOk/S94FdcME6T9L3gV1wwTpP0veBXXDBOk/S94FdcME6T+yvA8uLqXpP7K8Dy4upek/srwPLi6l6T+yvA8uLqXpP7K8Dy4upek/srwPLi6l6T+yvA8uLqXpP7K8Dy4upek/srwPLi6l6T+yvA8uLqXpP7K8Dy4upek/srwPLi6l6T+yvA8uLqXpP7K8Dy4upek/srwPLi6l6T+yvA8uLqXpP7K8Dy4upek/srwPLi6l6T+yvA8uLqXpP7K8Dy4upek/srwPLi6l6T+yvA8uLqXpP7K8Dy4upek/srwPLi6l6T+yvA8uLqXpP7K8Dy4upek/srwPLi6l6T+yvA8uLqXpP7K8Dy4upek/srwPLi6l6T+yvA8uLqXpP7K8Dy4upek/srwPLi6l6T+yvA8uLqXpP7K8Dy4upek/srwPLi6l6T+yvA8uLqXpP7K8Dy4upek/srwPLi6l6T+yvA8uLqXpP7K8Dy4upek/srwPLi6l6T+yvA8uLqXpP7K8Dy4upek/srwPLi6l6T+yvA8uLqXpP7K8Dy4upek/srwPLi6l6T+yvA8uLqXpP7K8Dy4upek/jJNS4tk+6j+Mk1Li2T7qP4yTUuLZPuo/jJNS4tk+6j+Mk1Li2T7qP4yTUuLZPuo/jJNS4tk+6j+Mk1Li2T7qP4yTUuLZPuo/jJNS4tk+6j+Mk1Li2T7qP4yTUuLZPuo/jJNS4tk+6j+Mk1Li2T7qP4yTUuLZPuo/jJNS4tk+6j+Mk1Li2T7qP4yTUuLZPuo/jJNS4tk+6j+Mk1Li2T7qP4yTUuLZPuo/jJNS4tk+6j+Mk1Li2T7qP4yTUuLZPuo/jJNS4tk+6j+Mk1Li2T7qP4yTUuLZPuo/jJNS4tk+6j+Mk1Li2T7qP4yTUuLZPuo/jJNS4tk+6j+Mk1Li2T7qP4yTUuLZPuo/jJNS4tk+6j+Mk1Li2T7qP4yTUuLZPuo/jJNS4tk+6j+Mk1Li2T7qP4yTUuLZPuo/jJNS4tk+6j+Mk1Li2T7qP4yTUuLZPuo/jJNS4tk+6j+Mk1Li2T7qP4yTUuLZPuo/jJNS4tk+6j+Mk1Li2T7qP4yTUuLZPuo/jJNS4tk+6j+Mk1Li2T7qP5WqNSWe0eo/lao1JZ7R6j+VqjUlntHqP5WqNSWe0eo/lao1JZ7R6j+VqjUlntHqP5WqNSWe0eo/lao1JZ7R6j+VqjUlntHqP5WqNSWe0eo/lao1JZ7R6j+VqjUlntHqP5WqNSWe0eo/lao1JZ7R6j+VqjUlntHqP5WqNSWe0eo/lao1JZ7R6j+VqjUlntHqP5WqNSWe0eo/lao1JZ7R6j+VqjUlntHqP5WqNSWe0eo/lao1JZ7R6j+VqjUlntHqP5WqNSWe0eo/lao1JZ7R6j+VqjUlntHqP5WqNSWe0eo/lao1JZ7R6j+VqjUlntHqP5WqNSWe0eo/lao1JZ7R6j+VqjUlntHqP5WqNSWe0eo/lao1JZ7R6j+VqjUlntHqP5WqNSWe0eo/lao1JZ7R6j+VqjUlntHqP5WqNSWe0eo/lao1JZ7R6j+VqjUlntHqP5WqNSWe0eo/lao1JZ7R6j+VqjUlntHqP5WqNSWe0eo/lao1JZ7R6j+VqjUlntHqP5WqNSWe0eo/lao1JZ7R6j/6mxBbVF3rP/qbEFtUXes/+psQW1Rd6z/6mxBbVF3rP/qbEFtUXes/+psQW1Rd6z/6mxBbVF3rP/qbEFtUXes/+psQW1Rd6z/6mxBbVF3rP/qbEFtUXes/+psQW1Rd6z/6mxBbVF3rP/qbEFtUXes/+psQW1Rd6z/6mxBbVF3rP/qbEFtUXes/+psQW1Rd6z/6mxBbVF3rP/qbEFtUXes/+psQW1Rd6z/6mxBbVF3rP/qbEFtUXes/+psQW1Rd6z/6mxBbVF3rP/qbEFtUXes/+psQW1Rd6z/6mxBbVF3rP/qbEFtUXes/+psQW1Rd6z/6mxBbVF3rP/qbEFtUXes/+psQW1Rd6z/6mxBbVF3rP/qbEFtUXes/+psQW1Rd6z/6mxBbVF3rP/qbEFtUXes/+psQW1Rd6z/6mxBbVF3rP/qbEFtUXes/+psQW1Rd6z/6mxBbVF3rP/qbEFtUXes/+psQW1Rd6z/6mxBbVF3rP/qbEFtUXes/+psQW1Rd6z/6mxBbVF3rP/qbEFtUXes/QExTw9fh6z9ATFPD1+HrP0BMU8PX4es/QExTw9fh6z9ATFPD1+HrP0BMU8PX4es/QExTw9fh6z9ATFPD1+HrP0BMU8PX4es/QExTw9fh6z9ATFPD1+HrP0BMU8PX4es/QExTw9fh6z9ATFPD1+HrP0BMU8PX4es/QExTw9fh6z9ATFPD1+HrP0BMU8PX4es/QExTw9fh6z9ATFPD1+HrP0BMU8PX4es/QExTw9fh6z9ATFPD1+HrP0BMU8PX4es/QExTw9fh6z9ATFPD1+HrP0BMU8PX4es/QExTw9fh6z9ATFPD1+HrP0BMU8PX4es/QExTw9fh6z9ATFPD1+HrP0BMU8PX4es/QExTw9fh6z9ATFPD1+HrP0BMU8PX4es/QExTw9fh6z9ATFPD1+HrP0BMU8PX4es/QExTw9fh6z9ATFPD1+HrP0BMU8PX4es/QExTw9fh6z9ATFPD1+HrP0BMU8PX4es/QExTw9fh6z9ATFPD1+HrP0BMU8PX4es/QExTw9fh6z9ATFPD1+HrP/7nMIIFX+w//ucwggVf7D/+5zCCBV/sP/7nMIIFX+w//ucwggVf7D/+5zCCBV/sP/7nMIIFX+w//ucwggVf7D/+5zCCBV/sP/7nMIIFX+w//ucwggVf7D/+5zCCBV/sP/7nMIIFX+w//ucwggVf7D/+5zCCBV/sP/7nMIIFX+w//ucwggVf7D/+5zCCBV/sP/7nMIIFX+w//ucwggVf7D/+5zCCBV/sP/7nMIIFX+w//ucwggVf7D/+5zCCBV/sP/7nMIIFX+w//ucwggVf7D/+5zCCBV/sP/7nMIIFX+w//ucwggVf7D/+5zCCBV/sP/7nMIIFX+w//ucwggVf7D/+5zCCBV/sP/7nMIIFX+w//ucwggVf7D/+5zCCBV/sP/7nMIIFX+w//ucwggVf7D/+5zCCBV/sP/7nMIIFX+w//ucwggVf7D/+5zCCBV/sP/7nMIIFX+w//ucwggVf7D/+5zCCBV/sP/7nMIIFX+w//ucwggVf7D/+5zCCBV/sP/7nMIIFX+w//ucwggVf7D9xXMupvNTsP3Fcy6m81Ow/cVzLqbzU7D9xXMupvNTsP3Fcy6m81Ow/cVzLqbzU7D9xXMupvNTsP3Fcy6m81Ow/cVzLqbzU7D9xXMupvNTsP3Fcy6m81Ow/cVzLqbzU7D9xXMupvNTsP3Fcy6m81Ow/cVzLqbzU7D9xXMupvNTsP3Fcy6m81Ow/cVzLqbzU7D9xXMupvNTsP3Fcy6m81Ow/cVzLqbzU7D9xXMupvNTsP3Fcy6m81Ow/cVzLqbzU7D9xXMupvNTsP3Fcy6m81Ow/cVzLqbzU7D9xXMupvNTsP3Fcy6m81Ow/cVzLqbzU7D9xXMupvNTsP3Fcy6m81Ow/cVzLqbzU7D9xXMupvNTsP3Fcy6m81Ow/cVzLqbzU7D9xXMupvNTsP3Fcy6m81Ow/cVzLqbzU7D9xXMupvNTsP3Fcy6m81Ow/cVzLqbzU7D9xXMupvNTsP3Fcy6m81Ow/cVzLqbzU7D9xXMupvNTsP3Fcy6m81Ow/cVzLqbzU7D9xXMupvNTsP3Fcy6m81Ow/NeHcQt5C7T814dxC3kLtPzXh3ELeQu0/NeHcQt5C7T814dxC3kLtPzXh3ELeQu0/NeHcQt5C7T814dxC3kLtPzXh3ELeQu0/NeHcQt5C7T814dxC3kLtPzXh3ELeQu0/NeHcQt5C7T814dxC3kLtPzXh3ELeQu0/NeHcQt5C7T814dxC3kLtPzXh3ELeQu0/NeHcQt5C7T814dxC3kLtPzXh3ELeQu0/NeHcQt5C7T814dxC3kLtPzXh3ELeQu0/NeHcQt5C7T814dxC3kLtPzXh3ELeQu0/NeHcQt5C7T814dxC3kLtPzXh3ELeQu0/NeHcQt5C7T814dxC3kLtPzXh3ELeQu0/NeHcQt5C7T814dxC3kLtPzXh3ELeQu0/NeHcQt5C7T814dxC3kLtPzXh3ELeQu0/NeHcQt5C7T814dxC3kLtPzXh3ELeQu0/NeHcQt5C7T814dxC3kLtPzXh3ELeQu0/NeHcQt5C7T814dxC3kLtPzXh3ELeQu0/NeHcQt5C7T814dxC3kLtPwhM3VRNqe0/CEzdVE2p7T8ITN1UTantPwhM3VRNqe0/CEzdVE2p7T8ITN1UTantPwhM3VRNqe0/CEzdVE2p7T8ITN1UTantPwhM3VRNqe0/CEzdVE2p7T8ITN1UTantPwhM3VRNqe0/CEzdVE2p7T8ITN1UTantPwhM3VRNqe0/CEzdVE2p7T8ITN1UTantPwhM3VRNqe0/CEzdVE2p7T8ITN1UTantPwhM3VRNqe0/CEzdVE2p7T8ITN1UTantPwhM3VRNqe0/CEzdVE2p7T8ITN1UTantPwhM3VRNqe0/CEzdVE2p7T8ITN1UTantPwhM3VRNqe0/CEzdVE2p7T8ITN1UTantPwhM3VRNqe0/CEzdVE2p7T8ITN1UTantPwhM3VRNqe0/CEzdVE2p7T8ITN1UTantPwhM3VRNqe0/CEzdVE2p7T8ITN1UTantPwhM3VRNqe0/CEzdVE2p7T8ITN1UTantPwhM3VRNqe0/CEzdVE2p7T8ITN1UTantPwhM3VRNqe0/CEzdVE2p7T/MCaHt7gfuP8wJoe3uB+4/zAmh7e4H7j/MCaHt7gfuP8wJoe3uB+4/zAmh7e4H7j/MCaHt7gfuP8wJoe3uB+4/zAmh7e4H7j/MCaHt7gfuP8wJoe3uB+4/zAmh7e4H7j/MCaHt7gfuP8wJoe3uB+4/zAmh7e4H7j/MCaHt7gfuP8wJoe3uB+4/zAmh7e4H7j/MCaHt7gfuP8wJoe3uB+4/zAmh7e4H7j/MCaHt7gfuP8wJoe3uB+4/zAmh7e4H7j/MCaHt7gfuP8wJoe3uB+4/zAmh7e4H7j/MCaHt7gfuP8wJoe3uB+4/zAmh7e4H7j/MCaHt7gfuP8wJoe3uB+4/zAmh7e4H7j/MCaHt7gfuP8wJoe3uB+4/zAmh7e4H7j/MCaHt7gfuP8wJoe3uB+4/zAmh7e4H7j/MCaHt7gfuP8wJoe3uB+4/zAmh7e4H7j/MCaHt7gfuP8wJoe3uB+4/zAmh7e4H7j/MCaHt7gfuP8wJoe3uB+4/zAmh7e4H7j/MCaHt7gfuP8wJoe3uB+4/xrtvKKpe7j/Gu28oql7uP8a7byiqXu4/xrtvKKpe7j/Gu28oql7uP8a7byiqXu4/xrtvKKpe7j/Gu28oql7uP8a7byiqXu4/xrtvKKpe7j/Gu28oql7uP8a7byiqXu4/xrtvKKpe7j/Gu28oql7uP8a7byiqXu4/xrtvKKpe7j/Gu28oql7uP8a7byiqXu4/xrtvKKpe7j/Gu28oql7uP8a7byiqXu4/xrtvKKpe7j/Gu28oql7uP8a7byiqXu4/xrtvKKpe7j/Gu28oql7uP8a7byiqXu4/xrtvKKpe7j/Gu28oql7uP8a7byiqXu4/xrtvKKpe7j/Gu28oql7uP8a7byiqXu4/xrtvKKpe7j/Gu28oql7uP8a7byiqXu4/xrtvKKpe7j/Gu28oql7uP8a7byiqXu4/xrtvKKpe7j/Gu28oql7uP8a7byiqXu4/xrtvKKpe7j/Gu28oql7uP8a7byiqXu4/xrtvKKpe7j/Gu28oql7uP8a7byiqXu4/xrtvKKpe7j/Gu28oql7uP5SbkDRore4/lJuQNGit7j+Um5A0aK3uP5SbkDRore4/lJuQNGit7j+Um5A0aK3uP5SbkDRore4/lJuQNGit7j+Um5A0aK3uP5SbkDRore4/lJuQNGit7j+Um5A0aK3uP5SbkDRore4/lJuQNGit7j+Um5A0aK3uP5SbkDRore4/lJuQNGit7j+Um5A0aK3uP5SbkDRore4/lJuQNGit7j+Um5A0aK3uP5SbkDRore4/lJuQNGit7j+Um5A0aK3uP5SbkDRore4/lJuQNGit7j+Um5A0aK3uP5SbkDRore4/lJuQNGit7j+Um5A0aK3uP5SbkDRore4/lJuQNGit7j+Um5A0aK3uP5SbkDRore4/lJuQNGit7j+Um5A0aK3uP5SbkDRore4/lJuQNGit7j+Um5A0aK3uP5SbkDRore4/lJuQNGit7j+Um5A0aK3uP5SbkDRore4/lJuQNGit7j+Um5A0aK3uP5SbkDRore4/lJuQNGit7j+Um5A0aK3uP5SbkDRore4/lJuQNGit7j//7EpbFPTuP//sSlsU9O4//+xKWxT07j//7EpbFPTuP//sSlsU9O4//+xKWxT07j//7EpbFPTuP//sSlsU9O4//+xKWxT07j//7EpbFPTuP//sSlsU9O4//+xKWxT07j//7EpbFPTuP//sSlsU9O4//+xKWxT07j//7EpbFPTuP//sSlsU9O4//+xKWxT07j//7EpbFPTuP//sSlsU9O4//+xKWxT07j//7EpbFPTuP//sSlsU9O4//+xKWxT07j//7EpbFPTuP//sSlsU9O4//+xKWxT07j//7EpbFPTuP//sSlsU9O4//+xKWxT07j//7EpbFPTuP//sSlsU9O4//+xKWxT07j//7EpbFPTuP//sSlsU9O4//+xKWxT07j//7EpbFPTuP//sSlsU9O4//+xKWxT07j//7EpbFPTuP//sSlsU9O4//+xKWxT07j//7EpbFPTuP//sSlsU9O4//+xKWxT07j//7EpbFPTuP//sSlsU9O4//+xKWxT07j//7EpbFPTuP//sSlsU9O4/aelYBZwy7z9p6VgFnDLvP2npWAWcMu8/aelYBZwy7z9p6VgFnDLvP2npWAWcMu8/aelYBZwy7z9p6VgFnDLvP2npWAWcMu8/aelYBZwy7z9p6VgFnDLvP2npWAWcMu8/aelYBZwy7z9p6VgFnDLvP2npWAWcMu8/aelYBZwy7z9p6VgFnDLvP2npWAWcMu8/aelYBZwy7z9p6VgFnDLvP2npWAWcMu8/aelYBZwy7z9p6VgFnDLvP2npWAWcMu8/aelYBZwy7z9p6VgFnDLvP2npWAWcMu8/aelYBZwy7z9p6VgFnDLvP2npWAWcMu8/aelYBZwy7z9p6VgFnDLvP2npWAWcMu8/aelYBZwy7z9p6VgFnDLvP2npWAWcMu8/aelYBZwy7z9p6VgFnDLvP2npWAWcMu8/aelYBZwy7z9p6VgFnDLvP2npWAWcMu8/aelYBZwy7z9p6VgFnDLvP2npWAWcMu8/aelYBZwy7z9p6VgFnDLvP2npWAWcMu8/aelYBZwy7z9p6VgFnDLvP+i1y7/uaO8/6LXLv+5o7z/otcu/7mjvP+i1y7/uaO8/6LXLv+5o7z/otcu/7mjvP+i1y7/uaO8/6LXLv+5o7z/otcu/7mjvP+i1y7/uaO8/6LXLv+5o7z/otcu/7mjvP+i1y7/uaO8/6LXLv+5o7z/otcu/7mjvP+i1y7/uaO8/6LXLv+5o7z/otcu/7mjvP+i1y7/uaO8/6LXLv+5o7z/otcu/7mjvP+i1y7/uaO8/6LXLv+5o7z/otcu/7mjvP+i1y7/uaO8/6LXLv+5o7z/otcu/7mjvP+i1y7/uaO8/6LXLv+5o7z/otcu/7mjvP+i1y7/uaO8/6LXLv+5o7z/otcu/7mjvP+i1y7/uaO8/6LXLv+5o7z/otcu/7mjvP+i1y7/uaO8/6LXLv+5o7z/otcu/7mjvP+i1y7/uaO8/6LXLv+5o7z/otcu/7mjvP+i1y7/uaO8/6LXLv+5o7z/otcu/7mjvP+i1y7/uaO8/6LXLv+5o7z/otcu/7mjvP+i1y7/uaO8/6LXLv+5o7z/GGl9A/pbvP8YaX0D+lu8/xhpfQP6W7z/GGl9A/pbvP8YaX0D+lu8/xhpfQP6W7z/GGl9A/pbvP8YaX0D+lu8/xhpfQP6W7z/GGl9A/pbvP8YaX0D+lu8/xhpfQP6W7z/GGl9A/pbvP8YaX0D+lu8/xhpfQP6W7z/GGl9A/pbvP8YaX0D+lu8/xhpfQP6W7z/GGl9A/pbvP8YaX0D+lu8/xhpfQP6W7z/GGl9A/pbvP8YaX0D+lu8/xhpfQP6W7z/GGl9A/pbvP8YaX0D+lu8/xhpfQP6W7z/GGl9A/pbvP8YaX0D+lu8/xhpfQP6W7z/GGl9A/pbvP8YaX0D+lu8/xhpfQP6W7z/GGl9A/pbvP8YaX0D+lu8/xhpfQP6W7z/GGl9A/pbvP8YaX0D+lu8/xhpfQP6W7z/GGl9A/pbvP8YaX0D+lu8/xhpfQP6W7z/GGl9A/pbvP8YaX0D+lu8/xhpfQP6W7z/GGl9A/pbvP8YaX0D+lu8/xhpfQP6W7z/GGl9A/pbvP8YaX0D+lu8/7Ng7ab687z/s2DtpvrzvP+zYO2m+vO8/7Ng7ab687z/s2DtpvrzvP+zYO2m+vO8/7Ng7ab687z/s2DtpvrzvP+zYO2m+vO8/7Ng7ab687z/s2DtpvrzvP+zYO2m+vO8/7Ng7ab687z/s2DtpvrzvP+zYO2m+vO8/7Ng7ab687z/s2DtpvrzvP+zYO2m+vO8/7Ng7ab687z/s2DtpvrzvP+zYO2m+vO8/7Ng7ab687z/s2DtpvrzvP+zYO2m+vO8/7Ng7ab687z/s2DtpvrzvP+zYO2m+vO8/7Ng7ab687z/s2DtpvrzvP+zYO2m+vO8/7Ng7ab687z/s2DtpvrzvP+zYO2m+vO8/7Ng7ab687z/s2DtpvrzvP+zYO2m+vO8/7Ng7ab687z/s2DtpvrzvP+zYO2m+vO8/7Ng7ab687z/s2DtpvrzvP+zYO2m+vO8/7Ng7ab687z/s2DtpvrzvP+zYO2m+vO8/7Ng7ab687z/s2DtpvrzvP+zYO2m+vO8/7Ng7ab687z/s2DtpvrzvPyCgJ0wl2u8/IKAnTCXa7z8goCdMJdrvPyCgJ0wl2u8/IKAnTCXa7z8goCdMJdrvPyCgJ0wl2u8/IKAnTCXa7z8goCdMJdrvPyCgJ0wl2u8/IKAnTCXa7z8goCdMJdrvPyCgJ0wl2u8/IKAnTCXa7z8goCdMJdrvPyCgJ0wl2u8/IKAnTCXa7z8goCdMJdrvPyCgJ0wl2u8/IKAnTCXa7z8goCdMJdrvPyCgJ0wl2u8/IKAnTCXa7z8goCdMJdrvPyCgJ0wl2u8/IKAnTCXa7z8goCdMJdrvPyCgJ0wl2u8/IKAnTCXa7z8goCdMJdrvPyCgJ0wl2u8/IKAnTCXa7z8goCdMJdrvPyCgJ0wl2u8/IKAnTCXa7z8goCdMJdrvPyCgJ0wl2u8/IKAnTCXa7z8goCdMJdrvPyCgJ0wl2u8/IKAnTCXa7z8goCdMJdrvPyCgJ0wl2u8/IKAnTCXa7z8goCdMJdrvPyCgJ0wl2u8/IKAnTCXa7z8goCdMJdrvPyCgJ0wl2u8/IKAnTCXa7z9szyEtK+/vP2zPIS0r7+8/bM8hLSvv7z9szyEtK+/vP2zPIS0r7+8/bM8hLSvv7z9szyEtK+/vP2zPIS0r7+8/bM8hLSvv7z9szyEtK+/vP2zPIS0r7+8/bM8hLSvv7z9szyEtK+/vP2zPIS0r7+8/bM8hLSvv7z9szyEtK+/vP2zPIS0r7+8/bM8hLSvv7z9szyEtK+/vP2zPIS0r7+8/bM8hLSvv7z9szyEtK+/vP2zPIS0r7+8/bM8hLSvv7z9szyEtK+/vP2zPIS0r7+8/bM8hLSvv7z9szyEtK+/vP2zPIS0r7+8/bM8hLSvv7z9szyEtK+/vP2zPIS0r7+8/bM8hLSvv7z9szyEtK+/vP2zPIS0r7+8/bM8hLSvv7z9szyEtK+/vP2zPIS0r7+8/bM8hLSvv7z9szyEtK+/vP2zPIS0r7+8/bM8hLSvv7z9szyEtK+/vP2zPIS0r7+8/bM8hLSvv7z9szyEtK+/vP2zPIS0r7+8/bM8hLSvv7z9szyEtK+/vP2zPIS0r7+8/yk9shMr77z/KT2yEyvvvP8pPbITK++8/yk9shMr77z/KT2yEyvvvP8pPbITK++8/yk9shMr77z/KT2yEyvvvP8pPbITK++8/yk9shMr77z/KT2yEyvvvP8pPbITK++8/yk9shMr77z/KT2yEyvvvP8pPbITK++8/yk9shMr77z/KT2yEyvvvP8pPbITK++8/yk9shMr77z/KT2yEyvvvP8pPbITK++8/yk9shMr77z/KT2yEyvvvP8pPbITK++8/yk9shMr77z/KT2yEyvvvP8pPbITK++8/yk9shMr77z/KT2yEyvvvP8pPbITK++8/yk9shMr77z/KT2yEyvvvP8pPbITK++8/yk9shMr77z/KT2yEyvvvP8pPbITK++8/yk9shMr77z/KT2yEyvvvP8pPbITK++8/yk9shMr77z/KT2yEyvvvP8pPbITK++8/yk9shMr77z/KT2yEyvvvP8pPbITK++8/yk9shMr77z/KT2yEyvvvP8pPbITK++8/yk9shMr77z/KT2yEyvvvPwAAAAAAAPA/AAAAAAAA8D8AAAAAAADwPwAAAAAAAPA/AAAAAAAA8D8AAAAAAADwPwAAAAAAAPA/AAAAAAAA8D8AAAAAAADwPwAAAAAAAPA/AAAAAAAA8D8AAAAAAADwPwAAAAAAAPA/AAAAAAAA8D8AAAAAAADwPwAAAAAAAPA/AAAAAAAA8D8AAAAAAADwPwAAAAAAAPA/AAAAAAAA8D8AAAAAAADwPwAAAAAAAPA/AAAAAAAA8D8AAAAAAADwPwAAAAAAAPA/AAAAAAAA8D8AAAAAAADwPwAAAAAAAPA/AAAAAAAA8D8AAAAAAADwPwAAAAAAAPA/AAAAAAAA8D8AAAAAAADwPwAAAAAAAPA/AAAAAAAA8D8AAAAAAADwPwAAAAAAAPA/AAAAAAAA8D8AAAAAAADwPwAAAAAAAPA/AAAAAAAA8D8AAAAAAADwPwAAAAAAAPA/AAAAAAAA8D8AAAAAAADwPwAAAAAAAPA/AAAAAAAA8D8AAAAAAADwPwAAAAAAAPA/AAAAAAAA8D8=",
          "dtype": "f8",
          "shape": "50, 50"
         }
        },
        {
         "marker": {
          "color": "blue",
          "size": 8
         },
         "mode": "markers+text",
         "name": "Learning Phase Points",
         "scene": "scene",
         "text": [
          "L1",
          "L2",
          "L3",
          "L4"
         ],
         "type": "scatter3d",
         "x": {
          "bdata": "uA/tvyrpajwuPU4Ktqk+PC49Tgq2qT48FsdI5fGlyz8=",
          "dtype": "f8"
         },
         "y": {
          "bdata": "AAAAAAAAAACgF0SzObziP5bHjgLmAvA/+d/xIbAa7z8=",
          "dtype": "f8"
         },
         "z": {
          "bdata": "UxwtW4sL8D8TISwutzrqPwAAAAAAAAAAFsdI5fGluz8=",
          "dtype": "f8"
         }
        },
        {
         "marker": {
          "color": "red",
          "size": 8
         },
         "mode": "markers+text",
         "name": "Decision Phase Points",
         "scene": "scene",
         "text": [
          "D1",
          "D2",
          "D3"
         ],
         "type": "scatter3d",
         "x": {
          "bdata": "K1lbdyYxzj8rWVt3JjHOPytZW3cmMc4/",
          "dtype": "f8"
         },
         "y": {
          "bdata": "K1lbdyYx7j8rWVt3JjHuPytZW3cmMe4/",
          "dtype": "f8"
         },
         "z": {
          "bdata": "K1lbdyYxzj8rWVt3JjHOPytZW3cmMc4/",
          "dtype": "f8"
         }
        },
        {
         "line": {
          "color": "blue",
          "width": 2
         },
         "marker": {
          "color": "blue",
          "size": 4
         },
         "mode": "lines+markers",
         "name": "Learning Range 1",
         "scene": "scene2",
         "type": "scatter3d",
         "x": {
          "bdata": "5kw9wI42Dz7mTD3AjjYPPuZMPcCONg8+5kw9wI42Dz7mTD3AjjYPPuZMPcCONg8+5kw9wI42Dz7mTD3AjjYPPg==",
          "dtype": "f8"
         },
         "y": {
          "bdata": "14eSgpZjqTzXh5KClmOpPNeHkoKWY6k814eSgpZjqTzXh5KClmOpPNeHkoKWY6k814eSgpZjqTzXh5KClmOpPA==",
          "dtype": "f8"
         },
         "z": {
          "bdata": "k8Hxqc0B8D+TwfGpzQHwP5PB8anNAfA/k8Hxqc0B8D+TwfGpzQHwP5PB8anNAfA/k8Hxqc0B8D+TwfGpzQHwPw==",
          "dtype": "f8"
         }
        },
        {
         "line": {
          "color": "blue",
          "width": 2
         },
         "marker": {
          "color": "blue",
          "size": 4
         },
         "mode": "lines+markers",
         "name": "Learning Range 2",
         "scene": "scene2",
         "type": "scatter3d",
         "x": {
          "bdata": "5kw9wI42Dz7mTD3AjjYPPuZMPcCONg8+5kw9wI42Dz7mTD3AjjYPPuZMPcCONg8+5kw9wI42Dz7mTD3AjjYPPg==",
          "dtype": "f8"
         },
         "y": {
          "bdata": "GIap1YG07z8YhqnVgbTvPxiGqdWBtO8/GIap1YG07z8YhqnVgbTvPxiGqdWBtO8/GIap1YG07z8YhqnVgbTvPw==",
          "dtype": "f8"
         },
         "z": {
          "bdata": "AAAAAAAAAAALNgoJTq2RPAAAAAAAAAAACzYKCU6tkTwAAAAAAAAAAAs2CglOrZE8AAAAAAAAAAALNgoJTq2RPA==",
          "dtype": "f8"
         }
        },
        {
         "line": {
          "color": "blue",
          "width": 2
         },
         "marker": {
          "color": "blue",
          "size": 4
         },
         "mode": "lines+markers",
         "name": "Learning Range 3",
         "scene": "scene2",
         "type": "scatter3d",
         "x": {
          "bdata": "5kw9wI42Dz7mTD3AjjYPPuZMPcCONg8+5kw9wI42Dz78jGLP+TmmP/yMYs/5OaY//Ixiz/k5pj/8jGLP+TmmPw==",
          "dtype": "f8"
         },
         "y": {
          "bdata": "Vmn+y32iwz9Waf7LfaLDP9Svr7N6v84/1K+vs3q/zj9Waf7LfaLDP1Zp/st9osM/1K+vs3q/zj/Ur6+zer/OPw==",
          "dtype": "f8"
         },
         "z": {
          "bdata": "66bWspsZ7j9FfGF2bXDwP+um1rKbGe4/RXxhdm1w8D/rptaymxnuP0V8YXZtcPA/66bWspsZ7j9FfGF2bXDwPw==",
          "dtype": "f8"
         }
        },
        {
         "line": {
          "color": "blue",
          "width": 2
         },
         "marker": {
          "color": "blue",
          "size": 4
         },
         "mode": "lines+markers",
         "name": "Learning Range 4",
         "scene": "scene2",
         "type": "scatter3d",
         "x": {
          "bdata": "dFljzxvmoz90WWPPG+ajP3RZY88b5qM/dFljzxvmoz9nA0AEmVfBP2cDQASZV8E/ZwNABJlXwT9nA0AEmVfBPw==",
          "dtype": "f8"
         },
         "y": {
          "bdata": "4MGgGLi15T/gwaAYuLXlPzT1XsOwaOs/NPVew7Bo6z/gwaAYuLXlP+DBoBi4teU/NPVew7Bo6z809V7DsGjrPw==",
          "dtype": "f8"
         },
         "z": {
          "bdata": "nnJLBtqd4T/ypQmx0lDnP55ySwbaneE/8qUJsdJQ5z+ecksG2p3hP/KlCbHSUOc/nnJLBtqd4T/ypQmx0lDnPw==",
          "dtype": "f8"
         }
        },
        {
         "line": {
          "color": "red",
          "width": 2
         },
         "marker": {
          "color": "red",
          "size": 4
         },
         "mode": "lines+markers",
         "name": "Decision Range 1",
         "scene": "scene2",
         "type": "scatter3d",
         "x": {
          "bdata": "5kw9wI42Dz7mTD3AjjYPPuZMPcCONg8+5kw9wI42Dz7mTD3AjjYPPuZMPcCONg8+5kw9wI42Dz7mTD3AjjYPPg==",
          "dtype": "f8"
         },
         "y": {
          "bdata": "gLVLfBpxyD+AtUt8GnHIP4AWw1SQGsk/gBbDVJAayT+AtUt8GnHIP4C1S3waccg/gBbDVJAayT+AFsNUkBrJPw==",
          "dtype": "f8"
         },
         "z": {
          "bdata": "4QPW89Y27z8h3PNpNGHvP+ED1vPWNu8/IdzzaTRh7z/hA9bz1jbvPyHc82k0Ye8/4QPW89Y27z8h3PNpNGHvPw==",
          "dtype": "f8"
         }
        },
        {
         "line": {
          "color": "red",
          "width": 2
         },
         "marker": {
          "color": "red",
          "size": 4
         },
         "mode": "lines+markers",
         "name": "Decision Range 2",
         "scene": "scene2",
         "type": "scatter3d",
         "x": {
          "bdata": "5kw9wI42Dz7mTD3AjjYPPuZMPcCONg8+5kw9wI42Dz7mTD3AjjYPPuZMPcCONg8+5kw9wI42Dz7mTD3AjjYPPg==",
          "dtype": "f8"
         },
         "y": {
          "bdata": "DpVpY+LPyD8OlWlj4s/IP4AWw1SQGsk/gBbDVJAayT8OlWlj4s/IPw6VaWPiz8g/gBbDVJAayT+AFsNUkBrJPw==",
          "dtype": "f8"
         },
         "z": {
          "bdata": "xXud7YhO7z8h3PNpNGHvP8V7ne2ITu8/IdzzaTRh7z/Fe53tiE7vPyHc82k0Ye8/xXud7YhO7z8h3PNpNGHvPw==",
          "dtype": "f8"
         }
        },
        {
         "line": {
          "color": "red",
          "width": 2
         },
         "marker": {
          "color": "red",
          "size": 4
         },
         "mode": "lines+markers",
         "name": "Decision Range 3",
         "scene": "scene2",
         "type": "scatter3d",
         "x": {
          "bdata": "5kw9wI42Dz7mTD3AjjYPPuZMPcCONg8+5kw9wI42Dz7mTD3AjjYPPuZMPcCONg8+5kw9wI42Dz7mTD3AjjYPPg==",
          "dtype": "f8"
         },
         "y": {
          "bdata": "DpVpY+LPyD8OlWlj4s/IP4AWw1SQGsk/gBbDVJAayT8OlWlj4s/IPw6VaWPiz8g/gBbDVJAayT+AFsNUkBrJPw==",
          "dtype": "f8"
         },
         "z": {
          "bdata": "xXud7YhO7z8h3PNpNGHvP8V7ne2ITu8/IdzzaTRh7z/Fe53tiE7vPyHc82k0Ye8/xXud7YhO7z8h3PNpNGHvPw==",
          "dtype": "f8"
         }
        },
        {
         "marker": {
          "color": "blue",
          "size": 8
         },
         "mode": "markers+text",
         "name": "Learning Solution 1",
         "scene": "scene3",
         "text": [
          "L1_1"
         ],
         "type": "scatter3d",
         "x": {
          "bdata": "SwVdPdSqkTw=",
          "dtype": "f8"
         },
         "y": {
          "bdata": "1Xc0Gj4E8D8=",
          "dtype": "f8"
         },
         "z": {
          "bdata": "AAAAAAAAAAA=",
          "dtype": "f8"
         }
        },
        {
         "marker": {
          "color": "blue",
          "size": 8
         },
         "mode": "markers+text",
         "name": "Learning Solution 2",
         "scene": "scene3",
         "text": [
          "L2_1"
         ],
         "type": "scatter3d",
         "x": {
          "bdata": "dJIbJSoI8D8=",
          "dtype": "f8"
         },
         "y": {
          "bdata": "AAAAAAAAAAA=",
          "dtype": "f8"
         },
         "z": {
          "bdata": "AAAAAAAAAAA=",
          "dtype": "f8"
         }
        },
        {
         "marker": {
          "color": "blue",
          "size": 8
         },
         "mode": "markers+text",
         "name": "Learning Solution 3",
         "scene": "scene3",
         "text": [
          "L3_1",
          "L3_2"
         ],
         "type": "scatter3d",
         "x": {
          "bdata": "/d5oG0jjtT8VsNKNQECwPw==",
          "dtype": "f8"
         },
         "y": {
          "bdata": "HWAy85mG7z8Sl2WD63HvPw==",
          "dtype": "f8"
         },
         "z": {
          "bdata": "3ktoNkPExD8u1HcF7X7HPw==",
          "dtype": "f8"
         }
        },
        {
         "marker": {
          "color": "blue",
          "size": 8
         },
         "mode": "markers+text",
         "name": "Learning Solution 4",
         "scene": "scene3",
         "text": [
          "L4_1"
         ],
         "type": "scatter3d",
         "x": {
          "bdata": "F4jOOQ0FsD8=",
          "dtype": "f8"
         },
         "y": {
          "bdata": "117coUNI7T8=",
          "dtype": "f8"
         },
         "z": {
          "bdata": "D/ENrQHh2T8=",
          "dtype": "f8"
         }
        },
        {
         "marker": {
          "color": "red",
          "size": 8
         },
         "mode": "markers+text",
         "name": "Decision Solution 1",
         "scene": "scene3",
         "text": [
          "D1_1",
          "D1_2",
          "D1_3",
          "D1_4"
         ],
         "type": "scatter3d",
         "x": {
          "bdata": "pLphN7TRwD/zVIAw6uXCP9b/e5ayEa4/kztFOseSwz8=",
          "dtype": "f8"
         },
         "y": {
          "bdata": "dK1c+xCZ7j9VqfGPuSPvP3zF0IgPSe8/biTa1gSr7j8=",
          "dtype": "f8"
         },
         "z": {
          "bdata": "+ORVg5vL0D8HRNiqO+DGPwhPLvyjIco/dWoE7TQnzz8=",
          "dtype": "f8"
         }
        },
        {
         "marker": {
          "color": "red",
          "size": 8
         },
         "mode": "markers+text",
         "name": "Decision Solution 2",
         "scene": "scene3",
         "text": [
          "D2_1",
          "D2_2",
          "D2_3",
          "D2_4"
         ],
         "type": "scatter3d",
         "x": {
          "bdata": "pLphN7TRwD89Jy9Ov1rCP+X2VaVvxL4/81SAMOrlwj8=",
          "dtype": "f8"
         },
         "y": {
          "bdata": "dK1c+xCZ7j+LJfbjZv3uP1EAhIehJu8/Vanxj7kj7z8=",
          "dtype": "f8"
         },
         "z": {
          "bdata": "+ORVg5vL0D+m9Qt6hkzKPwmEJAjoIsk/B0TYqjvgxj8=",
          "dtype": "f8"
         }
        },
        {
         "marker": {
          "color": "red",
          "size": 8
         },
         "mode": "markers+text",
         "name": "Decision Solution 3",
         "scene": "scene3",
         "text": [
          "D3_1",
          "D3_2",
          "D3_3",
          "D3_4"
         ],
         "type": "scatter3d",
         "x": {
          "bdata": "pLphN7TRwD89Jy9Ov1rCP+X2VaVvxL4/Es9iZCAduz8=",
          "dtype": "f8"
         },
         "y": {
          "bdata": "dK1c+xCZ7j+LJfbjZv3uP1EAhIehJu8/JWvQwzf67j8=",
          "dtype": "f8"
         },
         "z": {
          "bdata": "+ORVg5vL0D+m9Qt6hkzKPwmEJAjoIsk/8gC8z4dIzT8=",
          "dtype": "f8"
         }
        }
       ],
       "layout": {
        "annotations": [
         {
          "font": {
           "size": 16
          },
          "showarrow": false,
          "text": "Reference Points",
          "x": 0.14444444444444446,
          "xanchor": "center",
          "xref": "paper",
          "y": 1,
          "yanchor": "bottom",
          "yref": "paper"
         },
         {
          "font": {
           "size": 16
          },
          "showarrow": false,
          "text": "Preferred Ranges",
          "x": 0.5,
          "xanchor": "center",
          "xref": "paper",
          "y": 1,
          "yanchor": "bottom",
          "yref": "paper"
         },
         {
          "font": {
           "size": 16
          },
          "showarrow": false,
          "text": "Preferred Solutions",
          "x": 0.8555555555555556,
          "xanchor": "center",
          "xref": "paper",
          "y": 1,
          "yanchor": "bottom",
          "yref": "paper"
         }
        ],
        "height": 600,
        "scene": {
         "aspectmode": "cube",
         "camera": {
          "center": {
           "x": 0,
           "y": 0,
           "z": 0
          },
          "eye": {
           "x": 1.5,
           "y": 1.5,
           "z": 1.5
          },
          "up": {
           "x": 0,
           "y": 0,
           "z": 1
          }
         },
         "domain": {
          "x": [
           0,
           0.2888888888888889
          ],
          "y": [
           0,
           1
          ]
         },
         "xaxis": {
          "range": [
           0,
           1.1
          ],
          "title": {
           "text": "f1"
          }
         },
         "yaxis": {
          "range": [
           0,
           1.1
          ],
          "title": {
           "text": "f2"
          }
         },
         "zaxis": {
          "range": [
           0,
           1.1
          ],
          "title": {
           "text": "f3"
          }
         }
        },
        "scene2": {
         "aspectmode": "cube",
         "camera": {
          "center": {
           "x": 0,
           "y": 0,
           "z": 0
          },
          "eye": {
           "x": 1.5,
           "y": 1.5,
           "z": 1.5
          },
          "up": {
           "x": 0,
           "y": 0,
           "z": 1
          }
         },
         "domain": {
          "x": [
           0.35555555555555557,
           0.6444444444444445
          ],
          "y": [
           0,
           1
          ]
         },
         "xaxis": {
          "range": [
           0,
           1.1
          ],
          "title": {
           "text": "f1"
          }
         },
         "yaxis": {
          "range": [
           0,
           1.1
          ],
          "title": {
           "text": "f2"
          }
         },
         "zaxis": {
          "range": [
           0,
           1.1
          ],
          "title": {
           "text": "f3"
          }
         }
        },
        "scene3": {
         "aspectmode": "cube",
         "camera": {
          "center": {
           "x": 0,
           "y": 0,
           "z": 0
          },
          "eye": {
           "x": 1.5,
           "y": 1.5,
           "z": 1.5
          },
          "up": {
           "x": 0,
           "y": 0,
           "z": 1
          }
         },
         "domain": {
          "x": [
           0.7111111111111111,
           1
          ],
          "y": [
           0,
           1
          ]
         },
         "xaxis": {
          "range": [
           0,
           1.1
          ],
          "title": {
           "text": "f1"
          }
         },
         "yaxis": {
          "range": [
           0,
           1.1
          ],
          "title": {
           "text": "f2"
          }
         },
         "zaxis": {
          "range": [
           0,
           1.1
          ],
          "title": {
           "text": "f3"
          }
         }
        },
        "showlegend": true,
        "template": {
         "data": {
          "bar": [
           {
            "error_x": {
             "color": "#2a3f5f"
            },
            "error_y": {
             "color": "#2a3f5f"
            },
            "marker": {
             "line": {
              "color": "#E5ECF6",
              "width": 0.5
             },
             "pattern": {
              "fillmode": "overlay",
              "size": 10,
              "solidity": 0.2
             }
            },
            "type": "bar"
           }
          ],
          "barpolar": [
           {
            "marker": {
             "line": {
              "color": "#E5ECF6",
              "width": 0.5
             },
             "pattern": {
              "fillmode": "overlay",
              "size": 10,
              "solidity": 0.2
             }
            },
            "type": "barpolar"
           }
          ],
          "carpet": [
           {
            "aaxis": {
             "endlinecolor": "#2a3f5f",
             "gridcolor": "white",
             "linecolor": "white",
             "minorgridcolor": "white",
             "startlinecolor": "#2a3f5f"
            },
            "baxis": {
             "endlinecolor": "#2a3f5f",
             "gridcolor": "white",
             "linecolor": "white",
             "minorgridcolor": "white",
             "startlinecolor": "#2a3f5f"
            },
            "type": "carpet"
           }
          ],
          "choropleth": [
           {
            "colorbar": {
             "outlinewidth": 0,
             "ticks": ""
            },
            "type": "choropleth"
           }
          ],
          "contour": [
           {
            "colorbar": {
             "outlinewidth": 0,
             "ticks": ""
            },
            "colorscale": [
             [
              0,
              "#0d0887"
             ],
             [
              0.1111111111111111,
              "#46039f"
             ],
             [
              0.2222222222222222,
              "#7201a8"
             ],
             [
              0.3333333333333333,
              "#9c179e"
             ],
             [
              0.4444444444444444,
              "#bd3786"
             ],
             [
              0.5555555555555556,
              "#d8576b"
             ],
             [
              0.6666666666666666,
              "#ed7953"
             ],
             [
              0.7777777777777778,
              "#fb9f3a"
             ],
             [
              0.8888888888888888,
              "#fdca26"
             ],
             [
              1,
              "#f0f921"
             ]
            ],
            "type": "contour"
           }
          ],
          "contourcarpet": [
           {
            "colorbar": {
             "outlinewidth": 0,
             "ticks": ""
            },
            "type": "contourcarpet"
           }
          ],
          "heatmap": [
           {
            "colorbar": {
             "outlinewidth": 0,
             "ticks": ""
            },
            "colorscale": [
             [
              0,
              "#0d0887"
             ],
             [
              0.1111111111111111,
              "#46039f"
             ],
             [
              0.2222222222222222,
              "#7201a8"
             ],
             [
              0.3333333333333333,
              "#9c179e"
             ],
             [
              0.4444444444444444,
              "#bd3786"
             ],
             [
              0.5555555555555556,
              "#d8576b"
             ],
             [
              0.6666666666666666,
              "#ed7953"
             ],
             [
              0.7777777777777778,
              "#fb9f3a"
             ],
             [
              0.8888888888888888,
              "#fdca26"
             ],
             [
              1,
              "#f0f921"
             ]
            ],
            "type": "heatmap"
           }
          ],
          "histogram": [
           {
            "marker": {
             "pattern": {
              "fillmode": "overlay",
              "size": 10,
              "solidity": 0.2
             }
            },
            "type": "histogram"
           }
          ],
          "histogram2d": [
           {
            "colorbar": {
             "outlinewidth": 0,
             "ticks": ""
            },
            "colorscale": [
             [
              0,
              "#0d0887"
             ],
             [
              0.1111111111111111,
              "#46039f"
             ],
             [
              0.2222222222222222,
              "#7201a8"
             ],
             [
              0.3333333333333333,
              "#9c179e"
             ],
             [
              0.4444444444444444,
              "#bd3786"
             ],
             [
              0.5555555555555556,
              "#d8576b"
             ],
             [
              0.6666666666666666,
              "#ed7953"
             ],
             [
              0.7777777777777778,
              "#fb9f3a"
             ],
             [
              0.8888888888888888,
              "#fdca26"
             ],
             [
              1,
              "#f0f921"
             ]
            ],
            "type": "histogram2d"
           }
          ],
          "histogram2dcontour": [
           {
            "colorbar": {
             "outlinewidth": 0,
             "ticks": ""
            },
            "colorscale": [
             [
              0,
              "#0d0887"
             ],
             [
              0.1111111111111111,
              "#46039f"
             ],
             [
              0.2222222222222222,
              "#7201a8"
             ],
             [
              0.3333333333333333,
              "#9c179e"
             ],
             [
              0.4444444444444444,
              "#bd3786"
             ],
             [
              0.5555555555555556,
              "#d8576b"
             ],
             [
              0.6666666666666666,
              "#ed7953"
             ],
             [
              0.7777777777777778,
              "#fb9f3a"
             ],
             [
              0.8888888888888888,
              "#fdca26"
             ],
             [
              1,
              "#f0f921"
             ]
            ],
            "type": "histogram2dcontour"
           }
          ],
          "mesh3d": [
           {
            "colorbar": {
             "outlinewidth": 0,
             "ticks": ""
            },
            "type": "mesh3d"
           }
          ],
          "parcoords": [
           {
            "line": {
             "colorbar": {
              "outlinewidth": 0,
              "ticks": ""
             }
            },
            "type": "parcoords"
           }
          ],
          "pie": [
           {
            "automargin": true,
            "type": "pie"
           }
          ],
          "scatter": [
           {
            "fillpattern": {
             "fillmode": "overlay",
             "size": 10,
             "solidity": 0.2
            },
            "type": "scatter"
           }
          ],
          "scatter3d": [
           {
            "line": {
             "colorbar": {
              "outlinewidth": 0,
              "ticks": ""
             }
            },
            "marker": {
             "colorbar": {
              "outlinewidth": 0,
              "ticks": ""
             }
            },
            "type": "scatter3d"
           }
          ],
          "scattercarpet": [
           {
            "marker": {
             "colorbar": {
              "outlinewidth": 0,
              "ticks": ""
             }
            },
            "type": "scattercarpet"
           }
          ],
          "scattergeo": [
           {
            "marker": {
             "colorbar": {
              "outlinewidth": 0,
              "ticks": ""
             }
            },
            "type": "scattergeo"
           }
          ],
          "scattergl": [
           {
            "marker": {
             "colorbar": {
              "outlinewidth": 0,
              "ticks": ""
             }
            },
            "type": "scattergl"
           }
          ],
          "scattermap": [
           {
            "marker": {
             "colorbar": {
              "outlinewidth": 0,
              "ticks": ""
             }
            },
            "type": "scattermap"
           }
          ],
          "scattermapbox": [
           {
            "marker": {
             "colorbar": {
              "outlinewidth": 0,
              "ticks": ""
             }
            },
            "type": "scattermapbox"
           }
          ],
          "scatterpolar": [
           {
            "marker": {
             "colorbar": {
              "outlinewidth": 0,
              "ticks": ""
             }
            },
            "type": "scatterpolar"
           }
          ],
          "scatterpolargl": [
           {
            "marker": {
             "colorbar": {
              "outlinewidth": 0,
              "ticks": ""
             }
            },
            "type": "scatterpolargl"
           }
          ],
          "scatterternary": [
           {
            "marker": {
             "colorbar": {
              "outlinewidth": 0,
              "ticks": ""
             }
            },
            "type": "scatterternary"
           }
          ],
          "surface": [
           {
            "colorbar": {
             "outlinewidth": 0,
             "ticks": ""
            },
            "colorscale": [
             [
              0,
              "#0d0887"
             ],
             [
              0.1111111111111111,
              "#46039f"
             ],
             [
              0.2222222222222222,
              "#7201a8"
             ],
             [
              0.3333333333333333,
              "#9c179e"
             ],
             [
              0.4444444444444444,
              "#bd3786"
             ],
             [
              0.5555555555555556,
              "#d8576b"
             ],
             [
              0.6666666666666666,
              "#ed7953"
             ],
             [
              0.7777777777777778,
              "#fb9f3a"
             ],
             [
              0.8888888888888888,
              "#fdca26"
             ],
             [
              1,
              "#f0f921"
             ]
            ],
            "type": "surface"
           }
          ],
          "table": [
           {
            "cells": {
             "fill": {
              "color": "#EBF0F8"
             },
             "line": {
              "color": "white"
             }
            },
            "header": {
             "fill": {
              "color": "#C8D4E3"
             },
             "line": {
              "color": "white"
             }
            },
            "type": "table"
           }
          ]
         },
         "layout": {
          "annotationdefaults": {
           "arrowcolor": "#2a3f5f",
           "arrowhead": 0,
           "arrowwidth": 1
          },
          "autotypenumbers": "strict",
          "coloraxis": {
           "colorbar": {
            "outlinewidth": 0,
            "ticks": ""
           }
          },
          "colorscale": {
           "diverging": [
            [
             0,
             "#8e0152"
            ],
            [
             0.1,
             "#c51b7d"
            ],
            [
             0.2,
             "#de77ae"
            ],
            [
             0.3,
             "#f1b6da"
            ],
            [
             0.4,
             "#fde0ef"
            ],
            [
             0.5,
             "#f7f7f7"
            ],
            [
             0.6,
             "#e6f5d0"
            ],
            [
             0.7,
             "#b8e186"
            ],
            [
             0.8,
             "#7fbc41"
            ],
            [
             0.9,
             "#4d9221"
            ],
            [
             1,
             "#276419"
            ]
           ],
           "sequential": [
            [
             0,
             "#0d0887"
            ],
            [
             0.1111111111111111,
             "#46039f"
            ],
            [
             0.2222222222222222,
             "#7201a8"
            ],
            [
             0.3333333333333333,
             "#9c179e"
            ],
            [
             0.4444444444444444,
             "#bd3786"
            ],
            [
             0.5555555555555556,
             "#d8576b"
            ],
            [
             0.6666666666666666,
             "#ed7953"
            ],
            [
             0.7777777777777778,
             "#fb9f3a"
            ],
            [
             0.8888888888888888,
             "#fdca26"
            ],
            [
             1,
             "#f0f921"
            ]
           ],
           "sequentialminus": [
            [
             0,
             "#0d0887"
            ],
            [
             0.1111111111111111,
             "#46039f"
            ],
            [
             0.2222222222222222,
             "#7201a8"
            ],
            [
             0.3333333333333333,
             "#9c179e"
            ],
            [
             0.4444444444444444,
             "#bd3786"
            ],
            [
             0.5555555555555556,
             "#d8576b"
            ],
            [
             0.6666666666666666,
             "#ed7953"
            ],
            [
             0.7777777777777778,
             "#fb9f3a"
            ],
            [
             0.8888888888888888,
             "#fdca26"
            ],
            [
             1,
             "#f0f921"
            ]
           ]
          },
          "colorway": [
           "#636efa",
           "#EF553B",
           "#00cc96",
           "#ab63fa",
           "#FFA15A",
           "#19d3f3",
           "#FF6692",
           "#B6E880",
           "#FF97FF",
           "#FECB52"
          ],
          "font": {
           "color": "#2a3f5f"
          },
          "geo": {
           "bgcolor": "white",
           "lakecolor": "white",
           "landcolor": "#E5ECF6",
           "showlakes": true,
           "showland": true,
           "subunitcolor": "white"
          },
          "hoverlabel": {
           "align": "left"
          },
          "hovermode": "closest",
          "mapbox": {
           "style": "light"
          },
          "paper_bgcolor": "white",
          "plot_bgcolor": "#E5ECF6",
          "polar": {
           "angularaxis": {
            "gridcolor": "white",
            "linecolor": "white",
            "ticks": ""
           },
           "bgcolor": "#E5ECF6",
           "radialaxis": {
            "gridcolor": "white",
            "linecolor": "white",
            "ticks": ""
           }
          },
          "scene": {
           "xaxis": {
            "backgroundcolor": "#E5ECF6",
            "gridcolor": "white",
            "gridwidth": 2,
            "linecolor": "white",
            "showbackground": true,
            "ticks": "",
            "zerolinecolor": "white"
           },
           "yaxis": {
            "backgroundcolor": "#E5ECF6",
            "gridcolor": "white",
            "gridwidth": 2,
            "linecolor": "white",
            "showbackground": true,
            "ticks": "",
            "zerolinecolor": "white"
           },
           "zaxis": {
            "backgroundcolor": "#E5ECF6",
            "gridcolor": "white",
            "gridwidth": 2,
            "linecolor": "white",
            "showbackground": true,
            "ticks": "",
            "zerolinecolor": "white"
           }
          },
          "shapedefaults": {
           "line": {
            "color": "#2a3f5f"
           }
          },
          "ternary": {
           "aaxis": {
            "gridcolor": "white",
            "linecolor": "white",
            "ticks": ""
           },
           "baxis": {
            "gridcolor": "white",
            "linecolor": "white",
            "ticks": ""
           },
           "bgcolor": "#E5ECF6",
           "caxis": {
            "gridcolor": "white",
            "linecolor": "white",
            "ticks": ""
           }
          },
          "title": {
           "x": 0.05
          },
          "xaxis": {
           "automargin": true,
           "gridcolor": "white",
           "linecolor": "white",
           "ticks": "",
           "title": {
            "standoff": 15
           },
           "zerolinecolor": "white",
           "zerolinewidth": 2
          },
          "yaxis": {
           "automargin": true,
           "gridcolor": "white",
           "linecolor": "white",
           "ticks": "",
           "title": {
            "standoff": 15
           },
           "zerolinecolor": "white",
           "zerolinewidth": 2
          }
         }
        },
        "title": {
         "text": "Different Types of Preferences Generated by ADM"
        },
        "width": 1500
       }
      }
     },
     "metadata": {},
     "output_type": "display_data"
    }
   ],
   "source": [
    "# Create visualization\n",
    "def create_pareto_surface():\n",
    "    phi = np.linspace(0, np.pi/2, 50)\n",
    "    theta = np.linspace(0, np.pi/2, 50)\n",
    "    phi, theta = np.meshgrid(phi, theta)\n",
    "    \n",
    "    x = np.cos(theta) * np.cos(phi)\n",
    "    y = np.cos(theta) * np.sin(phi)\n",
    "    z = np.sin(theta)\n",
    "    \n",
    "    return x, y, z\n",
    "\n",
    "# Create subplots for different preference types\n",
    "fig = make_subplots(\n",
    "    rows=1, cols=3,\n",
    "    specs=[[{'type': 'scene'}, {'type': 'scene'}, {'type': 'scene'}]],\n",
    "    subplot_titles=(\"Reference Points\", \"Preferred Ranges\", \"Preferred Solutions\")\n",
    ")\n",
    "\n",
    "# Add Pareto front to all subplots\n",
    "x, y, z = create_pareto_surface()\n",
    "for i in range(1, 4):\n",
    "    fig.add_trace(\n",
    "        go.Surface(x=x, y=y, z=z, colorscale='Greys', showscale=False, opacity=0.3, name='Pareto Front'),\n",
    "        row=1, col=i\n",
    "    )\n",
    "\n",
    "# Plot reference points\n",
    "if reference_points:\n",
    "    ref_points_array = np.array(reference_points) \n",
    "    learning_points = ref_points_array[:4]\n",
    "    decision_points = ref_points_array[4:]\n",
    "\n",
    "    # Learning phase points\n",
    "    fig.add_trace(\n",
    "        go.Scatter3d(\n",
    "            x=learning_points[:, 0], y=learning_points[:, 1], z=learning_points[:, 2],\n",
    "            mode='markers+text',\n",
    "            marker=dict(size=8, color='blue'),\n",
    "            text=[f'L{i+1}' for i in range(len(learning_points))],\n",
    "            name='Learning Phase Points'\n",
    "        ),\n",
    "        row=1, col=1\n",
    "    )\n",
    "\n",
    "    # Decision phase points\n",
    "    fig.add_trace(\n",
    "        go.Scatter3d(\n",
    "            x=decision_points[:, 0], y=decision_points[:, 1], z=decision_points[:, 2],\n",
    "            mode='markers+text',\n",
    "            marker=dict(size=8, color='red'),\n",
    "            text=[f'D{i+1}' for i in range(len(decision_points))],\n",
    "            name='Decision Phase Points'\n",
    "        ),\n",
    "        row=1, col=1\n",
    "    )\n",
    "\n",
    "# Plot ranges\n",
    "if ranges:\n",
    "    for i, range_pref in enumerate(ranges):\n",
    "        color = 'blue' if i < 4 else 'red'\n",
    "        name = f'{\"Learning\" if i < 4 else \"Decision\"} Range {i%4+1}'\n",
    "        \n",
    "        # Create box corners\n",
    "        corners = []\n",
    "        for x in [range_pref[0][0], range_pref[0][1]]:\n",
    "            for y in [range_pref[1][0], range_pref[1][1]]:\n",
    "                for z in [range_pref[2][0], range_pref[2][1]]:\n",
    "                    corners.append([x, y, z])\n",
    "        corners = np.array(corners)\n",
    "        \n",
    "        # Draw box edges\n",
    "        fig.add_trace(\n",
    "            go.Scatter3d(\n",
    "                x=corners[:, 0], y=corners[:, 1], z=corners[:, 2],\n",
    "                mode='lines+markers',\n",
    "                marker=dict(size=4, color=color),\n",
    "                line=dict(color=color, width=2),\n",
    "                name=name\n",
    "            ),\n",
    "            row=1, col=2\n",
    "        )\n",
    "\n",
    "# Plot preferred solutions\n",
    "if preferred_solutions:\n",
    "    for i, sol in enumerate(preferred_solutions):\n",
    "        solution = np.array(sol)\n",
    "        color = 'blue' if i < 4 else 'red'\n",
    "        name = f'{\"Learning\" if i < 4 else \"Decision\"} Solution {i%4+1}'\n",
    "\n",
    "        if solution.ndim == 1:  \n",
    "            points = solution.reshape(1, -1)\n",
    "        else:  \n",
    "            points = solution\n",
    "\n",
    "        # Plot all points for this solution\n",
    "        fig.add_trace(\n",
    "            go.Scatter3d(\n",
    "                x=points[:, 0],  # All x coordinates\n",
    "                y=points[:, 1],  # All y coordinates\n",
    "                z=points[:, 2],  # All z coordinates\n",
    "                mode='markers+text',\n",
    "                marker=dict(size=8, color=color),\n",
    "                text=[f'{\"L\" if i < 4 else \"D\"}{i%4+1}_{j+1}' for j in range(len(points))],\n",
    "                name=name\n",
    "            ),\n",
    "            row=1, col=3\n",
    "        )\n",
    "\n",
    "# Update layout\n",
    "fig.update_layout(\n",
    "    title='Different Types of Preferences Generated by ADM',\n",
    "    width=1500,\n",
    "    height=600,\n",
    "    showlegend=True,\n",
    ")\n",
    "\n",
    "# Update axes ranges and aspect ratio for all subplots\n",
    "for i in range(1, 4):\n",
    "    fig.update_scenes(\n",
    "        dict(\n",
    "            xaxis_title='f1',\n",
    "            yaxis_title='f2',\n",
    "            zaxis_title='f3',\n",
    "            xaxis=dict(range=[0, 1.1]),\n",
    "            yaxis=dict(range=[0, 1.1]),\n",
    "            zaxis=dict(range=[0, 1.1]),\n",
    "            aspectmode='cube',\n",
    "            camera=dict(\n",
    "                up=dict(x=0, y=0, z=1),\n",
    "                center=dict(x=0, y=0, z=0),\n",
    "                eye=dict(x=1.5, y=1.5, z=1.5)\n",
    "            )\n",
    "        ),\n",
    "        row=1, col=i\n",
    "    )\n",
    "\n",
    "fig.show()"
   ]
  },
  {
   "cell_type": "markdown",
   "id": "5c0e7208",
   "metadata": {},
   "source": []
  }
 ],
 "metadata": {
  "kernelspec": {
   "display_name": "venv",
   "language": "python",
   "name": "venv"
  },
  "language_info": {
   "codemirror_mode": {
    "name": "ipython",
    "version": 3
   },
   "file_extension": ".py",
   "mimetype": "text/x-python",
   "name": "python",
   "nbconvert_exporter": "python",
   "pygments_lexer": "ipython3",
   "version": "3.12.4"
  }
 },
 "nbformat": 4,
 "nbformat_minor": 5
}
