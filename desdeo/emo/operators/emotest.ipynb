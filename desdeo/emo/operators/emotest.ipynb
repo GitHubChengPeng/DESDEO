{
 "cells": [
  {
   "cell_type": "code",
   "execution_count": 1,
   "metadata": {},
   "outputs": [
    {
     "name": "stderr",
     "output_type": "stream",
     "text": [
      "/Users/bhupindersaini/Projects/DESDEO/.venv/lib/python3.12/site-packages/pydantic/_internal/_config.py:341: UserWarning: Valid config keys have changed in V2:\n",
      "* 'allow_population_by_field_name' has been renamed to 'populate_by_name'\n",
      "  warnings.warn(message, UserWarning)\n"
     ]
    }
   ],
   "source": [
    "from IPython.display import clear_output\n",
    "import numpy as np\n",
    "\n",
    "from desdeo.emo.methods.bases import baseEA1\n",
    "from desdeo.emo.operators.crossover import SimulatedBinaryCrossover\n",
    "from desdeo.emo.operators.mutation import BoundedPolynomialMutation\n",
    "from desdeo.emo.operators.selection import RVEASelector, NSGAIII_select\n",
    "from desdeo.emo.operators.generator import RandomGenerator, LHSGenerator\n",
    "from desdeo.emo.operators.termination import MaxGenerationsTerminator\n",
    "from desdeo.emo.operators.evaluator import BaseEvaluator\n",
    "from desdeo.tools.patterns import Publisher, Subscriber\n",
    "from desdeo.tools.message import SelectorMessageTopics, TerminatorMessageTopics, Message\n",
    "\n",
    "from desdeo.problem.testproblems import zdt1, binh_and_korn, dtlz2\n",
    "from desdeo.problem import PolarsEvaluator\n",
    "import polars as pd\n",
    "\n",
    "import plotly.express as px"
   ]
  },
  {
   "cell_type": "code",
   "execution_count": 2,
   "metadata": {},
   "outputs": [],
   "source": [
    "class Printer(Subscriber):\n",
    "    def __init__(self, publisher) -> None:\n",
    "        self.print_id = 0\n",
    "        super().__init__(publisher=publisher, interested_topics=[TerminatorMessageTopics.GENERATION])\n",
    "\n",
    "    def update(self, message: Message) -> None:\n",
    "        \"\"\"Update self as a result of changes in the subject.\n",
    "\n",
    "        Args:\n",
    "            msg (dict): the msg from the subject.\n",
    "        \"\"\"\n",
    "        # clear_output(wait=True)\n",
    "        if message.value % 10 == 0:\n",
    "            print(f\"Generation: {message.value}\")\n",
    "\n",
    "    def state(self) -> dict:\n",
    "        \"\"\"Return the state of the subject. This is the msg to be sent to the subscribers.\"\"\"\n",
    "        return {}\n",
    "\n",
    "\n",
    "class visualizer(Subscriber):\n",
    "    def __init__(self, problem, publisher):\n",
    "        super().__init__(\n",
    "            publisher,\n",
    "            interested_topics=[\n",
    "                SelectorMessageTopics.SELECTED_TARGETS,\n",
    "                SelectorMessageTopics.REFERENCE_VECTORS,\n",
    "                TerminatorMessageTopics.GENERATION,\n",
    "            ],\n",
    "        )\n",
    "        self.problem = problem\n",
    "        self.fig = {}\n",
    "        self.vec_fig = {}\n",
    "        self.current_generation = 0\n",
    "        self.objective_vectors = None\n",
    "        self.ideal = list(problem.get_ideal_point().values())\n",
    "        self.nadir = list(problem.get_nadir_point().values())\n",
    "\n",
    "    def state(self) -> dict:\n",
    "        return {}\n",
    "\n",
    "    def update(self, message: Message) -> None:\n",
    "        # print(message)\n",
    "        if message.topic == TerminatorMessageTopics.GENERATION:\n",
    "            self.current_generation = message.value\n",
    "        elif message.topic == SelectorMessageTopics.SELECTED_TARGETS:\n",
    "            self.objective_vectors = np.array(message.value)\n",
    "            if self.objective_vectors.shape[1] == 2:\n",
    "                self.fig[self.current_generation] = px.scatter(\n",
    "                    x=self.objective_vectors[:, 0],\n",
    "                    y=self.objective_vectors[:, 1],\n",
    "                    title=f\"Generation {self.current_generation}\",\n",
    "                    range_x=[self.ideal[0], self.nadir[0]],\n",
    "                    range_y=[self.ideal[1], self.nadir[1]],\n",
    "                )\n",
    "\n",
    "            elif self.objective_vectors.shape[1] == 3:\n",
    "                self.fig[self.current_generation] = px.scatter_3d(\n",
    "                    x=self.objective_vectors[:, 0],\n",
    "                    y=self.objective_vectors[:, 1],\n",
    "                    z=self.objective_vectors[:, 2],\n",
    "                    title=f\"Generation {self.current_generation}\",\n",
    "                    range_x=[self.ideal[0], self.nadir[0]],\n",
    "                    range_y=[self.ideal[1], self.nadir[1]],\n",
    "                    range_z=[self.ideal[2], self.nadir[2]],\n",
    "                )\n",
    "\n",
    "        elif message.topic == SelectorMessageTopics.REFERENCE_VECTORS:\n",
    "            reference_vectors = np.array(message.value)\n",
    "            self.vec_fig[self.current_generation] = px.scatter(\n",
    "                x=reference_vectors[:, 0],\n",
    "                y=reference_vectors[:, 1],\n",
    "                title=f\"Generation {self.current_generation}\",\n",
    "            )"
   ]
  },
  {
   "cell_type": "code",
   "execution_count": 3,
   "metadata": {},
   "outputs": [
    {
     "data": {
      "text/plain": [
       "[None, None, None, None, None, None]"
      ]
     },
     "execution_count": 3,
     "metadata": {},
     "output_type": "execute_result"
    }
   ],
   "source": [
    "publisher = Publisher()\n",
    "# problem = binh_and_korn()\n",
    "problem = dtlz2(n_variables=10, n_objectives=3)\n",
    "evaluator = BaseEvaluator(\n",
    "    problem=problem,\n",
    "    publisher=publisher,\n",
    ")\n",
    "\n",
    "SEED = 0\n",
    "generator = RandomGenerator(\n",
    "    problem=problem,\n",
    "    evaluator=evaluator,\n",
    "    publisher=publisher,\n",
    "    n_points=100,\n",
    "    seed=SEED,\n",
    ")\n",
    "crossover = SimulatedBinaryCrossover(\n",
    "    problem=problem,\n",
    "    publisher=publisher,\n",
    "    seed=SEED,\n",
    ")\n",
    "mutation = BoundedPolynomialMutation(\n",
    "    problem=problem,\n",
    "    publisher=publisher,\n",
    "    seed=SEED,\n",
    ")\n",
    "RVs = np.random.random((100, 3))\n",
    "RVs = RVs / np.atleast_2d(np.linalg.norm(RVs, axis=1, ord=1)).T\n",
    "\n",
    "\n",
    "selector = NSGAIII_select(\n",
    "    problem=problem,\n",
    "    reference_vectors=RVs,\n",
    "    publisher=publisher,\n",
    "    n_survive=100,  # ideal=np.zeros(2), nadir=np.ones(2)\n",
    "    verbosity=1,\n",
    ")\n",
    "\n",
    "selector2 = RVEASelector(\n",
    "    problem=problem,\n",
    "    publisher=publisher,\n",
    "    reference_vectors=RVs,\n",
    "    verbosity=1,\n",
    ")\n",
    "terminator = MaxGenerationsTerminator(1000, publisher=publisher)\n",
    "\n",
    "#printer = Printer(publisher)\n",
    "#visualize = visualizer(problem, publisher)\n",
    "\n",
    "# publisher.subscribe(printer, \"current_generation\")\n",
    "# publisher.subscribe(printer, \"max_generations\")\n",
    "components: list[Subscriber] = [evaluator, generator, crossover, mutation, selector2, terminator]#, visualize]\n",
    "[publisher.auto_subscribe(x) for x in components]\n",
    "[publisher.register_topics(x.provided_topics, x.__class__.__name__) for x in components]"
   ]
  },
  {
   "cell_type": "code",
   "execution_count": 4,
   "metadata": {},
   "outputs": [
    {
     "name": "stdout",
     "output_type": "stream",
     "text": [
      "True\n"
     ]
    },
    {
     "data": {
      "text/plain": [
       "{'GENERATION': [('RVEASelector', ['MaxGenerationsTerminator'])],\n",
       " 'MAX_GENERATIONS': [('RVEASelector', ['MaxGenerationsTerminator'])],\n",
       " 'NEW_EVALUATIONS': [('MaxGenerationsTerminator', ['BaseEvaluator']),\n",
       "  ('MaxGenerationsTerminator', ['RandomGenerator'])]}"
      ]
     },
     "execution_count": 4,
     "metadata": {},
     "output_type": "execute_result"
    }
   ],
   "source": [
    "# Make this true or false by setting verbosity of selector to 2 or 1\n",
    "print(publisher.check_consistency())\n",
    "publisher.relationship_map()"
   ]
  },
  {
   "cell_type": "code",
   "execution_count": 5,
   "metadata": {},
   "outputs": [
    {
     "data": {
      "text/plain": [
       "{<TerminatorMessageTopics.GENERATION: 'GENERATION'>: [<desdeo.emo.operators.selection.RVEASelector at 0x12eef7950>],\n",
       " <TerminatorMessageTopics.MAX_GENERATIONS: 'MAX_GENERATIONS'>: [<desdeo.emo.operators.selection.RVEASelector at 0x12eef7950>],\n",
       " <EvaluatorMessageTopics.NEW_EVALUATIONS: 'NEW_EVALUATIONS'>: [<desdeo.emo.operators.termination.MaxGenerationsTerminator at 0x12f37e330>],\n",
       " <GeneratorMessageTopics.NEW_EVALUATIONS: 'NEW_EVALUATIONS'>: [<desdeo.emo.operators.termination.MaxGenerationsTerminator at 0x12f37e330>]}"
      ]
     },
     "execution_count": 5,
     "metadata": {},
     "output_type": "execute_result"
    }
   ],
   "source": [
    "publisher.subscribers"
   ]
  },
  {
   "cell_type": "code",
   "execution_count": 6,
   "metadata": {},
   "outputs": [],
   "source": [
    "%load_ext snakeviz"
   ]
  },
  {
   "cell_type": "code",
   "execution_count": 7,
   "metadata": {},
   "outputs": [],
   "source": [
    "\n",
    "a = baseEA1(\n",
    "    evaluator=evaluator,\n",
    "    generator=generator,\n",
    "    selection=selector,\n",
    "    crossover=crossover,\n",
    "    mutation=mutation,\n",
    "    termination=terminator,\n",
    ")"
   ]
  },
  {
   "cell_type": "code",
   "execution_count": 8,
   "metadata": {},
   "outputs": [
    {
     "data": {
      "application/vnd.plotly.v1+json": {
       "config": {
        "plotlyServerURL": "https://plot.ly"
       },
       "data": [
        {
         "hovertemplate": "f_1_min=%{x}<br>f_2_min=%{y}<br>f_3_min=%{z}<extra></extra>",
         "legendgroup": "",
         "marker": {
          "color": "#636efa",
          "symbol": "circle"
         },
         "mode": "markers",
         "name": "",
         "scene": "scene",
         "showlegend": false,
         "type": "scatter3d",
         "x": [
          0.9643383742212583,
          0.14073365619266096,
          0.9121199000208785,
          0.1312337630989543,
          0.07032935945744327,
          0.7404702979877014,
          0.3060471504981889,
          0.5126304628447267,
          0.935266915562041,
          0.17156609812606902,
          0.5529694432531439,
          0.18940026169865726,
          0.19843583998661135,
          0.6483223944807956,
          0.832379002626826,
          0.5607183202595268,
          0.5068834563079128,
          0.28808168155315683,
          0.6455377342554219,
          0.8567448828150799,
          0.7228579532475063,
          0.7732789660330942,
          0.2161437846650088,
          0.9650841021792955,
          0.1861921544883278,
          0.6507893706558882,
          0.8292445424454812,
          0.498878101946037,
          0.41083951750945485,
          0.6198830324685661,
          0.5096006923187474,
          0.15562439699498745,
          0.22987546523792327,
          0.33154894492347103,
          0.41906967306111303,
          0.19704400704987143,
          0.8220148053836293,
          0.021402452890028303,
          0.7577890690372655,
          0.76179368416375,
          0.0016053181487360947,
          0.32915157379288085,
          0.289361816709309,
          0.3360735751737197,
          0.534149221649834,
          0.5436385980569146,
          0.5962531821535354,
          0.37541631635897915,
          0.4320543835432368,
          0.6252528054342544,
          0.5445278047429029,
          0.9060240803679921,
          0.351546123128218,
          0.3219484918864211,
          6.7515214835997375e-18,
          0.8389594560844867,
          0.4147511094225857,
          0.5579258620112728,
          0.8242516960272692,
          0.5760792443539913,
          0.8328182096820981,
          0.5364748151813089,
          0.09524573155532688,
          0.7412852499983442,
          0.5011342810404056,
          0.7242183028499634,
          0.7438729492713118,
          0.6323937463446051,
          0.3076989152363648,
          0.6587828926446395,
          0.6946170461103617,
          0.2610873288138622,
          0.0746536224812068,
          0.31162025520555525,
          0.4302224286891901,
          0.7539522764647789,
          0.9151873331557211,
          0.09439850502469113,
          0.4305384215140419,
          0.7316193607448255,
          0.09207424859556192,
          0.8479006781581321,
          0.3649631374754532,
          0.46234645012137304,
          0.6429656155236889,
          0.2729539836823511,
          0.04935590466019027,
          0.8551144019491806,
          0.2217259934478746,
          0.25633346075084606,
          0.9779055208975779,
          0.552110808642589,
          0.4563105844122466,
          0.6565607535423532,
          0.3279195857566195,
          0.9576824193985869,
          0.5144618023713908,
          0.9594049205488582,
          0.7204981035333164,
          0.6640187456278013
         ],
         "y": [
          0.2206722940888522,
          0.8414421791446868,
          0.29618412066185384,
          0.9602183417240411,
          0.8768889019723582,
          0.5001105967250682,
          0.28467902712647575,
          0.6005497914631441,
          0.007465310924842871,
          0.6520757415942058,
          0.5636096746849376,
          0.28890784362908994,
          0.32487807690229753,
          0.7188504778431799,
          0.43908781810484077,
          0.6231542319265432,
          0.7103508748269489,
          0.13895008945522325,
          0.15371163638125418,
          0.3711313180524267,
          0.021639413574516923,
          0.48055970660264496,
          0.18040513171374553,
          0.259795936839998,
          0.20493292916544423,
          0.5485771473022103,
          0.20242911457528173,
          0.6776637964925039,
          0.8670736250828892,
          0.7757370087547953,
          0.6999809422755581,
          0.13545947454866078,
          0.8418781319240702,
          0.47800666130416264,
          0.6910966136093927,
          0.7023325434196533,
          0.5605199774198553,
          0.97124342801303,
          0.2974565820773322,
          0.19807183160708644,
          0.07371500971542089,
          0.4301658328477848,
          0.01988877665099897,
          0.6601512160233198,
          0.7557745502832091,
          0.8394050044460254,
          0.7996582019533047,
          0.8458970534313023,
          0.44407463632333005,
          0.7735419876382253,
          0.476378231354055,
          0.0518271427103575,
          0.9309650613613583,
          0.7059795568042206,
          0.11026071334690803,
          0.19663473849438698,
          0.8222130208509403,
          0.6134554995752437,
          0.2878646240480457,
          0.6844110860208864,
          0.43359972273489594,
          0.623539215956602,
          0.9560840299133594,
          0.5240766134027001,
          0.5311849720636308,
          0.6850521366175006,
          0.5408804580231037,
          0.7285405174053718,
          0.6754352713372608,
          0.472111011779395,
          0.27079801039423307,
          0.9653675661381834,
          0.97420036226102,
          0.5596312316574691,
          0.5332348103019234,
          0.20248620303935577,
          0.2864790536178264,
          0.8238504724898043,
          0.5217049473869994,
          0.3729444353277674,
          0.9698803682847961,
          0.07118798264668003,
          0.7095765729049258,
          0.7484012668839459,
          0.2433276443769865,
          0.5360919710555585,
          0.5466348259244705,
          0.32347877994126784,
          0.8430805408319777,
          0.8664883522786543,
          0.013480969204392117,
          0.6538035666625313,
          0.39846397408723094,
          0.4165877691414016,
          0.44103014598330015,
          0.030028509802674005,
          0.5310307790585223,
          0.2527391211377665,
          0.6467965491951495,
          0.42433620903731617
         ],
         "z": [
          0.14919800915957984,
          0.522849977814725,
          0.2856995048083749,
          0.25043966756811015,
          0.47748975995996323,
          0.45038867415318184,
          0.9102145203141082,
          0.6149044429380114,
          0.3544605776714137,
          0.7399477120300906,
          0.6149033387184369,
          0.9395198838230632,
          0.9250198701387446,
          0.2545056956252527,
          0.3421291890245569,
          0.5474766535578393,
          0.4896362229178684,
          0.9485991348442463,
          0.7485552170114961,
          0.36065007037720365,
          0.6917393150604374,
          0.4157670027592211,
          0.9611708631129202,
          0.0522203197514236,
          0.9618045279031641,
          0.526050565732921,
          0.522881501007371,
          0.5412070944960122,
          0.2854708621095221,
          0.12359897319680212,
          0.5025347547319043,
          0.9794278775915262,
          0.4901100741596211,
          0.8140380022534687,
          0.5901367159065581,
          0.6848301062562018,
          0.1048740797771818,
          0.23978835217303987,
          0.582558085499455,
          0.6174370463381716,
          0.9976092858401518,
          0.8419276651005009,
          0.9577435601272549,
          0.6724127589132,
          0.3805909372855348,
          0.033857407616127044,
          0.08251792072047986,
          0.38053786876467904,
          0.7865635592454453,
          0.106036190531071,
          0.6931395464749054,
          0.4219140210018636,
          0.10674175069405162,
          0.6324670374826076,
          0.9940923300166274,
          0.5098300199492816,
          0.3920714448374911,
          0.5605992794050327,
          0.488686104518236,
          0.44845903075379445,
          0.3481959017345648,
          0.5714270293674919,
          0.27858936898780523,
          0.4210694954708064,
          0.6842391106820712,
          0.08767479604169524,
          0.39423710690787767,
          0.2645882461929928,
          0.6705948059939565,
          0.5868976975050384,
          0.6678630437693769,
          0.015950828019582697,
          0.21773139223625831,
          0.7691144999227794,
          0.7289069672067789,
          0.6268863503020122,
          0.2846361017182563,
          0.561038903542503,
          0.7369507745346211,
          0.5713317416960171,
          0.2273535477601614,
          0.5259526674106115,
          0.604483064610978,
          0.4783323476375834,
          0.7274379936292344,
          0.7996206235286348,
          0.8366278109972586,
          0.40732482092607425,
          0.49123174644209966,
          0.4297213600463836,
          0.2133517897650971,
          0.5190511268705942,
          0.7969887498399245,
          0.6298874609799285,
          0.8362003542099561,
          0.2870351036311722,
          0.6747172746028429,
          0.13059739512191917,
          0.2513761093165797,
          0.6175910709605876
         ]
        }
       ],
       "layout": {
        "legend": {
         "tracegroupgap": 0
        },
        "margin": {
         "t": 60
        },
        "scene": {
         "domain": {
          "x": [
           0,
           1
          ],
          "y": [
           0,
           1
          ]
         },
         "xaxis": {
          "title": {
           "text": "f_1_min"
          }
         },
         "yaxis": {
          "title": {
           "text": "f_2_min"
          }
         },
         "zaxis": {
          "title": {
           "text": "f_3_min"
          }
         }
        },
        "template": {
         "data": {
          "bar": [
           {
            "error_x": {
             "color": "#2a3f5f"
            },
            "error_y": {
             "color": "#2a3f5f"
            },
            "marker": {
             "line": {
              "color": "#E5ECF6",
              "width": 0.5
             },
             "pattern": {
              "fillmode": "overlay",
              "size": 10,
              "solidity": 0.2
             }
            },
            "type": "bar"
           }
          ],
          "barpolar": [
           {
            "marker": {
             "line": {
              "color": "#E5ECF6",
              "width": 0.5
             },
             "pattern": {
              "fillmode": "overlay",
              "size": 10,
              "solidity": 0.2
             }
            },
            "type": "barpolar"
           }
          ],
          "carpet": [
           {
            "aaxis": {
             "endlinecolor": "#2a3f5f",
             "gridcolor": "white",
             "linecolor": "white",
             "minorgridcolor": "white",
             "startlinecolor": "#2a3f5f"
            },
            "baxis": {
             "endlinecolor": "#2a3f5f",
             "gridcolor": "white",
             "linecolor": "white",
             "minorgridcolor": "white",
             "startlinecolor": "#2a3f5f"
            },
            "type": "carpet"
           }
          ],
          "choropleth": [
           {
            "colorbar": {
             "outlinewidth": 0,
             "ticks": ""
            },
            "type": "choropleth"
           }
          ],
          "contour": [
           {
            "colorbar": {
             "outlinewidth": 0,
             "ticks": ""
            },
            "colorscale": [
             [
              0,
              "#0d0887"
             ],
             [
              0.1111111111111111,
              "#46039f"
             ],
             [
              0.2222222222222222,
              "#7201a8"
             ],
             [
              0.3333333333333333,
              "#9c179e"
             ],
             [
              0.4444444444444444,
              "#bd3786"
             ],
             [
              0.5555555555555556,
              "#d8576b"
             ],
             [
              0.6666666666666666,
              "#ed7953"
             ],
             [
              0.7777777777777778,
              "#fb9f3a"
             ],
             [
              0.8888888888888888,
              "#fdca26"
             ],
             [
              1,
              "#f0f921"
             ]
            ],
            "type": "contour"
           }
          ],
          "contourcarpet": [
           {
            "colorbar": {
             "outlinewidth": 0,
             "ticks": ""
            },
            "type": "contourcarpet"
           }
          ],
          "heatmap": [
           {
            "colorbar": {
             "outlinewidth": 0,
             "ticks": ""
            },
            "colorscale": [
             [
              0,
              "#0d0887"
             ],
             [
              0.1111111111111111,
              "#46039f"
             ],
             [
              0.2222222222222222,
              "#7201a8"
             ],
             [
              0.3333333333333333,
              "#9c179e"
             ],
             [
              0.4444444444444444,
              "#bd3786"
             ],
             [
              0.5555555555555556,
              "#d8576b"
             ],
             [
              0.6666666666666666,
              "#ed7953"
             ],
             [
              0.7777777777777778,
              "#fb9f3a"
             ],
             [
              0.8888888888888888,
              "#fdca26"
             ],
             [
              1,
              "#f0f921"
             ]
            ],
            "type": "heatmap"
           }
          ],
          "heatmapgl": [
           {
            "colorbar": {
             "outlinewidth": 0,
             "ticks": ""
            },
            "colorscale": [
             [
              0,
              "#0d0887"
             ],
             [
              0.1111111111111111,
              "#46039f"
             ],
             [
              0.2222222222222222,
              "#7201a8"
             ],
             [
              0.3333333333333333,
              "#9c179e"
             ],
             [
              0.4444444444444444,
              "#bd3786"
             ],
             [
              0.5555555555555556,
              "#d8576b"
             ],
             [
              0.6666666666666666,
              "#ed7953"
             ],
             [
              0.7777777777777778,
              "#fb9f3a"
             ],
             [
              0.8888888888888888,
              "#fdca26"
             ],
             [
              1,
              "#f0f921"
             ]
            ],
            "type": "heatmapgl"
           }
          ],
          "histogram": [
           {
            "marker": {
             "pattern": {
              "fillmode": "overlay",
              "size": 10,
              "solidity": 0.2
             }
            },
            "type": "histogram"
           }
          ],
          "histogram2d": [
           {
            "colorbar": {
             "outlinewidth": 0,
             "ticks": ""
            },
            "colorscale": [
             [
              0,
              "#0d0887"
             ],
             [
              0.1111111111111111,
              "#46039f"
             ],
             [
              0.2222222222222222,
              "#7201a8"
             ],
             [
              0.3333333333333333,
              "#9c179e"
             ],
             [
              0.4444444444444444,
              "#bd3786"
             ],
             [
              0.5555555555555556,
              "#d8576b"
             ],
             [
              0.6666666666666666,
              "#ed7953"
             ],
             [
              0.7777777777777778,
              "#fb9f3a"
             ],
             [
              0.8888888888888888,
              "#fdca26"
             ],
             [
              1,
              "#f0f921"
             ]
            ],
            "type": "histogram2d"
           }
          ],
          "histogram2dcontour": [
           {
            "colorbar": {
             "outlinewidth": 0,
             "ticks": ""
            },
            "colorscale": [
             [
              0,
              "#0d0887"
             ],
             [
              0.1111111111111111,
              "#46039f"
             ],
             [
              0.2222222222222222,
              "#7201a8"
             ],
             [
              0.3333333333333333,
              "#9c179e"
             ],
             [
              0.4444444444444444,
              "#bd3786"
             ],
             [
              0.5555555555555556,
              "#d8576b"
             ],
             [
              0.6666666666666666,
              "#ed7953"
             ],
             [
              0.7777777777777778,
              "#fb9f3a"
             ],
             [
              0.8888888888888888,
              "#fdca26"
             ],
             [
              1,
              "#f0f921"
             ]
            ],
            "type": "histogram2dcontour"
           }
          ],
          "mesh3d": [
           {
            "colorbar": {
             "outlinewidth": 0,
             "ticks": ""
            },
            "type": "mesh3d"
           }
          ],
          "parcoords": [
           {
            "line": {
             "colorbar": {
              "outlinewidth": 0,
              "ticks": ""
             }
            },
            "type": "parcoords"
           }
          ],
          "pie": [
           {
            "automargin": true,
            "type": "pie"
           }
          ],
          "scatter": [
           {
            "fillpattern": {
             "fillmode": "overlay",
             "size": 10,
             "solidity": 0.2
            },
            "type": "scatter"
           }
          ],
          "scatter3d": [
           {
            "line": {
             "colorbar": {
              "outlinewidth": 0,
              "ticks": ""
             }
            },
            "marker": {
             "colorbar": {
              "outlinewidth": 0,
              "ticks": ""
             }
            },
            "type": "scatter3d"
           }
          ],
          "scattercarpet": [
           {
            "marker": {
             "colorbar": {
              "outlinewidth": 0,
              "ticks": ""
             }
            },
            "type": "scattercarpet"
           }
          ],
          "scattergeo": [
           {
            "marker": {
             "colorbar": {
              "outlinewidth": 0,
              "ticks": ""
             }
            },
            "type": "scattergeo"
           }
          ],
          "scattergl": [
           {
            "marker": {
             "colorbar": {
              "outlinewidth": 0,
              "ticks": ""
             }
            },
            "type": "scattergl"
           }
          ],
          "scattermapbox": [
           {
            "marker": {
             "colorbar": {
              "outlinewidth": 0,
              "ticks": ""
             }
            },
            "type": "scattermapbox"
           }
          ],
          "scatterpolar": [
           {
            "marker": {
             "colorbar": {
              "outlinewidth": 0,
              "ticks": ""
             }
            },
            "type": "scatterpolar"
           }
          ],
          "scatterpolargl": [
           {
            "marker": {
             "colorbar": {
              "outlinewidth": 0,
              "ticks": ""
             }
            },
            "type": "scatterpolargl"
           }
          ],
          "scatterternary": [
           {
            "marker": {
             "colorbar": {
              "outlinewidth": 0,
              "ticks": ""
             }
            },
            "type": "scatterternary"
           }
          ],
          "surface": [
           {
            "colorbar": {
             "outlinewidth": 0,
             "ticks": ""
            },
            "colorscale": [
             [
              0,
              "#0d0887"
             ],
             [
              0.1111111111111111,
              "#46039f"
             ],
             [
              0.2222222222222222,
              "#7201a8"
             ],
             [
              0.3333333333333333,
              "#9c179e"
             ],
             [
              0.4444444444444444,
              "#bd3786"
             ],
             [
              0.5555555555555556,
              "#d8576b"
             ],
             [
              0.6666666666666666,
              "#ed7953"
             ],
             [
              0.7777777777777778,
              "#fb9f3a"
             ],
             [
              0.8888888888888888,
              "#fdca26"
             ],
             [
              1,
              "#f0f921"
             ]
            ],
            "type": "surface"
           }
          ],
          "table": [
           {
            "cells": {
             "fill": {
              "color": "#EBF0F8"
             },
             "line": {
              "color": "white"
             }
            },
            "header": {
             "fill": {
              "color": "#C8D4E3"
             },
             "line": {
              "color": "white"
             }
            },
            "type": "table"
           }
          ]
         },
         "layout": {
          "annotationdefaults": {
           "arrowcolor": "#2a3f5f",
           "arrowhead": 0,
           "arrowwidth": 1
          },
          "autotypenumbers": "strict",
          "coloraxis": {
           "colorbar": {
            "outlinewidth": 0,
            "ticks": ""
           }
          },
          "colorscale": {
           "diverging": [
            [
             0,
             "#8e0152"
            ],
            [
             0.1,
             "#c51b7d"
            ],
            [
             0.2,
             "#de77ae"
            ],
            [
             0.3,
             "#f1b6da"
            ],
            [
             0.4,
             "#fde0ef"
            ],
            [
             0.5,
             "#f7f7f7"
            ],
            [
             0.6,
             "#e6f5d0"
            ],
            [
             0.7,
             "#b8e186"
            ],
            [
             0.8,
             "#7fbc41"
            ],
            [
             0.9,
             "#4d9221"
            ],
            [
             1,
             "#276419"
            ]
           ],
           "sequential": [
            [
             0,
             "#0d0887"
            ],
            [
             0.1111111111111111,
             "#46039f"
            ],
            [
             0.2222222222222222,
             "#7201a8"
            ],
            [
             0.3333333333333333,
             "#9c179e"
            ],
            [
             0.4444444444444444,
             "#bd3786"
            ],
            [
             0.5555555555555556,
             "#d8576b"
            ],
            [
             0.6666666666666666,
             "#ed7953"
            ],
            [
             0.7777777777777778,
             "#fb9f3a"
            ],
            [
             0.8888888888888888,
             "#fdca26"
            ],
            [
             1,
             "#f0f921"
            ]
           ],
           "sequentialminus": [
            [
             0,
             "#0d0887"
            ],
            [
             0.1111111111111111,
             "#46039f"
            ],
            [
             0.2222222222222222,
             "#7201a8"
            ],
            [
             0.3333333333333333,
             "#9c179e"
            ],
            [
             0.4444444444444444,
             "#bd3786"
            ],
            [
             0.5555555555555556,
             "#d8576b"
            ],
            [
             0.6666666666666666,
             "#ed7953"
            ],
            [
             0.7777777777777778,
             "#fb9f3a"
            ],
            [
             0.8888888888888888,
             "#fdca26"
            ],
            [
             1,
             "#f0f921"
            ]
           ]
          },
          "colorway": [
           "#636efa",
           "#EF553B",
           "#00cc96",
           "#ab63fa",
           "#FFA15A",
           "#19d3f3",
           "#FF6692",
           "#B6E880",
           "#FF97FF",
           "#FECB52"
          ],
          "font": {
           "color": "#2a3f5f"
          },
          "geo": {
           "bgcolor": "white",
           "lakecolor": "white",
           "landcolor": "#E5ECF6",
           "showlakes": true,
           "showland": true,
           "subunitcolor": "white"
          },
          "hoverlabel": {
           "align": "left"
          },
          "hovermode": "closest",
          "mapbox": {
           "style": "light"
          },
          "paper_bgcolor": "white",
          "plot_bgcolor": "#E5ECF6",
          "polar": {
           "angularaxis": {
            "gridcolor": "white",
            "linecolor": "white",
            "ticks": ""
           },
           "bgcolor": "#E5ECF6",
           "radialaxis": {
            "gridcolor": "white",
            "linecolor": "white",
            "ticks": ""
           }
          },
          "scene": {
           "xaxis": {
            "backgroundcolor": "#E5ECF6",
            "gridcolor": "white",
            "gridwidth": 2,
            "linecolor": "white",
            "showbackground": true,
            "ticks": "",
            "zerolinecolor": "white"
           },
           "yaxis": {
            "backgroundcolor": "#E5ECF6",
            "gridcolor": "white",
            "gridwidth": 2,
            "linecolor": "white",
            "showbackground": true,
            "ticks": "",
            "zerolinecolor": "white"
           },
           "zaxis": {
            "backgroundcolor": "#E5ECF6",
            "gridcolor": "white",
            "gridwidth": 2,
            "linecolor": "white",
            "showbackground": true,
            "ticks": "",
            "zerolinecolor": "white"
           }
          },
          "shapedefaults": {
           "line": {
            "color": "#2a3f5f"
           }
          },
          "ternary": {
           "aaxis": {
            "gridcolor": "white",
            "linecolor": "white",
            "ticks": ""
           },
           "baxis": {
            "gridcolor": "white",
            "linecolor": "white",
            "ticks": ""
           },
           "bgcolor": "#E5ECF6",
           "caxis": {
            "gridcolor": "white",
            "linecolor": "white",
            "ticks": ""
           }
          },
          "title": {
           "x": 0.05
          },
          "xaxis": {
           "automargin": true,
           "gridcolor": "white",
           "linecolor": "white",
           "ticks": "",
           "title": {
            "standoff": 15
           },
           "zerolinecolor": "white",
           "zerolinewidth": 2
          },
          "yaxis": {
           "automargin": true,
           "gridcolor": "white",
           "linecolor": "white",
           "ticks": "",
           "title": {
            "standoff": 15
           },
           "zerolinecolor": "white",
           "zerolinewidth": 2
          }
         }
        }
       }
      }
     },
     "metadata": {},
     "output_type": "display_data"
    }
   ],
   "source": [
    "px.scatter_3d(a.outputs[\"f_1_min\", \"f_2_min\", \"f_3_min\"],\n",
    "              x=\"f_1_min\", y=\"f_2_min\", z=\"f_3_min\")"
   ]
  },
  {
   "cell_type": "code",
   "execution_count": null,
   "metadata": {},
   "outputs": [],
   "source": []
  },
  {
   "cell_type": "code",
   "execution_count": 9,
   "metadata": {},
   "outputs": [
    {
     "ename": "NameError",
     "evalue": "name 'visualize' is not defined",
     "output_type": "error",
     "traceback": [
      "\u001b[0;31m---------------------------------------------------------------------------\u001b[0m",
      "\u001b[0;31mNameError\u001b[0m                                 Traceback (most recent call last)",
      "Cell \u001b[0;32mIn[9], line 1\u001b[0m\n\u001b[0;32m----> 1\u001b[0m \u001b[43mvisualize\u001b[49m\u001b[38;5;241m.\u001b[39mfig\u001b[38;5;241m.\u001b[39mkeys()\n",
      "\u001b[0;31mNameError\u001b[0m: name 'visualize' is not defined"
     ]
    }
   ],
   "source": [
    "visualize.fig.keys()"
   ]
  },
  {
   "cell_type": "code",
   "execution_count": 76,
   "metadata": {},
   "outputs": [
    {
     "data": {
      "application/vnd.plotly.v1+json": {
       "config": {
        "plotlyServerURL": "https://plot.ly"
       },
       "data": [
        {
         "hovertemplate": "x=%{x}<br>y=%{y}<br>z=%{z}<extra></extra>",
         "legendgroup": "",
         "marker": {
          "color": "#636efa",
          "symbol": "circle"
         },
         "mode": "markers",
         "name": "",
         "scene": "scene",
         "showlegend": false,
         "type": "scatter3d",
         "x": [
          0.8980462710428047,
          0.6818699518038566,
          0.05890323896208274,
          0.7885665807429587,
          0.5272747663664628,
          0.6127877323866753,
          0.5603862497037666,
          0.6775105493727024,
          0.6460492388167418,
          0.6520399011562071,
          0.3048139743360404,
          0.98751507872302,
          0.15316490726366289,
          0.12877219166163748,
          0.555747317019016,
          0.32002262123457437,
          1.0048213897458385,
          0.3699891846491837,
          0.702284569074909,
          0.8753726477008352,
          0.5520780970700077,
          0.49796366932632646,
          0.9510291845654538,
          0.8874178629512818,
          0.4845500872060609,
          0.019888737669511013,
          0.14393573655882214,
          0.24728190853338278,
          0.5038591992577207,
          0.7944201499261486,
          0.5774815478179041,
          0.23058311038429427,
          0.06909072775283252,
          0.2674552280195123,
          0.7962039370228949,
          0.8945563850876521,
          0.06476342701846008,
          0.777202847497294,
          0.9127945545533843,
          0.5270503024867035,
          0.5111589609009397,
          0.013877728519165673,
          0.07018489872009954,
          0.10219513737169315,
          0.3609240824223066,
          0.30518851440334926,
          0.6212385826470384,
          0.7141212131209338,
          0.8076336255144365,
          0.621942677776968,
          0.35150406230997083,
          0.24750627619873997,
          0.4886406361750857,
          0.257602555807209,
          0.192501423521149,
          0.11266827646716712,
          0.10736162185015806,
          0.3726781228045678,
          0.746009630811151,
          0.43645618864305424,
          0.40857389678405986,
          0.629748711487141,
          0.479404397629091,
          0.589744557257522,
          0.6861972580272734,
          0.5816151405251136,
          0.48168010039956854,
          0.4288437306669243,
          0.12684275236628165,
          0.49447908254845563,
          0.18762555737022846,
          0.4268358059105934,
          0.4845065489106724,
          0.6790022304008944,
          0.9126582025989082,
          0.0736185261617158,
          0.45711161369741254,
          0.7937029244129225,
          0.06666486873512738,
          0.568071892009402,
          0.6558856553575222,
          0.42234783133795306,
          0.7279578101838733,
          0.07634301869873747,
          0.6512131890574969,
          0.6623928292630745,
          0.40999606051370746,
          0.7234982644727281,
          0.24100530779004548,
          0.8883143995981244,
          0.8331430508786519,
          0.046853427155934727,
          0.12754760555126485,
          0.7953917208205725,
          0.4553510432552357,
          0.6219203609891523,
          0.0742656976337248,
          0.7022163699639806,
          0.16963796673475565,
          1.0154682756162068
         ],
         "y": [
          0.434966256685018,
          0.7214000798477888,
          0.8509778929336026,
          0.5939012876157364,
          0.163086002041438,
          0.11595620266284215,
          0.7513010351136914,
          0.6031155504554091,
          0.6826513937315265,
          0.7207500466782314,
          0.8917265858120292,
          0.18559718634417932,
          0.41806460867790857,
          0.9991632897358079,
          0.7871266616840761,
          0.6925164909968087,
          0,
          0.892211166047791,
          0.3923332260587417,
          0.49120439019414547,
          0.5932076152714935,
          0.23513322155994124,
          0.1751282491824031,
          0.2041070970228414,
          0.5725598670167901,
          0.19466323214961717,
          0.985256705278422,
          0.4351420110690179,
          0.026063890553235346,
          0.4531033246042753,
          0.6998653383371712,
          0.9360570050891839,
          0.9280834999706369,
          0.45804984661328285,
          0.2908338365236371,
          0,
          0.26534583919851246,
          0.6267990662636292,
          0.3834221783496587,
          0.514820587306603,
          0.6068044988461295,
          0.746759292363257,
          0.9177305336260706,
          0.8804849148235923,
          0.9447940109396494,
          0.7546476196729948,
          0.7533192865892768,
          0.6767972734853438,
          0.6083734657643042,
          0.7810042246241583,
          0.951854327640819,
          0.9794755314350029,
          0.6854297078528495,
          0.7552781707537726,
          0.764424959739605,
          0.8250735348734772,
          0.9473083088503591,
          0.7330872890050171,
          0.2803499025246736,
          0.579177500139628,
          0.20851329158664364,
          0.059842770716845205,
          0.8107139428135252,
          0.5719776847942024,
          0.5058086935202173,
          0.744471284000907,
          0.8886265882720804,
          0.5078085483030758,
          0.5175128273295508,
          0.7154685280557525,
          0.05222154183258999,
          0.9173453806773224,
          0.1369244681702132,
          0.643443645436505,
          0.03358341957531262,
          0.7991030987154861,
          0.7450133828630322,
          0.30375497401597235,
          0.9947015480694852,
          0.607463263307995,
          0.4886020784640335,
          0.5571344238600762,
          0.5908807286267933,
          0.9966399954292353,
          0.7747793063421479,
          0.6421889459286122,
          0.7887854310612528,
          0.6953782798581376,
          0.90496803126511,
          0.33833890843270015,
          0.3404488797235211,
          0.7508401302273232,
          0.9065730061409849,
          0.04333759221726258,
          0.8697497416155542,
          0.45947366272474366,
          1.0096919375159197,
          0.31996726445666296,
          0.5721833082166293,
          0
         ],
         "z": [
          0.1314964826169332,
          0.1971686767819396,
          0.5346398859102113,
          0.25857831811696425,
          0.8541299243349347,
          0.783713224910344,
          0.37361049711481104,
          0.4421730714444501,
          0.3614516909364453,
          0.2942551353580012,
          0.38178215858945075,
          0.09659359410760551,
          0.9216473705180269,
          0.03462068885462611,
          0.2987607417428674,
          0.6723808983508857,
          0.04862203531722822,
          0.288398342732251,
          0.6099405890190437,
          0.13394235835237106,
          0.6208597189743589,
          0.8567446997157655,
          0.28218447919297895,
          0.43215255450813783,
          0.6738885859802304,
          0.9908568223308026,
          0.14260512580330814,
          0.8832046227734095,
          0.8736320213435753,
          0.4328474720961659,
          0.4376016063172787,
          0.2911581217778571,
          0.3774801271729496,
          0.8664898528791174,
          0.5439512716558477,
          0.47549426884429113,
          0.9725551582278155,
          0.14103410617741477,
          0.2099647771865603,
          0.7023896382999357,
          0.6173204735729593,
          0.6807265701522158,
          0.4010259857906394,
          0.4786684387179177,
          0.010355387034159332,
          0.5930976624124451,
          0.2559618813451922,
          0.24600668057336292,
          0,
          0.19830325604762308,
          0.053892989684407804,
          0.20002534752598314,
          0.5536670344556041,
          0.6219211409080697,
          0.626424130111242,
          0.589222617105308,
          0.33898387315233286,
          0.5813441400467984,
          0.6163282087246421,
          0.7047307156873412,
          0.9026747123299691,
          0.7796630688757284,
          0.3738970357039161,
          0.5957371266341535,
          0.5373166318320306,
          0.3762879470318392,
          0.053229683368304095,
          0.7627325712371033,
          0.8542318692568536,
          0.503398701267596,
          0.9901069570190428,
          0.07209362893415897,
          0.8770515710633964,
          0.37181103133067184,
          0.4441400027636607,
          0.6013983417128367,
          0.5106114721551821,
          0.545217406092369,
          0.21590390952821054,
          0.5668777293356326,
          0.6115696096271453,
          0.7459692454232246,
          0.3763937509444974,
          0.17461193557302163,
          0.09076086152817187,
          0.4071538134573774,
          0.485500010570165,
          0.1134969244229883,
          0.38491867284463765,
          0.3481224170028402,
          0.4531376254608995,
          0.6702004586262718,
          0.42253221276986286,
          0.6196988948526586,
          0.22778394410576236,
          0.6445782256058921,
          0.054814065841759185,
          0.6437079457350902,
          0.8250727473970415,
          0.028204224301493212
         ]
        }
       ],
       "layout": {
        "legend": {
         "tracegroupgap": 0
        },
        "scene": {
         "domain": {
          "x": [
           0,
           1
          ],
          "y": [
           0,
           1
          ]
         },
         "xaxis": {
          "range": [
           0,
           2
          ],
          "title": {
           "text": "x"
          }
         },
         "yaxis": {
          "range": [
           0,
           2
          ],
          "title": {
           "text": "y"
          }
         },
         "zaxis": {
          "range": [
           0,
           2
          ],
          "title": {
           "text": "z"
          }
         }
        },
        "template": {
         "data": {
          "bar": [
           {
            "error_x": {
             "color": "#2a3f5f"
            },
            "error_y": {
             "color": "#2a3f5f"
            },
            "marker": {
             "line": {
              "color": "#E5ECF6",
              "width": 0.5
             },
             "pattern": {
              "fillmode": "overlay",
              "size": 10,
              "solidity": 0.2
             }
            },
            "type": "bar"
           }
          ],
          "barpolar": [
           {
            "marker": {
             "line": {
              "color": "#E5ECF6",
              "width": 0.5
             },
             "pattern": {
              "fillmode": "overlay",
              "size": 10,
              "solidity": 0.2
             }
            },
            "type": "barpolar"
           }
          ],
          "carpet": [
           {
            "aaxis": {
             "endlinecolor": "#2a3f5f",
             "gridcolor": "white",
             "linecolor": "white",
             "minorgridcolor": "white",
             "startlinecolor": "#2a3f5f"
            },
            "baxis": {
             "endlinecolor": "#2a3f5f",
             "gridcolor": "white",
             "linecolor": "white",
             "minorgridcolor": "white",
             "startlinecolor": "#2a3f5f"
            },
            "type": "carpet"
           }
          ],
          "choropleth": [
           {
            "colorbar": {
             "outlinewidth": 0,
             "ticks": ""
            },
            "type": "choropleth"
           }
          ],
          "contour": [
           {
            "colorbar": {
             "outlinewidth": 0,
             "ticks": ""
            },
            "colorscale": [
             [
              0,
              "#0d0887"
             ],
             [
              0.1111111111111111,
              "#46039f"
             ],
             [
              0.2222222222222222,
              "#7201a8"
             ],
             [
              0.3333333333333333,
              "#9c179e"
             ],
             [
              0.4444444444444444,
              "#bd3786"
             ],
             [
              0.5555555555555556,
              "#d8576b"
             ],
             [
              0.6666666666666666,
              "#ed7953"
             ],
             [
              0.7777777777777778,
              "#fb9f3a"
             ],
             [
              0.8888888888888888,
              "#fdca26"
             ],
             [
              1,
              "#f0f921"
             ]
            ],
            "type": "contour"
           }
          ],
          "contourcarpet": [
           {
            "colorbar": {
             "outlinewidth": 0,
             "ticks": ""
            },
            "type": "contourcarpet"
           }
          ],
          "heatmap": [
           {
            "colorbar": {
             "outlinewidth": 0,
             "ticks": ""
            },
            "colorscale": [
             [
              0,
              "#0d0887"
             ],
             [
              0.1111111111111111,
              "#46039f"
             ],
             [
              0.2222222222222222,
              "#7201a8"
             ],
             [
              0.3333333333333333,
              "#9c179e"
             ],
             [
              0.4444444444444444,
              "#bd3786"
             ],
             [
              0.5555555555555556,
              "#d8576b"
             ],
             [
              0.6666666666666666,
              "#ed7953"
             ],
             [
              0.7777777777777778,
              "#fb9f3a"
             ],
             [
              0.8888888888888888,
              "#fdca26"
             ],
             [
              1,
              "#f0f921"
             ]
            ],
            "type": "heatmap"
           }
          ],
          "heatmapgl": [
           {
            "colorbar": {
             "outlinewidth": 0,
             "ticks": ""
            },
            "colorscale": [
             [
              0,
              "#0d0887"
             ],
             [
              0.1111111111111111,
              "#46039f"
             ],
             [
              0.2222222222222222,
              "#7201a8"
             ],
             [
              0.3333333333333333,
              "#9c179e"
             ],
             [
              0.4444444444444444,
              "#bd3786"
             ],
             [
              0.5555555555555556,
              "#d8576b"
             ],
             [
              0.6666666666666666,
              "#ed7953"
             ],
             [
              0.7777777777777778,
              "#fb9f3a"
             ],
             [
              0.8888888888888888,
              "#fdca26"
             ],
             [
              1,
              "#f0f921"
             ]
            ],
            "type": "heatmapgl"
           }
          ],
          "histogram": [
           {
            "marker": {
             "pattern": {
              "fillmode": "overlay",
              "size": 10,
              "solidity": 0.2
             }
            },
            "type": "histogram"
           }
          ],
          "histogram2d": [
           {
            "colorbar": {
             "outlinewidth": 0,
             "ticks": ""
            },
            "colorscale": [
             [
              0,
              "#0d0887"
             ],
             [
              0.1111111111111111,
              "#46039f"
             ],
             [
              0.2222222222222222,
              "#7201a8"
             ],
             [
              0.3333333333333333,
              "#9c179e"
             ],
             [
              0.4444444444444444,
              "#bd3786"
             ],
             [
              0.5555555555555556,
              "#d8576b"
             ],
             [
              0.6666666666666666,
              "#ed7953"
             ],
             [
              0.7777777777777778,
              "#fb9f3a"
             ],
             [
              0.8888888888888888,
              "#fdca26"
             ],
             [
              1,
              "#f0f921"
             ]
            ],
            "type": "histogram2d"
           }
          ],
          "histogram2dcontour": [
           {
            "colorbar": {
             "outlinewidth": 0,
             "ticks": ""
            },
            "colorscale": [
             [
              0,
              "#0d0887"
             ],
             [
              0.1111111111111111,
              "#46039f"
             ],
             [
              0.2222222222222222,
              "#7201a8"
             ],
             [
              0.3333333333333333,
              "#9c179e"
             ],
             [
              0.4444444444444444,
              "#bd3786"
             ],
             [
              0.5555555555555556,
              "#d8576b"
             ],
             [
              0.6666666666666666,
              "#ed7953"
             ],
             [
              0.7777777777777778,
              "#fb9f3a"
             ],
             [
              0.8888888888888888,
              "#fdca26"
             ],
             [
              1,
              "#f0f921"
             ]
            ],
            "type": "histogram2dcontour"
           }
          ],
          "mesh3d": [
           {
            "colorbar": {
             "outlinewidth": 0,
             "ticks": ""
            },
            "type": "mesh3d"
           }
          ],
          "parcoords": [
           {
            "line": {
             "colorbar": {
              "outlinewidth": 0,
              "ticks": ""
             }
            },
            "type": "parcoords"
           }
          ],
          "pie": [
           {
            "automargin": true,
            "type": "pie"
           }
          ],
          "scatter": [
           {
            "fillpattern": {
             "fillmode": "overlay",
             "size": 10,
             "solidity": 0.2
            },
            "type": "scatter"
           }
          ],
          "scatter3d": [
           {
            "line": {
             "colorbar": {
              "outlinewidth": 0,
              "ticks": ""
             }
            },
            "marker": {
             "colorbar": {
              "outlinewidth": 0,
              "ticks": ""
             }
            },
            "type": "scatter3d"
           }
          ],
          "scattercarpet": [
           {
            "marker": {
             "colorbar": {
              "outlinewidth": 0,
              "ticks": ""
             }
            },
            "type": "scattercarpet"
           }
          ],
          "scattergeo": [
           {
            "marker": {
             "colorbar": {
              "outlinewidth": 0,
              "ticks": ""
             }
            },
            "type": "scattergeo"
           }
          ],
          "scattergl": [
           {
            "marker": {
             "colorbar": {
              "outlinewidth": 0,
              "ticks": ""
             }
            },
            "type": "scattergl"
           }
          ],
          "scattermapbox": [
           {
            "marker": {
             "colorbar": {
              "outlinewidth": 0,
              "ticks": ""
             }
            },
            "type": "scattermapbox"
           }
          ],
          "scatterpolar": [
           {
            "marker": {
             "colorbar": {
              "outlinewidth": 0,
              "ticks": ""
             }
            },
            "type": "scatterpolar"
           }
          ],
          "scatterpolargl": [
           {
            "marker": {
             "colorbar": {
              "outlinewidth": 0,
              "ticks": ""
             }
            },
            "type": "scatterpolargl"
           }
          ],
          "scatterternary": [
           {
            "marker": {
             "colorbar": {
              "outlinewidth": 0,
              "ticks": ""
             }
            },
            "type": "scatterternary"
           }
          ],
          "surface": [
           {
            "colorbar": {
             "outlinewidth": 0,
             "ticks": ""
            },
            "colorscale": [
             [
              0,
              "#0d0887"
             ],
             [
              0.1111111111111111,
              "#46039f"
             ],
             [
              0.2222222222222222,
              "#7201a8"
             ],
             [
              0.3333333333333333,
              "#9c179e"
             ],
             [
              0.4444444444444444,
              "#bd3786"
             ],
             [
              0.5555555555555556,
              "#d8576b"
             ],
             [
              0.6666666666666666,
              "#ed7953"
             ],
             [
              0.7777777777777778,
              "#fb9f3a"
             ],
             [
              0.8888888888888888,
              "#fdca26"
             ],
             [
              1,
              "#f0f921"
             ]
            ],
            "type": "surface"
           }
          ],
          "table": [
           {
            "cells": {
             "fill": {
              "color": "#EBF0F8"
             },
             "line": {
              "color": "white"
             }
            },
            "header": {
             "fill": {
              "color": "#C8D4E3"
             },
             "line": {
              "color": "white"
             }
            },
            "type": "table"
           }
          ]
         },
         "layout": {
          "annotationdefaults": {
           "arrowcolor": "#2a3f5f",
           "arrowhead": 0,
           "arrowwidth": 1
          },
          "autotypenumbers": "strict",
          "coloraxis": {
           "colorbar": {
            "outlinewidth": 0,
            "ticks": ""
           }
          },
          "colorscale": {
           "diverging": [
            [
             0,
             "#8e0152"
            ],
            [
             0.1,
             "#c51b7d"
            ],
            [
             0.2,
             "#de77ae"
            ],
            [
             0.3,
             "#f1b6da"
            ],
            [
             0.4,
             "#fde0ef"
            ],
            [
             0.5,
             "#f7f7f7"
            ],
            [
             0.6,
             "#e6f5d0"
            ],
            [
             0.7,
             "#b8e186"
            ],
            [
             0.8,
             "#7fbc41"
            ],
            [
             0.9,
             "#4d9221"
            ],
            [
             1,
             "#276419"
            ]
           ],
           "sequential": [
            [
             0,
             "#0d0887"
            ],
            [
             0.1111111111111111,
             "#46039f"
            ],
            [
             0.2222222222222222,
             "#7201a8"
            ],
            [
             0.3333333333333333,
             "#9c179e"
            ],
            [
             0.4444444444444444,
             "#bd3786"
            ],
            [
             0.5555555555555556,
             "#d8576b"
            ],
            [
             0.6666666666666666,
             "#ed7953"
            ],
            [
             0.7777777777777778,
             "#fb9f3a"
            ],
            [
             0.8888888888888888,
             "#fdca26"
            ],
            [
             1,
             "#f0f921"
            ]
           ],
           "sequentialminus": [
            [
             0,
             "#0d0887"
            ],
            [
             0.1111111111111111,
             "#46039f"
            ],
            [
             0.2222222222222222,
             "#7201a8"
            ],
            [
             0.3333333333333333,
             "#9c179e"
            ],
            [
             0.4444444444444444,
             "#bd3786"
            ],
            [
             0.5555555555555556,
             "#d8576b"
            ],
            [
             0.6666666666666666,
             "#ed7953"
            ],
            [
             0.7777777777777778,
             "#fb9f3a"
            ],
            [
             0.8888888888888888,
             "#fdca26"
            ],
            [
             1,
             "#f0f921"
            ]
           ]
          },
          "colorway": [
           "#636efa",
           "#EF553B",
           "#00cc96",
           "#ab63fa",
           "#FFA15A",
           "#19d3f3",
           "#FF6692",
           "#B6E880",
           "#FF97FF",
           "#FECB52"
          ],
          "font": {
           "color": "#2a3f5f"
          },
          "geo": {
           "bgcolor": "white",
           "lakecolor": "white",
           "landcolor": "#E5ECF6",
           "showlakes": true,
           "showland": true,
           "subunitcolor": "white"
          },
          "hoverlabel": {
           "align": "left"
          },
          "hovermode": "closest",
          "mapbox": {
           "style": "light"
          },
          "paper_bgcolor": "white",
          "plot_bgcolor": "#E5ECF6",
          "polar": {
           "angularaxis": {
            "gridcolor": "white",
            "linecolor": "white",
            "ticks": ""
           },
           "bgcolor": "#E5ECF6",
           "radialaxis": {
            "gridcolor": "white",
            "linecolor": "white",
            "ticks": ""
           }
          },
          "scene": {
           "xaxis": {
            "backgroundcolor": "#E5ECF6",
            "gridcolor": "white",
            "gridwidth": 2,
            "linecolor": "white",
            "showbackground": true,
            "ticks": "",
            "zerolinecolor": "white"
           },
           "yaxis": {
            "backgroundcolor": "#E5ECF6",
            "gridcolor": "white",
            "gridwidth": 2,
            "linecolor": "white",
            "showbackground": true,
            "ticks": "",
            "zerolinecolor": "white"
           },
           "zaxis": {
            "backgroundcolor": "#E5ECF6",
            "gridcolor": "white",
            "gridwidth": 2,
            "linecolor": "white",
            "showbackground": true,
            "ticks": "",
            "zerolinecolor": "white"
           }
          },
          "shapedefaults": {
           "line": {
            "color": "#2a3f5f"
           }
          },
          "ternary": {
           "aaxis": {
            "gridcolor": "white",
            "linecolor": "white",
            "ticks": ""
           },
           "baxis": {
            "gridcolor": "white",
            "linecolor": "white",
            "ticks": ""
           },
           "bgcolor": "#E5ECF6",
           "caxis": {
            "gridcolor": "white",
            "linecolor": "white",
            "ticks": ""
           }
          },
          "title": {
           "x": 0.05
          },
          "xaxis": {
           "automargin": true,
           "gridcolor": "white",
           "linecolor": "white",
           "ticks": "",
           "title": {
            "standoff": 15
           },
           "zerolinecolor": "white",
           "zerolinewidth": 2
          },
          "yaxis": {
           "automargin": true,
           "gridcolor": "white",
           "linecolor": "white",
           "ticks": "",
           "title": {
            "standoff": 15
           },
           "zerolinecolor": "white",
           "zerolinewidth": 2
          }
         }
        },
        "title": {
         "text": "Generation 51"
        }
       }
      }
     },
     "metadata": {},
     "output_type": "display_data"
    }
   ],
   "source": [
    "#i=2\n",
    "fig = visualize.fig[i]\n",
    "i += 1\n",
    "fig.show()"
   ]
  },
  {
   "cell_type": "code",
   "execution_count": null,
   "metadata": {},
   "outputs": [
    {
     "data": {
      "application/vnd.plotly.v1+json": {
       "config": {
        "plotlyServerURL": "https://plot.ly"
       },
       "data": [
        {
         "hovertemplate": "x=%{x}<br>y=%{y}<br>z=%{z}<extra></extra>",
         "legendgroup": "",
         "marker": {
          "color": "#636efa",
          "symbol": "circle"
         },
         "mode": "markers",
         "name": "",
         "scene": "scene",
         "showlegend": false,
         "type": "scatter3d",
         "x": [
          0.7152674965969511,
          0.5322691832133085,
          0.45777653721800426,
          0.6123752485886764,
          0.6797237352050053,
          0.4889216138256354,
          0.44394531575596274,
          0.6609062480276906,
          0.3334000437431822,
          0.9180326133319416,
          0.5283456903212791,
          0.11769157680467812,
          0.707752342823893,
          0.6925958652815617,
          0.8206788029008328,
          0.3833203944141834,
          0.7051711893611676,
          0.5774988978006269,
          0.5810893819978384,
          0.980504271496506,
          0.8818220125164896,
          0.655731389570457,
          0.4448609995724092,
          0.6525356167408911,
          0.15809238911310922,
          0.8279048370314166,
          0.9161749085964459,
          0.5128884071428792,
          0.5424669954095309,
          0.9782663005094271,
          0.29643432155884797,
          0.4972058004346633,
          0.297447672762455,
          0.775786763876172,
          0.3203635289008619,
          0.14367928362309135,
          0.6950520098363742,
          0.4528582437718191,
          0.6613193645325487,
          0.6673377783338383,
          0.6169383934499799,
          0.8839777814459407,
          0.6610847945844677,
          0.8010661251186441,
          0.36421041042599234,
          0.5826824863343678,
          0.7538943446797095,
          0.8087726976209495,
          0.319958079027571,
          0.8240906335866808
         ],
         "y": [
          0.23136565534962783,
          0.0544949371901544,
          0.7005618913577999,
          0.5759213994878666,
          0.46417023206136016,
          0.5777968408587719,
          0.39570788912343646,
          0.42827042251180425,
          0.782620130096459,
          0.4257803192860065,
          0.25043584271972746,
          0.812571784629232,
          0,
          0.32619048319323113,
          0.43271394732885093,
          0.6411415554289104,
          0.6436794739679393,
          0.4948048622283298,
          0.6553986420937559,
          0.09077854208372736,
          0.37850108041832237,
          0.7447052600305121,
          0.9028519649676634,
          0.48769907671581997,
          0.6766951357880319,
          0.09562176257621878,
          0.396565264431597,
          0.45984150531008683,
          0.7764702894575123,
          0.2737266090733499,
          0.8897984990934364,
          0.5667626377462127,
          0.45510189213937413,
          0.32639352867927723,
          0.9464394463296057,
          0.6583226191859989,
          0.49330469292366486,
          0.9183669959851043,
          0.7742150979464867,
          0.07025944810532794,
          0.7173223048145156,
          0.305078253844027,
          0.3592892717360651,
          0.3097959438247131,
          0.5812934256277152,
          0.19228966651048698,
          0.682659268683807,
          0.2532387444520112,
          0.9477804787620033,
          0.52845074555582
         ],
         "z": [
          0.6674860202369552,
          0.8467751181467982,
          0.5624356819766716,
          0.5630040234509726,
          0.579873816561889,
          0.6759557660037496,
          0.8193638395019346,
          0.6367714995828028,
          0.558849520073183,
          0.032730957826253036,
          0.834214495001832,
          0.5934398178503123,
          0.7144553496376681,
          0.6715726955827455,
          0.3887983659490329,
          0.6740711240081348,
          0.36959468877444857,
          0.6605372079056889,
          0.5135813781611945,
          0.22477153262366084,
          0.3030338356427182,
          0.16330303346986919,
          0.23370326074865364,
          0.6061380581036524,
          0.7232299250830115,
          0.5602092506482682,
          0.14506211846347364,
          0.7430866503408369,
          0.3709184154118935,
          0.04689399324825555,
          0.3682524160591849,
          0.6763383145742355,
          0.849405090320219,
          0.5620340885056823,
          0.10716975689823048,
          0.743902285807236,
          0.5414440024691055,
          0.05021588912173055,
          0.06286058183586499,
          0.759379090957857,
          0.34470445096451574,
          0.391041665169604,
          0.6834669162085089,
          0.5501079678357647,
          0.733618820391119,
          0.8067156489163966,
          0.06585953498147558,
          0.5532800389164034,
          0.06961108979983972,
          0.27944812198882973
         ]
        }
       ],
       "layout": {
        "legend": {
         "tracegroupgap": 0
        },
        "scene": {
         "domain": {
          "x": [
           0,
           1
          ],
          "y": [
           0,
           1
          ]
         },
         "xaxis": {
          "range": [
           0,
           2
          ],
          "title": {
           "text": "x"
          }
         },
         "yaxis": {
          "range": [
           0,
           2
          ],
          "title": {
           "text": "y"
          }
         },
         "zaxis": {
          "range": [
           0,
           2
          ],
          "title": {
           "text": "z"
          }
         }
        },
        "template": {
         "data": {
          "bar": [
           {
            "error_x": {
             "color": "#2a3f5f"
            },
            "error_y": {
             "color": "#2a3f5f"
            },
            "marker": {
             "line": {
              "color": "#E5ECF6",
              "width": 0.5
             },
             "pattern": {
              "fillmode": "overlay",
              "size": 10,
              "solidity": 0.2
             }
            },
            "type": "bar"
           }
          ],
          "barpolar": [
           {
            "marker": {
             "line": {
              "color": "#E5ECF6",
              "width": 0.5
             },
             "pattern": {
              "fillmode": "overlay",
              "size": 10,
              "solidity": 0.2
             }
            },
            "type": "barpolar"
           }
          ],
          "carpet": [
           {
            "aaxis": {
             "endlinecolor": "#2a3f5f",
             "gridcolor": "white",
             "linecolor": "white",
             "minorgridcolor": "white",
             "startlinecolor": "#2a3f5f"
            },
            "baxis": {
             "endlinecolor": "#2a3f5f",
             "gridcolor": "white",
             "linecolor": "white",
             "minorgridcolor": "white",
             "startlinecolor": "#2a3f5f"
            },
            "type": "carpet"
           }
          ],
          "choropleth": [
           {
            "colorbar": {
             "outlinewidth": 0,
             "ticks": ""
            },
            "type": "choropleth"
           }
          ],
          "contour": [
           {
            "colorbar": {
             "outlinewidth": 0,
             "ticks": ""
            },
            "colorscale": [
             [
              0,
              "#0d0887"
             ],
             [
              0.1111111111111111,
              "#46039f"
             ],
             [
              0.2222222222222222,
              "#7201a8"
             ],
             [
              0.3333333333333333,
              "#9c179e"
             ],
             [
              0.4444444444444444,
              "#bd3786"
             ],
             [
              0.5555555555555556,
              "#d8576b"
             ],
             [
              0.6666666666666666,
              "#ed7953"
             ],
             [
              0.7777777777777778,
              "#fb9f3a"
             ],
             [
              0.8888888888888888,
              "#fdca26"
             ],
             [
              1,
              "#f0f921"
             ]
            ],
            "type": "contour"
           }
          ],
          "contourcarpet": [
           {
            "colorbar": {
             "outlinewidth": 0,
             "ticks": ""
            },
            "type": "contourcarpet"
           }
          ],
          "heatmap": [
           {
            "colorbar": {
             "outlinewidth": 0,
             "ticks": ""
            },
            "colorscale": [
             [
              0,
              "#0d0887"
             ],
             [
              0.1111111111111111,
              "#46039f"
             ],
             [
              0.2222222222222222,
              "#7201a8"
             ],
             [
              0.3333333333333333,
              "#9c179e"
             ],
             [
              0.4444444444444444,
              "#bd3786"
             ],
             [
              0.5555555555555556,
              "#d8576b"
             ],
             [
              0.6666666666666666,
              "#ed7953"
             ],
             [
              0.7777777777777778,
              "#fb9f3a"
             ],
             [
              0.8888888888888888,
              "#fdca26"
             ],
             [
              1,
              "#f0f921"
             ]
            ],
            "type": "heatmap"
           }
          ],
          "heatmapgl": [
           {
            "colorbar": {
             "outlinewidth": 0,
             "ticks": ""
            },
            "colorscale": [
             [
              0,
              "#0d0887"
             ],
             [
              0.1111111111111111,
              "#46039f"
             ],
             [
              0.2222222222222222,
              "#7201a8"
             ],
             [
              0.3333333333333333,
              "#9c179e"
             ],
             [
              0.4444444444444444,
              "#bd3786"
             ],
             [
              0.5555555555555556,
              "#d8576b"
             ],
             [
              0.6666666666666666,
              "#ed7953"
             ],
             [
              0.7777777777777778,
              "#fb9f3a"
             ],
             [
              0.8888888888888888,
              "#fdca26"
             ],
             [
              1,
              "#f0f921"
             ]
            ],
            "type": "heatmapgl"
           }
          ],
          "histogram": [
           {
            "marker": {
             "pattern": {
              "fillmode": "overlay",
              "size": 10,
              "solidity": 0.2
             }
            },
            "type": "histogram"
           }
          ],
          "histogram2d": [
           {
            "colorbar": {
             "outlinewidth": 0,
             "ticks": ""
            },
            "colorscale": [
             [
              0,
              "#0d0887"
             ],
             [
              0.1111111111111111,
              "#46039f"
             ],
             [
              0.2222222222222222,
              "#7201a8"
             ],
             [
              0.3333333333333333,
              "#9c179e"
             ],
             [
              0.4444444444444444,
              "#bd3786"
             ],
             [
              0.5555555555555556,
              "#d8576b"
             ],
             [
              0.6666666666666666,
              "#ed7953"
             ],
             [
              0.7777777777777778,
              "#fb9f3a"
             ],
             [
              0.8888888888888888,
              "#fdca26"
             ],
             [
              1,
              "#f0f921"
             ]
            ],
            "type": "histogram2d"
           }
          ],
          "histogram2dcontour": [
           {
            "colorbar": {
             "outlinewidth": 0,
             "ticks": ""
            },
            "colorscale": [
             [
              0,
              "#0d0887"
             ],
             [
              0.1111111111111111,
              "#46039f"
             ],
             [
              0.2222222222222222,
              "#7201a8"
             ],
             [
              0.3333333333333333,
              "#9c179e"
             ],
             [
              0.4444444444444444,
              "#bd3786"
             ],
             [
              0.5555555555555556,
              "#d8576b"
             ],
             [
              0.6666666666666666,
              "#ed7953"
             ],
             [
              0.7777777777777778,
              "#fb9f3a"
             ],
             [
              0.8888888888888888,
              "#fdca26"
             ],
             [
              1,
              "#f0f921"
             ]
            ],
            "type": "histogram2dcontour"
           }
          ],
          "mesh3d": [
           {
            "colorbar": {
             "outlinewidth": 0,
             "ticks": ""
            },
            "type": "mesh3d"
           }
          ],
          "parcoords": [
           {
            "line": {
             "colorbar": {
              "outlinewidth": 0,
              "ticks": ""
             }
            },
            "type": "parcoords"
           }
          ],
          "pie": [
           {
            "automargin": true,
            "type": "pie"
           }
          ],
          "scatter": [
           {
            "fillpattern": {
             "fillmode": "overlay",
             "size": 10,
             "solidity": 0.2
            },
            "type": "scatter"
           }
          ],
          "scatter3d": [
           {
            "line": {
             "colorbar": {
              "outlinewidth": 0,
              "ticks": ""
             }
            },
            "marker": {
             "colorbar": {
              "outlinewidth": 0,
              "ticks": ""
             }
            },
            "type": "scatter3d"
           }
          ],
          "scattercarpet": [
           {
            "marker": {
             "colorbar": {
              "outlinewidth": 0,
              "ticks": ""
             }
            },
            "type": "scattercarpet"
           }
          ],
          "scattergeo": [
           {
            "marker": {
             "colorbar": {
              "outlinewidth": 0,
              "ticks": ""
             }
            },
            "type": "scattergeo"
           }
          ],
          "scattergl": [
           {
            "marker": {
             "colorbar": {
              "outlinewidth": 0,
              "ticks": ""
             }
            },
            "type": "scattergl"
           }
          ],
          "scattermapbox": [
           {
            "marker": {
             "colorbar": {
              "outlinewidth": 0,
              "ticks": ""
             }
            },
            "type": "scattermapbox"
           }
          ],
          "scatterpolar": [
           {
            "marker": {
             "colorbar": {
              "outlinewidth": 0,
              "ticks": ""
             }
            },
            "type": "scatterpolar"
           }
          ],
          "scatterpolargl": [
           {
            "marker": {
             "colorbar": {
              "outlinewidth": 0,
              "ticks": ""
             }
            },
            "type": "scatterpolargl"
           }
          ],
          "scatterternary": [
           {
            "marker": {
             "colorbar": {
              "outlinewidth": 0,
              "ticks": ""
             }
            },
            "type": "scatterternary"
           }
          ],
          "surface": [
           {
            "colorbar": {
             "outlinewidth": 0,
             "ticks": ""
            },
            "colorscale": [
             [
              0,
              "#0d0887"
             ],
             [
              0.1111111111111111,
              "#46039f"
             ],
             [
              0.2222222222222222,
              "#7201a8"
             ],
             [
              0.3333333333333333,
              "#9c179e"
             ],
             [
              0.4444444444444444,
              "#bd3786"
             ],
             [
              0.5555555555555556,
              "#d8576b"
             ],
             [
              0.6666666666666666,
              "#ed7953"
             ],
             [
              0.7777777777777778,
              "#fb9f3a"
             ],
             [
              0.8888888888888888,
              "#fdca26"
             ],
             [
              1,
              "#f0f921"
             ]
            ],
            "type": "surface"
           }
          ],
          "table": [
           {
            "cells": {
             "fill": {
              "color": "#EBF0F8"
             },
             "line": {
              "color": "white"
             }
            },
            "header": {
             "fill": {
              "color": "#C8D4E3"
             },
             "line": {
              "color": "white"
             }
            },
            "type": "table"
           }
          ]
         },
         "layout": {
          "annotationdefaults": {
           "arrowcolor": "#2a3f5f",
           "arrowhead": 0,
           "arrowwidth": 1
          },
          "autotypenumbers": "strict",
          "coloraxis": {
           "colorbar": {
            "outlinewidth": 0,
            "ticks": ""
           }
          },
          "colorscale": {
           "diverging": [
            [
             0,
             "#8e0152"
            ],
            [
             0.1,
             "#c51b7d"
            ],
            [
             0.2,
             "#de77ae"
            ],
            [
             0.3,
             "#f1b6da"
            ],
            [
             0.4,
             "#fde0ef"
            ],
            [
             0.5,
             "#f7f7f7"
            ],
            [
             0.6,
             "#e6f5d0"
            ],
            [
             0.7,
             "#b8e186"
            ],
            [
             0.8,
             "#7fbc41"
            ],
            [
             0.9,
             "#4d9221"
            ],
            [
             1,
             "#276419"
            ]
           ],
           "sequential": [
            [
             0,
             "#0d0887"
            ],
            [
             0.1111111111111111,
             "#46039f"
            ],
            [
             0.2222222222222222,
             "#7201a8"
            ],
            [
             0.3333333333333333,
             "#9c179e"
            ],
            [
             0.4444444444444444,
             "#bd3786"
            ],
            [
             0.5555555555555556,
             "#d8576b"
            ],
            [
             0.6666666666666666,
             "#ed7953"
            ],
            [
             0.7777777777777778,
             "#fb9f3a"
            ],
            [
             0.8888888888888888,
             "#fdca26"
            ],
            [
             1,
             "#f0f921"
            ]
           ],
           "sequentialminus": [
            [
             0,
             "#0d0887"
            ],
            [
             0.1111111111111111,
             "#46039f"
            ],
            [
             0.2222222222222222,
             "#7201a8"
            ],
            [
             0.3333333333333333,
             "#9c179e"
            ],
            [
             0.4444444444444444,
             "#bd3786"
            ],
            [
             0.5555555555555556,
             "#d8576b"
            ],
            [
             0.6666666666666666,
             "#ed7953"
            ],
            [
             0.7777777777777778,
             "#fb9f3a"
            ],
            [
             0.8888888888888888,
             "#fdca26"
            ],
            [
             1,
             "#f0f921"
            ]
           ]
          },
          "colorway": [
           "#636efa",
           "#EF553B",
           "#00cc96",
           "#ab63fa",
           "#FFA15A",
           "#19d3f3",
           "#FF6692",
           "#B6E880",
           "#FF97FF",
           "#FECB52"
          ],
          "font": {
           "color": "#2a3f5f"
          },
          "geo": {
           "bgcolor": "white",
           "lakecolor": "white",
           "landcolor": "#E5ECF6",
           "showlakes": true,
           "showland": true,
           "subunitcolor": "white"
          },
          "hoverlabel": {
           "align": "left"
          },
          "hovermode": "closest",
          "mapbox": {
           "style": "light"
          },
          "paper_bgcolor": "white",
          "plot_bgcolor": "#E5ECF6",
          "polar": {
           "angularaxis": {
            "gridcolor": "white",
            "linecolor": "white",
            "ticks": ""
           },
           "bgcolor": "#E5ECF6",
           "radialaxis": {
            "gridcolor": "white",
            "linecolor": "white",
            "ticks": ""
           }
          },
          "scene": {
           "xaxis": {
            "backgroundcolor": "#E5ECF6",
            "gridcolor": "white",
            "gridwidth": 2,
            "linecolor": "white",
            "showbackground": true,
            "ticks": "",
            "zerolinecolor": "white"
           },
           "yaxis": {
            "backgroundcolor": "#E5ECF6",
            "gridcolor": "white",
            "gridwidth": 2,
            "linecolor": "white",
            "showbackground": true,
            "ticks": "",
            "zerolinecolor": "white"
           },
           "zaxis": {
            "backgroundcolor": "#E5ECF6",
            "gridcolor": "white",
            "gridwidth": 2,
            "linecolor": "white",
            "showbackground": true,
            "ticks": "",
            "zerolinecolor": "white"
           }
          },
          "shapedefaults": {
           "line": {
            "color": "#2a3f5f"
           }
          },
          "ternary": {
           "aaxis": {
            "gridcolor": "white",
            "linecolor": "white",
            "ticks": ""
           },
           "baxis": {
            "gridcolor": "white",
            "linecolor": "white",
            "ticks": ""
           },
           "bgcolor": "#E5ECF6",
           "caxis": {
            "gridcolor": "white",
            "linecolor": "white",
            "ticks": ""
           }
          },
          "title": {
           "x": 0.05
          },
          "xaxis": {
           "automargin": true,
           "gridcolor": "white",
           "linecolor": "white",
           "ticks": "",
           "title": {
            "standoff": 15
           },
           "zerolinecolor": "white",
           "zerolinewidth": 2
          },
          "yaxis": {
           "automargin": true,
           "gridcolor": "white",
           "linecolor": "white",
           "ticks": "",
           "title": {
            "standoff": 15
           },
           "zerolinecolor": "white",
           "zerolinewidth": 2
          }
         }
        },
        "title": {
         "text": "Generation 99"
        }
       }
      }
     },
     "metadata": {},
     "output_type": "display_data"
    }
   ],
   "source": [
    "visualize.fig[-1]"
   ]
  },
  {
   "cell_type": "code",
   "execution_count": null,
   "metadata": {},
   "outputs": [
    {
     "data": {
      "text/plain": [
       "array([3.49784275e-18, 0.00000000e+00, 0.00000000e+00])"
      ]
     },
     "execution_count": 9,
     "metadata": {},
     "output_type": "execute_result"
    }
   ],
   "source": [
    "selector.ideal"
   ]
  },
  {
   "cell_type": "code",
   "execution_count": null,
   "metadata": {},
   "outputs": [
    {
     "data": {
      "application/vnd.plotly.v1+json": {
       "config": {
        "plotlyServerURL": "https://plot.ly"
       },
       "data": [
        {
         "hovertemplate": "x=%{x}<br>y=%{y}<extra></extra>",
         "legendgroup": "",
         "marker": {
          "color": "#636efa",
          "symbol": "circle"
         },
         "mode": "markers",
         "name": "",
         "orientation": "v",
         "showlegend": false,
         "type": "scatter",
         "x": [
          0.3710668250844633,
          0.34478216358318575,
          0.3481670697138236,
          0.01632941040406142,
          0.22393993488998104,
          0.5165891537245828,
          0.3776869435726828,
          0.7761395457055127,
          0.5013944133810502,
          0.6140384068152042,
          0.11902956043044505,
          0.40505674796525876,
          0.5503347424266865,
          0.42817756564253223,
          0.2826617687665612,
          0.4974296442924353,
          0.022003407553034,
          0.2488053522699572,
          0.5188358826849362,
          0.5282059946837462,
          0.740851407845912,
          0.43812619536858655,
          0.5195162095983927,
          0.14833494812344727,
          0.24855982883599967,
          0.546359963215992,
          0.5288949381422728,
          0.18884683748010564,
          0.4723654347329436,
          0.6073398340927402,
          0.18363387356653407,
          0.17656101960328555,
          0.4156131803517428,
          0.5470171758571373,
          0.45214747919278764,
          0.8902041504828664,
          0.398258978902795,
          0.31921012454868963,
          0.7933848887539177,
          0.3787170410887903,
          0.4682386407454089,
          0.0026760333900119546,
          0.015683143534998608,
          0.009911111170924173,
          0.39018089964543906,
          0.3710518180877988,
          0.28613520554242255,
          0.009458751274661236,
          0.26853883970171144,
          0.38639984185856313,
          0.06954370692947319,
          0.11223727189543667,
          0.377685793622782,
          0.6896573166045848,
          0.16343413957798056,
          0.20879223535909375,
          0.39787484405231605,
          0.38029325831786914,
          0.4344730135548647,
          0.017496607749504067,
          0.29614054147833807,
          0.5039283226565051,
          0.17101982261137963,
          0.358565369441033,
          0.39496067971469756,
          0.6219755036153474,
          0.4335905696743259,
          0.5671291406969601,
          0.4850780795947349,
          0.34955760489967713,
          0.5562100132158507,
          0.24330212946163776,
          0.46825024711097085,
          0.36271918870457626,
          0.5515215615671443,
          0.4923672235894816,
          0.22757197285333344,
          0.3015212466549763,
          0.33941895734844724,
          0.32440394222583374,
          0.4511245214120134,
          0.46436668933707925,
          0.3111157743954098,
          0.427350371433937,
          0.27747283319989746,
          0.2070060120676083,
          0.4134468579521337,
          0.5932027491180933,
          0.41646391049267917,
          0.46862699345500636,
          0.38565386533412266,
          0.5611260328394087,
          0.656956573458116,
          0.440889006852437,
          0.22593325669798606,
          0.42381841836948747,
          0.21059610092503397,
          0.08783001945563602,
          0.05269422747639696,
          0.25999730533204807
         ],
         "xaxis": "x",
         "y": [
          0.24133885549412193,
          0.6351744729167799,
          0.3212855158079614,
          0.5095686402102608,
          0.18743454623338873,
          0.20387403261735593,
          0.03731660406844592,
          0.048114118855529256,
          0.19679846380486005,
          0.01343630937175938,
          0.4544199617331947,
          0.2054306901398279,
          0.3618291298837088,
          0.13332307517060246,
          0.5246828223118806,
          0.2141739027619319,
          0.6416582137016478,
          0.3910469035737965,
          0.20091149828074217,
          0.06329685748362125,
          0.2093687300268449,
          0.24995251831948573,
          0.278120632978487,
          0.3845626500638363,
          0.08985968234591275,
          0.4062783831381463,
          0.42661755118265987,
          0.3546061667147567,
          0.2756745007202361,
          0.05712684095451641,
          0.3436197503942115,
          0.23810510988009073,
          0.2845960504397154,
          0.020919694675170766,
          0.21476372680452682,
          0.10749238016730778,
          0.08143908150785577,
          0.3646449413631167,
          0.06081942408270331,
          0.4361865678567465,
          0.18947893038053124,
          0.6750377891637399,
          0.5807228014488013,
          0.3030822494730066,
          0.5827035012978616,
          0.29604614028947357,
          0.6562284220129818,
          0.6806607074773736,
          0.3796369200397836,
          0.39495860295804464,
          0.7824781752038971,
          0.435796155939822,
          0.3846550533221723,
          0.27573449932016453,
          0.317410558826349,
          0.48295231817008355,
          0.4285279914255522,
          0.5222585665574155,
          0.27038198179323336,
          0.5168532600639766,
          0.24794215350094256,
          0.3682842848052975,
          0.32945341415917767,
          0.48407840498146903,
          0.3612509252933933,
          0.24592223568663132,
          0.2943251780227856,
          0.22688572402491383,
          0.04139475507526354,
          0.44511786993443336,
          0.09553835363343462,
          0.3836318365315202,
          0.22933238398671738,
          0.1860222870762752,
          0.15179455603153852,
          0.13746046245050933,
          0.5890664905456816,
          0.41405742969921816,
          0.2609117442285859,
          0.3251739387813433,
          0.36642146545181953,
          0.49239089741421416,
          0.3318141620107634,
          0.04988995062054016,
          0.6529764806214446,
          0.39346943518610594,
          0.28055433375665334,
          0.1826910335469684,
          0.36454070766222246,
          0.2750937035873421,
          0.33025125398457317,
          0.3911030618140394,
          0.2811419767375019,
          0.44989014772007724,
          0.34609268609419563,
          0.04664433513392128,
          0.061199098129912165,
          0.49478224275933164,
          0.3631361090732014,
          0.5550284656894909
         ],
         "yaxis": "y"
        }
       ],
       "layout": {
        "legend": {
         "tracegroupgap": 0
        },
        "template": {
         "data": {
          "bar": [
           {
            "error_x": {
             "color": "#2a3f5f"
            },
            "error_y": {
             "color": "#2a3f5f"
            },
            "marker": {
             "line": {
              "color": "#E5ECF6",
              "width": 0.5
             },
             "pattern": {
              "fillmode": "overlay",
              "size": 10,
              "solidity": 0.2
             }
            },
            "type": "bar"
           }
          ],
          "barpolar": [
           {
            "marker": {
             "line": {
              "color": "#E5ECF6",
              "width": 0.5
             },
             "pattern": {
              "fillmode": "overlay",
              "size": 10,
              "solidity": 0.2
             }
            },
            "type": "barpolar"
           }
          ],
          "carpet": [
           {
            "aaxis": {
             "endlinecolor": "#2a3f5f",
             "gridcolor": "white",
             "linecolor": "white",
             "minorgridcolor": "white",
             "startlinecolor": "#2a3f5f"
            },
            "baxis": {
             "endlinecolor": "#2a3f5f",
             "gridcolor": "white",
             "linecolor": "white",
             "minorgridcolor": "white",
             "startlinecolor": "#2a3f5f"
            },
            "type": "carpet"
           }
          ],
          "choropleth": [
           {
            "colorbar": {
             "outlinewidth": 0,
             "ticks": ""
            },
            "type": "choropleth"
           }
          ],
          "contour": [
           {
            "colorbar": {
             "outlinewidth": 0,
             "ticks": ""
            },
            "colorscale": [
             [
              0,
              "#0d0887"
             ],
             [
              0.1111111111111111,
              "#46039f"
             ],
             [
              0.2222222222222222,
              "#7201a8"
             ],
             [
              0.3333333333333333,
              "#9c179e"
             ],
             [
              0.4444444444444444,
              "#bd3786"
             ],
             [
              0.5555555555555556,
              "#d8576b"
             ],
             [
              0.6666666666666666,
              "#ed7953"
             ],
             [
              0.7777777777777778,
              "#fb9f3a"
             ],
             [
              0.8888888888888888,
              "#fdca26"
             ],
             [
              1,
              "#f0f921"
             ]
            ],
            "type": "contour"
           }
          ],
          "contourcarpet": [
           {
            "colorbar": {
             "outlinewidth": 0,
             "ticks": ""
            },
            "type": "contourcarpet"
           }
          ],
          "heatmap": [
           {
            "colorbar": {
             "outlinewidth": 0,
             "ticks": ""
            },
            "colorscale": [
             [
              0,
              "#0d0887"
             ],
             [
              0.1111111111111111,
              "#46039f"
             ],
             [
              0.2222222222222222,
              "#7201a8"
             ],
             [
              0.3333333333333333,
              "#9c179e"
             ],
             [
              0.4444444444444444,
              "#bd3786"
             ],
             [
              0.5555555555555556,
              "#d8576b"
             ],
             [
              0.6666666666666666,
              "#ed7953"
             ],
             [
              0.7777777777777778,
              "#fb9f3a"
             ],
             [
              0.8888888888888888,
              "#fdca26"
             ],
             [
              1,
              "#f0f921"
             ]
            ],
            "type": "heatmap"
           }
          ],
          "heatmapgl": [
           {
            "colorbar": {
             "outlinewidth": 0,
             "ticks": ""
            },
            "colorscale": [
             [
              0,
              "#0d0887"
             ],
             [
              0.1111111111111111,
              "#46039f"
             ],
             [
              0.2222222222222222,
              "#7201a8"
             ],
             [
              0.3333333333333333,
              "#9c179e"
             ],
             [
              0.4444444444444444,
              "#bd3786"
             ],
             [
              0.5555555555555556,
              "#d8576b"
             ],
             [
              0.6666666666666666,
              "#ed7953"
             ],
             [
              0.7777777777777778,
              "#fb9f3a"
             ],
             [
              0.8888888888888888,
              "#fdca26"
             ],
             [
              1,
              "#f0f921"
             ]
            ],
            "type": "heatmapgl"
           }
          ],
          "histogram": [
           {
            "marker": {
             "pattern": {
              "fillmode": "overlay",
              "size": 10,
              "solidity": 0.2
             }
            },
            "type": "histogram"
           }
          ],
          "histogram2d": [
           {
            "colorbar": {
             "outlinewidth": 0,
             "ticks": ""
            },
            "colorscale": [
             [
              0,
              "#0d0887"
             ],
             [
              0.1111111111111111,
              "#46039f"
             ],
             [
              0.2222222222222222,
              "#7201a8"
             ],
             [
              0.3333333333333333,
              "#9c179e"
             ],
             [
              0.4444444444444444,
              "#bd3786"
             ],
             [
              0.5555555555555556,
              "#d8576b"
             ],
             [
              0.6666666666666666,
              "#ed7953"
             ],
             [
              0.7777777777777778,
              "#fb9f3a"
             ],
             [
              0.8888888888888888,
              "#fdca26"
             ],
             [
              1,
              "#f0f921"
             ]
            ],
            "type": "histogram2d"
           }
          ],
          "histogram2dcontour": [
           {
            "colorbar": {
             "outlinewidth": 0,
             "ticks": ""
            },
            "colorscale": [
             [
              0,
              "#0d0887"
             ],
             [
              0.1111111111111111,
              "#46039f"
             ],
             [
              0.2222222222222222,
              "#7201a8"
             ],
             [
              0.3333333333333333,
              "#9c179e"
             ],
             [
              0.4444444444444444,
              "#bd3786"
             ],
             [
              0.5555555555555556,
              "#d8576b"
             ],
             [
              0.6666666666666666,
              "#ed7953"
             ],
             [
              0.7777777777777778,
              "#fb9f3a"
             ],
             [
              0.8888888888888888,
              "#fdca26"
             ],
             [
              1,
              "#f0f921"
             ]
            ],
            "type": "histogram2dcontour"
           }
          ],
          "mesh3d": [
           {
            "colorbar": {
             "outlinewidth": 0,
             "ticks": ""
            },
            "type": "mesh3d"
           }
          ],
          "parcoords": [
           {
            "line": {
             "colorbar": {
              "outlinewidth": 0,
              "ticks": ""
             }
            },
            "type": "parcoords"
           }
          ],
          "pie": [
           {
            "automargin": true,
            "type": "pie"
           }
          ],
          "scatter": [
           {
            "fillpattern": {
             "fillmode": "overlay",
             "size": 10,
             "solidity": 0.2
            },
            "type": "scatter"
           }
          ],
          "scatter3d": [
           {
            "line": {
             "colorbar": {
              "outlinewidth": 0,
              "ticks": ""
             }
            },
            "marker": {
             "colorbar": {
              "outlinewidth": 0,
              "ticks": ""
             }
            },
            "type": "scatter3d"
           }
          ],
          "scattercarpet": [
           {
            "marker": {
             "colorbar": {
              "outlinewidth": 0,
              "ticks": ""
             }
            },
            "type": "scattercarpet"
           }
          ],
          "scattergeo": [
           {
            "marker": {
             "colorbar": {
              "outlinewidth": 0,
              "ticks": ""
             }
            },
            "type": "scattergeo"
           }
          ],
          "scattergl": [
           {
            "marker": {
             "colorbar": {
              "outlinewidth": 0,
              "ticks": ""
             }
            },
            "type": "scattergl"
           }
          ],
          "scattermapbox": [
           {
            "marker": {
             "colorbar": {
              "outlinewidth": 0,
              "ticks": ""
             }
            },
            "type": "scattermapbox"
           }
          ],
          "scatterpolar": [
           {
            "marker": {
             "colorbar": {
              "outlinewidth": 0,
              "ticks": ""
             }
            },
            "type": "scatterpolar"
           }
          ],
          "scatterpolargl": [
           {
            "marker": {
             "colorbar": {
              "outlinewidth": 0,
              "ticks": ""
             }
            },
            "type": "scatterpolargl"
           }
          ],
          "scatterternary": [
           {
            "marker": {
             "colorbar": {
              "outlinewidth": 0,
              "ticks": ""
             }
            },
            "type": "scatterternary"
           }
          ],
          "surface": [
           {
            "colorbar": {
             "outlinewidth": 0,
             "ticks": ""
            },
            "colorscale": [
             [
              0,
              "#0d0887"
             ],
             [
              0.1111111111111111,
              "#46039f"
             ],
             [
              0.2222222222222222,
              "#7201a8"
             ],
             [
              0.3333333333333333,
              "#9c179e"
             ],
             [
              0.4444444444444444,
              "#bd3786"
             ],
             [
              0.5555555555555556,
              "#d8576b"
             ],
             [
              0.6666666666666666,
              "#ed7953"
             ],
             [
              0.7777777777777778,
              "#fb9f3a"
             ],
             [
              0.8888888888888888,
              "#fdca26"
             ],
             [
              1,
              "#f0f921"
             ]
            ],
            "type": "surface"
           }
          ],
          "table": [
           {
            "cells": {
             "fill": {
              "color": "#EBF0F8"
             },
             "line": {
              "color": "white"
             }
            },
            "header": {
             "fill": {
              "color": "#C8D4E3"
             },
             "line": {
              "color": "white"
             }
            },
            "type": "table"
           }
          ]
         },
         "layout": {
          "annotationdefaults": {
           "arrowcolor": "#2a3f5f",
           "arrowhead": 0,
           "arrowwidth": 1
          },
          "autotypenumbers": "strict",
          "coloraxis": {
           "colorbar": {
            "outlinewidth": 0,
            "ticks": ""
           }
          },
          "colorscale": {
           "diverging": [
            [
             0,
             "#8e0152"
            ],
            [
             0.1,
             "#c51b7d"
            ],
            [
             0.2,
             "#de77ae"
            ],
            [
             0.3,
             "#f1b6da"
            ],
            [
             0.4,
             "#fde0ef"
            ],
            [
             0.5,
             "#f7f7f7"
            ],
            [
             0.6,
             "#e6f5d0"
            ],
            [
             0.7,
             "#b8e186"
            ],
            [
             0.8,
             "#7fbc41"
            ],
            [
             0.9,
             "#4d9221"
            ],
            [
             1,
             "#276419"
            ]
           ],
           "sequential": [
            [
             0,
             "#0d0887"
            ],
            [
             0.1111111111111111,
             "#46039f"
            ],
            [
             0.2222222222222222,
             "#7201a8"
            ],
            [
             0.3333333333333333,
             "#9c179e"
            ],
            [
             0.4444444444444444,
             "#bd3786"
            ],
            [
             0.5555555555555556,
             "#d8576b"
            ],
            [
             0.6666666666666666,
             "#ed7953"
            ],
            [
             0.7777777777777778,
             "#fb9f3a"
            ],
            [
             0.8888888888888888,
             "#fdca26"
            ],
            [
             1,
             "#f0f921"
            ]
           ],
           "sequentialminus": [
            [
             0,
             "#0d0887"
            ],
            [
             0.1111111111111111,
             "#46039f"
            ],
            [
             0.2222222222222222,
             "#7201a8"
            ],
            [
             0.3333333333333333,
             "#9c179e"
            ],
            [
             0.4444444444444444,
             "#bd3786"
            ],
            [
             0.5555555555555556,
             "#d8576b"
            ],
            [
             0.6666666666666666,
             "#ed7953"
            ],
            [
             0.7777777777777778,
             "#fb9f3a"
            ],
            [
             0.8888888888888888,
             "#fdca26"
            ],
            [
             1,
             "#f0f921"
            ]
           ]
          },
          "colorway": [
           "#636efa",
           "#EF553B",
           "#00cc96",
           "#ab63fa",
           "#FFA15A",
           "#19d3f3",
           "#FF6692",
           "#B6E880",
           "#FF97FF",
           "#FECB52"
          ],
          "font": {
           "color": "#2a3f5f"
          },
          "geo": {
           "bgcolor": "white",
           "lakecolor": "white",
           "landcolor": "#E5ECF6",
           "showlakes": true,
           "showland": true,
           "subunitcolor": "white"
          },
          "hoverlabel": {
           "align": "left"
          },
          "hovermode": "closest",
          "mapbox": {
           "style": "light"
          },
          "paper_bgcolor": "white",
          "plot_bgcolor": "#E5ECF6",
          "polar": {
           "angularaxis": {
            "gridcolor": "white",
            "linecolor": "white",
            "ticks": ""
           },
           "bgcolor": "#E5ECF6",
           "radialaxis": {
            "gridcolor": "white",
            "linecolor": "white",
            "ticks": ""
           }
          },
          "scene": {
           "xaxis": {
            "backgroundcolor": "#E5ECF6",
            "gridcolor": "white",
            "gridwidth": 2,
            "linecolor": "white",
            "showbackground": true,
            "ticks": "",
            "zerolinecolor": "white"
           },
           "yaxis": {
            "backgroundcolor": "#E5ECF6",
            "gridcolor": "white",
            "gridwidth": 2,
            "linecolor": "white",
            "showbackground": true,
            "ticks": "",
            "zerolinecolor": "white"
           },
           "zaxis": {
            "backgroundcolor": "#E5ECF6",
            "gridcolor": "white",
            "gridwidth": 2,
            "linecolor": "white",
            "showbackground": true,
            "ticks": "",
            "zerolinecolor": "white"
           }
          },
          "shapedefaults": {
           "line": {
            "color": "#2a3f5f"
           }
          },
          "ternary": {
           "aaxis": {
            "gridcolor": "white",
            "linecolor": "white",
            "ticks": ""
           },
           "baxis": {
            "gridcolor": "white",
            "linecolor": "white",
            "ticks": ""
           },
           "bgcolor": "#E5ECF6",
           "caxis": {
            "gridcolor": "white",
            "linecolor": "white",
            "ticks": ""
           }
          },
          "title": {
           "x": 0.05
          },
          "xaxis": {
           "automargin": true,
           "gridcolor": "white",
           "linecolor": "white",
           "ticks": "",
           "title": {
            "standoff": 15
           },
           "zerolinecolor": "white",
           "zerolinewidth": 2
          },
          "yaxis": {
           "automargin": true,
           "gridcolor": "white",
           "linecolor": "white",
           "ticks": "",
           "title": {
            "standoff": 15
           },
           "zerolinecolor": "white",
           "zerolinewidth": 2
          }
         }
        },
        "title": {
         "text": "Generation 2"
        },
        "xaxis": {
         "anchor": "y",
         "domain": [
          0,
          1
         ],
         "title": {
          "text": "x"
         }
        },
        "yaxis": {
         "anchor": "x",
         "domain": [
          0,
          1
         ],
         "title": {
          "text": "y"
         }
        }
       }
      }
     },
     "metadata": {},
     "output_type": "display_data"
    }
   ],
   "source": [
    "i = 0\n",
    "fig = visualize.vec_fig[i]\n",
    "i += 1\n",
    "fig.show()"
   ]
  }
 ],
 "metadata": {
  "kernelspec": {
   "display_name": ".venv",
   "language": "python",
   "name": "python3"
  },
  "language_info": {
   "codemirror_mode": {
    "name": "ipython",
    "version": 3
   },
   "file_extension": ".py",
   "mimetype": "text/x-python",
   "name": "python",
   "nbconvert_exporter": "python",
   "pygments_lexer": "ipython3",
   "version": "3.12.5"
  }
 },
 "nbformat": 4,
 "nbformat_minor": 2
}
